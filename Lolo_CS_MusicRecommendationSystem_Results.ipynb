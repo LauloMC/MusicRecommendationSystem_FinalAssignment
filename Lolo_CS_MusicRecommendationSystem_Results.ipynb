{
 "cells": [
  {
   "cell_type": "markdown",
   "metadata": {},
   "source": [
    "# CoderSchool Final Project Results\n",
    "## Music Recommendation System"
   ]
  },
  {
   "cell_type": "code",
   "execution_count": 1,
   "metadata": {},
   "outputs": [],
   "source": [
    "def recommend_similar_songs(audio_features, lyrics_features):\n",
    "    import pandas as pd\n",
    "    import numpy as np\n",
    "    import pprint\n",
    "    from collections import namedtuple\n",
    "\n",
    "#     Look for genre\n",
    "    %run Lolo_CS_MusicRecommendationSystem_Genres_Function.ipynb\n",
    "    new_audio = format_audio(audio_features)\n",
    "    genre = predict_genre(new_audio)\n",
    "    print(genre)\n",
    "    \n",
    "#     Look for moods\n",
    "    %run Lolo_CS_MusicRecommendationSystem_Moods_Function.ipynb\n",
    "    new_lyrics = clean_lyrics(lyrics_features)\n",
    "    pred_moods = tfidf_rfc(new_lyrics)\n",
    "    print(pred_moods)\n",
    "    \n",
    "#     Look for the matching songs\n",
    "    %run Lolo_CS_MusicRecommendationSystem_SongMatch.ipynb\n",
    "    final_result_dictionary = match_song(genre, pred_moods)\n",
    "    pp.pprint(final_result_dictionary)\n",
    "\n",
    "    return final_result_dictionary  "
   ]
  },
  {
   "cell_type": "code",
   "execution_count": 2,
   "metadata": {},
   "outputs": [],
   "source": [
    "import pandas as pd\n",
    "df = pd.read_json('MasterSongList.json')\n",
    "audio = df['audio_features'][10]\n",
    "lyrics = df['lyrics_features'][10]"
   ]
  },
  {
   "cell_type": "code",
   "execution_count": null,
   "metadata": {},
   "outputs": [
    {
     "name": "stderr",
     "output_type": "stream",
     "text": [
      "/anaconda3/lib/python3.6/site-packages/sklearn/cross_validation.py:41: DeprecationWarning: This module was deprecated in version 0.18 in favor of the model_selection module into which all the refactored classes and functions are moved. Also note that the interface of the new CV iterators are different from that of this module. This module will be removed in 0.20.\n",
      "  \"This module will be removed in 0.20.\", DeprecationWarning)\n",
      "/anaconda3/lib/python3.6/site-packages/sklearn/grid_search.py:42: DeprecationWarning: This module was deprecated in version 0.18 in favor of the model_selection module into which all the refactored classes and functions are moved. This module will be removed in 0.20.\n",
      "  DeprecationWarning)\n"
     ]
    }
   ],
   "source": [
    "recommend_similar_songs(audio, lyrics)"
   ]
  },
  {
   "cell_type": "code",
   "execution_count": null,
   "metadata": {},
   "outputs": [],
   "source": []
  }
 ],
 "metadata": {
  "kernelspec": {
   "display_name": "Python 3",
   "language": "python",
   "name": "python3"
  },
  "language_info": {
   "codemirror_mode": {
    "name": "ipython",
    "version": 3
   },
   "file_extension": ".py",
   "mimetype": "text/x-python",
   "name": "python",
   "nbconvert_exporter": "python",
   "pygments_lexer": "ipython3",
   "version": "3.6.4"
  }
 },
 "nbformat": 4,
 "nbformat_minor": 2
}
