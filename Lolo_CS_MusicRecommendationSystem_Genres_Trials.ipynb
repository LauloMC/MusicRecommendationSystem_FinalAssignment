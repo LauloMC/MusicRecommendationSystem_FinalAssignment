{
 "cells": [
  {
   "cell_type": "markdown",
   "metadata": {},
   "source": [
    "# CoderSchool Final Project Genres\n",
    "## Music Recommendation System"
   ]
  },
  {
   "cell_type": "code",
   "execution_count": 1,
   "metadata": {},
   "outputs": [],
   "source": [
    "import pandas as pd\n",
    "import numpy as np"
   ]
  },
  {
   "cell_type": "markdown",
   "metadata": {},
   "source": [
    "For now we will work with the MasterSongList data. Let's see later on if we can use a more detailed dataframe"
   ]
  },
  {
   "cell_type": "markdown",
   "metadata": {},
   "source": [
    "Let's start with the genre analysis, since there are 29 genres after cleaning the data, this will be a multi class problem. Here are the classifiers that we will use, all of them are compatible with multiclass:\n",
    "- kNN\n",
    "- Logistic Regression OVR\n",
    "- or Logistic Regression OVO\n",
    "- SVC OVR (default)\n",
    "- or SVC OVO"
   ]
  },
  {
   "cell_type": "markdown",
   "metadata": {},
   "source": [
    "We are going to try both OVO and OVR for LogReg and SVC but will only keep one of the 2.\n",
    "For all of these models we will use a Pipeline to combine the classifier with GridSearchCV (optimize parameters) and SelectKBest (optimize features)\n",
    "The results will be compared using VotingClassifier"
   ]
  },
  {
   "cell_type": "markdown",
   "metadata": {},
   "source": [
    "# Part 1 - Data cleaning"
   ]
  },
  {
   "cell_type": "code",
   "execution_count": 2,
   "metadata": {},
   "outputs": [
    {
     "data": {
      "text/html": [
       "<div>\n",
       "<style scoped>\n",
       "    .dataframe tbody tr th:only-of-type {\n",
       "        vertical-align: middle;\n",
       "    }\n",
       "\n",
       "    .dataframe tbody tr th {\n",
       "        vertical-align: top;\n",
       "    }\n",
       "\n",
       "    .dataframe thead th {\n",
       "        text-align: right;\n",
       "    }\n",
       "</style>\n",
       "<table border=\"1\" class=\"dataframe\">\n",
       "  <thead>\n",
       "    <tr style=\"text-align: right;\">\n",
       "      <th></th>\n",
       "      <th>_id</th>\n",
       "      <th>album</th>\n",
       "      <th>artist</th>\n",
       "      <th>audio_features</th>\n",
       "      <th>context</th>\n",
       "      <th>decades</th>\n",
       "      <th>genres</th>\n",
       "      <th>lyrics_features</th>\n",
       "      <th>moods</th>\n",
       "      <th>name</th>\n",
       "      <th>new_context</th>\n",
       "      <th>picture</th>\n",
       "      <th>recording_id</th>\n",
       "      <th>sub_context</th>\n",
       "      <th>yt_id</th>\n",
       "      <th>yt_views</th>\n",
       "    </tr>\n",
       "  </thead>\n",
       "  <tbody>\n",
       "    <tr>\n",
       "      <th>0</th>\n",
       "      <td>{'$oid': '52fdfb440b9398049f3d7a8c'}</td>\n",
       "      <td>Gangnam Style (강남스타일)</td>\n",
       "      <td>PSY</td>\n",
       "      <td>[11, 0.912744, 0.083704, 132.069, 0.293137, 0....</td>\n",
       "      <td>[work out]</td>\n",
       "      <td>[]</td>\n",
       "      <td>[pop]</td>\n",
       "      <td>[oppa, gangnam, style, gangnam, style, najeneu...</td>\n",
       "      <td>[energetic, motivational]</td>\n",
       "      <td>Gangnam Style (강남스타일)</td>\n",
       "      <td>work out</td>\n",
       "      <td>http://images.musicnet.com/albums/073/463/405/...</td>\n",
       "      <td>50232.0</td>\n",
       "      <td>[working out: cardio]</td>\n",
       "      <td>9bZkp7q19f0</td>\n",
       "      <td>2450112089</td>\n",
       "    </tr>\n",
       "    <tr>\n",
       "      <th>1</th>\n",
       "      <td>{'$oid': '52fdfb3d0b9398049f3cbc8e'}</td>\n",
       "      <td>Native</td>\n",
       "      <td>OneRepublic</td>\n",
       "      <td>[6, 0.7457039999999999, 0.11995499999999999, 1...</td>\n",
       "      <td>[energetic]</td>\n",
       "      <td>[2012]</td>\n",
       "      <td>[pop]</td>\n",
       "      <td>[lately, i, ve, been, i, ve, been, losing, sle...</td>\n",
       "      <td>[happy]</td>\n",
       "      <td>Counting Stars</td>\n",
       "      <td>energetic</td>\n",
       "      <td>http://images.musicnet.com/albums/081/851/887/...</td>\n",
       "      <td>5839.0</td>\n",
       "      <td>[energy boost]</td>\n",
       "      <td>hT_nvWreIhg</td>\n",
       "      <td>1020297206</td>\n",
       "    </tr>\n",
       "    <tr>\n",
       "      <th>2</th>\n",
       "      <td>{'$oid': '52fdfb420b9398049f3d3ea5'}</td>\n",
       "      <td>Party Rock Anthem</td>\n",
       "      <td>LMFAO</td>\n",
       "      <td>[5, 0.709932, 0.231455, 130.03, 0.121740999999...</td>\n",
       "      <td>[energetic, energetic, energetic, energetic]</td>\n",
       "      <td>[]</td>\n",
       "      <td>[]</td>\n",
       "      <td>[party, rock, yeah, woo, let, s, go, party, ro...</td>\n",
       "      <td>[happy, celebratory, rowdy]</td>\n",
       "      <td>Party Rock Anthem</td>\n",
       "      <td>housework</td>\n",
       "      <td>http://images.musicnet.com/albums/049/414/127/...</td>\n",
       "      <td>52379.0</td>\n",
       "      <td>[energy boost, pleasing a crowd, housework, dr...</td>\n",
       "      <td>KQ6zr6kCPj8</td>\n",
       "      <td>971128436</td>\n",
       "    </tr>\n",
       "  </tbody>\n",
       "</table>\n",
       "</div>"
      ],
      "text/plain": [
       "                                    _id                  album       artist  \\\n",
       "0  {'$oid': '52fdfb440b9398049f3d7a8c'}  Gangnam Style (강남스타일)          PSY   \n",
       "1  {'$oid': '52fdfb3d0b9398049f3cbc8e'}                 Native  OneRepublic   \n",
       "2  {'$oid': '52fdfb420b9398049f3d3ea5'}      Party Rock Anthem        LMFAO   \n",
       "\n",
       "                                      audio_features  \\\n",
       "0  [11, 0.912744, 0.083704, 132.069, 0.293137, 0....   \n",
       "1  [6, 0.7457039999999999, 0.11995499999999999, 1...   \n",
       "2  [5, 0.709932, 0.231455, 130.03, 0.121740999999...   \n",
       "\n",
       "                                        context decades genres  \\\n",
       "0                                    [work out]      []  [pop]   \n",
       "1                                   [energetic]  [2012]  [pop]   \n",
       "2  [energetic, energetic, energetic, energetic]      []     []   \n",
       "\n",
       "                                     lyrics_features  \\\n",
       "0  [oppa, gangnam, style, gangnam, style, najeneu...   \n",
       "1  [lately, i, ve, been, i, ve, been, losing, sle...   \n",
       "2  [party, rock, yeah, woo, let, s, go, party, ro...   \n",
       "\n",
       "                         moods                   name new_context  \\\n",
       "0    [energetic, motivational]  Gangnam Style (강남스타일)    work out   \n",
       "1                      [happy]         Counting Stars   energetic   \n",
       "2  [happy, celebratory, rowdy]      Party Rock Anthem   housework   \n",
       "\n",
       "                                             picture  recording_id  \\\n",
       "0  http://images.musicnet.com/albums/073/463/405/...       50232.0   \n",
       "1  http://images.musicnet.com/albums/081/851/887/...        5839.0   \n",
       "2  http://images.musicnet.com/albums/049/414/127/...       52379.0   \n",
       "\n",
       "                                         sub_context        yt_id    yt_views  \n",
       "0                              [working out: cardio]  9bZkp7q19f0  2450112089  \n",
       "1                                     [energy boost]  hT_nvWreIhg  1020297206  \n",
       "2  [energy boost, pleasing a crowd, housework, dr...  KQ6zr6kCPj8   971128436  "
      ]
     },
     "execution_count": 2,
     "metadata": {},
     "output_type": "execute_result"
    }
   ],
   "source": [
    "full_df = pd.read_json('MasterSongList.json')\n",
    "full_df.head(3)"
   ]
  },
  {
   "cell_type": "markdown",
   "metadata": {},
   "source": [
    "### Clean the genres"
   ]
  },
  {
   "cell_type": "markdown",
   "metadata": {},
   "source": [
    "We need to remove the list format"
   ]
  },
  {
   "cell_type": "code",
   "execution_count": 3,
   "metadata": {},
   "outputs": [],
   "source": [
    "full_df2 = full_df.copy()\n",
    "full_df2['genres'] = full_df2['genres'].apply(''.join)\n",
    "# full_df2['genres'].value_counts()"
   ]
  },
  {
   "cell_type": "markdown",
   "metadata": {},
   "source": [
    "And only want to keep the first genre"
   ]
  },
  {
   "cell_type": "code",
   "execution_count": 4,
   "metadata": {},
   "outputs": [],
   "source": [
    "def split_first_genre(genre):\n",
    "    if len(genre) > 0:\n",
    "        return genre.split(':')[0]\n",
    "    else:\n",
    "        return genre\n",
    "\n",
    "full_df2['genres'] = full_df2['genres'].apply(split_first_genre)"
   ]
  },
  {
   "cell_type": "markdown",
   "metadata": {},
   "source": [
    "Let's see what genres are available"
   ]
  },
  {
   "cell_type": "code",
   "execution_count": 5,
   "metadata": {},
   "outputs": [],
   "source": [
    "unique_genres = full_df2['genres'].unique()\n",
    "unique_genres.sort()"
   ]
  },
  {
   "cell_type": "code",
   "execution_count": 8,
   "metadata": {},
   "outputs": [
    {
     "data": {
      "text/plain": [
       "['',\n",
       " 'bluegrass',\n",
       " 'blues & blues rock',\n",
       " \"children's\",\n",
       " 'christian',\n",
       " 'classical',\n",
       " 'country',\n",
       " 'dance',\n",
       " \"dubstep & drum 'n' bass\",\n",
       " 'easy listening',\n",
       " 'electronica',\n",
       " 'film scores',\n",
       " 'folk',\n",
       " 'funk',\n",
       " 'hawaiian ',\n",
       " 'indie',\n",
       " \"int'l\",\n",
       " 'international/world',\n",
       " 'jazz',\n",
       " 'latin',\n",
       " 'nature sounds',\n",
       " 'oldies',\n",
       " 'pop',\n",
       " 'r&b',\n",
       " 'rap',\n",
       " 'reggae & ska',\n",
       " 'reggaeton',\n",
       " 'rock',\n",
       " 'showtunes',\n",
       " 'singer-songwriter']"
      ]
     },
     "execution_count": 8,
     "metadata": {},
     "output_type": "execute_result"
    }
   ],
   "source": [
    "unique_genres.tolist()"
   ]
  },
  {
   "cell_type": "markdown",
   "metadata": {},
   "source": [
    "### Audio Features"
   ]
  },
  {
   "cell_type": "markdown",
   "metadata": {},
   "source": [
    "We now only want to keep the audio features and the genre, let's create a new dataframe: df"
   ]
  },
  {
   "cell_type": "code",
   "execution_count": 9,
   "metadata": {},
   "outputs": [
    {
     "data": {
      "text/html": [
       "<div>\n",
       "<style scoped>\n",
       "    .dataframe tbody tr th:only-of-type {\n",
       "        vertical-align: middle;\n",
       "    }\n",
       "\n",
       "    .dataframe tbody tr th {\n",
       "        vertical-align: top;\n",
       "    }\n",
       "\n",
       "    .dataframe thead th {\n",
       "        text-align: right;\n",
       "    }\n",
       "</style>\n",
       "<table border=\"1\" class=\"dataframe\">\n",
       "  <thead>\n",
       "    <tr style=\"text-align: right;\">\n",
       "      <th></th>\n",
       "      <th>key</th>\n",
       "      <th>energy</th>\n",
       "      <th>liveliness</th>\n",
       "      <th>tempo</th>\n",
       "      <th>speechiness</th>\n",
       "      <th>acousticness</th>\n",
       "      <th>instrumentalness</th>\n",
       "      <th>time_signature</th>\n",
       "      <th>duration</th>\n",
       "      <th>loudness</th>\n",
       "      <th>valence</th>\n",
       "      <th>danceability</th>\n",
       "      <th>mode</th>\n",
       "      <th>time_signature_confidence</th>\n",
       "      <th>tempo_confidence</th>\n",
       "      <th>key_confidence</th>\n",
       "      <th>mode_confidence</th>\n",
       "      <th>genres</th>\n",
       "    </tr>\n",
       "  </thead>\n",
       "  <tbody>\n",
       "    <tr>\n",
       "      <th>0</th>\n",
       "      <td>11.0</td>\n",
       "      <td>0.912744</td>\n",
       "      <td>0.083704</td>\n",
       "      <td>132.069</td>\n",
       "      <td>0.293137</td>\n",
       "      <td>0.005423</td>\n",
       "      <td>0.000001</td>\n",
       "      <td>0.0</td>\n",
       "      <td>4.0</td>\n",
       "      <td>218.30667</td>\n",
       "      <td>-3.890</td>\n",
       "      <td>0.752186</td>\n",
       "      <td>0.726920</td>\n",
       "      <td>0.552</td>\n",
       "      <td>0.541</td>\n",
       "      <td>1.000</td>\n",
       "      <td>1.000</td>\n",
       "      <td>pop</td>\n",
       "    </tr>\n",
       "    <tr>\n",
       "      <th>1</th>\n",
       "      <td>6.0</td>\n",
       "      <td>0.745704</td>\n",
       "      <td>0.119955</td>\n",
       "      <td>100.008</td>\n",
       "      <td>0.046255</td>\n",
       "      <td>0.026230</td>\n",
       "      <td>0.012727</td>\n",
       "      <td>1.0</td>\n",
       "      <td>4.0</td>\n",
       "      <td>235.06086</td>\n",
       "      <td>-7.687</td>\n",
       "      <td>0.351282</td>\n",
       "      <td>0.691817</td>\n",
       "      <td>0.737</td>\n",
       "      <td>0.634</td>\n",
       "      <td>0.796</td>\n",
       "      <td>1.000</td>\n",
       "      <td>pop</td>\n",
       "    </tr>\n",
       "    <tr>\n",
       "      <th>2</th>\n",
       "      <td>5.0</td>\n",
       "      <td>0.709932</td>\n",
       "      <td>0.231455</td>\n",
       "      <td>130.030</td>\n",
       "      <td>0.121741</td>\n",
       "      <td>0.036662</td>\n",
       "      <td>0.000000</td>\n",
       "      <td>0.0</td>\n",
       "      <td>4.0</td>\n",
       "      <td>232.46104</td>\n",
       "      <td>-5.150</td>\n",
       "      <td>0.374390</td>\n",
       "      <td>0.704729</td>\n",
       "      <td>0.565</td>\n",
       "      <td>0.565</td>\n",
       "      <td>0.743</td>\n",
       "      <td>1.000</td>\n",
       "      <td></td>\n",
       "    </tr>\n",
       "    <tr>\n",
       "      <th>3</th>\n",
       "      <td>3.0</td>\n",
       "      <td>0.705822</td>\n",
       "      <td>0.053292</td>\n",
       "      <td>126.009</td>\n",
       "      <td>0.126016</td>\n",
       "      <td>0.001966</td>\n",
       "      <td>0.000000</td>\n",
       "      <td>0.0</td>\n",
       "      <td>4.0</td>\n",
       "      <td>194.09333</td>\n",
       "      <td>-3.898</td>\n",
       "      <td>0.592798</td>\n",
       "      <td>0.875137</td>\n",
       "      <td>0.004</td>\n",
       "      <td>0.114</td>\n",
       "      <td>1.000</td>\n",
       "      <td>0.742</td>\n",
       "      <td>dance</td>\n",
       "    </tr>\n",
       "    <tr>\n",
       "      <th>4</th>\n",
       "      <td>3.0</td>\n",
       "      <td>0.741757</td>\n",
       "      <td>0.072774</td>\n",
       "      <td>129.985</td>\n",
       "      <td>0.051255</td>\n",
       "      <td>0.096732</td>\n",
       "      <td>0.000474</td>\n",
       "      <td>0.0</td>\n",
       "      <td>4.0</td>\n",
       "      <td>285.42667</td>\n",
       "      <td>-5.860</td>\n",
       "      <td>0.585630</td>\n",
       "      <td>0.730711</td>\n",
       "      <td>0.271</td>\n",
       "      <td>0.324</td>\n",
       "      <td>0.822</td>\n",
       "      <td>1.000</td>\n",
       "      <td>reggaeton</td>\n",
       "    </tr>\n",
       "  </tbody>\n",
       "</table>\n",
       "</div>"
      ],
      "text/plain": [
       "    key    energy  liveliness    tempo  speechiness  acousticness  \\\n",
       "0  11.0  0.912744    0.083704  132.069     0.293137      0.005423   \n",
       "1   6.0  0.745704    0.119955  100.008     0.046255      0.026230   \n",
       "2   5.0  0.709932    0.231455  130.030     0.121741      0.036662   \n",
       "3   3.0  0.705822    0.053292  126.009     0.126016      0.001966   \n",
       "4   3.0  0.741757    0.072774  129.985     0.051255      0.096732   \n",
       "\n",
       "   instrumentalness  time_signature  duration   loudness  valence  \\\n",
       "0          0.000001             0.0       4.0  218.30667   -3.890   \n",
       "1          0.012727             1.0       4.0  235.06086   -7.687   \n",
       "2          0.000000             0.0       4.0  232.46104   -5.150   \n",
       "3          0.000000             0.0       4.0  194.09333   -3.898   \n",
       "4          0.000474             0.0       4.0  285.42667   -5.860   \n",
       "\n",
       "   danceability      mode  time_signature_confidence  tempo_confidence  \\\n",
       "0      0.752186  0.726920                      0.552             0.541   \n",
       "1      0.351282  0.691817                      0.737             0.634   \n",
       "2      0.374390  0.704729                      0.565             0.565   \n",
       "3      0.592798  0.875137                      0.004             0.114   \n",
       "4      0.585630  0.730711                      0.271             0.324   \n",
       "\n",
       "   key_confidence  mode_confidence     genres  \n",
       "0           1.000            1.000        pop  \n",
       "1           0.796            1.000        pop  \n",
       "2           0.743            1.000             \n",
       "3           1.000            0.742      dance  \n",
       "4           0.822            1.000  reggaeton  "
      ]
     },
     "execution_count": 9,
     "metadata": {},
     "output_type": "execute_result"
    }
   ],
   "source": [
    "features_headers = ['key', 'energy', 'liveliness', 'tempo', 'speechiness', 'acousticness', 'instrumentalness', 'time_signature', 'duration', 'loudness', 'valence', 'danceability', 'mode', 'time_signature_confidence', 'tempo_confidence', 'key_confidence', 'mode_confidence']\n",
    "features_list = full_df2['audio_features'].tolist()\n",
    "df = pd.DataFrame(features_list, columns=features_headers)\n",
    "df['genres'] = full_df2['genres']\n",
    "df.head()"
   ]
  },
  {
   "cell_type": "markdown",
   "metadata": {},
   "source": [
    "### NaN rows"
   ]
  },
  {
   "cell_type": "markdown",
   "metadata": {},
   "source": [
    "Let's remove the songs with no genres"
   ]
  },
  {
   "cell_type": "code",
   "execution_count": 10,
   "metadata": {},
   "outputs": [
    {
     "data": {
      "text/plain": [
       "(36733, 18)"
      ]
     },
     "execution_count": 10,
     "metadata": {},
     "output_type": "execute_result"
    }
   ],
   "source": [
    "df.shape"
   ]
  },
  {
   "cell_type": "code",
   "execution_count": 11,
   "metadata": {},
   "outputs": [
    {
     "data": {
      "text/plain": [
       "(33057, 18)"
      ]
     },
     "execution_count": 11,
     "metadata": {},
     "output_type": "execute_result"
    }
   ],
   "source": [
    "df['genres'].replace('', np.nan, inplace=True)\n",
    "df.dropna(subset=['genres'], inplace=True)\n",
    "df.shape"
   ]
  },
  {
   "cell_type": "markdown",
   "metadata": {},
   "source": [
    "Let's have a look at the NaN rows and their distribution among the genres"
   ]
  },
  {
   "cell_type": "code",
   "execution_count": 12,
   "metadata": {},
   "outputs": [],
   "source": [
    "def checknan(x):\n",
    "    return np.isnan(x)"
   ]
  },
  {
   "cell_type": "code",
   "execution_count": 13,
   "metadata": {},
   "outputs": [],
   "source": [
    "genres_df = ['bluegrass', 'blues & blues rock', \"children's\", 'christian', 'classical', 'country', 'dance', \"dubstep & drum 'n' bass\", 'easy listening', 'electronica', 'film scores', 'folk', 'funk', 'hawaiian ', 'indie', \"int'l\", 'international/world', 'jazz', 'latin', 'nature sounds', 'oldies', 'pop', 'r&b', 'rap', 'reggae & ska', 'reggaeton', 'rock', 'showtunes', 'singer-songwriter']"
   ]
  },
  {
   "cell_type": "code",
   "execution_count": 14,
   "metadata": {},
   "outputs": [
    {
     "name": "stdout",
     "output_type": "stream",
     "text": [
      "bluegrass\n",
      "False    213\n",
      "True      89\n",
      "Name: speechiness, dtype: int64\n",
      "\n",
      "blues & blues rock\n",
      "False    727\n",
      "True     175\n",
      "Name: speechiness, dtype: int64\n",
      "\n",
      "children's\n",
      "False    196\n",
      "True      64\n",
      "Name: speechiness, dtype: int64\n",
      "\n",
      "christian\n",
      "False    204\n",
      "True      32\n",
      "Name: speechiness, dtype: int64\n",
      "\n",
      "classical\n",
      "True     637\n",
      "False    455\n",
      "Name: speechiness, dtype: int64\n",
      "\n",
      "country\n",
      "False    1075\n",
      "True      209\n",
      "Name: speechiness, dtype: int64\n",
      "\n",
      "dance\n",
      "False    2000\n",
      "True      391\n",
      "Name: speechiness, dtype: int64\n",
      "\n",
      "dubstep & drum 'n' bass\n",
      "False    272\n",
      "True      46\n",
      "Name: speechiness, dtype: int64\n",
      "\n",
      "easy listening\n",
      "False    151\n",
      "True      45\n",
      "Name: speechiness, dtype: int64\n",
      "\n",
      "electronica\n",
      "False    1249\n",
      "True      227\n",
      "Name: speechiness, dtype: int64\n",
      "\n",
      "film scores\n",
      "False    180\n",
      "True      65\n",
      "Name: speechiness, dtype: int64\n",
      "\n",
      "folk\n",
      "False    402\n",
      "True      85\n",
      "Name: speechiness, dtype: int64\n",
      "\n",
      "funk\n",
      "False    470\n",
      "True      96\n",
      "Name: speechiness, dtype: int64\n",
      "\n",
      "hawaiian \n",
      "False    12\n",
      "True      8\n",
      "Name: speechiness, dtype: int64\n",
      "\n",
      "indie\n",
      "False    1834\n",
      "True      255\n",
      "Name: speechiness, dtype: int64\n",
      "\n",
      "int'l\n",
      "False    256\n",
      "True      73\n",
      "Name: speechiness, dtype: int64\n",
      "\n",
      "international/world\n",
      "False    311\n",
      "True     151\n",
      "Name: speechiness, dtype: int64\n",
      "\n",
      "jazz\n",
      "False    1889\n",
      "True      406\n",
      "Name: speechiness, dtype: int64\n",
      "\n",
      "latin\n",
      "False    1032\n",
      "True      280\n",
      "Name: speechiness, dtype: int64\n",
      "\n",
      "nature sounds\n",
      "True     19\n",
      "False    15\n",
      "Name: speechiness, dtype: int64\n",
      "\n",
      "oldies\n",
      "False    454\n",
      "True      94\n",
      "Name: speechiness, dtype: int64\n",
      "\n",
      "pop\n",
      "False    689\n",
      "True     212\n",
      "Name: speechiness, dtype: int64\n",
      "\n",
      "r&b\n",
      "False    2345\n",
      "True      376\n",
      "Name: speechiness, dtype: int64\n",
      "\n",
      "rap\n",
      "False    2452\n",
      "True      479\n",
      "Name: speechiness, dtype: int64\n",
      "\n",
      "reggae & ska\n",
      "False    617\n",
      "True     137\n",
      "Name: speechiness, dtype: int64\n",
      "\n",
      "reggaeton\n",
      "False    102\n",
      "True      25\n",
      "Name: speechiness, dtype: int64\n",
      "\n",
      "rock\n",
      "False    6435\n",
      "True     1050\n",
      "Name: speechiness, dtype: int64\n",
      "\n",
      "showtunes\n",
      "False    91\n",
      "True     14\n",
      "Name: speechiness, dtype: int64\n",
      "\n",
      "singer-songwriter\n",
      "False    1034\n",
      "True      155\n",
      "Name: speechiness, dtype: int64\n",
      "\n"
     ]
    }
   ],
   "source": [
    "for i in genres_df:\n",
    "    songs = df[df['genres'] == i]\n",
    "    genres_nan = songs['speechiness'].apply(checknan)\n",
    "    print(i)\n",
    "    print(genres_nan.value_counts())\n",
    "    print(\"\")"
   ]
  },
  {
   "cell_type": "markdown",
   "metadata": {},
   "source": [
    "The dataset is quite disbalanced. First, let's:\n",
    "- drop the NaN rows when count is above 1000\n",
    "- replace the NaN rows values by the median of the others when under 1000\n",
    "- combine some of the similar genres with low number of rows: international & hawai, etc..."
   ]
  },
  {
   "cell_type": "code",
   "execution_count": 15,
   "metadata": {},
   "outputs": [],
   "source": [
    "df_bal = df.copy()"
   ]
  },
  {
   "cell_type": "markdown",
   "metadata": {},
   "source": [
    "Let'd group all the international songs"
   ]
  },
  {
   "cell_type": "code",
   "execution_count": 16,
   "metadata": {},
   "outputs": [],
   "source": [
    "df_bal.loc[(df_bal['genres'].str.contains(\"hawa\")), 'genres'] = 'international/world'\n",
    "df_bal.loc[(df_bal['genres'] == \"int'l\"), 'genres'] = 'international/world'"
   ]
  },
  {
   "cell_type": "markdown",
   "metadata": {},
   "source": [
    "Since I am not too sure what 'showtunes' is, let's look at a few samples"
   ]
  },
  {
   "cell_type": "code",
   "execution_count": 17,
   "metadata": {},
   "outputs": [
    {
     "data": {
      "text/html": [
       "<div>\n",
       "<style scoped>\n",
       "    .dataframe tbody tr th:only-of-type {\n",
       "        vertical-align: middle;\n",
       "    }\n",
       "\n",
       "    .dataframe tbody tr th {\n",
       "        vertical-align: top;\n",
       "    }\n",
       "\n",
       "    .dataframe thead th {\n",
       "        text-align: right;\n",
       "    }\n",
       "</style>\n",
       "<table border=\"1\" class=\"dataframe\">\n",
       "  <thead>\n",
       "    <tr style=\"text-align: right;\">\n",
       "      <th></th>\n",
       "      <th>_id</th>\n",
       "      <th>album</th>\n",
       "      <th>artist</th>\n",
       "      <th>audio_features</th>\n",
       "      <th>context</th>\n",
       "      <th>decades</th>\n",
       "      <th>genres</th>\n",
       "      <th>lyrics_features</th>\n",
       "      <th>moods</th>\n",
       "      <th>name</th>\n",
       "      <th>new_context</th>\n",
       "      <th>picture</th>\n",
       "      <th>recording_id</th>\n",
       "      <th>sub_context</th>\n",
       "      <th>yt_id</th>\n",
       "      <th>yt_views</th>\n",
       "    </tr>\n",
       "  </thead>\n",
       "  <tbody>\n",
       "    <tr>\n",
       "      <th>550</th>\n",
       "      <td>{'$oid': '52fdfb470b9398049f3db3da'}</td>\n",
       "      <td>Dreamgirls: Music From The Motion Picture</td>\n",
       "      <td>Beyoncé</td>\n",
       "      <td>[6, 0.863908, 0.933894, 129.015, 0.07024000000...</td>\n",
       "      <td>[happy]</td>\n",
       "      <td>[]</td>\n",
       "      <td>showtunes</td>\n",
       "      <td>[listen, to, the, song, here, in, my, heart, a...</td>\n",
       "      <td>[happy]</td>\n",
       "      <td>Listen</td>\n",
       "      <td>NaN</td>\n",
       "      <td>http://images.musicnet.com/albums/009/114/795/...</td>\n",
       "      <td>78256.0</td>\n",
       "      <td>NaN</td>\n",
       "      <td>w1rLZfAfQLM</td>\n",
       "      <td>48657477</td>\n",
       "    </tr>\n",
       "    <tr>\n",
       "      <th>1622</th>\n",
       "      <td>{'$oid': '52fdfb470b9398049f3db3d8'}</td>\n",
       "      <td>Mamma Mia!: The Movie Soundtrack</td>\n",
       "      <td>Dominic Cooper</td>\n",
       "      <td>[5, 0.731035, 0.319639, 133.01, 0.029075, 0.01...</td>\n",
       "      <td>[happy]</td>\n",
       "      <td>[]</td>\n",
       "      <td>showtunes</td>\n",
       "      <td>[i, wasn, t, jealous, before, we, met, now, ev...</td>\n",
       "      <td>[happy]</td>\n",
       "      <td>Lay All Your Love On Me</td>\n",
       "      <td>NaN</td>\n",
       "      <td>http://images.musicnet.com/albums/015/129/627/...</td>\n",
       "      <td>50071.0</td>\n",
       "      <td>NaN</td>\n",
       "      <td>AQKk1nkDa8U</td>\n",
       "      <td>12748652</td>\n",
       "    </tr>\n",
       "    <tr>\n",
       "      <th>2008</th>\n",
       "      <td>{'$oid': '52fdfb470b9398049f3db3a7'}</td>\n",
       "      <td>Dreamgirls: Music From The Motion Picture</td>\n",
       "      <td>Jennifer Hudson</td>\n",
       "      <td>[10, 0.734026, 0.16022, 121.585, 0.081468, 0.2...</td>\n",
       "      <td>[happy]</td>\n",
       "      <td>[]</td>\n",
       "      <td>showtunes</td>\n",
       "      <td>[and, i, am, tellin, you, i, m, not, goin, you...</td>\n",
       "      <td>[happy]</td>\n",
       "      <td>And I Am Telling You I'm Not Going</td>\n",
       "      <td>NaN</td>\n",
       "      <td>http://images.musicnet.com/albums/009/114/795/...</td>\n",
       "      <td>78227.0</td>\n",
       "      <td>NaN</td>\n",
       "      <td>QsiSRSgqE4E</td>\n",
       "      <td>9781891</td>\n",
       "    </tr>\n",
       "  </tbody>\n",
       "</table>\n",
       "</div>"
      ],
      "text/plain": [
       "                                       _id  \\\n",
       "550   {'$oid': '52fdfb470b9398049f3db3da'}   \n",
       "1622  {'$oid': '52fdfb470b9398049f3db3d8'}   \n",
       "2008  {'$oid': '52fdfb470b9398049f3db3a7'}   \n",
       "\n",
       "                                          album           artist  \\\n",
       "550   Dreamgirls: Music From The Motion Picture          Beyoncé   \n",
       "1622           Mamma Mia!: The Movie Soundtrack   Dominic Cooper   \n",
       "2008  Dreamgirls: Music From The Motion Picture  Jennifer Hudson   \n",
       "\n",
       "                                         audio_features  context decades  \\\n",
       "550   [6, 0.863908, 0.933894, 129.015, 0.07024000000...  [happy]      []   \n",
       "1622  [5, 0.731035, 0.319639, 133.01, 0.029075, 0.01...  [happy]      []   \n",
       "2008  [10, 0.734026, 0.16022, 121.585, 0.081468, 0.2...  [happy]      []   \n",
       "\n",
       "         genres                                    lyrics_features    moods  \\\n",
       "550   showtunes  [listen, to, the, song, here, in, my, heart, a...  [happy]   \n",
       "1622  showtunes  [i, wasn, t, jealous, before, we, met, now, ev...  [happy]   \n",
       "2008  showtunes  [and, i, am, tellin, you, i, m, not, goin, you...  [happy]   \n",
       "\n",
       "                                    name new_context  \\\n",
       "550                               Listen         NaN   \n",
       "1622             Lay All Your Love On Me         NaN   \n",
       "2008  And I Am Telling You I'm Not Going         NaN   \n",
       "\n",
       "                                                picture  recording_id  \\\n",
       "550   http://images.musicnet.com/albums/009/114/795/...       78256.0   \n",
       "1622  http://images.musicnet.com/albums/015/129/627/...       50071.0   \n",
       "2008  http://images.musicnet.com/albums/009/114/795/...       78227.0   \n",
       "\n",
       "     sub_context        yt_id  yt_views  \n",
       "550          NaN  w1rLZfAfQLM  48657477  \n",
       "1622         NaN  AQKk1nkDa8U  12748652  \n",
       "2008         NaN  QsiSRSgqE4E   9781891  "
      ]
     },
     "execution_count": 17,
     "metadata": {},
     "output_type": "execute_result"
    }
   ],
   "source": [
    "full_df2[full_df2['genres'] == 'showtunes'].head(3)"
   ]
  },
  {
   "cell_type": "markdown",
   "metadata": {},
   "source": [
    "This can be grouped with 'film_scores' as 'film/show'"
   ]
  },
  {
   "cell_type": "code",
   "execution_count": 26,
   "metadata": {},
   "outputs": [],
   "source": [
    "df_bal.loc[(df_bal['genres'] == 'showtunes'), 'genres'] = 'film/show'\n",
    "df_bal.loc[(df_bal['genres'] == 'film scores'), 'genres'] = 'film/show'"
   ]
  },
  {
   "cell_type": "code",
   "execution_count": 18,
   "metadata": {},
   "outputs": [
    {
     "data": {
      "text/plain": [
       "rock                       7485\n",
       "rap                        2931\n",
       "r&b                        2721\n",
       "dance                      2391\n",
       "jazz                       2295\n",
       "indie                      2089\n",
       "electronica                1476\n",
       "latin                      1312\n",
       "country                    1284\n",
       "singer-songwriter          1189\n",
       "classical                  1092\n",
       "blues & blues rock          902\n",
       "pop                         901\n",
       "international/world         811\n",
       "reggae & ska                754\n",
       "funk                        566\n",
       "oldies                      548\n",
       "folk                        487\n",
       "dubstep & drum 'n' bass     318\n",
       "bluegrass                   302\n",
       "children's                  260\n",
       "film scores                 245\n",
       "christian                   236\n",
       "easy listening              196\n",
       "reggaeton                   127\n",
       "showtunes                   105\n",
       "nature sounds                34\n",
       "Name: genres, dtype: int64"
      ]
     },
     "execution_count": 18,
     "metadata": {},
     "output_type": "execute_result"
    }
   ],
   "source": [
    "df_bal['genres'].value_counts()"
   ]
  },
  {
   "cell_type": "markdown",
   "metadata": {},
   "source": [
    "Let's differentiate genres that have more/less than 1000 non-NaN rows"
   ]
  },
  {
   "cell_type": "code",
   "execution_count": 19,
   "metadata": {},
   "outputs": [],
   "source": [
    "new_genres_df = ['bluegrass', 'blues & blues rock', \"children's\", 'christian', 'classical', 'country', 'dance', \"dubstep & drum 'n' bass\", 'easy listening', 'electronica', 'film/show', 'folk', 'funk', 'indie', 'international/world', 'jazz', 'latin', 'nature sounds', 'oldies', 'pop', 'r&b', 'rap', 'reggae & ska', 'reggaeton', 'rock', 'singer-songwriter']"
   ]
  },
  {
   "cell_type": "code",
   "execution_count": 20,
   "metadata": {},
   "outputs": [
    {
     "name": "stdout",
     "output_type": "stream",
     "text": [
      "['country', 'dance', 'electronica', 'indie', 'jazz', 'latin', 'r&b', 'rap', 'rock', 'singer-songwriter']\n",
      "['bluegrass', 'blues & blues rock', \"children's\", 'christian', 'classical', \"dubstep & drum 'n' bass\", 'easy listening', 'film/show', 'folk', 'funk', 'international/world', 'nature sounds', 'oldies', 'pop', 'reggae & ska', 'reggaeton']\n"
     ]
    }
   ],
   "source": [
    "large_genres = []\n",
    "small_genres = []\n",
    "\n",
    "for i in new_genres_df:\n",
    "    songs_genre = df_bal[df_bal['genres'] == i]\n",
    "    songs_genre_nan = songs_genre['speechiness'].apply(checknan)\n",
    "    if len(songs_genre_nan[songs_genre_nan == False]) >= 1000:\n",
    "        large_genres.append(i)\n",
    "    else:\n",
    "        small_genres.append(i)\n",
    "\n",
    "print(large_genres)\n",
    "print(small_genres)"
   ]
  },
  {
   "cell_type": "markdown",
   "metadata": {},
   "source": [
    "Let's drop NaN on large genres"
   ]
  },
  {
   "cell_type": "code",
   "execution_count": 21,
   "metadata": {},
   "outputs": [],
   "source": [
    "new_df = pd.DataFrame()\n",
    "\n",
    "for i in large_genres:\n",
    "    songs = df_bal[df_bal['genres'] == i]\n",
    "    new_songs = songs.dropna(axis=0, how='any')\n",
    "    new_df = pd.concat([new_df, new_songs])"
   ]
  },
  {
   "cell_type": "markdown",
   "metadata": {},
   "source": [
    "Let's replace NaN by median on small genres"
   ]
  },
  {
   "cell_type": "code",
   "execution_count": 22,
   "metadata": {},
   "outputs": [],
   "source": [
    "for i in small_genres:\n",
    "    songs = df_bal[df_bal['genres'] == i]\n",
    "    new_songs = songs.fillna(songs.median())\n",
    "    new_df = pd.concat([new_df, new_songs])"
   ]
  },
  {
   "cell_type": "markdown",
   "metadata": {},
   "source": [
    "Now we don't have any NaN value left. However we can see below that the dataframe is not well balanced"
   ]
  },
  {
   "cell_type": "code",
   "execution_count": 23,
   "metadata": {},
   "outputs": [
    {
     "data": {
      "text/plain": [
       "rock                       6435\n",
       "rap                        2452\n",
       "r&b                        2344\n",
       "dance                      2000\n",
       "jazz                       1889\n",
       "indie                      1834\n",
       "electronica                1249\n",
       "classical                  1092\n",
       "country                    1075\n",
       "singer-songwriter          1034\n",
       "latin                      1032\n",
       "blues & blues rock          902\n",
       "pop                         901\n",
       "international/world         811\n",
       "reggae & ska                754\n",
       "funk                        566\n",
       "oldies                      548\n",
       "folk                        487\n",
       "dubstep & drum 'n' bass     318\n",
       "bluegrass                   302\n",
       "children's                  260\n",
       "christian                   236\n",
       "easy listening              196\n",
       "reggaeton                   127\n",
       "nature sounds                34\n",
       "Name: genres, dtype: int64"
      ]
     },
     "execution_count": 23,
     "metadata": {},
     "output_type": "execute_result"
    }
   ],
   "source": [
    "new_df['genres'].value_counts()"
   ]
  },
  {
   "cell_type": "markdown",
   "metadata": {},
   "source": [
    "We will now drop the genres with low number of songs: under 500"
   ]
  },
  {
   "cell_type": "code",
   "execution_count": 72,
   "metadata": {},
   "outputs": [],
   "source": [
    "drop_genres = [\"dubstep & drum 'n' bass\", \"bluegrass\", \"children's\", \"christian\", 'easy listening', 'reggaeton', 'nature sounds', \"folk\"]"
   ]
  },
  {
   "cell_type": "code",
   "execution_count": 73,
   "metadata": {},
   "outputs": [
    {
     "data": {
      "text/plain": [
       "rock                   6435\n",
       "rap                    2452\n",
       "r&b                    2344\n",
       "dance                  2000\n",
       "jazz                   1889\n",
       "indie                  1834\n",
       "electronica            1249\n",
       "classical              1092\n",
       "country                1075\n",
       "singer-songwriter      1034\n",
       "latin                  1032\n",
       "blues & blues rock      902\n",
       "pop                     901\n",
       "international/world     811\n",
       "reggae & ska            754\n",
       "funk                    566\n",
       "oldies                  548\n",
       "Name: genres, dtype: int64"
      ]
     },
     "execution_count": 73,
     "metadata": {},
     "output_type": "execute_result"
    }
   ],
   "source": [
    "new_df = new_df[new_df['genres'].isin(drop_genres) == False]\n",
    "new_df['genres'].value_counts()"
   ]
  },
  {
   "cell_type": "code",
   "execution_count": null,
   "metadata": {},
   "outputs": [],
   "source": []
  },
  {
   "cell_type": "code",
   "execution_count": null,
   "metadata": {},
   "outputs": [],
   "source": []
  },
  {
   "cell_type": "code",
   "execution_count": null,
   "metadata": {},
   "outputs": [],
   "source": []
  },
  {
   "cell_type": "markdown",
   "metadata": {},
   "source": [
    "# Part 2 - Select data"
   ]
  },
  {
   "cell_type": "markdown",
   "metadata": {},
   "source": [
    "### Scale features"
   ]
  },
  {
   "cell_type": "markdown",
   "metadata": {},
   "source": [
    "First let's randomize the data"
   ]
  },
  {
   "cell_type": "code",
   "execution_count": 74,
   "metadata": {},
   "outputs": [],
   "source": [
    "new_df = new_df.sample(frac=1, random_state=101).reset_index(drop=True)"
   ]
  },
  {
   "cell_type": "markdown",
   "metadata": {},
   "source": [
    "### Data 1"
   ]
  },
  {
   "cell_type": "code",
   "execution_count": 75,
   "metadata": {},
   "outputs": [],
   "source": [
    "X = new_df.drop('genres', axis=1)\n",
    "y = new_df['genres']"
   ]
  },
  {
   "cell_type": "markdown",
   "metadata": {},
   "source": [
    "Let's scale the features"
   ]
  },
  {
   "cell_type": "code",
   "execution_count": 208,
   "metadata": {},
   "outputs": [],
   "source": [
    "from sklearn.preprocessing import StandardScaler\n",
    "scaler = StandardScaler()\n",
    "X_scale = scaler.fit_transform(X)"
   ]
  },
  {
   "cell_type": "code",
   "execution_count": 209,
   "metadata": {},
   "outputs": [],
   "source": [
    "pickle.dump(scaler, open('genre_feature_scaler.pickle', 'wb'))"
   ]
  },
  {
   "cell_type": "markdown",
   "metadata": {},
   "source": [
    "### Data 2: SMOTEEN - Over and undersampling"
   ]
  },
  {
   "cell_type": "markdown",
   "metadata": {},
   "source": [
    "In order to avoid imbalanced data, we will also try to use a combination of over and under sampling"
   ]
  },
  {
   "cell_type": "code",
   "execution_count": 77,
   "metadata": {},
   "outputs": [
    {
     "data": {
      "text/plain": [
       "[('blues & blues rock', 902),\n",
       " ('classical', 1092),\n",
       " ('country', 1075),\n",
       " ('dance', 2000),\n",
       " ('electronica', 1249),\n",
       " ('funk', 566),\n",
       " ('indie', 1834),\n",
       " ('international/world', 811),\n",
       " ('jazz', 1889),\n",
       " ('latin', 1032),\n",
       " ('oldies', 548),\n",
       " ('pop', 901),\n",
       " ('r&b', 2344),\n",
       " ('rap', 2452),\n",
       " ('reggae & ska', 754),\n",
       " ('rock', 6435),\n",
       " ('singer-songwriter', 1034)]"
      ]
     },
     "execution_count": 77,
     "metadata": {},
     "output_type": "execute_result"
    }
   ],
   "source": [
    "from collections import Counter\n",
    "sorted(Counter(y).items())"
   ]
  },
  {
   "cell_type": "code",
   "execution_count": 78,
   "metadata": {},
   "outputs": [
    {
     "data": {
      "text/plain": [
       "[('blues & blues rock', 6213),\n",
       " ('classical', 6316),\n",
       " ('country', 6114),\n",
       " ('dance', 5115),\n",
       " ('electronica', 5881),\n",
       " ('folk', 6337),\n",
       " ('funk', 6290),\n",
       " ('indie', 5063),\n",
       " ('international/world', 6180),\n",
       " ('jazz', 5288),\n",
       " ('latin', 6080),\n",
       " ('oldies', 6320),\n",
       " ('pop', 6058),\n",
       " ('r&b', 4248),\n",
       " ('rap', 4969),\n",
       " ('reggae & ska', 6321),\n",
       " ('rock', 822),\n",
       " ('singer-songwriter', 6038)]"
      ]
     },
     "execution_count": 78,
     "metadata": {},
     "output_type": "execute_result"
    }
   ],
   "source": [
    "from imblearn.combine import SMOTEENN\n",
    "smote_enn = SMOTEENN(random_state=0)\n",
    "X_smoteen, y_smoteen = smote_enn.fit_sample(X_scale, y)\n",
    "sorted(Counter(y_resampled).items())"
   ]
  },
  {
   "cell_type": "markdown",
   "metadata": {},
   "source": [
    "We now also have 2 new data sources: X_resampled and y_resampled on which we could test our model"
   ]
  },
  {
   "cell_type": "markdown",
   "metadata": {},
   "source": [
    "### Data 3: resample Rock"
   ]
  },
  {
   "cell_type": "code",
   "execution_count": 108,
   "metadata": {},
   "outputs": [],
   "source": [
    "rock_songs = new_df[new_df['genres'] == 'rock']\n",
    "rock_sample = rock_songs.sample(n=4000, random_state=101).index"
   ]
  },
  {
   "cell_type": "code",
   "execution_count": 109,
   "metadata": {},
   "outputs": [
    {
     "data": {
      "text/plain": [
       "(22918, 17)"
      ]
     },
     "execution_count": 109,
     "metadata": {},
     "output_type": "execute_result"
    }
   ],
   "source": [
    "rock_data = new_df.drop(index = rock_sample)\n",
    "X_rock = rock_data.drop('genres', axis=1)\n",
    "y_rock = rock_data['genres']\n",
    "X_rock = scaler.fit_transform(X_rock)\n",
    "X_rock.shape"
   ]
  },
  {
   "cell_type": "markdown",
   "metadata": {},
   "source": [
    "### Data 4: SMOTE - oversampling"
   ]
  },
  {
   "cell_type": "code",
   "execution_count": 110,
   "metadata": {},
   "outputs": [
    {
     "data": {
      "text/plain": [
       "[('blues & blues rock', 2452),\n",
       " ('classical', 2452),\n",
       " ('country', 2452),\n",
       " ('dance', 2452),\n",
       " ('electronica', 2452),\n",
       " ('funk', 2452),\n",
       " ('indie', 2452),\n",
       " ('international/world', 2452),\n",
       " ('jazz', 2452),\n",
       " ('latin', 2452),\n",
       " ('oldies', 2452),\n",
       " ('pop', 2452),\n",
       " ('r&b', 2452),\n",
       " ('rap', 2452),\n",
       " ('reggae & ska', 2452),\n",
       " ('rock', 2452),\n",
       " ('singer-songwriter', 2452)]"
      ]
     },
     "execution_count": 110,
     "metadata": {},
     "output_type": "execute_result"
    }
   ],
   "source": [
    "from imblearn.over_sampling import SMOTE\n",
    "smote = SMOTE(random_state=42)\n",
    "X_smote, y_smote = smote.fit_sample(X_rock, y_rock)\n",
    "sorted(Counter(y_smote).items())"
   ]
  },
  {
   "cell_type": "code",
   "execution_count": null,
   "metadata": {},
   "outputs": [],
   "source": []
  },
  {
   "cell_type": "markdown",
   "metadata": {},
   "source": [
    "# Part 3: Try classifiers"
   ]
  },
  {
   "cell_type": "markdown",
   "metadata": {},
   "source": [
    "For all our classifiers we will use a pipeline (classifier + SelectKBest) as we as GridSearchCV"
   ]
  },
  {
   "cell_type": "code",
   "execution_count": 111,
   "metadata": {},
   "outputs": [],
   "source": [
    "from sklearn.pipeline import Pipeline\n",
    "from sklearn.feature_selection import SelectKBest\n",
    "from sklearn.grid_search import GridSearchCV\n",
    "from sklearn.metrics import classification_report"
   ]
  },
  {
   "cell_type": "markdown",
   "metadata": {},
   "source": [
    "Here are the classifiers we are going to try:\n",
    "- kNN on X_scale and y\n",
    "- kNN on X_resampled and y_resampled\n",
    "- LogReg on X_scale and y\n",
    "- LogReg on X_resampled and y_resampled"
   ]
  },
  {
   "cell_type": "markdown",
   "metadata": {},
   "source": [
    "### kNN1 on X_scale and y"
   ]
  },
  {
   "cell_type": "code",
   "execution_count": 112,
   "metadata": {},
   "outputs": [],
   "source": [
    "from sklearn.model_selection import train_test_split\n",
    "X_train, X_test, y_train, y_test = train_test_split(X_scale, y, test_size=0.1, random_state=101)"
   ]
  },
  {
   "cell_type": "code",
   "execution_count": 113,
   "metadata": {},
   "outputs": [],
   "source": [
    "from sklearn.neighbors import KNeighborsClassifier\n",
    "knn1 = KNeighborsClassifier()\n",
    "selector1 = SelectKBest()"
   ]
  },
  {
   "cell_type": "code",
   "execution_count": 185,
   "metadata": {},
   "outputs": [],
   "source": [
    "steps_knn1 = [('feature_selection', selector1), ('kneighbors', knn1)]\n",
    "parameters_knn1 = dict(feature_selection__k=[8,12,15], kneighbors__n_neighbors=[3,6,10])\n",
    "pipeline_knn1 = Pipeline(steps_knn1)"
   ]
  },
  {
   "cell_type": "code",
   "execution_count": 186,
   "metadata": {},
   "outputs": [
    {
     "name": "stdout",
     "output_type": "stream",
     "text": [
      "Fitting 3 folds for each of 9 candidates, totalling 27 fits\n",
      "[CV] feature_selection__k=8, kneighbors__n_neighbors=3 ...............\n",
      "[CV]  feature_selection__k=8, kneighbors__n_neighbors=3, score=0.367529 -   0.6s\n",
      "[CV] feature_selection__k=8, kneighbors__n_neighbors=3 ...............\n"
     ]
    },
    {
     "name": "stderr",
     "output_type": "stream",
     "text": [
      "[Parallel(n_jobs=1)]: Done   1 out of   1 | elapsed:    0.6s remaining:    0.0s\n"
     ]
    },
    {
     "name": "stdout",
     "output_type": "stream",
     "text": [
      "[CV]  feature_selection__k=8, kneighbors__n_neighbors=3, score=0.364908 -   0.6s\n",
      "[CV] feature_selection__k=8, kneighbors__n_neighbors=3 ...............\n"
     ]
    },
    {
     "name": "stderr",
     "output_type": "stream",
     "text": [
      "[Parallel(n_jobs=1)]: Done   2 out of   2 | elapsed:    1.3s remaining:    0.0s\n"
     ]
    },
    {
     "name": "stdout",
     "output_type": "stream",
     "text": [
      "[CV]  feature_selection__k=8, kneighbors__n_neighbors=3, score=0.366092 -   0.6s\n",
      "[CV] feature_selection__k=8, kneighbors__n_neighbors=6 ...............\n",
      "[CV]  feature_selection__k=8, kneighbors__n_neighbors=6, score=0.407870 -   0.6s\n",
      "[CV] feature_selection__k=8, kneighbors__n_neighbors=6 ...............\n",
      "[CV]  feature_selection__k=8, kneighbors__n_neighbors=6, score=0.407380 -   0.6s\n",
      "[CV] feature_selection__k=8, kneighbors__n_neighbors=6 ...............\n",
      "[CV]  feature_selection__k=8, kneighbors__n_neighbors=6, score=0.413434 -   0.6s\n",
      "[CV] feature_selection__k=8, kneighbors__n_neighbors=10 ..............\n",
      "[CV]  feature_selection__k=8, kneighbors__n_neighbors=10, score=0.426185 -   0.7s\n",
      "[CV] feature_selection__k=8, kneighbors__n_neighbors=10 ..............\n",
      "[CV]  feature_selection__k=8, kneighbors__n_neighbors=10, score=0.427811 -   0.7s\n",
      "[CV] feature_selection__k=8, kneighbors__n_neighbors=10 ..............\n",
      "[CV]  feature_selection__k=8, kneighbors__n_neighbors=10, score=0.436733 -   0.7s\n",
      "[CV] feature_selection__k=12, kneighbors__n_neighbors=3 ..............\n",
      "[CV]  feature_selection__k=12, kneighbors__n_neighbors=3, score=0.375077 -   1.6s\n",
      "[CV] feature_selection__k=12, kneighbors__n_neighbors=3 ..............\n",
      "[CV]  feature_selection__k=12, kneighbors__n_neighbors=3, score=0.388063 -   1.8s\n",
      "[CV] feature_selection__k=12, kneighbors__n_neighbors=3 ..............\n",
      "[CV]  feature_selection__k=12, kneighbors__n_neighbors=3, score=0.370802 -   1.7s\n",
      "[CV] feature_selection__k=12, kneighbors__n_neighbors=6 ..............\n",
      "[CV]  feature_selection__k=12, kneighbors__n_neighbors=6, score=0.415419 -   2.0s\n",
      "[CV] feature_selection__k=12, kneighbors__n_neighbors=6 ..............\n",
      "[CV]  feature_selection__k=12, kneighbors__n_neighbors=6, score=0.431402 -   2.1s\n",
      "[CV] feature_selection__k=12, kneighbors__n_neighbors=6 ..............\n",
      "[CV]  feature_selection__k=12, kneighbors__n_neighbors=6, score=0.425951 -   1.9s\n",
      "[CV] feature_selection__k=12, kneighbors__n_neighbors=10 .............\n",
      "[CV]  feature_selection__k=12, kneighbors__n_neighbors=10, score=0.439797 -   2.2s\n",
      "[CV] feature_selection__k=12, kneighbors__n_neighbors=10 .............\n",
      "[CV]  feature_selection__k=12, kneighbors__n_neighbors=10, score=0.449975 -   2.3s\n",
      "[CV] feature_selection__k=12, kneighbors__n_neighbors=10 .............\n",
      "[CV]  feature_selection__k=12, kneighbors__n_neighbors=10, score=0.451977 -   2.1s\n",
      "[CV] feature_selection__k=15, kneighbors__n_neighbors=3 ..............\n",
      "[CV]  feature_selection__k=15, kneighbors__n_neighbors=3, score=0.363321 -   3.0s\n",
      "[CV] feature_selection__k=15, kneighbors__n_neighbors=3 ..............\n",
      "[CV]  feature_selection__k=15, kneighbors__n_neighbors=3, score=0.379396 -   3.0s\n",
      "[CV] feature_selection__k=15, kneighbors__n_neighbors=3 ..............\n",
      "[CV]  feature_selection__k=15, kneighbors__n_neighbors=3, score=0.374520 -   3.9s\n",
      "[CV] feature_selection__k=15, kneighbors__n_neighbors=6 ..............\n",
      "[CV]  feature_selection__k=15, kneighbors__n_neighbors=6, score=0.416533 -   4.3s\n",
      "[CV] feature_selection__k=15, kneighbors__n_neighbors=6 ..............\n",
      "[CV]  feature_selection__k=15, kneighbors__n_neighbors=6, score=0.420258 -   3.7s\n",
      "[CV] feature_selection__k=15, kneighbors__n_neighbors=6 ..............\n",
      "[CV]  feature_selection__k=15, kneighbors__n_neighbors=6, score=0.418515 -   3.5s\n",
      "[CV] feature_selection__k=15, kneighbors__n_neighbors=10 .............\n",
      "[CV]  feature_selection__k=15, kneighbors__n_neighbors=10, score=0.440168 -   4.3s\n",
      "[CV] feature_selection__k=15, kneighbors__n_neighbors=10 .............\n",
      "[CV]  feature_selection__k=15, kneighbors__n_neighbors=10, score=0.443784 -   4.6s\n",
      "[CV] feature_selection__k=15, kneighbors__n_neighbors=10 .............\n",
      "[CV]  feature_selection__k=15, kneighbors__n_neighbors=10, score=0.444169 -   4.1s\n"
     ]
    },
    {
     "name": "stderr",
     "output_type": "stream",
     "text": [
      "[Parallel(n_jobs=1)]: Done  27 out of  27 | elapsed:   58.3s finished\n"
     ]
    },
    {
     "data": {
      "text/plain": [
       "GridSearchCV(cv=None, error_score='raise',\n",
       "       estimator=Pipeline(memory=None,\n",
       "     steps=[('feature_selection', SelectKBest(k=10, score_func=<function f_classif at 0x10baf9bf8>)), ('kneighbors', KNeighborsClassifier(algorithm='auto', leaf_size=30, metric='minkowski',\n",
       "           metric_params=None, n_jobs=1, n_neighbors=5, p=2,\n",
       "           weights='uniform'))]),\n",
       "       fit_params={}, iid=True, n_jobs=1,\n",
       "       param_grid={'feature_selection__k': [8, 12, 15], 'kneighbors__n_neighbors': [3, 6, 10]},\n",
       "       pre_dispatch='2*n_jobs', refit=True, scoring=None, verbose=3)"
      ]
     },
     "execution_count": 186,
     "metadata": {},
     "output_type": "execute_result"
    }
   ],
   "source": [
    "grid_knn1 = GridSearchCV(pipeline_knn1, param_grid=parameters_knn1, verbose=3)\n",
    "grid_knn1.fit(X_train, y_train)"
   ]
  },
  {
   "cell_type": "code",
   "execution_count": 187,
   "metadata": {},
   "outputs": [
    {
     "name": "stdout",
     "output_type": "stream",
     "text": [
      "Pipeline(memory=None,\n",
      "     steps=[('feature_selection', SelectKBest(k=12, score_func=<function f_classif at 0x10baf9bf8>)), ('kneighbors', KNeighborsClassifier(algorithm='auto', leaf_size=30, metric='minkowski',\n",
      "           metric_params=None, n_jobs=1, n_neighbors=10, p=2,\n",
      "           weights='uniform'))])\n",
      "                     precision    recall  f1-score   support\n",
      "\n",
      " blues & blues rock       0.36      0.38      0.37        91\n",
      "          classical       0.68      0.88      0.77        97\n",
      "            country       0.28      0.28      0.28       119\n",
      "              dance       0.44      0.57      0.49       198\n",
      "        electronica       0.40      0.30      0.34       125\n",
      "               funk       0.36      0.30      0.33        50\n",
      "              indie       0.18      0.12      0.15       161\n",
      "international/world       0.67      0.28      0.40        99\n",
      "               jazz       0.43      0.51      0.46       194\n",
      "              latin       0.34      0.24      0.28       124\n",
      "             oldies       0.39      0.16      0.23        67\n",
      "                pop       0.44      0.30      0.36        80\n",
      "                r&b       0.25      0.28      0.27       226\n",
      "                rap       0.55      0.63      0.59       237\n",
      "       reggae & ska       0.55      0.27      0.36        79\n",
      "               rock       0.56      0.68      0.61       638\n",
      "  singer-songwriter       0.24      0.17      0.20       107\n",
      "\n",
      "        avg / total       0.44      0.45      0.43      2692\n",
      "\n"
     ]
    }
   ],
   "source": [
    "print(grid_knn1.best_estimator_)\n",
    "predictions_knn1 = grid_knn1.predict(X_test)\n",
    "print(classification_report(y_test, predictions_knn1))"
   ]
  },
  {
   "cell_type": "markdown",
   "metadata": {},
   "source": [
    "### kNN1bis on X_scale and y (no selectKBest)"
   ]
  },
  {
   "cell_type": "code",
   "execution_count": 184,
   "metadata": {},
   "outputs": [
    {
     "name": "stdout",
     "output_type": "stream",
     "text": [
      "                     precision    recall  f1-score   support\n",
      "\n",
      " blues & blues rock       0.37      0.35      0.36        91\n",
      "          classical       0.74      0.85      0.79        97\n",
      "            country       0.27      0.29      0.28       119\n",
      "              dance       0.40      0.57      0.47       198\n",
      "        electronica       0.38      0.26      0.31       125\n",
      "               funk       0.41      0.38      0.40        50\n",
      "              indie       0.19      0.16      0.17       161\n",
      "international/world       0.61      0.30      0.41        99\n",
      "               jazz       0.38      0.53      0.44       194\n",
      "              latin       0.36      0.24      0.29       124\n",
      "             oldies       0.32      0.15      0.20        67\n",
      "                pop       0.45      0.26      0.33        80\n",
      "                r&b       0.28      0.29      0.29       226\n",
      "                rap       0.59      0.67      0.62       237\n",
      "       reggae & ska       0.87      0.25      0.39        79\n",
      "               rock       0.55      0.64      0.59       638\n",
      "  singer-songwriter       0.22      0.12      0.16       107\n",
      "\n",
      "        avg / total       0.44      0.45      0.43      2692\n",
      "\n"
     ]
    }
   ],
   "source": [
    "X_train, X_test, y_train, y_test = train_test_split(X_scale, y, test_size=0.1, random_state=101)\n",
    "knn1bis = KNeighborsClassifier(n_neighbors=10)\n",
    "knn1bis.fit(X_train, y_train)\n",
    "predictions_knn1bis = knn1bis.predict(X_test)\n",
    "print(classification_report(y_test, predictions_knn1bis))"
   ]
  },
  {
   "cell_type": "markdown",
   "metadata": {},
   "source": [
    "Same results as above"
   ]
  },
  {
   "cell_type": "code",
   "execution_count": null,
   "metadata": {},
   "outputs": [],
   "source": []
  },
  {
   "cell_type": "code",
   "execution_count": null,
   "metadata": {},
   "outputs": [],
   "source": []
  },
  {
   "cell_type": "code",
   "execution_count": null,
   "metadata": {},
   "outputs": [],
   "source": []
  },
  {
   "cell_type": "markdown",
   "metadata": {},
   "source": [
    "### kNN2 on X_smoteen and y_smoteen"
   ]
  },
  {
   "cell_type": "code",
   "execution_count": 117,
   "metadata": {},
   "outputs": [],
   "source": [
    "X_train, X_test, y_train, y_test = train_test_split(X_smoteen, y_smoteen, test_size=0.1, random_state=101)\n",
    "knn2 = KNeighborsClassifier()\n",
    "selector2 = SelectKBest()\n",
    "steps_knn2 = [('feature_selection', selector2), ('kneighbors', knn2)]\n",
    "parameters_knn2 = dict(feature_selection__k=[8,12,15], kneighbors__n_neighbors=[3,6,10])\n",
    "pipeline_knn2 = Pipeline(steps_knn2)"
   ]
  },
  {
   "cell_type": "code",
   "execution_count": 118,
   "metadata": {},
   "outputs": [
    {
     "name": "stdout",
     "output_type": "stream",
     "text": [
      "Fitting 3 folds for each of 9 candidates, totalling 27 fits\n",
      "[CV] feature_selection__k=8, kneighbors__n_neighbors=3 ...............\n",
      "[CV]  feature_selection__k=8, kneighbors__n_neighbors=3, score=0.749527 -   3.2s\n",
      "[CV] feature_selection__k=8, kneighbors__n_neighbors=3 ...............\n"
     ]
    },
    {
     "name": "stderr",
     "output_type": "stream",
     "text": [
      "[Parallel(n_jobs=1)]: Done   1 out of   1 | elapsed:    3.3s remaining:    0.0s\n"
     ]
    },
    {
     "name": "stdout",
     "output_type": "stream",
     "text": [
      "[CV]  feature_selection__k=8, kneighbors__n_neighbors=3, score=0.742071 -   3.5s\n",
      "[CV] feature_selection__k=8, kneighbors__n_neighbors=3 ...............\n"
     ]
    },
    {
     "name": "stderr",
     "output_type": "stream",
     "text": [
      "[Parallel(n_jobs=1)]: Done   2 out of   2 | elapsed:    6.8s remaining:    0.0s\n"
     ]
    },
    {
     "name": "stdout",
     "output_type": "stream",
     "text": [
      "[CV]  feature_selection__k=8, kneighbors__n_neighbors=3, score=0.742997 -   3.4s\n",
      "[CV] feature_selection__k=8, kneighbors__n_neighbors=6 ...............\n",
      "[CV]  feature_selection__k=8, kneighbors__n_neighbors=6, score=0.693740 -   5.1s\n",
      "[CV] feature_selection__k=8, kneighbors__n_neighbors=6 ...............\n",
      "[CV]  feature_selection__k=8, kneighbors__n_neighbors=6, score=0.685705 -   4.8s\n",
      "[CV] feature_selection__k=8, kneighbors__n_neighbors=6 ...............\n",
      "[CV]  feature_selection__k=8, kneighbors__n_neighbors=6, score=0.688934 -   4.5s\n",
      "[CV] feature_selection__k=8, kneighbors__n_neighbors=10 ..............\n",
      "[CV]  feature_selection__k=8, kneighbors__n_neighbors=10, score=0.652078 -   5.3s\n",
      "[CV] feature_selection__k=8, kneighbors__n_neighbors=10 ..............\n",
      "[CV]  feature_selection__k=8, kneighbors__n_neighbors=10, score=0.647533 -   5.3s\n",
      "[CV] feature_selection__k=8, kneighbors__n_neighbors=10 ..............\n",
      "[CV]  feature_selection__k=8, kneighbors__n_neighbors=10, score=0.646933 -   5.9s\n",
      "[CV] feature_selection__k=12, kneighbors__n_neighbors=3 ..............\n",
      "[CV]  feature_selection__k=12, kneighbors__n_neighbors=3, score=0.893490 -  11.6s\n",
      "[CV] feature_selection__k=12, kneighbors__n_neighbors=3 ..............\n",
      "[CV]  feature_selection__k=12, kneighbors__n_neighbors=3, score=0.892476 -  10.9s\n",
      "[CV] feature_selection__k=12, kneighbors__n_neighbors=3 ..............\n",
      "[CV]  feature_selection__k=12, kneighbors__n_neighbors=3, score=0.888199 -  11.3s\n",
      "[CV] feature_selection__k=12, kneighbors__n_neighbors=6 ..............\n",
      "[CV]  feature_selection__k=12, kneighbors__n_neighbors=6, score=0.831175 -  16.6s\n",
      "[CV] feature_selection__k=12, kneighbors__n_neighbors=6 ..............\n",
      "[CV]  feature_selection__k=12, kneighbors__n_neighbors=6, score=0.826728 -  14.6s\n",
      "[CV] feature_selection__k=12, kneighbors__n_neighbors=6 ..............\n",
      "[CV]  feature_selection__k=12, kneighbors__n_neighbors=6, score=0.826000 -  17.6s\n",
      "[CV] feature_selection__k=12, kneighbors__n_neighbors=10 .............\n",
      "[CV]  feature_selection__k=12, kneighbors__n_neighbors=10, score=0.772071 -  21.3s\n",
      "[CV] feature_selection__k=12, kneighbors__n_neighbors=10 .............\n",
      "[CV]  feature_selection__k=12, kneighbors__n_neighbors=10, score=0.769362 -  20.4s\n",
      "[CV] feature_selection__k=12, kneighbors__n_neighbors=10 .............\n",
      "[CV]  feature_selection__k=12, kneighbors__n_neighbors=10, score=0.763195 -  21.5s\n",
      "[CV] feature_selection__k=15, kneighbors__n_neighbors=3 ..............\n",
      "[CV]  feature_selection__k=15, kneighbors__n_neighbors=3, score=0.931586 -  26.2s\n",
      "[CV] feature_selection__k=15, kneighbors__n_neighbors=3 ..............\n",
      "[CV]  feature_selection__k=15, kneighbors__n_neighbors=3, score=0.930969 -  29.0s\n",
      "[CV] feature_selection__k=15, kneighbors__n_neighbors=3 ..............\n",
      "[CV]  feature_selection__k=15, kneighbors__n_neighbors=3, score=0.932520 -  27.3s\n",
      "[CV] feature_selection__k=15, kneighbors__n_neighbors=6 ..............\n",
      "[CV]  feature_selection__k=15, kneighbors__n_neighbors=6, score=0.871018 -  38.2s\n",
      "[CV] feature_selection__k=15, kneighbors__n_neighbors=6 ..............\n",
      "[CV]  feature_selection__k=15, kneighbors__n_neighbors=6, score=0.867111 -  40.0s\n",
      "[CV] feature_selection__k=15, kneighbors__n_neighbors=6 ..............\n",
      "[CV]  feature_selection__k=15, kneighbors__n_neighbors=6, score=0.867716 -  40.0s\n",
      "[CV] feature_selection__k=15, kneighbors__n_neighbors=10 .............\n",
      "[CV]  feature_selection__k=15, kneighbors__n_neighbors=10, score=0.807954 -  48.1s\n",
      "[CV] feature_selection__k=15, kneighbors__n_neighbors=10 .............\n",
      "[CV]  feature_selection__k=15, kneighbors__n_neighbors=10, score=0.804110 -  51.4s\n",
      "[CV] feature_selection__k=15, kneighbors__n_neighbors=10 .............\n",
      "[CV]  feature_selection__k=15, kneighbors__n_neighbors=10, score=0.803090 -  45.4s\n"
     ]
    },
    {
     "name": "stderr",
     "output_type": "stream",
     "text": [
      "[Parallel(n_jobs=1)]: Done  27 out of  27 | elapsed:  8.9min finished\n"
     ]
    },
    {
     "data": {
      "text/plain": [
       "GridSearchCV(cv=None, error_score='raise',\n",
       "       estimator=Pipeline(memory=None,\n",
       "     steps=[('feature_selection', SelectKBest(k=10, score_func=<function f_classif at 0x10baf9bf8>)), ('kneighbors', KNeighborsClassifier(algorithm='auto', leaf_size=30, metric='minkowski',\n",
       "           metric_params=None, n_jobs=1, n_neighbors=5, p=2,\n",
       "           weights='uniform'))]),\n",
       "       fit_params={}, iid=True, n_jobs=1,\n",
       "       param_grid={'feature_selection__k': [8, 12, 15], 'kneighbors__n_neighbors': [3, 6, 10]},\n",
       "       pre_dispatch='2*n_jobs', refit=True, scoring=None, verbose=3)"
      ]
     },
     "execution_count": 118,
     "metadata": {},
     "output_type": "execute_result"
    }
   ],
   "source": [
    "grid_knn2 = GridSearchCV(pipeline_knn2, param_grid=parameters_knn2, verbose=3)\n",
    "grid_knn2.fit(X_train, y_train)"
   ]
  },
  {
   "cell_type": "code",
   "execution_count": 119,
   "metadata": {},
   "outputs": [
    {
     "name": "stdout",
     "output_type": "stream",
     "text": [
      "Pipeline(memory=None,\n",
      "     steps=[('feature_selection', SelectKBest(k=15, score_func=<function f_classif at 0x10baf9bf8>)), ('kneighbors', KNeighborsClassifier(algorithm='auto', leaf_size=30, metric='minkowski',\n",
      "           metric_params=None, n_jobs=1, n_neighbors=3, p=2,\n",
      "           weights='uniform'))])\n",
      "                     precision    recall  f1-score   support\n",
      "\n",
      " blues & blues rock       0.97      0.98      0.97       560\n",
      "          classical       0.99      1.00      0.99       654\n",
      "            country       0.95      1.00      0.97       586\n",
      "              dance       0.97      0.96      0.96       486\n",
      "        electronica       0.96      0.97      0.97       615\n",
      "               funk       0.97      0.99      0.98       631\n",
      "              indie       0.94      0.94      0.94       507\n",
      "international/world       0.97      0.99      0.98       633\n",
      "               jazz       0.99      0.97      0.98       498\n",
      "              latin       0.97      0.99      0.98       650\n",
      "             oldies       0.98      1.00      0.99       662\n",
      "                pop       0.95      0.97      0.96       588\n",
      "                r&b       0.95      0.91      0.93       443\n",
      "                rap       0.98      0.96      0.97       532\n",
      "       reggae & ska       0.99      0.99      0.99       622\n",
      "               rock       1.00      0.44      0.61        84\n",
      "  singer-songwriter       0.98      0.98      0.98       593\n",
      "\n",
      "        avg / total       0.97      0.97      0.97      9344\n",
      "\n"
     ]
    }
   ],
   "source": [
    "print(grid_knn2.best_estimator_)\n",
    "predictions_knn2 = grid_knn2.predict(X_test)\n",
    "print(classification_report(y_test, predictions_knn2))"
   ]
  },
  {
   "cell_type": "markdown",
   "metadata": {},
   "source": [
    "We can notice that the resampled data gives way better results. We will keep only this kNN classifier as the first result is too low. However we can note the computation time increased significantly: so we will reduce some of the parameters later on."
   ]
  },
  {
   "cell_type": "markdown",
   "metadata": {},
   "source": [
    "NOTE: score is too high, probably an issue"
   ]
  },
  {
   "cell_type": "markdown",
   "metadata": {},
   "source": [
    "Let's have a look at cross validation to check if our sample had an influence on the score"
   ]
  },
  {
   "cell_type": "code",
   "execution_count": 122,
   "metadata": {},
   "outputs": [
    {
     "name": "stdout",
     "output_type": "stream",
     "text": [
      "Fitting 3 folds for each of 9 candidates, totalling 27 fits\n",
      "[CV] feature_selection__k=8, kneighbors__n_neighbors=3 ...............\n",
      "[CV]  feature_selection__k=8, kneighbors__n_neighbors=3, score=0.721676 -   2.2s\n",
      "[CV] feature_selection__k=8, kneighbors__n_neighbors=3 ...............\n"
     ]
    },
    {
     "name": "stderr",
     "output_type": "stream",
     "text": [
      "[Parallel(n_jobs=1)]: Done   1 out of   1 | elapsed:    2.2s remaining:    0.0s\n"
     ]
    },
    {
     "name": "stdout",
     "output_type": "stream",
     "text": [
      "[CV]  feature_selection__k=8, kneighbors__n_neighbors=3, score=0.714647 -   2.6s\n",
      "[CV] feature_selection__k=8, kneighbors__n_neighbors=3 ...............\n"
     ]
    },
    {
     "name": "stderr",
     "output_type": "stream",
     "text": [
      "[Parallel(n_jobs=1)]: Done   2 out of   2 | elapsed:    4.8s remaining:    0.0s\n"
     ]
    },
    {
     "name": "stdout",
     "output_type": "stream",
     "text": [
      "[CV]  feature_selection__k=8, kneighbors__n_neighbors=3, score=0.719276 -   2.2s\n",
      "[CV] feature_selection__k=8, kneighbors__n_neighbors=6 ...............\n",
      "[CV]  feature_selection__k=8, kneighbors__n_neighbors=6, score=0.675884 -   2.8s\n",
      "[CV] feature_selection__k=8, kneighbors__n_neighbors=6 ...............\n",
      "[CV]  feature_selection__k=8, kneighbors__n_neighbors=6, score=0.670774 -   2.9s\n",
      "[CV] feature_selection__k=8, kneighbors__n_neighbors=6 ...............\n",
      "[CV]  feature_selection__k=8, kneighbors__n_neighbors=6, score=0.673867 -   3.0s\n",
      "[CV] feature_selection__k=8, kneighbors__n_neighbors=10 ..............\n",
      "[CV]  feature_selection__k=8, kneighbors__n_neighbors=10, score=0.645904 -   3.5s\n",
      "[CV] feature_selection__k=8, kneighbors__n_neighbors=10 ..............\n",
      "[CV]  feature_selection__k=8, kneighbors__n_neighbors=10, score=0.638622 -   3.7s\n",
      "[CV] feature_selection__k=8, kneighbors__n_neighbors=10 ..............\n",
      "[CV]  feature_selection__k=8, kneighbors__n_neighbors=10, score=0.641587 -   3.5s\n",
      "[CV] feature_selection__k=12, kneighbors__n_neighbors=3 ..............\n",
      "[CV]  feature_selection__k=12, kneighbors__n_neighbors=3, score=0.880323 -   7.8s\n",
      "[CV] feature_selection__k=12, kneighbors__n_neighbors=3 ..............\n",
      "[CV]  feature_selection__k=12, kneighbors__n_neighbors=3, score=0.874724 -   8.4s\n",
      "[CV] feature_selection__k=12, kneighbors__n_neighbors=3 ..............\n",
      "[CV]  feature_selection__k=12, kneighbors__n_neighbors=3, score=0.870920 -   8.2s\n",
      "[CV] feature_selection__k=12, kneighbors__n_neighbors=6 ..............\n",
      "[CV]  feature_selection__k=12, kneighbors__n_neighbors=6, score=0.819039 -  11.7s\n",
      "[CV] feature_selection__k=12, kneighbors__n_neighbors=6 ..............\n",
      "[CV]  feature_selection__k=12, kneighbors__n_neighbors=6, score=0.812869 -  12.5s\n",
      "[CV] feature_selection__k=12, kneighbors__n_neighbors=6 ..............\n",
      "[CV]  feature_selection__k=12, kneighbors__n_neighbors=6, score=0.812824 -  13.2s\n",
      "[CV] feature_selection__k=12, kneighbors__n_neighbors=10 .............\n",
      "[CV]  feature_selection__k=12, kneighbors__n_neighbors=10, score=0.764659 -  14.8s\n",
      "[CV] feature_selection__k=12, kneighbors__n_neighbors=10 .............\n",
      "[CV]  feature_selection__k=12, kneighbors__n_neighbors=10, score=0.762815 -  14.2s\n",
      "[CV] feature_selection__k=12, kneighbors__n_neighbors=10 .............\n",
      "[CV]  feature_selection__k=12, kneighbors__n_neighbors=10, score=0.759907 -  13.5s\n",
      "[CV] feature_selection__k=15, kneighbors__n_neighbors=3 ..............\n",
      "[CV]  feature_selection__k=15, kneighbors__n_neighbors=3, score=0.921861 -  22.7s\n",
      "[CV] feature_selection__k=15, kneighbors__n_neighbors=3 ..............\n",
      "[CV]  feature_selection__k=15, kneighbors__n_neighbors=3, score=0.918075 -  22.9s\n",
      "[CV] feature_selection__k=15, kneighbors__n_neighbors=3 ..............\n",
      "[CV]  feature_selection__k=15, kneighbors__n_neighbors=3, score=0.921789 -  16.7s\n",
      "[CV] feature_selection__k=15, kneighbors__n_neighbors=6 ..............\n",
      "[CV]  feature_selection__k=15, kneighbors__n_neighbors=6, score=0.858249 -  31.8s\n",
      "[CV] feature_selection__k=15, kneighbors__n_neighbors=6 ..............\n",
      "[CV]  feature_selection__k=15, kneighbors__n_neighbors=6, score=0.857183 -  30.4s\n",
      "[CV] feature_selection__k=15, kneighbors__n_neighbors=6 ..............\n",
      "[CV]  feature_selection__k=15, kneighbors__n_neighbors=6, score=0.862529 -  27.5s\n",
      "[CV] feature_selection__k=15, kneighbors__n_neighbors=10 .............\n",
      "[CV]  feature_selection__k=15, kneighbors__n_neighbors=10, score=0.803387 -  38.1s\n",
      "[CV] feature_selection__k=15, kneighbors__n_neighbors=10 .............\n",
      "[CV]  feature_selection__k=15, kneighbors__n_neighbors=10, score=0.801108 -  36.1s\n",
      "[CV] feature_selection__k=15, kneighbors__n_neighbors=10 .............\n",
      "[CV]  feature_selection__k=15, kneighbors__n_neighbors=10, score=0.804874 -  33.7s\n"
     ]
    },
    {
     "name": "stderr",
     "output_type": "stream",
     "text": [
      "[Parallel(n_jobs=1)]: Done  27 out of  27 | elapsed:  6.5min finished\n"
     ]
    },
    {
     "name": "stdout",
     "output_type": "stream",
     "text": [
      "Fitting 3 folds for each of 9 candidates, totalling 27 fits\n",
      "[CV] feature_selection__k=8, kneighbors__n_neighbors=3 ...............\n",
      "[CV]  feature_selection__k=8, kneighbors__n_neighbors=3, score=0.763334 -   2.9s\n",
      "[CV] feature_selection__k=8, kneighbors__n_neighbors=3 ...............\n"
     ]
    },
    {
     "name": "stderr",
     "output_type": "stream",
     "text": [
      "[Parallel(n_jobs=1)]: Done   1 out of   1 | elapsed:    2.9s remaining:    0.0s\n"
     ]
    },
    {
     "name": "stdout",
     "output_type": "stream",
     "text": [
      "[CV]  feature_selection__k=8, kneighbors__n_neighbors=3, score=0.734960 -   4.3s\n",
      "[CV] feature_selection__k=8, kneighbors__n_neighbors=3 ...............\n"
     ]
    },
    {
     "name": "stderr",
     "output_type": "stream",
     "text": [
      "[Parallel(n_jobs=1)]: Done   2 out of   2 | elapsed:    7.2s remaining:    0.0s\n"
     ]
    },
    {
     "name": "stdout",
     "output_type": "stream",
     "text": [
      "[CV]  feature_selection__k=8, kneighbors__n_neighbors=3, score=0.735929 -   2.6s\n",
      "[CV] feature_selection__k=8, kneighbors__n_neighbors=6 ...............\n",
      "[CV]  feature_selection__k=8, kneighbors__n_neighbors=6, score=0.698318 -   3.2s\n",
      "[CV] feature_selection__k=8, kneighbors__n_neighbors=6 ...............\n",
      "[CV]  feature_selection__k=8, kneighbors__n_neighbors=6, score=0.681784 -   4.3s\n",
      "[CV] feature_selection__k=8, kneighbors__n_neighbors=6 ...............\n",
      "[CV]  feature_selection__k=8, kneighbors__n_neighbors=6, score=0.683902 -   4.5s\n",
      "[CV] feature_selection__k=8, kneighbors__n_neighbors=10 ..............\n",
      "[CV]  feature_selection__k=8, kneighbors__n_neighbors=10, score=0.650560 -   5.6s\n",
      "[CV] feature_selection__k=8, kneighbors__n_neighbors=10 ..............\n",
      "[CV]  feature_selection__k=8, kneighbors__n_neighbors=10, score=0.645904 -   4.1s\n",
      "[CV] feature_selection__k=8, kneighbors__n_neighbors=10 ..............\n",
      "[CV]  feature_selection__k=8, kneighbors__n_neighbors=10, score=0.647090 -   3.9s\n",
      "[CV] feature_selection__k=12, kneighbors__n_neighbors=3 ..............\n",
      "[CV]  feature_selection__k=12, kneighbors__n_neighbors=3, score=0.896617 -   9.6s\n",
      "[CV] feature_selection__k=12, kneighbors__n_neighbors=3 ..............\n",
      "[CV]  feature_selection__k=12, kneighbors__n_neighbors=3, score=0.890998 -   8.6s\n",
      "[CV] feature_selection__k=12, kneighbors__n_neighbors=3 ..............\n",
      "[CV]  feature_selection__k=12, kneighbors__n_neighbors=3, score=0.888840 -  10.3s\n",
      "[CV] feature_selection__k=12, kneighbors__n_neighbors=6 ..............\n",
      "[CV]  feature_selection__k=12, kneighbors__n_neighbors=6, score=0.822250 -  15.2s\n",
      "[CV] feature_selection__k=12, kneighbors__n_neighbors=6 ..............\n",
      "[CV]  feature_selection__k=12, kneighbors__n_neighbors=6, score=0.823655 -  13.9s\n",
      "[CV] feature_selection__k=12, kneighbors__n_neighbors=6 ..............\n",
      "[CV]  feature_selection__k=12, kneighbors__n_neighbors=6, score=0.823806 -  13.6s\n",
      "[CV] feature_selection__k=12, kneighbors__n_neighbors=10 .............\n",
      "[CV]  feature_selection__k=12, kneighbors__n_neighbors=10, score=0.755308 -  17.2s\n",
      "[CV] feature_selection__k=12, kneighbors__n_neighbors=10 .............\n",
      "[CV]  feature_selection__k=12, kneighbors__n_neighbors=10, score=0.763736 -  16.6s\n",
      "[CV] feature_selection__k=12, kneighbors__n_neighbors=10 .............\n",
      "[CV]  feature_selection__k=12, kneighbors__n_neighbors=10, score=0.764071 -  18.3s\n",
      "[CV] feature_selection__k=15, kneighbors__n_neighbors=3 ..............\n",
      "[CV]  feature_selection__k=15, kneighbors__n_neighbors=3, score=0.930489 -  23.0s\n",
      "[CV] feature_selection__k=15, kneighbors__n_neighbors=3 ..............\n",
      "[CV]  feature_selection__k=15, kneighbors__n_neighbors=3, score=0.930931 -  22.6s\n",
      "[CV] feature_selection__k=15, kneighbors__n_neighbors=3 ..............\n",
      "[CV]  feature_selection__k=15, kneighbors__n_neighbors=3, score=0.935407 -  17.8s\n",
      "[CV] feature_selection__k=15, kneighbors__n_neighbors=6 ..............\n",
      "[CV]  feature_selection__k=15, kneighbors__n_neighbors=6, score=0.854999 -  32.8s\n",
      "[CV] feature_selection__k=15, kneighbors__n_neighbors=6 ..............\n",
      "[CV]  feature_selection__k=15, kneighbors__n_neighbors=6, score=0.863587 -  29.6s\n",
      "[CV] feature_selection__k=15, kneighbors__n_neighbors=6 ..............\n",
      "[CV]  feature_selection__k=15, kneighbors__n_neighbors=6, score=0.869249 -  28.2s\n",
      "[CV] feature_selection__k=15, kneighbors__n_neighbors=10 .............\n",
      "[CV]  feature_selection__k=15, kneighbors__n_neighbors=10, score=0.781073 -  32.5s\n",
      "[CV] feature_selection__k=15, kneighbors__n_neighbors=10 .............\n",
      "[CV]  feature_selection__k=15, kneighbors__n_neighbors=10, score=0.801140 -  32.5s\n",
      "[CV] feature_selection__k=15, kneighbors__n_neighbors=10 .............\n",
      "[CV]  feature_selection__k=15, kneighbors__n_neighbors=10, score=0.806383 -  37.4s\n"
     ]
    },
    {
     "name": "stderr",
     "output_type": "stream",
     "text": [
      "[Parallel(n_jobs=1)]: Done  27 out of  27 | elapsed:  6.9min finished\n"
     ]
    },
    {
     "name": "stdout",
     "output_type": "stream",
     "text": [
      "Fitting 3 folds for each of 9 candidates, totalling 27 fits\n",
      "[CV] feature_selection__k=8, kneighbors__n_neighbors=3 ...............\n",
      "[CV]  feature_selection__k=8, kneighbors__n_neighbors=3, score=0.771870 -   2.3s\n",
      "[CV] feature_selection__k=8, kneighbors__n_neighbors=3 ...............\n"
     ]
    },
    {
     "name": "stderr",
     "output_type": "stream",
     "text": [
      "[Parallel(n_jobs=1)]: Done   1 out of   1 | elapsed:    2.3s remaining:    0.0s\n"
     ]
    },
    {
     "name": "stdout",
     "output_type": "stream",
     "text": [
      "[CV]  feature_selection__k=8, kneighbors__n_neighbors=3, score=0.739254 -   2.5s\n",
      "[CV] feature_selection__k=8, kneighbors__n_neighbors=3 ...............\n"
     ]
    },
    {
     "name": "stderr",
     "output_type": "stream",
     "text": [
      "[Parallel(n_jobs=1)]: Done   2 out of   2 | elapsed:    4.9s remaining:    0.0s\n"
     ]
    },
    {
     "name": "stdout",
     "output_type": "stream",
     "text": [
      "[CV]  feature_selection__k=8, kneighbors__n_neighbors=3, score=0.737706 -   2.6s\n",
      "[CV] feature_selection__k=8, kneighbors__n_neighbors=6 ...............\n",
      "[CV]  feature_selection__k=8, kneighbors__n_neighbors=6, score=0.704896 -   3.4s\n",
      "[CV] feature_selection__k=8, kneighbors__n_neighbors=6 ...............\n",
      "[CV]  feature_selection__k=8, kneighbors__n_neighbors=6, score=0.684111 -   3.4s\n",
      "[CV] feature_selection__k=8, kneighbors__n_neighbors=6 ...............\n",
      "[CV]  feature_selection__k=8, kneighbors__n_neighbors=6, score=0.681185 -   3.0s\n",
      "[CV] feature_selection__k=8, kneighbors__n_neighbors=10 ..............\n",
      "[CV]  feature_selection__k=8, kneighbors__n_neighbors=10, score=0.653170 -   3.7s\n",
      "[CV] feature_selection__k=8, kneighbors__n_neighbors=10 ..............\n",
      "[CV]  feature_selection__k=8, kneighbors__n_neighbors=10, score=0.643657 -   3.6s\n",
      "[CV] feature_selection__k=8, kneighbors__n_neighbors=10 ..............\n",
      "[CV]  feature_selection__k=8, kneighbors__n_neighbors=10, score=0.648469 -   3.5s\n",
      "[CV] feature_selection__k=12, kneighbors__n_neighbors=3 ..............\n",
      "[CV]  feature_selection__k=12, kneighbors__n_neighbors=3, score=0.899358 -   7.3s\n",
      "[CV] feature_selection__k=12, kneighbors__n_neighbors=3 ..............\n",
      "[CV]  feature_selection__k=12, kneighbors__n_neighbors=3, score=0.894088 -   6.8s\n",
      "[CV] feature_selection__k=12, kneighbors__n_neighbors=3 ..............\n",
      "[CV]  feature_selection__k=12, kneighbors__n_neighbors=3, score=0.891855 -   7.2s\n",
      "[CV] feature_selection__k=12, kneighbors__n_neighbors=6 ..............\n",
      "[CV]  feature_selection__k=12, kneighbors__n_neighbors=6, score=0.823435 -  10.8s\n",
      "[CV] feature_selection__k=12, kneighbors__n_neighbors=6 ..............\n",
      "[CV]  feature_selection__k=12, kneighbors__n_neighbors=6, score=0.820925 -  10.6s\n",
      "[CV] feature_selection__k=12, kneighbors__n_neighbors=6 ..............\n",
      "[CV]  feature_selection__k=12, kneighbors__n_neighbors=6, score=0.824174 -  11.6s\n",
      "[CV] feature_selection__k=12, kneighbors__n_neighbors=10 .............\n",
      "[CV]  feature_selection__k=12, kneighbors__n_neighbors=10, score=0.753652 -  15.3s\n",
      "[CV] feature_selection__k=12, kneighbors__n_neighbors=10 .............\n",
      "[CV]  feature_selection__k=12, kneighbors__n_neighbors=10, score=0.761649 -  14.8s\n",
      "[CV] feature_selection__k=12, kneighbors__n_neighbors=10 .............\n",
      "[CV]  feature_selection__k=12, kneighbors__n_neighbors=10, score=0.764602 -  13.9s\n",
      "[CV] feature_selection__k=15, kneighbors__n_neighbors=3 ..............\n",
      "[CV]  feature_selection__k=15, kneighbors__n_neighbors=3, score=0.931461 -  19.1s\n",
      "[CV] feature_selection__k=15, kneighbors__n_neighbors=3 ..............\n",
      "[CV]  feature_selection__k=15, kneighbors__n_neighbors=3, score=0.934101 -  25.4s\n",
      "[CV] feature_selection__k=15, kneighbors__n_neighbors=3 ..............\n",
      "[CV]  feature_selection__k=15, kneighbors__n_neighbors=3, score=0.939424 -  15.0s\n",
      "[CV] feature_selection__k=15, kneighbors__n_neighbors=6 ..............\n",
      "[CV]  feature_selection__k=15, kneighbors__n_neighbors=6, score=0.856220 -  25.8s\n",
      "[CV] feature_selection__k=15, kneighbors__n_neighbors=6 ..............\n",
      "[CV]  feature_selection__k=15, kneighbors__n_neighbors=6, score=0.865634 -  29.8s\n",
      "[CV] feature_selection__k=15, kneighbors__n_neighbors=6 ..............\n",
      "[CV]  feature_selection__k=15, kneighbors__n_neighbors=6, score=0.870218 -  28.7s\n",
      "[CV] feature_selection__k=15, kneighbors__n_neighbors=10 .............\n",
      "[CV]  feature_selection__k=15, kneighbors__n_neighbors=10, score=0.782183 -  36.6s\n",
      "[CV] feature_selection__k=15, kneighbors__n_neighbors=10 .............\n",
      "[CV]  feature_selection__k=15, kneighbors__n_neighbors=10, score=0.799013 -  40.1s\n",
      "[CV] feature_selection__k=15, kneighbors__n_neighbors=10 .............\n",
      "[CV]  feature_selection__k=15, kneighbors__n_neighbors=10, score=0.806190 -  35.6s\n"
     ]
    },
    {
     "name": "stderr",
     "output_type": "stream",
     "text": [
      "[Parallel(n_jobs=1)]: Done  27 out of  27 | elapsed:  6.4min finished\n"
     ]
    },
    {
     "name": "stdout",
     "output_type": "stream",
     "text": [
      "Fitting 3 folds for each of 9 candidates, totalling 27 fits\n",
      "[CV] feature_selection__k=8, kneighbors__n_neighbors=3 ...............\n",
      "[CV]  feature_selection__k=8, kneighbors__n_neighbors=3, score=0.769833 -   2.5s\n",
      "[CV] feature_selection__k=8, kneighbors__n_neighbors=3 ...............\n"
     ]
    },
    {
     "name": "stderr",
     "output_type": "stream",
     "text": [
      "[Parallel(n_jobs=1)]: Done   1 out of   1 | elapsed:    2.5s remaining:    0.0s\n"
     ]
    },
    {
     "name": "stdout",
     "output_type": "stream",
     "text": [
      "[CV]  feature_selection__k=8, kneighbors__n_neighbors=3, score=0.738171 -   2.2s\n",
      "[CV] feature_selection__k=8, kneighbors__n_neighbors=3 ...............\n"
     ]
    },
    {
     "name": "stderr",
     "output_type": "stream",
     "text": [
      "[Parallel(n_jobs=1)]: Done   2 out of   2 | elapsed:    4.7s remaining:    0.0s\n"
     ]
    },
    {
     "name": "stdout",
     "output_type": "stream",
     "text": [
      "[CV]  feature_selection__k=8, kneighbors__n_neighbors=3, score=0.736834 -   2.0s\n",
      "[CV] feature_selection__k=8, kneighbors__n_neighbors=6 ...............\n",
      "[CV]  feature_selection__k=8, kneighbors__n_neighbors=6, score=0.700574 -   3.1s\n",
      "[CV] feature_selection__k=8, kneighbors__n_neighbors=6 ...............\n",
      "[CV]  feature_selection__k=8, kneighbors__n_neighbors=6, score=0.683549 -   3.3s\n",
      "[CV] feature_selection__k=8, kneighbors__n_neighbors=6 ...............\n",
      "[CV]  feature_selection__k=8, kneighbors__n_neighbors=6, score=0.680154 -   3.4s\n",
      "[CV] feature_selection__k=8, kneighbors__n_neighbors=10 ..............\n",
      "[CV]  feature_selection__k=8, kneighbors__n_neighbors=10, score=0.647727 -   3.8s\n",
      "[CV] feature_selection__k=8, kneighbors__n_neighbors=10 ..............\n",
      "[CV]  feature_selection__k=8, kneighbors__n_neighbors=10, score=0.643697 -   3.8s\n",
      "[CV] feature_selection__k=8, kneighbors__n_neighbors=10 ..............\n",
      "[CV]  feature_selection__k=8, kneighbors__n_neighbors=10, score=0.643545 -   3.3s\n",
      "[CV] feature_selection__k=12, kneighbors__n_neighbors=3 ..............\n",
      "[CV]  feature_selection__k=12, kneighbors__n_neighbors=3, score=0.897356 -   7.4s\n",
      "[CV] feature_selection__k=12, kneighbors__n_neighbors=3 ..............\n",
      "[CV]  feature_selection__k=12, kneighbors__n_neighbors=3, score=0.891480 -   8.2s\n",
      "[CV] feature_selection__k=12, kneighbors__n_neighbors=3 ..............\n",
      "[CV]  feature_selection__k=12, kneighbors__n_neighbors=3, score=0.890414 -   7.9s\n",
      "[CV] feature_selection__k=12, kneighbors__n_neighbors=6 ..............\n",
      "[CV]  feature_selection__k=12, kneighbors__n_neighbors=6, score=0.822519 -  12.5s\n",
      "[CV] feature_selection__k=12, kneighbors__n_neighbors=6 ..............\n",
      "[CV]  feature_selection__k=12, kneighbors__n_neighbors=6, score=0.818357 -  12.7s\n",
      "[CV] feature_selection__k=12, kneighbors__n_neighbors=6 ..............\n",
      "[CV]  feature_selection__k=12, kneighbors__n_neighbors=6, score=0.821010 -  11.5s\n",
      "[CV] feature_selection__k=12, kneighbors__n_neighbors=10 .............\n",
      "[CV]  feature_selection__k=12, kneighbors__n_neighbors=10, score=0.753782 -  13.8s\n",
      "[CV] feature_selection__k=12, kneighbors__n_neighbors=10 .............\n",
      "[CV]  feature_selection__k=12, kneighbors__n_neighbors=10, score=0.762572 -  15.8s\n",
      "[CV] feature_selection__k=12, kneighbors__n_neighbors=10 .............\n",
      "[CV]  feature_selection__k=12, kneighbors__n_neighbors=10, score=0.761039 -  15.3s\n",
      "[CV] feature_selection__k=15, kneighbors__n_neighbors=3 ..............\n",
      "[CV]  feature_selection__k=15, kneighbors__n_neighbors=3, score=0.931183 -  22.3s\n",
      "[CV] feature_selection__k=15, kneighbors__n_neighbors=3 ..............\n",
      "[CV]  feature_selection__k=15, kneighbors__n_neighbors=3, score=0.933018 -  19.9s\n",
      "[CV] feature_selection__k=15, kneighbors__n_neighbors=3 ..............\n",
      "[CV]  feature_selection__k=15, kneighbors__n_neighbors=3, score=0.937420 -  14.9s\n",
      "[CV] feature_selection__k=15, kneighbors__n_neighbors=6 ..............\n",
      "[CV]  feature_selection__k=15, kneighbors__n_neighbors=6, score=0.855463 -  28.1s\n",
      "[CV] feature_selection__k=15, kneighbors__n_neighbors=6 ..............\n",
      "[CV]  feature_selection__k=15, kneighbors__n_neighbors=6, score=0.858490 -  31.0s\n",
      "[CV] feature_selection__k=15, kneighbors__n_neighbors=6 ..............\n",
      "[CV]  feature_selection__k=15, kneighbors__n_neighbors=6, score=0.867373 -  27.8s\n",
      "[CV] feature_selection__k=15, kneighbors__n_neighbors=10 .............\n",
      "[CV]  feature_selection__k=15, kneighbors__n_neighbors=10, score=0.782794 -  42.0s\n",
      "[CV] feature_selection__k=15, kneighbors__n_neighbors=10 .............\n",
      "[CV]  feature_selection__k=15, kneighbors__n_neighbors=10, score=0.796003 -  39.0s\n",
      "[CV] feature_selection__k=15, kneighbors__n_neighbors=10 .............\n",
      "[CV]  feature_selection__k=15, kneighbors__n_neighbors=10, score=0.806680 -  34.0s\n"
     ]
    },
    {
     "name": "stderr",
     "output_type": "stream",
     "text": [
      "[Parallel(n_jobs=1)]: Done  27 out of  27 | elapsed:  6.5min finished\n"
     ]
    },
    {
     "name": "stdout",
     "output_type": "stream",
     "text": [
      "Fitting 3 folds for each of 9 candidates, totalling 27 fits\n",
      "[CV] feature_selection__k=8, kneighbors__n_neighbors=3 ...............\n",
      "[CV]  feature_selection__k=8, kneighbors__n_neighbors=3, score=0.768978 -   2.0s\n",
      "[CV] feature_selection__k=8, kneighbors__n_neighbors=3 ...............\n"
     ]
    },
    {
     "name": "stderr",
     "output_type": "stream",
     "text": [
      "[Parallel(n_jobs=1)]: Done   1 out of   1 | elapsed:    2.0s remaining:    0.0s\n"
     ]
    },
    {
     "name": "stdout",
     "output_type": "stream",
     "text": [
      "[CV]  feature_selection__k=8, kneighbors__n_neighbors=3, score=0.738652 -   2.1s\n",
      "[CV] feature_selection__k=8, kneighbors__n_neighbors=3 ...............\n"
     ]
    },
    {
     "name": "stderr",
     "output_type": "stream",
     "text": [
      "[Parallel(n_jobs=1)]: Done   2 out of   2 | elapsed:    4.1s remaining:    0.0s\n"
     ]
    },
    {
     "name": "stdout",
     "output_type": "stream",
     "text": [
      "[CV]  feature_selection__k=8, kneighbors__n_neighbors=3, score=0.738038 -   2.0s\n",
      "[CV] feature_selection__k=8, kneighbors__n_neighbors=6 ...............\n",
      "[CV]  feature_selection__k=8, kneighbors__n_neighbors=6, score=0.700249 -   3.6s\n",
      "[CV] feature_selection__k=8, kneighbors__n_neighbors=6 ...............\n",
      "[CV]  feature_selection__k=8, kneighbors__n_neighbors=6, score=0.680419 -   3.2s\n",
      "[CV] feature_selection__k=8, kneighbors__n_neighbors=6 ...............\n",
      "[CV]  feature_selection__k=8, kneighbors__n_neighbors=6, score=0.683084 -   3.0s\n",
      "[CV] feature_selection__k=8, kneighbors__n_neighbors=10 ..............\n",
      "[CV]  feature_selection__k=8, kneighbors__n_neighbors=10, score=0.649214 -   3.3s\n",
      "[CV] feature_selection__k=8, kneighbors__n_neighbors=10 ..............\n",
      "[CV]  feature_selection__k=8, kneighbors__n_neighbors=10, score=0.644660 -   3.9s\n",
      "[CV] feature_selection__k=8, kneighbors__n_neighbors=10 ..............\n",
      "[CV]  feature_selection__k=8, kneighbors__n_neighbors=10, score=0.643385 -   4.1s\n",
      "[CV] feature_selection__k=12, kneighbors__n_neighbors=3 ..............\n",
      "[CV]  feature_selection__k=12, kneighbors__n_neighbors=3, score=0.896204 -   6.7s\n",
      "[CV] feature_selection__k=12, kneighbors__n_neighbors=3 ..............\n",
      "[CV]  feature_selection__k=12, kneighbors__n_neighbors=3, score=0.892282 -   8.5s\n",
      "[CV] feature_selection__k=12, kneighbors__n_neighbors=3 ..............\n",
      "[CV]  feature_selection__k=12, kneighbors__n_neighbors=3, score=0.891699 -   9.4s\n",
      "[CV] feature_selection__k=12, kneighbors__n_neighbors=6 ..............\n",
      "[CV]  feature_selection__k=12, kneighbors__n_neighbors=6, score=0.819170 -  14.9s\n",
      "[CV] feature_selection__k=12, kneighbors__n_neighbors=6 ..............\n",
      "[CV]  feature_selection__k=12, kneighbors__n_neighbors=6, score=0.820283 -  12.1s\n",
      "[CV] feature_selection__k=12, kneighbors__n_neighbors=6 ..............\n",
      "[CV]  feature_selection__k=12, kneighbors__n_neighbors=6, score=0.823780 -  11.5s\n",
      "[CV] feature_selection__k=12, kneighbors__n_neighbors=10 .............\n",
      "[CV]  feature_selection__k=12, kneighbors__n_neighbors=10, score=0.751164 -  14.8s\n",
      "[CV] feature_selection__k=12, kneighbors__n_neighbors=10 .............\n",
      "[CV]  feature_selection__k=12, kneighbors__n_neighbors=10, score=0.759803 -  13.4s\n",
      "[CV] feature_selection__k=12, kneighbors__n_neighbors=10 .............\n",
      "[CV]  feature_selection__k=12, kneighbors__n_neighbors=10, score=0.765013 -  16.8s\n",
      "[CV] feature_selection__k=15, kneighbors__n_neighbors=3 ..............\n",
      "[CV]  feature_selection__k=15, kneighbors__n_neighbors=3, score=0.935845 -  15.2s\n",
      "[CV] feature_selection__k=15, kneighbors__n_neighbors=3 ..............\n",
      "[CV]  feature_selection__k=15, kneighbors__n_neighbors=3, score=0.936710 -  17.0s\n",
      "[CV] feature_selection__k=15, kneighbors__n_neighbors=3 ..............\n",
      "[CV]  feature_selection__k=15, kneighbors__n_neighbors=3, score=0.938624 -  18.7s\n",
      "[CV] feature_selection__k=15, kneighbors__n_neighbors=6 ..............\n",
      "[CV]  feature_selection__k=15, kneighbors__n_neighbors=6, score=0.861619 -  25.8s\n",
      "[CV] feature_selection__k=15, kneighbors__n_neighbors=6 ..............\n",
      "[CV]  feature_selection__k=15, kneighbors__n_neighbors=6, score=0.868523 -  24.1s\n",
      "[CV] feature_selection__k=15, kneighbors__n_neighbors=6 ..............\n",
      "[CV]  feature_selection__k=15, kneighbors__n_neighbors=6, score=0.868778 -  23.6s\n",
      "[CV] feature_selection__k=15, kneighbors__n_neighbors=10 .............\n",
      "[CV]  feature_selection__k=15, kneighbors__n_neighbors=10, score=0.791085 -  33.0s\n",
      "[CV] feature_selection__k=15, kneighbors__n_neighbors=10 .............\n",
      "[CV]  feature_selection__k=15, kneighbors__n_neighbors=10, score=0.805233 -  30.2s\n",
      "[CV] feature_selection__k=15, kneighbors__n_neighbors=10 .............\n",
      "[CV]  feature_selection__k=15, kneighbors__n_neighbors=10, score=0.805515 -  35.1s\n"
     ]
    },
    {
     "name": "stderr",
     "output_type": "stream",
     "text": [
      "[Parallel(n_jobs=1)]: Done  27 out of  27 | elapsed:  6.0min finished\n"
     ]
    }
   ],
   "source": [
    "from sklearn.model_selection import cross_val_score\n",
    "scores_smoteen = cross_val_score(grid_knn2, X_smoteen, y_smoteen, cv=5)"
   ]
  },
  {
   "cell_type": "code",
   "execution_count": 124,
   "metadata": {},
   "outputs": [
    {
     "name": "stdout",
     "output_type": "stream",
     "text": [
      "[0.97240051 0.96393601 0.96644367 0.97275598 0.97044968]\n",
      "0.9691971700367988\n"
     ]
    }
   ],
   "source": [
    "print(scores_smoteen)\n",
    "print(scores_smoteen.mean())"
   ]
  },
  {
   "cell_type": "code",
   "execution_count": null,
   "metadata": {},
   "outputs": [],
   "source": []
  },
  {
   "cell_type": "markdown",
   "metadata": {},
   "source": [
    "### kNN3 on X_rock and y_rock (rock songs resampled)"
   ]
  },
  {
   "cell_type": "code",
   "execution_count": 125,
   "metadata": {},
   "outputs": [],
   "source": [
    "X_train, X_test, y_train, y_test = train_test_split(X_rock, y_rock, test_size=0.1, random_state=101)\n",
    "knn3 = KNeighborsClassifier()\n",
    "selector3 = SelectKBest()\n",
    "steps_knn3 = [('feature_selection', selector3), ('kneighbors', knn3)]\n",
    "parameters_knn3 = dict(feature_selection__k=[8,12,15], kneighbors__n_neighbors=[3,6,10])\n",
    "pipeline_knn3 = Pipeline(steps_knn3)"
   ]
  },
  {
   "cell_type": "code",
   "execution_count": 126,
   "metadata": {},
   "outputs": [
    {
     "name": "stdout",
     "output_type": "stream",
     "text": [
      "Fitting 3 folds for each of 9 candidates, totalling 27 fits\n",
      "[CV] feature_selection__k=8, kneighbors__n_neighbors=3 ...............\n",
      "[CV]  feature_selection__k=8, kneighbors__n_neighbors=3, score=0.335222 -   0.4s\n",
      "[CV] feature_selection__k=8, kneighbors__n_neighbors=3 ...............\n"
     ]
    },
    {
     "name": "stderr",
     "output_type": "stream",
     "text": [
      "[Parallel(n_jobs=1)]: Done   1 out of   1 | elapsed:    0.4s remaining:    0.0s\n"
     ]
    },
    {
     "name": "stdout",
     "output_type": "stream",
     "text": [
      "[CV]  feature_selection__k=8, kneighbors__n_neighbors=3, score=0.333721 -   0.4s\n",
      "[CV] feature_selection__k=8, kneighbors__n_neighbors=3 ...............\n"
     ]
    },
    {
     "name": "stderr",
     "output_type": "stream",
     "text": [
      "[Parallel(n_jobs=1)]: Done   2 out of   2 | elapsed:    0.9s remaining:    0.0s\n"
     ]
    },
    {
     "name": "stdout",
     "output_type": "stream",
     "text": [
      "[CV]  feature_selection__k=8, kneighbors__n_neighbors=3, score=0.339156 -   0.5s\n",
      "[CV] feature_selection__k=8, kneighbors__n_neighbors=6 ...............\n",
      "[CV]  feature_selection__k=8, kneighbors__n_neighbors=6, score=0.377361 -   0.5s\n",
      "[CV] feature_selection__k=8, kneighbors__n_neighbors=6 ...............\n",
      "[CV]  feature_selection__k=8, kneighbors__n_neighbors=6, score=0.371545 -   0.5s\n",
      "[CV] feature_selection__k=8, kneighbors__n_neighbors=6 ...............\n",
      "[CV]  feature_selection__k=8, kneighbors__n_neighbors=6, score=0.374381 -   0.6s\n",
      "[CV] feature_selection__k=8, kneighbors__n_neighbors=10 ..............\n",
      "[CV]  feature_selection__k=8, kneighbors__n_neighbors=10, score=0.389131 -   0.6s\n",
      "[CV] feature_selection__k=8, kneighbors__n_neighbors=10 ..............\n",
      "[CV]  feature_selection__k=8, kneighbors__n_neighbors=10, score=0.391621 -   0.6s\n",
      "[CV] feature_selection__k=8, kneighbors__n_neighbors=10 ..............\n",
      "[CV]  feature_selection__k=8, kneighbors__n_neighbors=10, score=0.391849 -   0.6s\n",
      "[CV] feature_selection__k=12, kneighbors__n_neighbors=3 ..............\n",
      "[CV]  feature_selection__k=12, kneighbors__n_neighbors=3, score=0.341325 -   1.4s\n",
      "[CV] feature_selection__k=12, kneighbors__n_neighbors=3 ..............\n",
      "[CV]  feature_selection__k=12, kneighbors__n_neighbors=3, score=0.345068 -   1.4s\n",
      "[CV] feature_selection__k=12, kneighbors__n_neighbors=3 ..............\n",
      "[CV]  feature_selection__k=12, kneighbors__n_neighbors=3, score=0.358370 -   1.4s\n",
      "[CV] feature_selection__k=12, kneighbors__n_neighbors=6 ..............\n",
      "[CV]  feature_selection__k=12, kneighbors__n_neighbors=6, score=0.381866 -   1.5s\n",
      "[CV] feature_selection__k=12, kneighbors__n_neighbors=6 ..............\n",
      "[CV]  feature_selection__k=12, kneighbors__n_neighbors=6, score=0.391039 -   1.5s\n",
      "[CV] feature_selection__k=12, kneighbors__n_neighbors=6 ..............\n",
      "[CV]  feature_selection__k=12, kneighbors__n_neighbors=6, score=0.392722 -   1.6s\n",
      "[CV] feature_selection__k=12, kneighbors__n_neighbors=10 .............\n",
      "[CV]  feature_selection__k=12, kneighbors__n_neighbors=10, score=0.401046 -   1.7s\n",
      "[CV] feature_selection__k=12, kneighbors__n_neighbors=10 .............\n",
      "[CV]  feature_selection__k=12, kneighbors__n_neighbors=10, score=0.405150 -   2.0s\n",
      "[CV] feature_selection__k=12, kneighbors__n_neighbors=10 .............\n",
      "[CV]  feature_selection__k=12, kneighbors__n_neighbors=10, score=0.405095 -   1.8s\n",
      "[CV] feature_selection__k=15, kneighbors__n_neighbors=3 ..............\n",
      "[CV]  feature_selection__k=15, kneighbors__n_neighbors=3, score=0.353095 -   2.4s\n",
      "[CV] feature_selection__k=15, kneighbors__n_neighbors=3 ..............\n",
      "[CV]  feature_selection__k=15, kneighbors__n_neighbors=3, score=0.353070 -   2.4s\n",
      "[CV] feature_selection__k=15, kneighbors__n_neighbors=3 ..............\n",
      "[CV]  feature_selection__k=15, kneighbors__n_neighbors=3, score=0.349927 -   2.7s\n",
      "[CV] feature_selection__k=15, kneighbors__n_neighbors=6 ..............\n",
      "[CV]  feature_selection__k=15, kneighbors__n_neighbors=6, score=0.385498 -   2.4s\n",
      "[CV] feature_selection__k=15, kneighbors__n_neighbors=6 ..............\n",
      "[CV]  feature_selection__k=15, kneighbors__n_neighbors=6, score=0.385511 -   2.2s\n",
      "[CV] feature_selection__k=15, kneighbors__n_neighbors=6 ..............\n",
      "[CV]  feature_selection__k=15, kneighbors__n_neighbors=6, score=0.383261 -   2.7s\n",
      "[CV] feature_selection__k=15, kneighbors__n_neighbors=10 .............\n",
      "[CV]  feature_selection__k=15, kneighbors__n_neighbors=10, score=0.399448 -   3.0s\n",
      "[CV] feature_selection__k=15, kneighbors__n_neighbors=10 .............\n",
      "[CV]  feature_selection__k=15, kneighbors__n_neighbors=10, score=0.405441 -   2.9s\n",
      "[CV] feature_selection__k=15, kneighbors__n_neighbors=10 .............\n",
      "[CV]  feature_selection__k=15, kneighbors__n_neighbors=10, score=0.404512 -   2.6s\n"
     ]
    },
    {
     "name": "stderr",
     "output_type": "stream",
     "text": [
      "[Parallel(n_jobs=1)]: Done  27 out of  27 | elapsed:   42.5s finished\n"
     ]
    },
    {
     "data": {
      "text/plain": [
       "GridSearchCV(cv=None, error_score='raise',\n",
       "       estimator=Pipeline(memory=None,\n",
       "     steps=[('feature_selection', SelectKBest(k=10, score_func=<function f_classif at 0x10baf9bf8>)), ('kneighbors', KNeighborsClassifier(algorithm='auto', leaf_size=30, metric='minkowski',\n",
       "           metric_params=None, n_jobs=1, n_neighbors=5, p=2,\n",
       "           weights='uniform'))]),\n",
       "       fit_params={}, iid=True, n_jobs=1,\n",
       "       param_grid={'feature_selection__k': [8, 12, 15], 'kneighbors__n_neighbors': [3, 6, 10]},\n",
       "       pre_dispatch='2*n_jobs', refit=True, scoring=None, verbose=3)"
      ]
     },
     "execution_count": 126,
     "metadata": {},
     "output_type": "execute_result"
    }
   ],
   "source": [
    "grid_knn3 = GridSearchCV(pipeline_knn3, param_grid=parameters_knn3, verbose=3)\n",
    "grid_knn3.fit(X_train, y_train)"
   ]
  },
  {
   "cell_type": "code",
   "execution_count": 127,
   "metadata": {},
   "outputs": [
    {
     "name": "stdout",
     "output_type": "stream",
     "text": [
      "Pipeline(memory=None,\n",
      "     steps=[('feature_selection', SelectKBest(k=12, score_func=<function f_classif at 0x10baf9bf8>)), ('kneighbors', KNeighborsClassifier(algorithm='auto', leaf_size=30, metric='minkowski',\n",
      "           metric_params=None, n_jobs=1, n_neighbors=10, p=2,\n",
      "           weights='uniform'))])\n",
      "                     precision    recall  f1-score   support\n",
      "\n",
      " blues & blues rock       0.34      0.45      0.39        87\n",
      "          classical       0.76      0.79      0.77        90\n",
      "            country       0.23      0.33      0.27       105\n",
      "              dance       0.44      0.58      0.50       202\n",
      "        electronica       0.31      0.22      0.26       122\n",
      "               funk       0.32      0.22      0.26        55\n",
      "              indie       0.21      0.21      0.21       174\n",
      "international/world       0.54      0.29      0.38        90\n",
      "               jazz       0.44      0.50      0.47       202\n",
      "              latin       0.32      0.28      0.30       104\n",
      "             oldies       0.29      0.16      0.21        50\n",
      "                pop       0.50      0.32      0.39       109\n",
      "                r&b       0.31      0.35      0.33       250\n",
      "                rap       0.54      0.69      0.60       233\n",
      "       reggae & ska       0.48      0.16      0.24        73\n",
      "               rock       0.42      0.36      0.39       246\n",
      "  singer-songwriter       0.16      0.12      0.14       100\n",
      "\n",
      "        avg / total       0.39      0.39      0.38      2292\n",
      "\n"
     ]
    }
   ],
   "source": [
    "print(grid_knn3.best_estimator_)\n",
    "predictions_knn3 = grid_knn3.predict(X_test)\n",
    "print(classification_report(y_test, predictions_knn3))"
   ]
  },
  {
   "cell_type": "markdown",
   "metadata": {},
   "source": [
    "kNN with rock samples gives even lower scores"
   ]
  },
  {
   "cell_type": "markdown",
   "metadata": {},
   "source": [
    "### kNN4 on X_smote and y_smote (rock songs resampled)"
   ]
  },
  {
   "cell_type": "code",
   "execution_count": 128,
   "metadata": {},
   "outputs": [],
   "source": [
    "X_train, X_test, y_train, y_test = train_test_split(X_smote, y_smote, test_size=0.1, random_state=101)\n",
    "knn4 = KNeighborsClassifier()\n",
    "selector4 = SelectKBest()\n",
    "steps_knn4 = [('feature_selection', selector4), ('kneighbors', knn4)]\n",
    "parameters_knn4 = dict(feature_selection__k=[8,12,15], kneighbors__n_neighbors=[3,6,10])\n",
    "pipeline_knn4 = Pipeline(steps_knn4)"
   ]
  },
  {
   "cell_type": "code",
   "execution_count": 129,
   "metadata": {},
   "outputs": [
    {
     "name": "stdout",
     "output_type": "stream",
     "text": [
      "Fitting 3 folds for each of 9 candidates, totalling 27 fits\n",
      "[CV] feature_selection__k=8, kneighbors__n_neighbors=3 ...............\n",
      "[CV]  feature_selection__k=8, kneighbors__n_neighbors=3, score=0.503677 -   1.0s\n",
      "[CV] feature_selection__k=8, kneighbors__n_neighbors=3 ...............\n"
     ]
    },
    {
     "name": "stderr",
     "output_type": "stream",
     "text": [
      "[Parallel(n_jobs=1)]: Done   1 out of   1 | elapsed:    1.0s remaining:    0.0s\n"
     ]
    },
    {
     "name": "stdout",
     "output_type": "stream",
     "text": [
      "[CV]  feature_selection__k=8, kneighbors__n_neighbors=3, score=0.506837 -   0.9s\n",
      "[CV] feature_selection__k=8, kneighbors__n_neighbors=3 ...............\n"
     ]
    },
    {
     "name": "stderr",
     "output_type": "stream",
     "text": [
      "[Parallel(n_jobs=1)]: Done   2 out of   2 | elapsed:    1.9s remaining:    0.0s\n"
     ]
    },
    {
     "name": "stdout",
     "output_type": "stream",
     "text": [
      "[CV]  feature_selection__k=8, kneighbors__n_neighbors=3, score=0.499440 -   1.0s\n",
      "[CV] feature_selection__k=8, kneighbors__n_neighbors=6 ...............\n",
      "[CV]  feature_selection__k=8, kneighbors__n_neighbors=6, score=0.485691 -   1.2s\n",
      "[CV] feature_selection__k=8, kneighbors__n_neighbors=6 ...............\n",
      "[CV]  feature_selection__k=8, kneighbors__n_neighbors=6, score=0.486685 -   1.1s\n",
      "[CV] feature_selection__k=8, kneighbors__n_neighbors=6 ...............\n",
      "[CV]  feature_selection__k=8, kneighbors__n_neighbors=6, score=0.485840 -   1.2s\n",
      "[CV] feature_selection__k=8, kneighbors__n_neighbors=10 ..............\n",
      "[CV]  feature_selection__k=8, kneighbors__n_neighbors=10, score=0.473621 -   1.3s\n",
      "[CV] feature_selection__k=8, kneighbors__n_neighbors=10 ..............\n",
      "[CV]  feature_selection__k=8, kneighbors__n_neighbors=10, score=0.475330 -   1.4s\n",
      "[CV] feature_selection__k=8, kneighbors__n_neighbors=10 ..............\n",
      "[CV]  feature_selection__k=8, kneighbors__n_neighbors=10, score=0.478240 -   1.6s\n",
      "[CV] feature_selection__k=12, kneighbors__n_neighbors=3 ..............\n",
      "[CV]  feature_selection__k=12, kneighbors__n_neighbors=3, score=0.586091 -   3.5s\n",
      "[CV] feature_selection__k=12, kneighbors__n_neighbors=3 ..............\n",
      "[CV]  feature_selection__k=12, kneighbors__n_neighbors=3, score=0.587525 -   3.6s\n",
      "[CV] feature_selection__k=12, kneighbors__n_neighbors=3 ..............\n",
      "[CV]  feature_selection__k=12, kneighbors__n_neighbors=3, score=0.593760 -   3.2s\n",
      "[CV] feature_selection__k=12, kneighbors__n_neighbors=6 ..............\n",
      "[CV]  feature_selection__k=12, kneighbors__n_neighbors=6, score=0.551159 -   4.1s\n",
      "[CV] feature_selection__k=12, kneighbors__n_neighbors=6 ..............\n",
      "[CV]  feature_selection__k=12, kneighbors__n_neighbors=6, score=0.551060 -   4.1s\n",
      "[CV] feature_selection__k=12, kneighbors__n_neighbors=6 ..............\n",
      "[CV]  feature_selection__k=12, kneighbors__n_neighbors=6, score=0.552320 -   4.1s\n",
      "[CV] feature_selection__k=12, kneighbors__n_neighbors=10 .............\n",
      "[CV]  feature_selection__k=12, kneighbors__n_neighbors=10, score=0.529177 -   4.6s\n",
      "[CV] feature_selection__k=12, kneighbors__n_neighbors=10 .............\n",
      "[CV]  feature_selection__k=12, kneighbors__n_neighbors=10, score=0.530908 -   4.6s\n",
      "[CV] feature_selection__k=12, kneighbors__n_neighbors=10 .............\n",
      "[CV]  feature_selection__k=12, kneighbors__n_neighbors=10, score=0.527120 -   4.3s\n",
      "[CV] feature_selection__k=15, kneighbors__n_neighbors=3 ..............\n",
      "[CV]  feature_selection__k=15, kneighbors__n_neighbors=3, score=0.618225 -   7.0s\n",
      "[CV] feature_selection__k=15, kneighbors__n_neighbors=3 ..............\n",
      "[CV]  feature_selection__k=15, kneighbors__n_neighbors=3, score=0.619992 -   7.1s\n",
      "[CV] feature_selection__k=15, kneighbors__n_neighbors=3 ..............\n",
      "[CV]  feature_selection__k=15, kneighbors__n_neighbors=3, score=0.620160 -   7.3s\n",
      "[CV] feature_selection__k=15, kneighbors__n_neighbors=6 ..............\n",
      "[CV]  feature_selection__k=15, kneighbors__n_neighbors=6, score=0.570983 -   8.7s\n",
      "[CV] feature_selection__k=15, kneighbors__n_neighbors=6 ..............\n",
      "[CV]  feature_selection__k=15, kneighbors__n_neighbors=6, score=0.571611 -   8.6s\n",
      "[CV] feature_selection__k=15, kneighbors__n_neighbors=6 ..............\n",
      "[CV]  feature_selection__k=15, kneighbors__n_neighbors=6, score=0.571040 -   9.3s\n",
      "[CV] feature_selection__k=15, kneighbors__n_neighbors=10 .............\n",
      "[CV]  feature_selection__k=15, kneighbors__n_neighbors=10, score=0.539169 -   8.8s\n",
      "[CV] feature_selection__k=15, kneighbors__n_neighbors=10 .............\n",
      "[CV]  feature_selection__k=15, kneighbors__n_neighbors=10, score=0.544582 -   9.8s\n",
      "[CV] feature_selection__k=15, kneighbors__n_neighbors=10 .............\n",
      "[CV]  feature_selection__k=15, kneighbors__n_neighbors=10, score=0.544480 -  10.5s\n"
     ]
    },
    {
     "name": "stderr",
     "output_type": "stream",
     "text": [
      "[Parallel(n_jobs=1)]: Done  27 out of  27 | elapsed:  2.1min finished\n"
     ]
    },
    {
     "data": {
      "text/plain": [
       "GridSearchCV(cv=None, error_score='raise',\n",
       "       estimator=Pipeline(memory=None,\n",
       "     steps=[('feature_selection', SelectKBest(k=10, score_func=<function f_classif at 0x10baf9bf8>)), ('kneighbors', KNeighborsClassifier(algorithm='auto', leaf_size=30, metric='minkowski',\n",
       "           metric_params=None, n_jobs=1, n_neighbors=5, p=2,\n",
       "           weights='uniform'))]),\n",
       "       fit_params={}, iid=True, n_jobs=1,\n",
       "       param_grid={'feature_selection__k': [8, 12, 15], 'kneighbors__n_neighbors': [3, 6, 10]},\n",
       "       pre_dispatch='2*n_jobs', refit=True, scoring=None, verbose=3)"
      ]
     },
     "execution_count": 129,
     "metadata": {},
     "output_type": "execute_result"
    }
   ],
   "source": [
    "grid_knn4 = GridSearchCV(pipeline_knn4, param_grid=parameters_knn4, verbose=3)\n",
    "grid_knn4.fit(X_train, y_train)"
   ]
  },
  {
   "cell_type": "code",
   "execution_count": 130,
   "metadata": {},
   "outputs": [
    {
     "name": "stdout",
     "output_type": "stream",
     "text": [
      "Pipeline(memory=None,\n",
      "     steps=[('feature_selection', SelectKBest(k=15, score_func=<function f_classif at 0x10baf9bf8>)), ('kneighbors', KNeighborsClassifier(algorithm='auto', leaf_size=30, metric='minkowski',\n",
      "           metric_params=None, n_jobs=1, n_neighbors=3, p=2,\n",
      "           weights='uniform'))])\n",
      "                     precision    recall  f1-score   support\n",
      "\n",
      " blues & blues rock       0.70      0.91      0.79       244\n",
      "          classical       0.87      0.92      0.90       269\n",
      "            country       0.58      0.80      0.67       251\n",
      "              dance       0.50      0.59      0.54       234\n",
      "        electronica       0.61      0.76      0.68       223\n",
      "               funk       0.73      0.97      0.83       228\n",
      "              indie       0.50      0.38      0.43       243\n",
      "international/world       0.75      0.83      0.79       247\n",
      "               jazz       0.64      0.50      0.56       221\n",
      "              latin       0.73      0.75      0.74       259\n",
      "             oldies       0.81      0.94      0.87       265\n",
      "                pop       0.66      0.82      0.73       238\n",
      "                r&b       0.38      0.13      0.19       265\n",
      "                rap       0.72      0.48      0.57       252\n",
      "       reggae & ska       0.82      0.89      0.85       242\n",
      "               rock       0.60      0.19      0.29       245\n",
      "  singer-songwriter       0.65      0.70      0.68       243\n",
      "\n",
      "        avg / total       0.66      0.68      0.65      4169\n",
      "\n"
     ]
    }
   ],
   "source": [
    "print(grid_knn4.best_estimator_)\n",
    "predictions_knn4 = grid_knn4.predict(X_test)\n",
    "print(classification_report(y_test, predictions_knn4))"
   ]
  },
  {
   "cell_type": "markdown",
   "metadata": {},
   "source": [
    "This score is interesting, let's look into it"
   ]
  },
  {
   "cell_type": "markdown",
   "metadata": {},
   "source": [
    "### Logistic Regression"
   ]
  },
  {
   "cell_type": "markdown",
   "metadata": {},
   "source": [
    "We will also use GridSearchCV for LogReg but we will include more parameters as several things might be interesting: class_weight (to balance automatically the data). Firs let's run with the imbalanced data"
   ]
  },
  {
   "cell_type": "code",
   "execution_count": 40,
   "metadata": {},
   "outputs": [],
   "source": [
    "from sklearn.linear_model import LogisticRegression"
   ]
  },
  {
   "cell_type": "markdown",
   "metadata": {},
   "source": [
    "### lr1 with X_scale and y"
   ]
  },
  {
   "cell_type": "code",
   "execution_count": 41,
   "metadata": {},
   "outputs": [],
   "source": [
    "X_train, X_test, y_train, y_test = train_test_split(X_scale, y, test_size=0.1, random_state=101)"
   ]
  },
  {
   "cell_type": "code",
   "execution_count": 42,
   "metadata": {},
   "outputs": [],
   "source": [
    "lr1 = LogisticRegression(max_iter=10000)\n",
    "selector_lr1 = SelectKBest()\n",
    "steps_lr1 = [('feature_selection', selector_lr1), ('LogReg', lr1)]\n",
    "parameters_lr1 = dict(feature_selection__k=[8, 12, 15], \n",
    "                      LogReg__solver=['newton-cg', 'sag', 'saga', 'lbfgs'],\n",
    "                      LogReg__multi_class=['ovr', 'multinomial'])\n",
    "\n",
    "pipeline_lr1 = Pipeline(steps_lr1)"
   ]
  },
  {
   "cell_type": "code",
   "execution_count": 43,
   "metadata": {},
   "outputs": [
    {
     "name": "stdout",
     "output_type": "stream",
     "text": [
      "Fitting 3 folds for each of 24 candidates, totalling 72 fits\n",
      "[CV] LogReg__multi_class=ovr, LogReg__solver=newton-cg, feature_selection__k=8 \n",
      "[CV]  LogReg__multi_class=ovr, LogReg__solver=newton-cg, feature_selection__k=8, score=0.410428 -   1.6s\n",
      "[CV] LogReg__multi_class=ovr, LogReg__solver=newton-cg, feature_selection__k=8 \n"
     ]
    },
    {
     "name": "stderr",
     "output_type": "stream",
     "text": [
      "[Parallel(n_jobs=1)]: Done   1 out of   1 | elapsed:    1.6s remaining:    0.0s\n"
     ]
    },
    {
     "name": "stdout",
     "output_type": "stream",
     "text": [
      "[CV]  LogReg__multi_class=ovr, LogReg__solver=newton-cg, feature_selection__k=8, score=0.416373 -   1.6s\n",
      "[CV] LogReg__multi_class=ovr, LogReg__solver=newton-cg, feature_selection__k=8 \n"
     ]
    },
    {
     "name": "stderr",
     "output_type": "stream",
     "text": [
      "[Parallel(n_jobs=1)]: Done   2 out of   2 | elapsed:    3.3s remaining:    0.0s\n"
     ]
    },
    {
     "name": "stdout",
     "output_type": "stream",
     "text": [
      "[CV]  LogReg__multi_class=ovr, LogReg__solver=newton-cg, feature_selection__k=8, score=0.411564 -   1.6s\n",
      "[CV] LogReg__multi_class=ovr, LogReg__solver=newton-cg, feature_selection__k=12 \n",
      "[CV]  LogReg__multi_class=ovr, LogReg__solver=newton-cg, feature_selection__k=12, score=0.424648 -   1.9s\n",
      "[CV] LogReg__multi_class=ovr, LogReg__solver=newton-cg, feature_selection__k=12 \n",
      "[CV]  LogReg__multi_class=ovr, LogReg__solver=newton-cg, feature_selection__k=12, score=0.432308 -   1.9s\n",
      "[CV] LogReg__multi_class=ovr, LogReg__solver=newton-cg, feature_selection__k=12 \n",
      "[CV]  LogReg__multi_class=ovr, LogReg__solver=newton-cg, feature_selection__k=12, score=0.433232 -   1.9s\n",
      "[CV] LogReg__multi_class=ovr, LogReg__solver=newton-cg, feature_selection__k=15 \n",
      "[CV]  LogReg__multi_class=ovr, LogReg__solver=newton-cg, feature_selection__k=15, score=0.433884 -   2.1s\n",
      "[CV] LogReg__multi_class=ovr, LogReg__solver=newton-cg, feature_selection__k=15 \n",
      "[CV]  LogReg__multi_class=ovr, LogReg__solver=newton-cg, feature_selection__k=15, score=0.435227 -   2.1s\n",
      "[CV] LogReg__multi_class=ovr, LogReg__solver=newton-cg, feature_selection__k=15 \n",
      "[CV]  LogReg__multi_class=ovr, LogReg__solver=newton-cg, feature_selection__k=15, score=0.432380 -   2.1s\n",
      "[CV] LogReg__multi_class=ovr, LogReg__solver=sag, feature_selection__k=8 \n",
      "[CV]  LogReg__multi_class=ovr, LogReg__solver=sag, feature_selection__k=8, score=0.410428 -   2.3s\n",
      "[CV] LogReg__multi_class=ovr, LogReg__solver=sag, feature_selection__k=8 \n",
      "[CV]  LogReg__multi_class=ovr, LogReg__solver=sag, feature_selection__k=8, score=0.416373 -   2.2s\n",
      "[CV] LogReg__multi_class=ovr, LogReg__solver=sag, feature_selection__k=8 \n",
      "[CV]  LogReg__multi_class=ovr, LogReg__solver=sag, feature_selection__k=8, score=0.411564 -   2.3s\n",
      "[CV] LogReg__multi_class=ovr, LogReg__solver=sag, feature_selection__k=12 \n",
      "[CV]  LogReg__multi_class=ovr, LogReg__solver=sag, feature_selection__k=12, score=0.424648 -   2.9s\n",
      "[CV] LogReg__multi_class=ovr, LogReg__solver=sag, feature_selection__k=12 \n",
      "[CV]  LogReg__multi_class=ovr, LogReg__solver=sag, feature_selection__k=12, score=0.432429 -   4.5s\n",
      "[CV] LogReg__multi_class=ovr, LogReg__solver=sag, feature_selection__k=12 \n",
      "[CV]  LogReg__multi_class=ovr, LogReg__solver=sag, feature_selection__k=12, score=0.433232 -   4.3s\n",
      "[CV] LogReg__multi_class=ovr, LogReg__solver=sag, feature_selection__k=15 \n",
      "[CV]  LogReg__multi_class=ovr, LogReg__solver=sag, feature_selection__k=15, score=0.433884 -   3.3s\n",
      "[CV] LogReg__multi_class=ovr, LogReg__solver=sag, feature_selection__k=15 \n",
      "[CV]  LogReg__multi_class=ovr, LogReg__solver=sag, feature_selection__k=15, score=0.435227 -   5.1s\n",
      "[CV] LogReg__multi_class=ovr, LogReg__solver=sag, feature_selection__k=15 \n",
      "[CV]  LogReg__multi_class=ovr, LogReg__solver=sag, feature_selection__k=15, score=0.432380 -   4.7s\n",
      "[CV] LogReg__multi_class=ovr, LogReg__solver=saga, feature_selection__k=8 \n",
      "[CV]  LogReg__multi_class=ovr, LogReg__solver=saga, feature_selection__k=8, score=0.410428 -   1.9s\n",
      "[CV] LogReg__multi_class=ovr, LogReg__solver=saga, feature_selection__k=8 \n",
      "[CV]  LogReg__multi_class=ovr, LogReg__solver=saga, feature_selection__k=8, score=0.416373 -   1.8s\n",
      "[CV] LogReg__multi_class=ovr, LogReg__solver=saga, feature_selection__k=8 \n",
      "[CV]  LogReg__multi_class=ovr, LogReg__solver=saga, feature_selection__k=8, score=0.411564 -   1.8s\n",
      "[CV] LogReg__multi_class=ovr, LogReg__solver=saga, feature_selection__k=12 \n",
      "[CV]  LogReg__multi_class=ovr, LogReg__solver=saga, feature_selection__k=12, score=0.424648 -   5.6s\n",
      "[CV] LogReg__multi_class=ovr, LogReg__solver=saga, feature_selection__k=12 \n",
      "[CV]  LogReg__multi_class=ovr, LogReg__solver=saga, feature_selection__k=12, score=0.432429 -   9.4s\n",
      "[CV] LogReg__multi_class=ovr, LogReg__solver=saga, feature_selection__k=12 \n",
      "[CV]  LogReg__multi_class=ovr, LogReg__solver=saga, feature_selection__k=12, score=0.433232 -   9.3s\n",
      "[CV] LogReg__multi_class=ovr, LogReg__solver=saga, feature_selection__k=15 \n",
      "[CV]  LogReg__multi_class=ovr, LogReg__solver=saga, feature_selection__k=15, score=0.433884 -   6.5s\n",
      "[CV] LogReg__multi_class=ovr, LogReg__solver=saga, feature_selection__k=15 \n",
      "[CV]  LogReg__multi_class=ovr, LogReg__solver=saga, feature_selection__k=15, score=0.435227 -  10.5s\n",
      "[CV] LogReg__multi_class=ovr, LogReg__solver=saga, feature_selection__k=15 \n",
      "[CV]  LogReg__multi_class=ovr, LogReg__solver=saga, feature_selection__k=15, score=0.432380 -  10.0s\n",
      "[CV] LogReg__multi_class=ovr, LogReg__solver=lbfgs, feature_selection__k=8 \n",
      "[CV]  LogReg__multi_class=ovr, LogReg__solver=lbfgs, feature_selection__k=8, score=0.410428 -   1.0s\n",
      "[CV] LogReg__multi_class=ovr, LogReg__solver=lbfgs, feature_selection__k=8 \n",
      "[CV]  LogReg__multi_class=ovr, LogReg__solver=lbfgs, feature_selection__k=8, score=0.416251 -   1.0s\n",
      "[CV] LogReg__multi_class=ovr, LogReg__solver=lbfgs, feature_selection__k=8 \n",
      "[CV]  LogReg__multi_class=ovr, LogReg__solver=lbfgs, feature_selection__k=8, score=0.411564 -   1.0s\n",
      "[CV] LogReg__multi_class=ovr, LogReg__solver=lbfgs, feature_selection__k=12 \n",
      "[CV]  LogReg__multi_class=ovr, LogReg__solver=lbfgs, feature_selection__k=12, score=0.424769 -   1.1s\n",
      "[CV] LogReg__multi_class=ovr, LogReg__solver=lbfgs, feature_selection__k=12 \n",
      "[CV]  LogReg__multi_class=ovr, LogReg__solver=lbfgs, feature_selection__k=12, score=0.432308 -   1.1s\n",
      "[CV] LogReg__multi_class=ovr, LogReg__solver=lbfgs, feature_selection__k=12 \n",
      "[CV]  LogReg__multi_class=ovr, LogReg__solver=lbfgs, feature_selection__k=12, score=0.433232 -   1.1s\n",
      "[CV] LogReg__multi_class=ovr, LogReg__solver=lbfgs, feature_selection__k=15 \n",
      "[CV]  LogReg__multi_class=ovr, LogReg__solver=lbfgs, feature_selection__k=15, score=0.433884 -   1.2s\n",
      "[CV] LogReg__multi_class=ovr, LogReg__solver=lbfgs, feature_selection__k=15 \n",
      "[CV]  LogReg__multi_class=ovr, LogReg__solver=lbfgs, feature_selection__k=15, score=0.435227 -   1.2s\n",
      "[CV] LogReg__multi_class=ovr, LogReg__solver=lbfgs, feature_selection__k=15 \n",
      "[CV]  LogReg__multi_class=ovr, LogReg__solver=lbfgs, feature_selection__k=15, score=0.432380 -   1.2s\n",
      "[CV] LogReg__multi_class=multinomial, LogReg__solver=newton-cg, feature_selection__k=8 \n",
      "[CV]  LogReg__multi_class=multinomial, LogReg__solver=newton-cg, feature_selection__k=8, score=0.411400 -   2.6s\n",
      "[CV] LogReg__multi_class=multinomial, LogReg__solver=newton-cg, feature_selection__k=8 \n",
      "[CV]  LogReg__multi_class=multinomial, LogReg__solver=newton-cg, feature_selection__k=8, score=0.420508 -   2.8s\n",
      "[CV] LogReg__multi_class=multinomial, LogReg__solver=newton-cg, feature_selection__k=8 \n",
      "[CV]  LogReg__multi_class=multinomial, LogReg__solver=newton-cg, feature_selection__k=8, score=0.415338 -   2.5s\n",
      "[CV] LogReg__multi_class=multinomial, LogReg__solver=newton-cg, feature_selection__k=12 \n",
      "[CV]  LogReg__multi_class=multinomial, LogReg__solver=newton-cg, feature_selection__k=12, score=0.432669 -   2.8s\n",
      "[CV] LogReg__multi_class=multinomial, LogReg__solver=newton-cg, feature_selection__k=12 \n",
      "[CV]  LogReg__multi_class=multinomial, LogReg__solver=newton-cg, feature_selection__k=12, score=0.441552 -   3.0s\n",
      "[CV] LogReg__multi_class=multinomial, LogReg__solver=newton-cg, feature_selection__k=12 \n",
      "[CV]  LogReg__multi_class=multinomial, LogReg__solver=newton-cg, feature_selection__k=12, score=0.438344 -   2.9s\n",
      "[CV] LogReg__multi_class=multinomial, LogReg__solver=newton-cg, feature_selection__k=15 \n",
      "[CV]  LogReg__multi_class=multinomial, LogReg__solver=newton-cg, feature_selection__k=15, score=0.438260 -   3.0s\n",
      "[CV] LogReg__multi_class=multinomial, LogReg__solver=newton-cg, feature_selection__k=15 \n",
      "[CV]  LogReg__multi_class=multinomial, LogReg__solver=newton-cg, feature_selection__k=15, score=0.444228 -   3.2s\n",
      "[CV] LogReg__multi_class=multinomial, LogReg__solver=newton-cg, feature_selection__k=15 \n",
      "[CV]  LogReg__multi_class=multinomial, LogReg__solver=newton-cg, feature_selection__k=15, score=0.438588 -   3.0s\n",
      "[CV] LogReg__multi_class=multinomial, LogReg__solver=sag, feature_selection__k=8 \n",
      "[CV]  LogReg__multi_class=multinomial, LogReg__solver=sag, feature_selection__k=8, score=0.411400 -   0.7s\n",
      "[CV] LogReg__multi_class=multinomial, LogReg__solver=sag, feature_selection__k=8 \n",
      "[CV]  LogReg__multi_class=multinomial, LogReg__solver=sag, feature_selection__k=8, score=0.420508 -   0.7s\n",
      "[CV] LogReg__multi_class=multinomial, LogReg__solver=sag, feature_selection__k=8 \n"
     ]
    },
    {
     "name": "stdout",
     "output_type": "stream",
     "text": [
      "[CV]  LogReg__multi_class=multinomial, LogReg__solver=sag, feature_selection__k=8, score=0.415338 -   0.8s\n",
      "[CV] LogReg__multi_class=multinomial, LogReg__solver=sag, feature_selection__k=12 \n",
      "[CV]  LogReg__multi_class=multinomial, LogReg__solver=sag, feature_selection__k=12, score=0.432669 -   2.4s\n",
      "[CV] LogReg__multi_class=multinomial, LogReg__solver=sag, feature_selection__k=12 \n",
      "[CV]  LogReg__multi_class=multinomial, LogReg__solver=sag, feature_selection__k=12, score=0.441430 -   3.8s\n",
      "[CV] LogReg__multi_class=multinomial, LogReg__solver=sag, feature_selection__k=12 \n",
      "[CV]  LogReg__multi_class=multinomial, LogReg__solver=sag, feature_selection__k=12, score=0.438344 -   3.5s\n",
      "[CV] LogReg__multi_class=multinomial, LogReg__solver=sag, feature_selection__k=15 \n",
      "[CV]  LogReg__multi_class=multinomial, LogReg__solver=sag, feature_selection__k=15, score=0.438260 -   2.7s\n",
      "[CV] LogReg__multi_class=multinomial, LogReg__solver=sag, feature_selection__k=15 \n",
      "[CV]  LogReg__multi_class=multinomial, LogReg__solver=sag, feature_selection__k=15, score=0.444228 -   4.2s\n",
      "[CV] LogReg__multi_class=multinomial, LogReg__solver=sag, feature_selection__k=15 \n",
      "[CV]  LogReg__multi_class=multinomial, LogReg__solver=sag, feature_selection__k=15, score=0.438588 -   3.9s\n",
      "[CV] LogReg__multi_class=multinomial, LogReg__solver=saga, feature_selection__k=8 \n",
      "[CV]  LogReg__multi_class=multinomial, LogReg__solver=saga, feature_selection__k=8, score=0.411400 -   1.3s\n",
      "[CV] LogReg__multi_class=multinomial, LogReg__solver=saga, feature_selection__k=8 \n",
      "[CV]  LogReg__multi_class=multinomial, LogReg__solver=saga, feature_selection__k=8, score=0.420508 -   1.2s\n",
      "[CV] LogReg__multi_class=multinomial, LogReg__solver=saga, feature_selection__k=8 \n",
      "[CV]  LogReg__multi_class=multinomial, LogReg__solver=saga, feature_selection__k=8, score=0.415338 -   1.1s\n",
      "[CV] LogReg__multi_class=multinomial, LogReg__solver=saga, feature_selection__k=12 \n",
      "[CV]  LogReg__multi_class=multinomial, LogReg__solver=saga, feature_selection__k=12, score=0.432669 -   5.8s\n",
      "[CV] LogReg__multi_class=multinomial, LogReg__solver=saga, feature_selection__k=12 \n",
      "[CV]  LogReg__multi_class=multinomial, LogReg__solver=saga, feature_selection__k=12, score=0.441430 -   8.7s\n",
      "[CV] LogReg__multi_class=multinomial, LogReg__solver=saga, feature_selection__k=12 \n",
      "[CV]  LogReg__multi_class=multinomial, LogReg__solver=saga, feature_selection__k=12, score=0.438223 -   8.5s\n",
      "[CV] LogReg__multi_class=multinomial, LogReg__solver=saga, feature_selection__k=15 \n",
      "[CV]  LogReg__multi_class=multinomial, LogReg__solver=saga, feature_selection__k=15, score=0.438260 -   8.0s\n",
      "[CV] LogReg__multi_class=multinomial, LogReg__solver=saga, feature_selection__k=15 \n",
      "[CV]  LogReg__multi_class=multinomial, LogReg__solver=saga, feature_selection__k=15, score=0.444228 -  12.0s\n",
      "[CV] LogReg__multi_class=multinomial, LogReg__solver=saga, feature_selection__k=15 \n",
      "[CV]  LogReg__multi_class=multinomial, LogReg__solver=saga, feature_selection__k=15, score=0.438588 -   9.8s\n",
      "[CV] LogReg__multi_class=multinomial, LogReg__solver=lbfgs, feature_selection__k=8 \n",
      "[CV]  LogReg__multi_class=multinomial, LogReg__solver=lbfgs, feature_selection__k=8, score=0.411400 -   1.7s\n",
      "[CV] LogReg__multi_class=multinomial, LogReg__solver=lbfgs, feature_selection__k=8 \n",
      "[CV]  LogReg__multi_class=multinomial, LogReg__solver=lbfgs, feature_selection__k=8, score=0.420508 -   1.8s\n",
      "[CV] LogReg__multi_class=multinomial, LogReg__solver=lbfgs, feature_selection__k=8 \n",
      "[CV]  LogReg__multi_class=multinomial, LogReg__solver=lbfgs, feature_selection__k=8, score=0.415338 -   1.7s\n",
      "[CV] LogReg__multi_class=multinomial, LogReg__solver=lbfgs, feature_selection__k=12 \n",
      "[CV]  LogReg__multi_class=multinomial, LogReg__solver=lbfgs, feature_selection__k=12, score=0.432547 -   1.9s\n",
      "[CV] LogReg__multi_class=multinomial, LogReg__solver=lbfgs, feature_selection__k=12 \n",
      "[CV]  LogReg__multi_class=multinomial, LogReg__solver=lbfgs, feature_selection__k=12, score=0.441430 -   1.8s\n",
      "[CV] LogReg__multi_class=multinomial, LogReg__solver=lbfgs, feature_selection__k=12 \n",
      "[CV]  LogReg__multi_class=multinomial, LogReg__solver=lbfgs, feature_selection__k=12, score=0.438344 -   1.9s\n",
      "[CV] LogReg__multi_class=multinomial, LogReg__solver=lbfgs, feature_selection__k=15 \n",
      "[CV]  LogReg__multi_class=multinomial, LogReg__solver=lbfgs, feature_selection__k=15, score=0.438260 -   2.0s\n",
      "[CV] LogReg__multi_class=multinomial, LogReg__solver=lbfgs, feature_selection__k=15 \n",
      "[CV]  LogReg__multi_class=multinomial, LogReg__solver=lbfgs, feature_selection__k=15, score=0.444228 -   1.9s\n",
      "[CV] LogReg__multi_class=multinomial, LogReg__solver=lbfgs, feature_selection__k=15 \n",
      "[CV]  LogReg__multi_class=multinomial, LogReg__solver=lbfgs, feature_selection__k=15, score=0.438588 -   1.9s\n"
     ]
    },
    {
     "name": "stderr",
     "output_type": "stream",
     "text": [
      "[Parallel(n_jobs=1)]: Done  72 out of  72 | elapsed:  3.9min finished\n"
     ]
    },
    {
     "data": {
      "text/plain": [
       "GridSearchCV(cv=None, error_score='raise',\n",
       "       estimator=Pipeline(memory=None,\n",
       "     steps=[('feature_selection', SelectKBest(k=10, score_func=<function f_classif at 0x10baf9bf8>)), ('LogReg', LogisticRegression(C=1.0, class_weight=None, dual=False, fit_intercept=True,\n",
       "          intercept_scaling=1, max_iter=10000, multi_class='ovr', n_jobs=1,\n",
       "          penalty='l2', random_state=None, solver='liblinear', tol=0.0001,\n",
       "          verbose=0, warm_start=False))]),\n",
       "       fit_params={}, iid=True, n_jobs=1,\n",
       "       param_grid={'feature_selection__k': [8, 12, 15], 'LogReg__solver': ['newton-cg', 'sag', 'saga', 'lbfgs'], 'LogReg__multi_class': ['ovr', 'multinomial']},\n",
       "       pre_dispatch='2*n_jobs', refit=True, scoring=None, verbose=3)"
      ]
     },
     "execution_count": 43,
     "metadata": {},
     "output_type": "execute_result"
    }
   ],
   "source": [
    "grid_lr1 = GridSearchCV(pipeline_lr1, param_grid=parameters_lr1, verbose=3)\n",
    "grid_lr1.fit(X_train, y_train)"
   ]
  },
  {
   "cell_type": "code",
   "execution_count": 44,
   "metadata": {},
   "outputs": [
    {
     "name": "stdout",
     "output_type": "stream",
     "text": [
      "Pipeline(memory=None,\n",
      "     steps=[('feature_selection', SelectKBest(k=15, score_func=<function f_classif at 0x10baf9bf8>)), ('LogReg', LogisticRegression(C=1.0, class_weight=None, dual=False, fit_intercept=True,\n",
      "          intercept_scaling=1, max_iter=10000, multi_class='multinomial',\n",
      "          n_jobs=1, penalty='l2', random_state=None, solver='newton-cg',\n",
      "          tol=0.0001, verbose=0, warm_start=False))])\n",
      "                     precision    recall  f1-score   support\n",
      "\n",
      " blues & blues rock       0.55      0.42      0.48       107\n",
      "          classical       0.70      0.87      0.77       121\n",
      "            country       0.28      0.21      0.24       106\n",
      "              dance       0.46      0.52      0.49       205\n",
      "        electronica       0.37      0.23      0.29       125\n",
      "               folk       0.00      0.00      0.00        44\n",
      "               funk       0.22      0.08      0.11        53\n",
      "              indie       0.22      0.04      0.07       179\n",
      "international/world       0.00      0.00      0.00        63\n",
      "               jazz       0.42      0.49      0.45       191\n",
      "              latin       0.39      0.30      0.34       118\n",
      "             oldies       0.41      0.27      0.33        55\n",
      "                pop       0.27      0.03      0.06        90\n",
      "                r&b       0.30      0.24      0.26       241\n",
      "                rap       0.55      0.71      0.62       245\n",
      "       reggae & ska       0.52      0.46      0.49        72\n",
      "               rock       0.46      0.75      0.57       629\n",
      "  singer-songwriter       0.25      0.28      0.27        97\n",
      "\n",
      "        avg / total       0.40      0.45      0.40      2741\n",
      "\n"
     ]
    }
   ],
   "source": [
    "print(grid_lr1.best_estimator_)\n",
    "predictions_lr1 = grid_lr1.predict(X_test)\n",
    "print(classification_report(y_test, predictions_lr1))"
   ]
  },
  {
   "cell_type": "markdown",
   "metadata": {},
   "source": [
    "Let's try the same thing ut with the balanced data"
   ]
  },
  {
   "cell_type": "markdown",
   "metadata": {},
   "source": [
    "### lr2 with X_scale and y and 'balanced' option"
   ]
  },
  {
   "cell_type": "code",
   "execution_count": 45,
   "metadata": {},
   "outputs": [],
   "source": [
    "lr2 = LogisticRegression(max_iter=10000, class_weight='balanced')\n",
    "selector_lr2 = SelectKBest()\n",
    "steps_lr2 = [('feature_selection', selector_lr2), ('LogReg', lr2)]\n",
    "parameters_lr2 = dict(feature_selection__k=[8,12,15], \n",
    "                      LogReg__solver=['newton-cg', 'sag', 'saga', 'lbfgs'],\n",
    "                      LogReg__multi_class=['ovr', 'multinomial'])\n",
    "\n",
    "pipeline_lr2 = Pipeline(steps_lr2)"
   ]
  },
  {
   "cell_type": "code",
   "execution_count": 46,
   "metadata": {},
   "outputs": [
    {
     "name": "stdout",
     "output_type": "stream",
     "text": [
      "Fitting 3 folds for each of 24 candidates, totalling 72 fits\n",
      "[CV] LogReg__multi_class=ovr, LogReg__solver=newton-cg, feature_selection__k=8 \n",
      "[CV]  LogReg__multi_class=ovr, LogReg__solver=newton-cg, feature_selection__k=8, score=0.376884 -   1.7s\n",
      "[CV] LogReg__multi_class=ovr, LogReg__solver=newton-cg, feature_selection__k=8 \n"
     ]
    },
    {
     "name": "stderr",
     "output_type": "stream",
     "text": [
      "[Parallel(n_jobs=1)]: Done   1 out of   1 | elapsed:    1.7s remaining:    0.0s\n"
     ]
    },
    {
     "name": "stdout",
     "output_type": "stream",
     "text": [
      "[CV]  LogReg__multi_class=ovr, LogReg__solver=newton-cg, feature_selection__k=8, score=0.378421 -   1.7s\n",
      "[CV] LogReg__multi_class=ovr, LogReg__solver=newton-cg, feature_selection__k=8 \n"
     ]
    },
    {
     "name": "stderr",
     "output_type": "stream",
     "text": [
      "[Parallel(n_jobs=1)]: Done   2 out of   2 | elapsed:    3.5s remaining:    0.0s\n"
     ]
    },
    {
     "name": "stdout",
     "output_type": "stream",
     "text": [
      "[CV]  LogReg__multi_class=ovr, LogReg__solver=newton-cg, feature_selection__k=8, score=0.376506 -   1.8s\n",
      "[CV] LogReg__multi_class=ovr, LogReg__solver=newton-cg, feature_selection__k=12 \n",
      "[CV]  LogReg__multi_class=ovr, LogReg__solver=newton-cg, feature_selection__k=12, score=0.398031 -   2.0s\n",
      "[CV] LogReg__multi_class=ovr, LogReg__solver=newton-cg, feature_selection__k=12 \n",
      "[CV]  LogReg__multi_class=ovr, LogReg__solver=newton-cg, feature_selection__k=12, score=0.407858 -   2.0s\n",
      "[CV] LogReg__multi_class=ovr, LogReg__solver=newton-cg, feature_selection__k=12 \n",
      "[CV]  LogReg__multi_class=ovr, LogReg__solver=newton-cg, feature_selection__k=12, score=0.393427 -   2.0s\n",
      "[CV] LogReg__multi_class=ovr, LogReg__solver=newton-cg, feature_selection__k=15 \n",
      "[CV]  LogReg__multi_class=ovr, LogReg__solver=newton-cg, feature_selection__k=15, score=0.403743 -   2.2s\n",
      "[CV] LogReg__multi_class=ovr, LogReg__solver=newton-cg, feature_selection__k=15 \n",
      "[CV]  LogReg__multi_class=ovr, LogReg__solver=newton-cg, feature_selection__k=15, score=0.407615 -   2.2s\n",
      "[CV] LogReg__multi_class=ovr, LogReg__solver=newton-cg, feature_selection__k=15 \n",
      "[CV]  LogReg__multi_class=ovr, LogReg__solver=newton-cg, feature_selection__k=15, score=0.396348 -   2.2s\n",
      "[CV] LogReg__multi_class=ovr, LogReg__solver=sag, feature_selection__k=8 \n"
     ]
    },
    {
     "name": "stderr",
     "output_type": "stream",
     "text": [
      "/anaconda3/lib/python3.6/site-packages/sklearn/linear_model/sag.py:326: ConvergenceWarning: The max_iter was reached which means the coef_ did not converge\n",
      "  \"the coef_ did not converge\", ConvergenceWarning)\n"
     ]
    },
    {
     "name": "stdout",
     "output_type": "stream",
     "text": [
      "[CV]  LogReg__multi_class=ovr, LogReg__solver=sag, feature_selection__k=8, score=0.279290 -  52.6s\n",
      "[CV] LogReg__multi_class=ovr, LogReg__solver=sag, feature_selection__k=8 \n"
     ]
    },
    {
     "name": "stderr",
     "output_type": "stream",
     "text": [
      "/anaconda3/lib/python3.6/site-packages/sklearn/linear_model/sag.py:326: ConvergenceWarning: The max_iter was reached which means the coef_ did not converge\n",
      "  \"the coef_ did not converge\", ConvergenceWarning)\n"
     ]
    },
    {
     "name": "stdout",
     "output_type": "stream",
     "text": [
      "[CV]  LogReg__multi_class=ovr, LogReg__solver=sag, feature_selection__k=8, score=0.379394 - 1.2min\n",
      "[CV] LogReg__multi_class=ovr, LogReg__solver=sag, feature_selection__k=8 \n"
     ]
    },
    {
     "name": "stderr",
     "output_type": "stream",
     "text": [
      "/anaconda3/lib/python3.6/site-packages/sklearn/linear_model/sag.py:326: ConvergenceWarning: The max_iter was reached which means the coef_ did not converge\n",
      "  \"the coef_ did not converge\", ConvergenceWarning)\n"
     ]
    },
    {
     "name": "stdout",
     "output_type": "stream",
     "text": [
      "[CV]  LogReg__multi_class=ovr, LogReg__solver=sag, feature_selection__k=8, score=0.325380 - 1.7min\n",
      "[CV] LogReg__multi_class=ovr, LogReg__solver=sag, feature_selection__k=12 \n",
      "[CV]  LogReg__multi_class=ovr, LogReg__solver=sag, feature_selection__k=12, score=0.398031 -   4.5s\n",
      "[CV] LogReg__multi_class=ovr, LogReg__solver=sag, feature_selection__k=12 \n",
      "[CV]  LogReg__multi_class=ovr, LogReg__solver=sag, feature_selection__k=12, score=0.407858 -   4.6s\n",
      "[CV] LogReg__multi_class=ovr, LogReg__solver=sag, feature_selection__k=12 \n",
      "[CV]  LogReg__multi_class=ovr, LogReg__solver=sag, feature_selection__k=12, score=0.393427 -   4.0s\n",
      "[CV] LogReg__multi_class=ovr, LogReg__solver=sag, feature_selection__k=15 \n",
      "[CV]  LogReg__multi_class=ovr, LogReg__solver=sag, feature_selection__k=15, score=0.403743 -   4.8s\n",
      "[CV] LogReg__multi_class=ovr, LogReg__solver=sag, feature_selection__k=15 \n",
      "[CV]  LogReg__multi_class=ovr, LogReg__solver=sag, feature_selection__k=15, score=0.407615 -   3.7s\n",
      "[CV] LogReg__multi_class=ovr, LogReg__solver=sag, feature_selection__k=15 \n",
      "[CV]  LogReg__multi_class=ovr, LogReg__solver=sag, feature_selection__k=15, score=0.396348 -   3.2s\n",
      "[CV] LogReg__multi_class=ovr, LogReg__solver=saga, feature_selection__k=8 \n"
     ]
    },
    {
     "name": "stderr",
     "output_type": "stream",
     "text": [
      "/anaconda3/lib/python3.6/site-packages/sklearn/linear_model/sag.py:326: ConvergenceWarning: The max_iter was reached which means the coef_ did not converge\n",
      "  \"the coef_ did not converge\", ConvergenceWarning)\n"
     ]
    },
    {
     "name": "stdout",
     "output_type": "stream",
     "text": [
      "[CV]  LogReg__multi_class=ovr, LogReg__solver=saga, feature_selection__k=8, score=0.373967 -  53.9s\n",
      "[CV] LogReg__multi_class=ovr, LogReg__solver=saga, feature_selection__k=8 \n"
     ]
    },
    {
     "name": "stderr",
     "output_type": "stream",
     "text": [
      "/anaconda3/lib/python3.6/site-packages/sklearn/linear_model/sag.py:326: ConvergenceWarning: The max_iter was reached which means the coef_ did not converge\n",
      "  \"the coef_ did not converge\", ConvergenceWarning)\n"
     ]
    },
    {
     "name": "stdout",
     "output_type": "stream",
     "text": [
      "[CV]  LogReg__multi_class=ovr, LogReg__solver=saga, feature_selection__k=8, score=0.378299 -  56.2s\n",
      "[CV] LogReg__multi_class=ovr, LogReg__solver=saga, feature_selection__k=8 \n"
     ]
    },
    {
     "name": "stderr",
     "output_type": "stream",
     "text": [
      "/anaconda3/lib/python3.6/site-packages/sklearn/linear_model/sag.py:326: ConvergenceWarning: The max_iter was reached which means the coef_ did not converge\n",
      "  \"the coef_ did not converge\", ConvergenceWarning)\n"
     ]
    },
    {
     "name": "stdout",
     "output_type": "stream",
     "text": [
      "[CV]  LogReg__multi_class=ovr, LogReg__solver=saga, feature_selection__k=8, score=0.373585 -  56.1s\n",
      "[CV] LogReg__multi_class=ovr, LogReg__solver=saga, feature_selection__k=12 \n",
      "[CV]  LogReg__multi_class=ovr, LogReg__solver=saga, feature_selection__k=12, score=0.398031 -   2.5s\n",
      "[CV] LogReg__multi_class=ovr, LogReg__solver=saga, feature_selection__k=12 \n",
      "[CV]  LogReg__multi_class=ovr, LogReg__solver=saga, feature_selection__k=12, score=0.407858 -   3.1s\n",
      "[CV] LogReg__multi_class=ovr, LogReg__solver=saga, feature_selection__k=12 \n",
      "[CV]  LogReg__multi_class=ovr, LogReg__solver=saga, feature_selection__k=12, score=0.393427 -   2.9s\n",
      "[CV] LogReg__multi_class=ovr, LogReg__solver=saga, feature_selection__k=15 \n",
      "[CV]  LogReg__multi_class=ovr, LogReg__solver=saga, feature_selection__k=15, score=0.403865 -   2.8s\n",
      "[CV] LogReg__multi_class=ovr, LogReg__solver=saga, feature_selection__k=15 \n",
      "[CV]  LogReg__multi_class=ovr, LogReg__solver=saga, feature_selection__k=15, score=0.407736 -   3.2s\n",
      "[CV] LogReg__multi_class=ovr, LogReg__solver=saga, feature_selection__k=15 \n",
      "[CV]  LogReg__multi_class=ovr, LogReg__solver=saga, feature_selection__k=15, score=0.396348 -   3.1s\n",
      "[CV] LogReg__multi_class=ovr, LogReg__solver=lbfgs, feature_selection__k=8 \n",
      "[CV]  LogReg__multi_class=ovr, LogReg__solver=lbfgs, feature_selection__k=8, score=0.376884 -   1.0s\n",
      "[CV] LogReg__multi_class=ovr, LogReg__solver=lbfgs, feature_selection__k=8 \n",
      "[CV]  LogReg__multi_class=ovr, LogReg__solver=lbfgs, feature_selection__k=8, score=0.378421 -   1.0s\n",
      "[CV] LogReg__multi_class=ovr, LogReg__solver=lbfgs, feature_selection__k=8 \n",
      "[CV]  LogReg__multi_class=ovr, LogReg__solver=lbfgs, feature_selection__k=8, score=0.376506 -   1.0s\n",
      "[CV] LogReg__multi_class=ovr, LogReg__solver=lbfgs, feature_selection__k=12 \n",
      "[CV]  LogReg__multi_class=ovr, LogReg__solver=lbfgs, feature_selection__k=12, score=0.398031 -   1.1s\n",
      "[CV] LogReg__multi_class=ovr, LogReg__solver=lbfgs, feature_selection__k=12 \n",
      "[CV]  LogReg__multi_class=ovr, LogReg__solver=lbfgs, feature_selection__k=12, score=0.407858 -   1.1s\n",
      "[CV] LogReg__multi_class=ovr, LogReg__solver=lbfgs, feature_selection__k=12 \n",
      "[CV]  LogReg__multi_class=ovr, LogReg__solver=lbfgs, feature_selection__k=12, score=0.393427 -   1.1s\n",
      "[CV] LogReg__multi_class=ovr, LogReg__solver=lbfgs, feature_selection__k=15 \n",
      "[CV]  LogReg__multi_class=ovr, LogReg__solver=lbfgs, feature_selection__k=15, score=0.403743 -   1.2s\n",
      "[CV] LogReg__multi_class=ovr, LogReg__solver=lbfgs, feature_selection__k=15 \n",
      "[CV]  LogReg__multi_class=ovr, LogReg__solver=lbfgs, feature_selection__k=15, score=0.407615 -   1.2s\n",
      "[CV] LogReg__multi_class=ovr, LogReg__solver=lbfgs, feature_selection__k=15 \n",
      "[CV]  LogReg__multi_class=ovr, LogReg__solver=lbfgs, feature_selection__k=15, score=0.396348 -   1.2s\n",
      "[CV] LogReg__multi_class=multinomial, LogReg__solver=newton-cg, feature_selection__k=8 \n",
      "[CV]  LogReg__multi_class=multinomial, LogReg__solver=newton-cg, feature_selection__k=8, score=0.356101 -   2.5s\n",
      "[CV] LogReg__multi_class=multinomial, LogReg__solver=newton-cg, feature_selection__k=8 \n",
      "[CV]  LogReg__multi_class=multinomial, LogReg__solver=newton-cg, feature_selection__k=8, score=0.359202 -   2.6s\n",
      "[CV] LogReg__multi_class=multinomial, LogReg__solver=newton-cg, feature_selection__k=8 \n",
      "[CV]  LogReg__multi_class=multinomial, LogReg__solver=newton-cg, feature_selection__k=8, score=0.364699 -   2.4s\n",
      "[CV] LogReg__multi_class=multinomial, LogReg__solver=newton-cg, feature_selection__k=12 \n",
      "[CV]  LogReg__multi_class=multinomial, LogReg__solver=newton-cg, feature_selection__k=12, score=0.388430 -   2.6s\n",
      "[CV] LogReg__multi_class=multinomial, LogReg__solver=newton-cg, feature_selection__k=12 \n",
      "[CV]  LogReg__multi_class=multinomial, LogReg__solver=newton-cg, feature_selection__k=12, score=0.390463 -   2.6s\n",
      "[CV] LogReg__multi_class=multinomial, LogReg__solver=newton-cg, feature_selection__k=12 \n",
      "[CV]  LogReg__multi_class=multinomial, LogReg__solver=newton-cg, feature_selection__k=12, score=0.382228 -   2.8s\n",
      "[CV] LogReg__multi_class=multinomial, LogReg__solver=newton-cg, feature_selection__k=15 \n",
      "[CV]  LogReg__multi_class=multinomial, LogReg__solver=newton-cg, feature_selection__k=15, score=0.394871 -   2.9s\n",
      "[CV] LogReg__multi_class=multinomial, LogReg__solver=newton-cg, feature_selection__k=15 \n",
      "[CV]  LogReg__multi_class=multinomial, LogReg__solver=newton-cg, feature_selection__k=15, score=0.394964 -   2.9s\n",
      "[CV] LogReg__multi_class=multinomial, LogReg__solver=newton-cg, feature_selection__k=15 \n",
      "[CV]  LogReg__multi_class=multinomial, LogReg__solver=newton-cg, feature_selection__k=15, score=0.389166 -   2.9s\n",
      "[CV] LogReg__multi_class=multinomial, LogReg__solver=sag, feature_selection__k=8 \n",
      "[CV]  LogReg__multi_class=multinomial, LogReg__solver=sag, feature_selection__k=8, score=0.355980 -   0.8s\n",
      "[CV] LogReg__multi_class=multinomial, LogReg__solver=sag, feature_selection__k=8 \n",
      "[CV]  LogReg__multi_class=multinomial, LogReg__solver=sag, feature_selection__k=8, score=0.359324 -   0.8s\n",
      "[CV] LogReg__multi_class=multinomial, LogReg__solver=sag, feature_selection__k=8 \n",
      "[CV]  LogReg__multi_class=multinomial, LogReg__solver=sag, feature_selection__k=8, score=0.364699 -   0.9s\n",
      "[CV] LogReg__multi_class=multinomial, LogReg__solver=sag, feature_selection__k=12 \n",
      "[CV]  LogReg__multi_class=multinomial, LogReg__solver=sag, feature_selection__k=12, score=0.388430 -   2.0s\n",
      "[CV] LogReg__multi_class=multinomial, LogReg__solver=sag, feature_selection__k=12 \n",
      "[CV]  LogReg__multi_class=multinomial, LogReg__solver=sag, feature_selection__k=12, score=0.390463 -   3.0s\n",
      "[CV] LogReg__multi_class=multinomial, LogReg__solver=sag, feature_selection__k=12 \n",
      "[CV]  LogReg__multi_class=multinomial, LogReg__solver=sag, feature_selection__k=12, score=0.382228 -   2.8s\n",
      "[CV] LogReg__multi_class=multinomial, LogReg__solver=sag, feature_selection__k=15 \n",
      "[CV]  LogReg__multi_class=multinomial, LogReg__solver=sag, feature_selection__k=15, score=0.394871 -   2.1s\n",
      "[CV] LogReg__multi_class=multinomial, LogReg__solver=sag, feature_selection__k=15 \n",
      "[CV]  LogReg__multi_class=multinomial, LogReg__solver=sag, feature_selection__k=15, score=0.394964 -   3.4s\n",
      "[CV] LogReg__multi_class=multinomial, LogReg__solver=sag, feature_selection__k=15 \n",
      "[CV]  LogReg__multi_class=multinomial, LogReg__solver=sag, feature_selection__k=15, score=0.389044 -   3.1s\n",
      "[CV] LogReg__multi_class=multinomial, LogReg__solver=saga, feature_selection__k=8 \n",
      "[CV]  LogReg__multi_class=multinomial, LogReg__solver=saga, feature_selection__k=8, score=0.355980 -   1.1s\n",
      "[CV] LogReg__multi_class=multinomial, LogReg__solver=saga, feature_selection__k=8 \n",
      "[CV]  LogReg__multi_class=multinomial, LogReg__solver=saga, feature_selection__k=8, score=0.359202 -   1.0s\n",
      "[CV] LogReg__multi_class=multinomial, LogReg__solver=saga, feature_selection__k=8 \n",
      "[CV]  LogReg__multi_class=multinomial, LogReg__solver=saga, feature_selection__k=8, score=0.364699 -   0.9s\n",
      "[CV] LogReg__multi_class=multinomial, LogReg__solver=saga, feature_selection__k=12 \n",
      "[CV]  LogReg__multi_class=multinomial, LogReg__solver=saga, feature_selection__k=12, score=0.388551 -   4.7s\n",
      "[CV] LogReg__multi_class=multinomial, LogReg__solver=saga, feature_selection__k=12 \n",
      "[CV]  LogReg__multi_class=multinomial, LogReg__solver=saga, feature_selection__k=12, score=0.390463 -   6.9s\n",
      "[CV] LogReg__multi_class=multinomial, LogReg__solver=saga, feature_selection__k=12 \n",
      "[CV]  LogReg__multi_class=multinomial, LogReg__solver=saga, feature_selection__k=12, score=0.382228 -   6.4s\n",
      "[CV] LogReg__multi_class=multinomial, LogReg__solver=saga, feature_selection__k=15 \n",
      "[CV]  LogReg__multi_class=multinomial, LogReg__solver=saga, feature_selection__k=15, score=0.394871 -   5.4s\n",
      "[CV] LogReg__multi_class=multinomial, LogReg__solver=saga, feature_selection__k=15 \n",
      "[CV]  LogReg__multi_class=multinomial, LogReg__solver=saga, feature_selection__k=15, score=0.394964 -   7.8s\n",
      "[CV] LogReg__multi_class=multinomial, LogReg__solver=saga, feature_selection__k=15 \n",
      "[CV]  LogReg__multi_class=multinomial, LogReg__solver=saga, feature_selection__k=15, score=0.389044 -   7.5s\n",
      "[CV] LogReg__multi_class=multinomial, LogReg__solver=lbfgs, feature_selection__k=8 \n",
      "[CV]  LogReg__multi_class=multinomial, LogReg__solver=lbfgs, feature_selection__k=8, score=0.356101 -   1.7s\n",
      "[CV] LogReg__multi_class=multinomial, LogReg__solver=lbfgs, feature_selection__k=8 \n"
     ]
    },
    {
     "name": "stdout",
     "output_type": "stream",
     "text": [
      "[CV]  LogReg__multi_class=multinomial, LogReg__solver=lbfgs, feature_selection__k=8, score=0.359080 -   1.6s\n",
      "[CV] LogReg__multi_class=multinomial, LogReg__solver=lbfgs, feature_selection__k=8 \n",
      "[CV]  LogReg__multi_class=multinomial, LogReg__solver=lbfgs, feature_selection__k=8, score=0.364699 -   1.6s\n",
      "[CV] LogReg__multi_class=multinomial, LogReg__solver=lbfgs, feature_selection__k=12 \n",
      "[CV]  LogReg__multi_class=multinomial, LogReg__solver=lbfgs, feature_selection__k=12, score=0.388551 -   1.6s\n",
      "[CV] LogReg__multi_class=multinomial, LogReg__solver=lbfgs, feature_selection__k=12 \n",
      "[CV]  LogReg__multi_class=multinomial, LogReg__solver=lbfgs, feature_selection__k=12, score=0.390342 -   1.8s\n",
      "[CV] LogReg__multi_class=multinomial, LogReg__solver=lbfgs, feature_selection__k=12 \n",
      "[CV]  LogReg__multi_class=multinomial, LogReg__solver=lbfgs, feature_selection__k=12, score=0.382228 -   1.7s\n",
      "[CV] LogReg__multi_class=multinomial, LogReg__solver=lbfgs, feature_selection__k=15 \n",
      "[CV]  LogReg__multi_class=multinomial, LogReg__solver=lbfgs, feature_selection__k=15, score=0.395114 -   1.8s\n",
      "[CV] LogReg__multi_class=multinomial, LogReg__solver=lbfgs, feature_selection__k=15 \n",
      "[CV]  LogReg__multi_class=multinomial, LogReg__solver=lbfgs, feature_selection__k=15, score=0.394964 -   1.8s\n",
      "[CV] LogReg__multi_class=multinomial, LogReg__solver=lbfgs, feature_selection__k=15 \n",
      "[CV]  LogReg__multi_class=multinomial, LogReg__solver=lbfgs, feature_selection__k=15, score=0.389166 -   1.8s\n"
     ]
    },
    {
     "name": "stderr",
     "output_type": "stream",
     "text": [
      "[Parallel(n_jobs=1)]: Done  72 out of  72 | elapsed:  9.4min finished\n"
     ]
    },
    {
     "data": {
      "text/plain": [
       "GridSearchCV(cv=None, error_score='raise',\n",
       "       estimator=Pipeline(memory=None,\n",
       "     steps=[('feature_selection', SelectKBest(k=10, score_func=<function f_classif at 0x10baf9bf8>)), ('LogReg', LogisticRegression(C=1.0, class_weight='balanced', dual=False,\n",
       "          fit_intercept=True, intercept_scaling=1, max_iter=10000,\n",
       "          multi_class='ovr', n_jobs=1, penalty='l2', random_state=None,\n",
       "          solver='liblinear', tol=0.0001, verbose=0, warm_start=False))]),\n",
       "       fit_params={}, iid=True, n_jobs=1,\n",
       "       param_grid={'feature_selection__k': [8, 12, 15], 'LogReg__solver': ['newton-cg', 'sag', 'saga', 'lbfgs'], 'LogReg__multi_class': ['ovr', 'multinomial']},\n",
       "       pre_dispatch='2*n_jobs', refit=True, scoring=None, verbose=3)"
      ]
     },
     "execution_count": 46,
     "metadata": {},
     "output_type": "execute_result"
    }
   ],
   "source": [
    "grid_lr2 = GridSearchCV(pipeline_lr2, param_grid=parameters_lr2, verbose=3)\n",
    "grid_lr2.fit(X_train, y_train)"
   ]
  },
  {
   "cell_type": "code",
   "execution_count": 47,
   "metadata": {},
   "outputs": [
    {
     "name": "stdout",
     "output_type": "stream",
     "text": [
      "Pipeline(memory=None,\n",
      "     steps=[('feature_selection', SelectKBest(k=15, score_func=<function f_classif at 0x10baf9bf8>)), ('LogReg', LogisticRegression(C=1.0, class_weight='balanced', dual=False,\n",
      "          fit_intercept=True, intercept_scaling=1, max_iter=10000,\n",
      "          multi_class='ovr', n_jobs=1, penalty='l2', random_state=None,\n",
      "          solver='saga', tol=0.0001, verbose=0, warm_start=False))])\n",
      "                     precision    recall  f1-score   support\n",
      "\n",
      " blues & blues rock       0.51      0.39      0.44       107\n",
      "          classical       0.67      0.83      0.74       121\n",
      "            country       0.20      0.22      0.21       106\n",
      "              dance       0.48      0.42      0.45       205\n",
      "        electronica       0.29      0.36      0.32       125\n",
      "               folk       0.08      0.18      0.12        44\n",
      "               funk       0.16      0.43      0.23        53\n",
      "              indie       0.26      0.10      0.15       179\n",
      "international/world       0.38      0.38      0.38        63\n",
      "               jazz       0.49      0.37      0.42       191\n",
      "              latin       0.28      0.36      0.31       118\n",
      "             oldies       0.20      0.47      0.28        55\n",
      "                pop       0.21      0.42      0.28        90\n",
      "                r&b       0.40      0.11      0.17       241\n",
      "                rap       0.55      0.67      0.60       245\n",
      "       reggae & ska       0.31      0.61      0.42        72\n",
      "               rock       0.67      0.48      0.56       629\n",
      "  singer-songwriter       0.22      0.29      0.25        97\n",
      "\n",
      "        avg / total       0.45      0.40      0.40      2741\n",
      "\n"
     ]
    }
   ],
   "source": [
    "print(grid_lr2.best_estimator_)\n",
    "predictions_lr2 = grid_lr2.predict(X_test)\n",
    "print(classification_report(y_test, predictions_lr2))"
   ]
  },
  {
   "cell_type": "markdown",
   "metadata": {},
   "source": [
    "Score is slightly better with balanced option. Let's try the same one with the rock data"
   ]
  },
  {
   "cell_type": "markdown",
   "metadata": {},
   "source": [
    "### lr3 with X_rock, y_rock and balanced option"
   ]
  },
  {
   "cell_type": "code",
   "execution_count": 131,
   "metadata": {},
   "outputs": [],
   "source": [
    "X_train, X_test, y_train, y_test = train_test_split(X_rock, y_rock, test_size=0.1, random_state=101)\n",
    "lr3 = LogisticRegression(max_iter=10000, class_weight='balanced')\n",
    "selector_lr3 = SelectKBest()\n",
    "steps_lr3 = [('feature_selection', selector_lr3), ('LogReg', lr3)]\n",
    "parameters_lr3 = dict(feature_selection__k=[8,12,15], \n",
    "                      LogReg__solver=['newton-cg', 'sag', 'saga', 'lbfgs'],\n",
    "                      LogReg__multi_class=['ovr', 'multinomial'])\n",
    "\n",
    "pipeline_lr3 = Pipeline(steps_lr3)"
   ]
  },
  {
   "cell_type": "code",
   "execution_count": 132,
   "metadata": {},
   "outputs": [
    {
     "name": "stdout",
     "output_type": "stream",
     "text": [
      "Fitting 3 folds for each of 24 candidates, totalling 72 fits\n",
      "[CV] LogReg__multi_class=ovr, LogReg__solver=newton-cg, feature_selection__k=8 \n",
      "[CV]  LogReg__multi_class=ovr, LogReg__solver=newton-cg, feature_selection__k=8, score=0.362395 -   1.4s\n",
      "[CV] LogReg__multi_class=ovr, LogReg__solver=newton-cg, feature_selection__k=8 \n"
     ]
    },
    {
     "name": "stderr",
     "output_type": "stream",
     "text": [
      "[Parallel(n_jobs=1)]: Done   1 out of   1 | elapsed:    1.4s remaining:    0.0s\n"
     ]
    },
    {
     "name": "stdout",
     "output_type": "stream",
     "text": [
      "[CV]  LogReg__multi_class=ovr, LogReg__solver=newton-cg, feature_selection__k=8, score=0.357725 -   1.7s\n",
      "[CV] LogReg__multi_class=ovr, LogReg__solver=newton-cg, feature_selection__k=8 \n"
     ]
    },
    {
     "name": "stderr",
     "output_type": "stream",
     "text": [
      "[Parallel(n_jobs=1)]: Done   2 out of   2 | elapsed:    3.1s remaining:    0.0s\n"
     ]
    },
    {
     "name": "stdout",
     "output_type": "stream",
     "text": [
      "[CV]  LogReg__multi_class=ovr, LogReg__solver=newton-cg, feature_selection__k=8, score=0.357496 -   1.8s\n",
      "[CV] LogReg__multi_class=ovr, LogReg__solver=newton-cg, feature_selection__k=12 \n",
      "[CV]  LogReg__multi_class=ovr, LogReg__solver=newton-cg, feature_selection__k=12, score=0.391165 -   2.1s\n",
      "[CV] LogReg__multi_class=ovr, LogReg__solver=newton-cg, feature_selection__k=12 \n",
      "[CV]  LogReg__multi_class=ovr, LogReg__solver=newton-cg, feature_selection__k=12, score=0.396858 -   2.2s\n",
      "[CV] LogReg__multi_class=ovr, LogReg__solver=newton-cg, feature_selection__k=12 \n",
      "[CV]  LogReg__multi_class=ovr, LogReg__solver=newton-cg, feature_selection__k=12, score=0.384716 -   1.8s\n",
      "[CV] LogReg__multi_class=ovr, LogReg__solver=newton-cg, feature_selection__k=15 \n",
      "[CV]  LogReg__multi_class=ovr, LogReg__solver=newton-cg, feature_selection__k=15, score=0.394071 -   2.3s\n",
      "[CV] LogReg__multi_class=ovr, LogReg__solver=newton-cg, feature_selection__k=15 \n",
      "[CV]  LogReg__multi_class=ovr, LogReg__solver=newton-cg, feature_selection__k=15, score=0.398022 -   2.1s\n",
      "[CV] LogReg__multi_class=ovr, LogReg__solver=newton-cg, feature_selection__k=15 \n",
      "[CV]  LogReg__multi_class=ovr, LogReg__solver=newton-cg, feature_selection__k=15, score=0.388210 -   1.7s\n",
      "[CV] LogReg__multi_class=ovr, LogReg__solver=sag, feature_selection__k=8 \n",
      "[CV]  LogReg__multi_class=ovr, LogReg__solver=sag, feature_selection__k=8, score=0.362249 -   3.1s\n",
      "[CV] LogReg__multi_class=ovr, LogReg__solver=sag, feature_selection__k=8 \n",
      "[CV]  LogReg__multi_class=ovr, LogReg__solver=sag, feature_selection__k=8, score=0.357725 -   3.2s\n",
      "[CV] LogReg__multi_class=ovr, LogReg__solver=sag, feature_selection__k=8 \n",
      "[CV]  LogReg__multi_class=ovr, LogReg__solver=sag, feature_selection__k=8, score=0.357496 -   5.2s\n",
      "[CV] LogReg__multi_class=ovr, LogReg__solver=sag, feature_selection__k=12 \n",
      "[CV]  LogReg__multi_class=ovr, LogReg__solver=sag, feature_selection__k=12, score=0.391165 -   2.2s\n",
      "[CV] LogReg__multi_class=ovr, LogReg__solver=sag, feature_selection__k=12 \n",
      "[CV]  LogReg__multi_class=ovr, LogReg__solver=sag, feature_selection__k=12, score=0.396858 -   2.3s\n",
      "[CV] LogReg__multi_class=ovr, LogReg__solver=sag, feature_selection__k=12 \n",
      "[CV]  LogReg__multi_class=ovr, LogReg__solver=sag, feature_selection__k=12, score=0.384716 -   2.1s\n",
      "[CV] LogReg__multi_class=ovr, LogReg__solver=sag, feature_selection__k=15 \n",
      "[CV]  LogReg__multi_class=ovr, LogReg__solver=sag, feature_selection__k=15, score=0.394071 -   2.4s\n",
      "[CV] LogReg__multi_class=ovr, LogReg__solver=sag, feature_selection__k=15 \n",
      "[CV]  LogReg__multi_class=ovr, LogReg__solver=sag, feature_selection__k=15, score=0.398022 -   2.8s\n",
      "[CV] LogReg__multi_class=ovr, LogReg__solver=sag, feature_selection__k=15 \n",
      "[CV]  LogReg__multi_class=ovr, LogReg__solver=sag, feature_selection__k=15, score=0.388210 -   2.9s\n",
      "[CV] LogReg__multi_class=ovr, LogReg__solver=saga, feature_selection__k=8 \n",
      "[CV]  LogReg__multi_class=ovr, LogReg__solver=saga, feature_selection__k=8, score=0.362395 -   1.7s\n",
      "[CV] LogReg__multi_class=ovr, LogReg__solver=saga, feature_selection__k=8 \n",
      "[CV]  LogReg__multi_class=ovr, LogReg__solver=saga, feature_selection__k=8, score=0.357725 -   1.7s\n",
      "[CV] LogReg__multi_class=ovr, LogReg__solver=saga, feature_selection__k=8 \n",
      "[CV]  LogReg__multi_class=ovr, LogReg__solver=saga, feature_selection__k=8, score=0.357496 -   1.9s\n",
      "[CV] LogReg__multi_class=ovr, LogReg__solver=saga, feature_selection__k=12 \n",
      "[CV]  LogReg__multi_class=ovr, LogReg__solver=saga, feature_selection__k=12, score=0.391165 -   3.7s\n",
      "[CV] LogReg__multi_class=ovr, LogReg__solver=saga, feature_selection__k=12 \n",
      "[CV]  LogReg__multi_class=ovr, LogReg__solver=saga, feature_selection__k=12, score=0.396858 -   1.9s\n",
      "[CV] LogReg__multi_class=ovr, LogReg__solver=saga, feature_selection__k=12 \n",
      "[CV]  LogReg__multi_class=ovr, LogReg__solver=saga, feature_selection__k=12, score=0.384716 -   3.0s\n",
      "[CV] LogReg__multi_class=ovr, LogReg__solver=saga, feature_selection__k=15 \n",
      "[CV]  LogReg__multi_class=ovr, LogReg__solver=saga, feature_selection__k=15, score=0.394071 -   2.9s\n",
      "[CV] LogReg__multi_class=ovr, LogReg__solver=saga, feature_selection__k=15 \n",
      "[CV]  LogReg__multi_class=ovr, LogReg__solver=saga, feature_selection__k=15, score=0.398022 -   2.4s\n",
      "[CV] LogReg__multi_class=ovr, LogReg__solver=saga, feature_selection__k=15 \n",
      "[CV]  LogReg__multi_class=ovr, LogReg__solver=saga, feature_selection__k=15, score=0.388210 -   3.5s\n",
      "[CV] LogReg__multi_class=ovr, LogReg__solver=lbfgs, feature_selection__k=8 \n",
      "[CV]  LogReg__multi_class=ovr, LogReg__solver=lbfgs, feature_selection__k=8, score=0.362540 -   1.0s\n",
      "[CV] LogReg__multi_class=ovr, LogReg__solver=lbfgs, feature_selection__k=8 \n",
      "[CV]  LogReg__multi_class=ovr, LogReg__solver=lbfgs, feature_selection__k=8, score=0.357725 -   0.9s\n",
      "[CV] LogReg__multi_class=ovr, LogReg__solver=lbfgs, feature_selection__k=8 \n",
      "[CV]  LogReg__multi_class=ovr, LogReg__solver=lbfgs, feature_selection__k=8, score=0.357496 -   1.0s\n",
      "[CV] LogReg__multi_class=ovr, LogReg__solver=lbfgs, feature_selection__k=12 \n",
      "[CV]  LogReg__multi_class=ovr, LogReg__solver=lbfgs, feature_selection__k=12, score=0.391165 -   1.0s\n",
      "[CV] LogReg__multi_class=ovr, LogReg__solver=lbfgs, feature_selection__k=12 \n",
      "[CV]  LogReg__multi_class=ovr, LogReg__solver=lbfgs, feature_selection__k=12, score=0.396858 -   1.3s\n",
      "[CV] LogReg__multi_class=ovr, LogReg__solver=lbfgs, feature_selection__k=12 \n",
      "[CV]  LogReg__multi_class=ovr, LogReg__solver=lbfgs, feature_selection__k=12, score=0.384716 -   1.3s\n",
      "[CV] LogReg__multi_class=ovr, LogReg__solver=lbfgs, feature_selection__k=15 \n",
      "[CV]  LogReg__multi_class=ovr, LogReg__solver=lbfgs, feature_selection__k=15, score=0.394071 -   1.0s\n",
      "[CV] LogReg__multi_class=ovr, LogReg__solver=lbfgs, feature_selection__k=15 \n",
      "[CV]  LogReg__multi_class=ovr, LogReg__solver=lbfgs, feature_selection__k=15, score=0.398022 -   1.0s\n",
      "[CV] LogReg__multi_class=ovr, LogReg__solver=lbfgs, feature_selection__k=15 \n",
      "[CV]  LogReg__multi_class=ovr, LogReg__solver=lbfgs, feature_selection__k=15, score=0.388210 -   1.1s\n",
      "[CV] LogReg__multi_class=multinomial, LogReg__solver=newton-cg, feature_selection__k=8 \n",
      "[CV]  LogReg__multi_class=multinomial, LogReg__solver=newton-cg, feature_selection__k=8, score=0.355856 -   2.0s\n",
      "[CV] LogReg__multi_class=multinomial, LogReg__solver=newton-cg, feature_selection__k=8 \n",
      "[CV]  LogReg__multi_class=multinomial, LogReg__solver=newton-cg, feature_selection__k=8, score=0.364562 -   2.1s\n",
      "[CV] LogReg__multi_class=multinomial, LogReg__solver=newton-cg, feature_selection__k=8 \n",
      "[CV]  LogReg__multi_class=multinomial, LogReg__solver=newton-cg, feature_selection__k=8, score=0.345997 -   2.4s\n",
      "[CV] LogReg__multi_class=multinomial, LogReg__solver=newton-cg, feature_selection__k=12 \n",
      "[CV]  LogReg__multi_class=multinomial, LogReg__solver=newton-cg, feature_selection__k=12, score=0.396251 -   2.2s\n",
      "[CV] LogReg__multi_class=multinomial, LogReg__solver=newton-cg, feature_selection__k=12 \n",
      "[CV]  LogReg__multi_class=multinomial, LogReg__solver=newton-cg, feature_selection__k=12, score=0.401367 -   2.0s\n",
      "[CV] LogReg__multi_class=multinomial, LogReg__solver=newton-cg, feature_selection__k=12 \n",
      "[CV]  LogReg__multi_class=multinomial, LogReg__solver=newton-cg, feature_selection__k=12, score=0.388355 -   2.1s\n",
      "[CV] LogReg__multi_class=multinomial, LogReg__solver=newton-cg, feature_selection__k=15 \n",
      "[CV]  LogReg__multi_class=multinomial, LogReg__solver=newton-cg, feature_selection__k=15, score=0.401337 -   2.6s\n",
      "[CV] LogReg__multi_class=multinomial, LogReg__solver=newton-cg, feature_selection__k=15 \n",
      "[CV]  LogReg__multi_class=multinomial, LogReg__solver=newton-cg, feature_selection__k=15, score=0.407332 -   2.1s\n",
      "[CV] LogReg__multi_class=multinomial, LogReg__solver=newton-cg, feature_selection__k=15 \n",
      "[CV]  LogReg__multi_class=multinomial, LogReg__solver=newton-cg, feature_selection__k=15, score=0.392140 -   2.2s\n",
      "[CV] LogReg__multi_class=multinomial, LogReg__solver=sag, feature_selection__k=8 \n",
      "[CV]  LogReg__multi_class=multinomial, LogReg__solver=sag, feature_selection__k=8, score=0.355856 -   0.6s\n",
      "[CV] LogReg__multi_class=multinomial, LogReg__solver=sag, feature_selection__k=8 \n",
      "[CV]  LogReg__multi_class=multinomial, LogReg__solver=sag, feature_selection__k=8, score=0.364708 -   0.8s\n",
      "[CV] LogReg__multi_class=multinomial, LogReg__solver=sag, feature_selection__k=8 \n"
     ]
    },
    {
     "name": "stdout",
     "output_type": "stream",
     "text": [
      "[CV]  LogReg__multi_class=multinomial, LogReg__solver=sag, feature_selection__k=8, score=0.345997 -   0.9s\n",
      "[CV] LogReg__multi_class=multinomial, LogReg__solver=sag, feature_selection__k=12 \n",
      "[CV]  LogReg__multi_class=multinomial, LogReg__solver=sag, feature_selection__k=12, score=0.396251 -   3.9s\n",
      "[CV] LogReg__multi_class=multinomial, LogReg__solver=sag, feature_selection__k=12 \n",
      "[CV]  LogReg__multi_class=multinomial, LogReg__solver=sag, feature_selection__k=12, score=0.401367 -   1.8s\n",
      "[CV] LogReg__multi_class=multinomial, LogReg__solver=sag, feature_selection__k=12 \n",
      "[CV]  LogReg__multi_class=multinomial, LogReg__solver=sag, feature_selection__k=12, score=0.388355 -   3.2s\n",
      "[CV] LogReg__multi_class=multinomial, LogReg__solver=sag, feature_selection__k=15 \n",
      "[CV]  LogReg__multi_class=multinomial, LogReg__solver=sag, feature_selection__k=15, score=0.401482 -   4.3s\n",
      "[CV] LogReg__multi_class=multinomial, LogReg__solver=sag, feature_selection__k=15 \n",
      "[CV]  LogReg__multi_class=multinomial, LogReg__solver=sag, feature_selection__k=15, score=0.407332 -   2.3s\n",
      "[CV] LogReg__multi_class=multinomial, LogReg__solver=sag, feature_selection__k=15 \n",
      "[CV]  LogReg__multi_class=multinomial, LogReg__solver=sag, feature_selection__k=15, score=0.392140 -   3.6s\n",
      "[CV] LogReg__multi_class=multinomial, LogReg__solver=saga, feature_selection__k=8 \n",
      "[CV]  LogReg__multi_class=multinomial, LogReg__solver=saga, feature_selection__k=8, score=0.355856 -   1.1s\n",
      "[CV] LogReg__multi_class=multinomial, LogReg__solver=saga, feature_selection__k=8 \n",
      "[CV]  LogReg__multi_class=multinomial, LogReg__solver=saga, feature_selection__k=8, score=0.364562 -   1.0s\n",
      "[CV] LogReg__multi_class=multinomial, LogReg__solver=saga, feature_selection__k=8 \n",
      "[CV]  LogReg__multi_class=multinomial, LogReg__solver=saga, feature_selection__k=8, score=0.345997 -   1.1s\n",
      "[CV] LogReg__multi_class=multinomial, LogReg__solver=saga, feature_selection__k=12 \n",
      "[CV]  LogReg__multi_class=multinomial, LogReg__solver=saga, feature_selection__k=12, score=0.396251 -   7.9s\n",
      "[CV] LogReg__multi_class=multinomial, LogReg__solver=saga, feature_selection__k=12 \n",
      "[CV]  LogReg__multi_class=multinomial, LogReg__solver=saga, feature_selection__k=12, score=0.401367 -   3.7s\n",
      "[CV] LogReg__multi_class=multinomial, LogReg__solver=saga, feature_selection__k=12 \n",
      "[CV]  LogReg__multi_class=multinomial, LogReg__solver=saga, feature_selection__k=12, score=0.388355 -   6.7s\n",
      "[CV] LogReg__multi_class=multinomial, LogReg__solver=saga, feature_selection__k=15 \n",
      "[CV]  LogReg__multi_class=multinomial, LogReg__solver=saga, feature_selection__k=15, score=0.401482 -   9.4s\n",
      "[CV] LogReg__multi_class=multinomial, LogReg__solver=saga, feature_selection__k=15 \n",
      "[CV]  LogReg__multi_class=multinomial, LogReg__solver=saga, feature_selection__k=15, score=0.407332 -   4.2s\n",
      "[CV] LogReg__multi_class=multinomial, LogReg__solver=saga, feature_selection__k=15 \n",
      "[CV]  LogReg__multi_class=multinomial, LogReg__solver=saga, feature_selection__k=15, score=0.392140 -   7.4s\n",
      "[CV] LogReg__multi_class=multinomial, LogReg__solver=lbfgs, feature_selection__k=8 \n",
      "[CV]  LogReg__multi_class=multinomial, LogReg__solver=lbfgs, feature_selection__k=8, score=0.355856 -   1.2s\n",
      "[CV] LogReg__multi_class=multinomial, LogReg__solver=lbfgs, feature_selection__k=8 \n",
      "[CV]  LogReg__multi_class=multinomial, LogReg__solver=lbfgs, feature_selection__k=8, score=0.364562 -   1.2s\n",
      "[CV] LogReg__multi_class=multinomial, LogReg__solver=lbfgs, feature_selection__k=8 \n",
      "[CV]  LogReg__multi_class=multinomial, LogReg__solver=lbfgs, feature_selection__k=8, score=0.346143 -   1.2s\n",
      "[CV] LogReg__multi_class=multinomial, LogReg__solver=lbfgs, feature_selection__k=12 \n",
      "[CV]  LogReg__multi_class=multinomial, LogReg__solver=lbfgs, feature_selection__k=12, score=0.396251 -   1.4s\n",
      "[CV] LogReg__multi_class=multinomial, LogReg__solver=lbfgs, feature_selection__k=12 \n",
      "[CV]  LogReg__multi_class=multinomial, LogReg__solver=lbfgs, feature_selection__k=12, score=0.401222 -   1.2s\n",
      "[CV] LogReg__multi_class=multinomial, LogReg__solver=lbfgs, feature_selection__k=12 \n",
      "[CV]  LogReg__multi_class=multinomial, LogReg__solver=lbfgs, feature_selection__k=12, score=0.388355 -   1.3s\n",
      "[CV] LogReg__multi_class=multinomial, LogReg__solver=lbfgs, feature_selection__k=15 \n",
      "[CV]  LogReg__multi_class=multinomial, LogReg__solver=lbfgs, feature_selection__k=15, score=0.401337 -   1.4s\n",
      "[CV] LogReg__multi_class=multinomial, LogReg__solver=lbfgs, feature_selection__k=15 \n",
      "[CV]  LogReg__multi_class=multinomial, LogReg__solver=lbfgs, feature_selection__k=15, score=0.407332 -   1.5s\n",
      "[CV] LogReg__multi_class=multinomial, LogReg__solver=lbfgs, feature_selection__k=15 \n",
      "[CV]  LogReg__multi_class=multinomial, LogReg__solver=lbfgs, feature_selection__k=15, score=0.392140 -   1.3s\n"
     ]
    },
    {
     "name": "stderr",
     "output_type": "stream",
     "text": [
      "[Parallel(n_jobs=1)]: Done  72 out of  72 | elapsed:  2.8min finished\n"
     ]
    },
    {
     "data": {
      "text/plain": [
       "GridSearchCV(cv=None, error_score='raise',\n",
       "       estimator=Pipeline(memory=None,\n",
       "     steps=[('feature_selection', SelectKBest(k=10, score_func=<function f_classif at 0x10baf9bf8>)), ('LogReg', LogisticRegression(C=1.0, class_weight='balanced', dual=False,\n",
       "          fit_intercept=True, intercept_scaling=1, max_iter=10000,\n",
       "          multi_class='ovr', n_jobs=1, penalty='l2', random_state=None,\n",
       "          solver='liblinear', tol=0.0001, verbose=0, warm_start=False))]),\n",
       "       fit_params={}, iid=True, n_jobs=1,\n",
       "       param_grid={'feature_selection__k': [8, 12, 15], 'LogReg__solver': ['newton-cg', 'sag', 'saga', 'lbfgs'], 'LogReg__multi_class': ['ovr', 'multinomial']},\n",
       "       pre_dispatch='2*n_jobs', refit=True, scoring=None, verbose=3)"
      ]
     },
     "execution_count": 132,
     "metadata": {},
     "output_type": "execute_result"
    }
   ],
   "source": [
    "grid_lr3 = GridSearchCV(pipeline_lr3, param_grid=parameters_lr3, verbose=3)\n",
    "grid_lr3.fit(X_train, y_train)"
   ]
  },
  {
   "cell_type": "code",
   "execution_count": 133,
   "metadata": {},
   "outputs": [
    {
     "name": "stdout",
     "output_type": "stream",
     "text": [
      "Pipeline(memory=None,\n",
      "     steps=[('feature_selection', SelectKBest(k=15, score_func=<function f_classif at 0x10baf9bf8>)), ('LogReg', LogisticRegression(C=1.0, class_weight='balanced', dual=False,\n",
      "          fit_intercept=True, intercept_scaling=1, max_iter=10000,\n",
      "          multi_class='multinomial', n_jobs=1, penalty='l2',\n",
      "          random_state=None, solver='sag', tol=0.0001, verbose=0,\n",
      "          warm_start=False))])\n",
      "                     precision    recall  f1-score   support\n",
      "\n",
      " blues & blues rock       0.40      0.60      0.48        87\n",
      "          classical       0.71      0.83      0.77        90\n",
      "            country       0.19      0.19      0.19       105\n",
      "              dance       0.53      0.49      0.51       202\n",
      "        electronica       0.34      0.34      0.34       122\n",
      "               funk       0.20      0.47      0.28        55\n",
      "              indie       0.31      0.15      0.20       174\n",
      "international/world       0.39      0.33      0.36        90\n",
      "               jazz       0.56      0.35      0.43       202\n",
      "              latin       0.32      0.37      0.34       104\n",
      "             oldies       0.17      0.52      0.26        50\n",
      "                pop       0.22      0.41      0.29       109\n",
      "                r&b       0.31      0.09      0.14       250\n",
      "                rap       0.61      0.64      0.63       233\n",
      "       reggae & ska       0.26      0.48      0.34        73\n",
      "               rock       0.47      0.34      0.40       246\n",
      "  singer-songwriter       0.26      0.32      0.29       100\n",
      "\n",
      "        avg / total       0.40      0.38      0.37      2292\n",
      "\n"
     ]
    }
   ],
   "source": [
    "print(grid_lr3.best_estimator_)\n",
    "predictions_lr3 = grid_lr3.predict(X_test)\n",
    "print(classification_report(y_test, predictions_lr3))"
   ]
  },
  {
   "cell_type": "markdown",
   "metadata": {},
   "source": [
    "We notice a lower score with the rock data resampled :("
   ]
  },
  {
   "cell_type": "code",
   "execution_count": null,
   "metadata": {},
   "outputs": [],
   "source": []
  },
  {
   "cell_type": "code",
   "execution_count": null,
   "metadata": {},
   "outputs": [],
   "source": []
  },
  {
   "cell_type": "markdown",
   "metadata": {},
   "source": [
    "### SVC1 on X_scaled and y - OVO"
   ]
  },
  {
   "cell_type": "code",
   "execution_count": 143,
   "metadata": {},
   "outputs": [],
   "source": [
    "from sklearn.svm import SVC"
   ]
  },
  {
   "cell_type": "code",
   "execution_count": 144,
   "metadata": {},
   "outputs": [],
   "source": [
    "X_train, X_test, y_train, y_test = train_test_split(X_scale, y, test_size=0.1, random_state=101)"
   ]
  },
  {
   "cell_type": "code",
   "execution_count": 145,
   "metadata": {},
   "outputs": [],
   "source": [
    "svc1 = SVC(decision_function_shape='ovo')\n",
    "selector_svc1 = SelectKBest()\n",
    "steps_svc1 = [('feature_selection', selector_svc1), ('SVC', svc1)]\n",
    "parameters_svc1 = dict(feature_selection__k=[8,12,15], \n",
    "                      SVC__C=[0.1,1, 10],\n",
    "                      SVC__gamma=[1,0.1,0.01])\n",
    "\n",
    "pipeline_svc1 = Pipeline(steps_svc1)"
   ]
  },
  {
   "cell_type": "code",
   "execution_count": 146,
   "metadata": {},
   "outputs": [
    {
     "name": "stdout",
     "output_type": "stream",
     "text": [
      "Fitting 3 folds for each of 27 candidates, totalling 81 fits\n",
      "[CV] SVC__C=0.1, SVC__gamma=1, feature_selection__k=8 ................\n",
      "[CV]  SVC__C=0.1, SVC__gamma=1, feature_selection__k=8, score=0.409974 -  22.1s\n",
      "[CV] SVC__C=0.1, SVC__gamma=1, feature_selection__k=8 ................\n"
     ]
    },
    {
     "name": "stderr",
     "output_type": "stream",
     "text": [
      "[Parallel(n_jobs=1)]: Done   1 out of   1 | elapsed:   22.1s remaining:    0.0s\n"
     ]
    },
    {
     "name": "stdout",
     "output_type": "stream",
     "text": [
      "[CV]  SVC__C=0.1, SVC__gamma=1, feature_selection__k=8, score=0.410104 -  20.9s\n",
      "[CV] SVC__C=0.1, SVC__gamma=1, feature_selection__k=8 ................\n"
     ]
    },
    {
     "name": "stderr",
     "output_type": "stream",
     "text": [
      "[Parallel(n_jobs=1)]: Done   2 out of   2 | elapsed:   43.0s remaining:    0.0s\n"
     ]
    },
    {
     "name": "stdout",
     "output_type": "stream",
     "text": [
      "[CV]  SVC__C=0.1, SVC__gamma=1, feature_selection__k=8, score=0.417152 -  22.5s\n",
      "[CV] SVC__C=0.1, SVC__gamma=1, feature_selection__k=12 ...............\n",
      "[CV]  SVC__C=0.1, SVC__gamma=1, feature_selection__k=12, score=0.304418 -  34.5s\n",
      "[CV] SVC__C=0.1, SVC__gamma=1, feature_selection__k=12 ...............\n",
      "[CV]  SVC__C=0.1, SVC__gamma=1, feature_selection__k=12, score=0.306587 -  33.9s\n",
      "[CV] SVC__C=0.1, SVC__gamma=1, feature_selection__k=12 ...............\n",
      "[CV]  SVC__C=0.1, SVC__gamma=1, feature_selection__k=12, score=0.311315 -  34.7s\n",
      "[CV] SVC__C=0.1, SVC__gamma=1, feature_selection__k=15 ...............\n",
      "[CV]  SVC__C=0.1, SVC__gamma=1, feature_selection__k=15, score=0.296622 -  39.3s\n",
      "[CV] SVC__C=0.1, SVC__gamma=1, feature_selection__k=15 ...............\n",
      "[CV]  SVC__C=0.1, SVC__gamma=1, feature_selection__k=15, score=0.295443 -  40.9s\n",
      "[CV] SVC__C=0.1, SVC__gamma=1, feature_selection__k=15 ...............\n",
      "[CV]  SVC__C=0.1, SVC__gamma=1, feature_selection__k=15, score=0.302516 -  38.9s\n",
      "[CV] SVC__C=0.1, SVC__gamma=0.1, feature_selection__k=8 ..............\n",
      "[CV]  SVC__C=0.1, SVC__gamma=0.1, feature_selection__k=8, score=0.423091 -  14.0s\n",
      "[CV] SVC__C=0.1, SVC__gamma=0.1, feature_selection__k=8 ..............\n",
      "[CV]  SVC__C=0.1, SVC__gamma=0.1, feature_selection__k=8, score=0.431402 -  14.2s\n",
      "[CV] SVC__C=0.1, SVC__gamma=0.1, feature_selection__k=8 ..............\n",
      "[CV]  SVC__C=0.1, SVC__gamma=0.1, feature_selection__k=8, score=0.426571 -  14.2s\n",
      "[CV] SVC__C=0.1, SVC__gamma=0.1, feature_selection__k=12 .............\n",
      "[CV]  SVC__C=0.1, SVC__gamma=0.1, feature_selection__k=12, score=0.444747 -  16.0s\n",
      "[CV] SVC__C=0.1, SVC__gamma=0.1, feature_selection__k=12 .............\n",
      "[CV]  SVC__C=0.1, SVC__gamma=0.1, feature_selection__k=12, score=0.443041 -  15.9s\n",
      "[CV] SVC__C=0.1, SVC__gamma=0.1, feature_selection__k=12 .............\n",
      "[CV]  SVC__C=0.1, SVC__gamma=0.1, feature_selection__k=12, score=0.440823 -  15.9s\n",
      "[CV] SVC__C=0.1, SVC__gamma=0.1, feature_selection__k=15 .............\n",
      "[CV]  SVC__C=0.1, SVC__gamma=0.1, feature_selection__k=15, score=0.440045 -  20.3s\n",
      "[CV] SVC__C=0.1, SVC__gamma=0.1, feature_selection__k=15 .............\n",
      "[CV]  SVC__C=0.1, SVC__gamma=0.1, feature_selection__k=15, score=0.455176 -  19.4s\n",
      "[CV] SVC__C=0.1, SVC__gamma=0.1, feature_selection__k=15 .............\n",
      "[CV]  SVC__C=0.1, SVC__gamma=0.1, feature_selection__k=15, score=0.448383 -  19.0s\n",
      "[CV] SVC__C=0.1, SVC__gamma=0.01, feature_selection__k=8 .............\n",
      "[CV]  SVC__C=0.1, SVC__gamma=0.01, feature_selection__k=8, score=0.392154 -  18.1s\n",
      "[CV] SVC__C=0.1, SVC__gamma=0.01, feature_selection__k=8 .............\n",
      "[CV]  SVC__C=0.1, SVC__gamma=0.01, feature_selection__k=8, score=0.389178 -  16.0s\n",
      "[CV] SVC__C=0.1, SVC__gamma=0.01, feature_selection__k=8 .............\n",
      "[CV]  SVC__C=0.1, SVC__gamma=0.01, feature_selection__k=8, score=0.391870 -  15.5s\n",
      "[CV] SVC__C=0.1, SVC__gamma=0.01, feature_selection__k=12 ............\n",
      "[CV]  SVC__C=0.1, SVC__gamma=0.01, feature_selection__k=12, score=0.408365 -  17.2s\n",
      "[CV] SVC__C=0.1, SVC__gamma=0.01, feature_selection__k=12 ............\n",
      "[CV]  SVC__C=0.1, SVC__gamma=0.01, feature_selection__k=12, score=0.405275 -  17.7s\n",
      "[CV] SVC__C=0.1, SVC__gamma=0.01, feature_selection__k=12 ............\n",
      "[CV]  SVC__C=0.1, SVC__gamma=0.01, feature_selection__k=12, score=0.404139 -  17.7s\n",
      "[CV] SVC__C=0.1, SVC__gamma=0.01, feature_selection__k=15 ............\n",
      "[CV]  SVC__C=0.1, SVC__gamma=0.01, feature_selection__k=15, score=0.409727 -  19.4s\n",
      "[CV] SVC__C=0.1, SVC__gamma=0.01, feature_selection__k=15 ............\n",
      "[CV]  SVC__C=0.1, SVC__gamma=0.01, feature_selection__k=15, score=0.407256 -  20.8s\n",
      "[CV] SVC__C=0.1, SVC__gamma=0.01, feature_selection__k=15 ............\n",
      "[CV]  SVC__C=0.1, SVC__gamma=0.01, feature_selection__k=15, score=0.408725 -  21.3s\n",
      "[CV] SVC__C=1, SVC__gamma=1, feature_selection__k=8 ..................\n",
      "[CV]  SVC__C=1, SVC__gamma=1, feature_selection__k=8, score=0.452296 -  22.6s\n",
      "[CV] SVC__C=1, SVC__gamma=1, feature_selection__k=8 ..................\n",
      "[CV]  SVC__C=1, SVC__gamma=1, feature_selection__k=8, score=0.452576 -  23.3s\n",
      "[CV] SVC__C=1, SVC__gamma=1, feature_selection__k=8 ..................\n",
      "[CV]  SVC__C=1, SVC__gamma=1, feature_selection__k=8, score=0.461767 -  22.2s\n",
      "[CV] SVC__C=1, SVC__gamma=1, feature_selection__k=12 .................\n",
      "[CV]  SVC__C=1, SVC__gamma=1, feature_selection__k=12, score=0.410222 -  40.3s\n",
      "[CV] SVC__C=1, SVC__gamma=1, feature_selection__k=12 .................\n",
      "[CV]  SVC__C=1, SVC__gamma=1, feature_selection__k=12, score=0.418772 -  39.5s\n",
      "[CV] SVC__C=1, SVC__gamma=1, feature_selection__k=12 .................\n",
      "[CV]  SVC__C=1, SVC__gamma=1, feature_selection__k=12, score=0.421490 -  38.4s\n",
      "[CV] SVC__C=1, SVC__gamma=1, feature_selection__k=15 .................\n",
      "[CV]  SVC__C=1, SVC__gamma=1, feature_selection__k=15, score=0.346739 -  42.7s\n",
      "[CV] SVC__C=1, SVC__gamma=1, feature_selection__k=15 .................\n",
      "[CV]  SVC__C=1, SVC__gamma=1, feature_selection__k=15, score=0.356117 -  43.6s\n",
      "[CV] SVC__C=1, SVC__gamma=1, feature_selection__k=15 .................\n",
      "[CV]  SVC__C=1, SVC__gamma=1, feature_selection__k=15, score=0.355434 -  42.2s\n",
      "[CV] SVC__C=1, SVC__gamma=0.1, feature_selection__k=8 ................\n",
      "[CV]  SVC__C=1, SVC__gamma=0.1, feature_selection__k=8, score=0.454275 -  14.5s\n",
      "[CV] SVC__C=1, SVC__gamma=0.1, feature_selection__k=8 ................\n",
      "[CV]  SVC__C=1, SVC__gamma=0.1, feature_selection__k=8, score=0.458024 -  14.1s\n",
      "[CV] SVC__C=1, SVC__gamma=0.1, feature_selection__k=8 ................\n",
      "[CV]  SVC__C=1, SVC__gamma=0.1, feature_selection__k=8, score=0.463998 -  14.6s\n",
      "[CV] SVC__C=1, SVC__gamma=0.1, feature_selection__k=12 ...............\n",
      "[CV]  SVC__C=1, SVC__gamma=0.1, feature_selection__k=12, score=0.485460 -  15.6s\n",
      "[CV] SVC__C=1, SVC__gamma=0.1, feature_selection__k=12 ...............\n",
      "[CV]  SVC__C=1, SVC__gamma=0.1, feature_selection__k=12, score=0.492075 -  15.4s\n",
      "[CV] SVC__C=1, SVC__gamma=0.1, feature_selection__k=12 ...............\n",
      "[CV]  SVC__C=1, SVC__gamma=0.1, feature_selection__k=12, score=0.491883 -  15.3s\n",
      "[CV] SVC__C=1, SVC__gamma=0.1, feature_selection__k=15 ...............\n",
      "[CV]  SVC__C=1, SVC__gamma=0.1, feature_selection__k=15, score=0.490162 -  17.7s\n",
      "[CV] SVC__C=1, SVC__gamma=0.1, feature_selection__k=15 ...............\n",
      "[CV]  SVC__C=1, SVC__gamma=0.1, feature_selection__k=15, score=0.497028 -  19.9s\n",
      "[CV] SVC__C=1, SVC__gamma=0.1, feature_selection__k=15 ...............\n",
      "[CV]  SVC__C=1, SVC__gamma=0.1, feature_selection__k=15, score=0.498451 -  18.1s\n",
      "[CV] SVC__C=1, SVC__gamma=0.01, feature_selection__k=8 ...............\n",
      "[CV]  SVC__C=1, SVC__gamma=0.01, feature_selection__k=8, score=0.421359 -  14.2s\n",
      "[CV] SVC__C=1, SVC__gamma=0.01, feature_selection__k=8 ...............\n",
      "[CV]  SVC__C=1, SVC__gamma=0.01, feature_selection__k=8, score=0.429297 -  14.3s\n",
      "[CV] SVC__C=1, SVC__gamma=0.01, feature_selection__k=8 ...............\n",
      "[CV]  SVC__C=1, SVC__gamma=0.01, feature_selection__k=8, score=0.427438 -  14.0s\n",
      "[CV] SVC__C=1, SVC__gamma=0.01, feature_selection__k=12 ..............\n",
      "[CV]  SVC__C=1, SVC__gamma=0.01, feature_selection__k=12, score=0.444004 -  14.8s\n",
      "[CV] SVC__C=1, SVC__gamma=0.01, feature_selection__k=12 ..............\n",
      "[CV]  SVC__C=1, SVC__gamma=0.01, feature_selection__k=12, score=0.448489 -  15.0s\n",
      "[CV] SVC__C=1, SVC__gamma=0.01, feature_selection__k=12 ..............\n",
      "[CV]  SVC__C=1, SVC__gamma=0.01, feature_selection__k=12, score=0.446524 -  15.2s\n",
      "[CV] SVC__C=1, SVC__gamma=0.01, feature_selection__k=15 ..............\n",
      "[CV]  SVC__C=1, SVC__gamma=0.01, feature_selection__k=15, score=0.446603 -  16.4s\n",
      "[CV] SVC__C=1, SVC__gamma=0.01, feature_selection__k=15 ..............\n",
      "[CV]  SVC__C=1, SVC__gamma=0.01, feature_selection__k=15, score=0.456290 -  16.2s\n",
      "[CV] SVC__C=1, SVC__gamma=0.01, feature_selection__k=15 ..............\n",
      "[CV]  SVC__C=1, SVC__gamma=0.01, feature_selection__k=15, score=0.448754 -  16.2s\n",
      "[CV] SVC__C=10, SVC__gamma=1, feature_selection__k=8 .................\n",
      "[CV]  SVC__C=10, SVC__gamma=1, feature_selection__k=8, score=0.397599 -  28.3s\n",
      "[CV] SVC__C=10, SVC__gamma=1, feature_selection__k=8 .................\n",
      "[CV]  SVC__C=10, SVC__gamma=1, feature_selection__k=8, score=0.397350 -  27.5s\n",
      "[CV] SVC__C=10, SVC__gamma=1, feature_selection__k=8 .................\n"
     ]
    },
    {
     "name": "stdout",
     "output_type": "stream",
     "text": [
      "[CV]  SVC__C=10, SVC__gamma=1, feature_selection__k=8, score=0.408105 -  27.8s\n",
      "[CV] SVC__C=10, SVC__gamma=1, feature_selection__k=12 ................\n",
      "[CV]  SVC__C=10, SVC__gamma=1, feature_selection__k=12, score=0.390917 -  40.4s\n",
      "[CV] SVC__C=10, SVC__gamma=1, feature_selection__k=12 ................\n",
      "[CV]  SVC__C=10, SVC__gamma=1, feature_selection__k=12, score=0.407132 -  40.5s\n",
      "[CV] SVC__C=10, SVC__gamma=1, feature_selection__k=12 ................\n",
      "[CV]  SVC__C=10, SVC__gamma=1, feature_selection__k=12, score=0.401785 -  39.8s\n",
      "[CV] SVC__C=10, SVC__gamma=1, feature_selection__k=15 ................\n",
      "[CV]  SVC__C=10, SVC__gamma=1, feature_selection__k=15, score=0.356144 -  43.7s\n",
      "[CV] SVC__C=10, SVC__gamma=1, feature_selection__k=15 ................\n",
      "[CV]  SVC__C=10, SVC__gamma=1, feature_selection__k=15, score=0.363422 -  44.1s\n",
      "[CV] SVC__C=10, SVC__gamma=1, feature_selection__k=15 ................\n",
      "[CV]  SVC__C=10, SVC__gamma=1, feature_selection__k=15, score=0.364729 -  44.7s\n",
      "[CV] SVC__C=10, SVC__gamma=0.1, feature_selection__k=8 ...............\n",
      "[CV]  SVC__C=10, SVC__gamma=0.1, feature_selection__k=8, score=0.460215 -  17.5s\n",
      "[CV] SVC__C=10, SVC__gamma=0.1, feature_selection__k=8 ...............\n",
      "[CV]  SVC__C=10, SVC__gamma=0.1, feature_selection__k=8, score=0.465453 -  17.6s\n",
      "[CV] SVC__C=10, SVC__gamma=0.1, feature_selection__k=8 ...............\n",
      "[CV]  SVC__C=10, SVC__gamma=0.1, feature_selection__k=8, score=0.471186 -  17.6s\n",
      "[CV] SVC__C=10, SVC__gamma=0.1, feature_selection__k=12 ..............\n",
      "[CV]  SVC__C=10, SVC__gamma=0.1, feature_selection__k=12, score=0.469373 -  19.6s\n",
      "[CV] SVC__C=10, SVC__gamma=0.1, feature_selection__k=12 ..............\n",
      "[CV]  SVC__C=10, SVC__gamma=0.1, feature_selection__k=12, score=0.484027 -  20.4s\n",
      "[CV] SVC__C=10, SVC__gamma=0.1, feature_selection__k=12 ..............\n",
      "[CV]  SVC__C=10, SVC__gamma=0.1, feature_selection__k=12, score=0.482216 -  20.4s\n",
      "[CV] SVC__C=10, SVC__gamma=0.1, feature_selection__k=15 ..............\n",
      "[CV]  SVC__C=10, SVC__gamma=0.1, feature_selection__k=15, score=0.461329 -  23.8s\n",
      "[CV] SVC__C=10, SVC__gamma=0.1, feature_selection__k=15 ..............\n",
      "[CV]  SVC__C=10, SVC__gamma=0.1, feature_selection__k=15, score=0.476845 -  23.3s\n",
      "[CV] SVC__C=10, SVC__gamma=0.1, feature_selection__k=15 ..............\n",
      "[CV]  SVC__C=10, SVC__gamma=0.1, feature_selection__k=15, score=0.471806 -  23.4s\n",
      "[CV] SVC__C=10, SVC__gamma=0.01, feature_selection__k=8 ..............\n",
      "[CV]  SVC__C=10, SVC__gamma=0.01, feature_selection__k=8, score=0.429031 -  15.0s\n",
      "[CV] SVC__C=10, SVC__gamma=0.01, feature_selection__k=8 ..............\n",
      "[CV]  SVC__C=10, SVC__gamma=0.01, feature_selection__k=8, score=0.436974 -  15.8s\n",
      "[CV] SVC__C=10, SVC__gamma=0.01, feature_selection__k=8 ..............\n",
      "[CV]  SVC__C=10, SVC__gamma=0.01, feature_selection__k=8, score=0.434626 -  15.0s\n",
      "[CV] SVC__C=10, SVC__gamma=0.01, feature_selection__k=12 .............\n",
      "[CV]  SVC__C=10, SVC__gamma=0.01, feature_selection__k=12, score=0.466279 -  15.4s\n",
      "[CV] SVC__C=10, SVC__gamma=0.01, feature_selection__k=12 .............\n",
      "[CV]  SVC__C=10, SVC__gamma=0.01, feature_selection__k=12, score=0.464586 -  15.6s\n",
      "[CV] SVC__C=10, SVC__gamma=0.01, feature_selection__k=12 .............\n",
      "[CV]  SVC__C=10, SVC__gamma=0.01, feature_selection__k=12, score=0.464989 -  15.3s\n",
      "[CV] SVC__C=10, SVC__gamma=0.01, feature_selection__k=15 .............\n",
      "[CV]  SVC__C=10, SVC__gamma=0.01, feature_selection__k=15, score=0.472714 -  16.8s\n",
      "[CV] SVC__C=10, SVC__gamma=0.01, feature_selection__k=15 .............\n",
      "[CV]  SVC__C=10, SVC__gamma=0.01, feature_selection__k=15, score=0.482293 -  16.8s\n",
      "[CV] SVC__C=10, SVC__gamma=0.01, feature_selection__k=15 .............\n",
      "[CV]  SVC__C=10, SVC__gamma=0.01, feature_selection__k=15, score=0.482340 -  16.7s\n"
     ]
    },
    {
     "name": "stderr",
     "output_type": "stream",
     "text": [
      "[Parallel(n_jobs=1)]: Done  81 out of  81 | elapsed: 31.0min finished\n"
     ]
    },
    {
     "data": {
      "text/plain": [
       "GridSearchCV(cv=None, error_score='raise',\n",
       "       estimator=Pipeline(memory=None,\n",
       "     steps=[('feature_selection', SelectKBest(k=10, score_func=<function f_classif at 0x10baf9bf8>)), ('SVC', SVC(C=1.0, cache_size=200, class_weight=None, coef0=0.0,\n",
       "  decision_function_shape='ovo', degree=3, gamma='auto', kernel='rbf',\n",
       "  max_iter=-1, probability=False, random_state=None, shrinking=True,\n",
       "  tol=0.001, verbose=False))]),\n",
       "       fit_params={}, iid=True, n_jobs=1,\n",
       "       param_grid={'feature_selection__k': [8, 12, 15], 'SVC__C': [0.1, 1, 10], 'SVC__gamma': [1, 0.1, 0.01]},\n",
       "       pre_dispatch='2*n_jobs', refit=True, scoring=None, verbose=3)"
      ]
     },
     "execution_count": 146,
     "metadata": {},
     "output_type": "execute_result"
    }
   ],
   "source": [
    "grid_svc1 = GridSearchCV(pipeline_svc1, param_grid=parameters_svc1, verbose=3)\n",
    "grid_svc1.fit(X_train, y_train)"
   ]
  },
  {
   "cell_type": "code",
   "execution_count": 147,
   "metadata": {},
   "outputs": [
    {
     "name": "stdout",
     "output_type": "stream",
     "text": [
      "Pipeline(memory=None,\n",
      "     steps=[('feature_selection', SelectKBest(k=15, score_func=<function f_classif at 0x10baf9bf8>)), ('SVC', SVC(C=1, cache_size=200, class_weight=None, coef0=0.0,\n",
      "  decision_function_shape='ovo', degree=3, gamma=0.1, kernel='rbf',\n",
      "  max_iter=-1, probability=False, random_state=None, shrinking=True,\n",
      "  tol=0.001, verbose=False))])\n",
      "                     precision    recall  f1-score   support\n",
      "\n",
      " blues & blues rock       0.53      0.36      0.43        91\n",
      "          classical       0.73      0.86      0.79        97\n",
      "            country       0.40      0.21      0.27       119\n",
      "              dance       0.47      0.60      0.52       198\n",
      "        electronica       0.55      0.37      0.44       125\n",
      "               funk       0.47      0.34      0.40        50\n",
      "              indie       0.20      0.03      0.05       161\n",
      "international/world       0.81      0.29      0.43        99\n",
      "               jazz       0.46      0.65      0.54       194\n",
      "              latin       0.48      0.26      0.34       124\n",
      "             oldies       0.86      0.18      0.30        67\n",
      "                pop       0.80      0.25      0.38        80\n",
      "                r&b       0.33      0.36      0.34       226\n",
      "                rap       0.61      0.71      0.66       237\n",
      "       reggae & ska       0.62      0.37      0.46        79\n",
      "               rock       0.51      0.78      0.62       638\n",
      "  singer-songwriter       0.28      0.23      0.25       107\n",
      "\n",
      "        avg / total       0.50      0.50      0.47      2692\n",
      "\n"
     ]
    }
   ],
   "source": [
    "print(grid_svc1.best_estimator_)\n",
    "predictions_svc1 = grid_svc1.predict(X_test)\n",
    "print(classification_report(y_test, predictions_svc1))"
   ]
  },
  {
   "cell_type": "code",
   "execution_count": 216,
   "metadata": {},
   "outputs": [],
   "source": [
    "pickle.dump(grid_svc1, open('genres_svc_ovo.pickle', 'wb'))"
   ]
  },
  {
   "cell_type": "markdown",
   "metadata": {},
   "source": [
    "### SVC2 on X_scaled and y - OVR"
   ]
  },
  {
   "cell_type": "code",
   "execution_count": 148,
   "metadata": {},
   "outputs": [],
   "source": [
    "svc2 = SVC(decision_function_shape='ovr')\n",
    "selector_svc2 = SelectKBest()\n",
    "steps_svc2 = [('feature_selection', selector_svc2), ('SVC', svc2)]\n",
    "parameters_svc2 = dict(feature_selection__k=[8,12,15], \n",
    "                      SVC__C=[0.1,1, 10],\n",
    "                      SVC__gamma=[1,0.1,0.01])\n",
    "\n",
    "pipeline_svc2 = Pipeline(steps_svc2)"
   ]
  },
  {
   "cell_type": "code",
   "execution_count": 149,
   "metadata": {},
   "outputs": [
    {
     "name": "stdout",
     "output_type": "stream",
     "text": [
      "Fitting 3 folds for each of 27 candidates, totalling 81 fits\n",
      "[CV] SVC__C=0.1, SVC__gamma=1, feature_selection__k=8 ................\n",
      "[CV]  SVC__C=0.1, SVC__gamma=1, feature_selection__k=8, score=0.409974 -  21.1s\n",
      "[CV] SVC__C=0.1, SVC__gamma=1, feature_selection__k=8 ................\n"
     ]
    },
    {
     "name": "stderr",
     "output_type": "stream",
     "text": [
      "[Parallel(n_jobs=1)]: Done   1 out of   1 | elapsed:   21.1s remaining:    0.0s\n"
     ]
    },
    {
     "name": "stdout",
     "output_type": "stream",
     "text": [
      "[CV]  SVC__C=0.1, SVC__gamma=1, feature_selection__k=8, score=0.410104 -  21.0s\n",
      "[CV] SVC__C=0.1, SVC__gamma=1, feature_selection__k=8 ................\n"
     ]
    },
    {
     "name": "stderr",
     "output_type": "stream",
     "text": [
      "[Parallel(n_jobs=1)]: Done   2 out of   2 | elapsed:   42.1s remaining:    0.0s\n"
     ]
    },
    {
     "name": "stdout",
     "output_type": "stream",
     "text": [
      "[CV]  SVC__C=0.1, SVC__gamma=1, feature_selection__k=8, score=0.417152 -  21.1s\n",
      "[CV] SVC__C=0.1, SVC__gamma=1, feature_selection__k=12 ...............\n",
      "[CV]  SVC__C=0.1, SVC__gamma=1, feature_selection__k=12, score=0.304418 -  32.7s\n",
      "[CV] SVC__C=0.1, SVC__gamma=1, feature_selection__k=12 ...............\n",
      "[CV]  SVC__C=0.1, SVC__gamma=1, feature_selection__k=12, score=0.306587 -  33.5s\n",
      "[CV] SVC__C=0.1, SVC__gamma=1, feature_selection__k=12 ...............\n",
      "[CV]  SVC__C=0.1, SVC__gamma=1, feature_selection__k=12, score=0.311315 -  33.2s\n",
      "[CV] SVC__C=0.1, SVC__gamma=1, feature_selection__k=15 ...............\n",
      "[CV]  SVC__C=0.1, SVC__gamma=1, feature_selection__k=15, score=0.296622 -  38.1s\n",
      "[CV] SVC__C=0.1, SVC__gamma=1, feature_selection__k=15 ...............\n",
      "[CV]  SVC__C=0.1, SVC__gamma=1, feature_selection__k=15, score=0.295443 -  38.2s\n",
      "[CV] SVC__C=0.1, SVC__gamma=1, feature_selection__k=15 ...............\n",
      "[CV]  SVC__C=0.1, SVC__gamma=1, feature_selection__k=15, score=0.302516 -  43.5s\n",
      "[CV] SVC__C=0.1, SVC__gamma=0.1, feature_selection__k=8 ..............\n",
      "[CV]  SVC__C=0.1, SVC__gamma=0.1, feature_selection__k=8, score=0.423091 -  13.8s\n",
      "[CV] SVC__C=0.1, SVC__gamma=0.1, feature_selection__k=8 ..............\n",
      "[CV]  SVC__C=0.1, SVC__gamma=0.1, feature_selection__k=8, score=0.431402 -  13.9s\n",
      "[CV] SVC__C=0.1, SVC__gamma=0.1, feature_selection__k=8 ..............\n",
      "[CV]  SVC__C=0.1, SVC__gamma=0.1, feature_selection__k=8, score=0.426571 -  13.9s\n",
      "[CV] SVC__C=0.1, SVC__gamma=0.1, feature_selection__k=12 .............\n",
      "[CV]  SVC__C=0.1, SVC__gamma=0.1, feature_selection__k=12, score=0.444747 -  15.6s\n",
      "[CV] SVC__C=0.1, SVC__gamma=0.1, feature_selection__k=12 .............\n",
      "[CV]  SVC__C=0.1, SVC__gamma=0.1, feature_selection__k=12, score=0.443041 -  15.7s\n",
      "[CV] SVC__C=0.1, SVC__gamma=0.1, feature_selection__k=12 .............\n",
      "[CV]  SVC__C=0.1, SVC__gamma=0.1, feature_selection__k=12, score=0.440823 -  15.6s\n",
      "[CV] SVC__C=0.1, SVC__gamma=0.1, feature_selection__k=15 .............\n",
      "[CV]  SVC__C=0.1, SVC__gamma=0.1, feature_selection__k=15, score=0.440045 -  17.9s\n",
      "[CV] SVC__C=0.1, SVC__gamma=0.1, feature_selection__k=15 .............\n",
      "[CV]  SVC__C=0.1, SVC__gamma=0.1, feature_selection__k=15, score=0.455176 -  18.7s\n",
      "[CV] SVC__C=0.1, SVC__gamma=0.1, feature_selection__k=15 .............\n",
      "[CV]  SVC__C=0.1, SVC__gamma=0.1, feature_selection__k=15, score=0.448383 -  18.0s\n",
      "[CV] SVC__C=0.1, SVC__gamma=0.01, feature_selection__k=8 .............\n",
      "[CV]  SVC__C=0.1, SVC__gamma=0.01, feature_selection__k=8, score=0.392154 -  15.3s\n",
      "[CV] SVC__C=0.1, SVC__gamma=0.01, feature_selection__k=8 .............\n",
      "[CV]  SVC__C=0.1, SVC__gamma=0.01, feature_selection__k=8, score=0.389178 -  15.1s\n",
      "[CV] SVC__C=0.1, SVC__gamma=0.01, feature_selection__k=8 .............\n",
      "[CV]  SVC__C=0.1, SVC__gamma=0.01, feature_selection__k=8, score=0.391870 -  15.1s\n",
      "[CV] SVC__C=0.1, SVC__gamma=0.01, feature_selection__k=12 ............\n",
      "[CV]  SVC__C=0.1, SVC__gamma=0.01, feature_selection__k=12, score=0.408365 -  16.7s\n",
      "[CV] SVC__C=0.1, SVC__gamma=0.01, feature_selection__k=12 ............\n",
      "[CV]  SVC__C=0.1, SVC__gamma=0.01, feature_selection__k=12, score=0.405275 -  16.8s\n",
      "[CV] SVC__C=0.1, SVC__gamma=0.01, feature_selection__k=12 ............\n",
      "[CV]  SVC__C=0.1, SVC__gamma=0.01, feature_selection__k=12, score=0.404139 -  17.9s\n",
      "[CV] SVC__C=0.1, SVC__gamma=0.01, feature_selection__k=15 ............\n",
      "[CV]  SVC__C=0.1, SVC__gamma=0.01, feature_selection__k=15, score=0.409727 -  18.5s\n",
      "[CV] SVC__C=0.1, SVC__gamma=0.01, feature_selection__k=15 ............\n",
      "[CV]  SVC__C=0.1, SVC__gamma=0.01, feature_selection__k=15, score=0.407256 -  19.6s\n",
      "[CV] SVC__C=0.1, SVC__gamma=0.01, feature_selection__k=15 ............\n",
      "[CV]  SVC__C=0.1, SVC__gamma=0.01, feature_selection__k=15, score=0.408725 -  22.4s\n",
      "[CV] SVC__C=1, SVC__gamma=1, feature_selection__k=8 ..................\n",
      "[CV]  SVC__C=1, SVC__gamma=1, feature_selection__k=8, score=0.452296 -  24.3s\n",
      "[CV] SVC__C=1, SVC__gamma=1, feature_selection__k=8 ..................\n",
      "[CV]  SVC__C=1, SVC__gamma=1, feature_selection__k=8, score=0.452576 -  22.4s\n",
      "[CV] SVC__C=1, SVC__gamma=1, feature_selection__k=8 ..................\n",
      "[CV]  SVC__C=1, SVC__gamma=1, feature_selection__k=8, score=0.461767 -  22.3s\n",
      "[CV] SVC__C=1, SVC__gamma=1, feature_selection__k=12 .................\n",
      "[CV]  SVC__C=1, SVC__gamma=1, feature_selection__k=12, score=0.410222 -  36.8s\n",
      "[CV] SVC__C=1, SVC__gamma=1, feature_selection__k=12 .................\n",
      "[CV]  SVC__C=1, SVC__gamma=1, feature_selection__k=12, score=0.418772 -  36.9s\n",
      "[CV] SVC__C=1, SVC__gamma=1, feature_selection__k=12 .................\n",
      "[CV]  SVC__C=1, SVC__gamma=1, feature_selection__k=12, score=0.421490 -  36.8s\n",
      "[CV] SVC__C=1, SVC__gamma=1, feature_selection__k=15 .................\n",
      "[CV]  SVC__C=1, SVC__gamma=1, feature_selection__k=15, score=0.346739 -  43.1s\n",
      "[CV] SVC__C=1, SVC__gamma=1, feature_selection__k=15 .................\n",
      "[CV]  SVC__C=1, SVC__gamma=1, feature_selection__k=15, score=0.356117 -  45.6s\n",
      "[CV] SVC__C=1, SVC__gamma=1, feature_selection__k=15 .................\n",
      "[CV]  SVC__C=1, SVC__gamma=1, feature_selection__k=15, score=0.355434 -  43.8s\n",
      "[CV] SVC__C=1, SVC__gamma=0.1, feature_selection__k=8 ................\n",
      "[CV]  SVC__C=1, SVC__gamma=0.1, feature_selection__k=8, score=0.454275 -  13.9s\n",
      "[CV] SVC__C=1, SVC__gamma=0.1, feature_selection__k=8 ................\n",
      "[CV]  SVC__C=1, SVC__gamma=0.1, feature_selection__k=8, score=0.458024 -  15.2s\n",
      "[CV] SVC__C=1, SVC__gamma=0.1, feature_selection__k=8 ................\n",
      "[CV]  SVC__C=1, SVC__gamma=0.1, feature_selection__k=8, score=0.463998 -  15.9s\n",
      "[CV] SVC__C=1, SVC__gamma=0.1, feature_selection__k=12 ...............\n",
      "[CV]  SVC__C=1, SVC__gamma=0.1, feature_selection__k=12, score=0.485460 -  15.3s\n",
      "[CV] SVC__C=1, SVC__gamma=0.1, feature_selection__k=12 ...............\n",
      "[CV]  SVC__C=1, SVC__gamma=0.1, feature_selection__k=12, score=0.492075 -  15.3s\n",
      "[CV] SVC__C=1, SVC__gamma=0.1, feature_selection__k=12 ...............\n",
      "[CV]  SVC__C=1, SVC__gamma=0.1, feature_selection__k=12, score=0.491883 -  15.1s\n",
      "[CV] SVC__C=1, SVC__gamma=0.1, feature_selection__k=15 ...............\n",
      "[CV]  SVC__C=1, SVC__gamma=0.1, feature_selection__k=15, score=0.490162 -  18.1s\n",
      "[CV] SVC__C=1, SVC__gamma=0.1, feature_selection__k=15 ...............\n",
      "[CV]  SVC__C=1, SVC__gamma=0.1, feature_selection__k=15, score=0.497028 -  17.5s\n",
      "[CV] SVC__C=1, SVC__gamma=0.1, feature_selection__k=15 ...............\n",
      "[CV]  SVC__C=1, SVC__gamma=0.1, feature_selection__k=15, score=0.498451 -  18.7s\n",
      "[CV] SVC__C=1, SVC__gamma=0.01, feature_selection__k=8 ...............\n",
      "[CV]  SVC__C=1, SVC__gamma=0.01, feature_selection__k=8, score=0.421359 -  15.8s\n",
      "[CV] SVC__C=1, SVC__gamma=0.01, feature_selection__k=8 ...............\n",
      "[CV]  SVC__C=1, SVC__gamma=0.01, feature_selection__k=8, score=0.429297 -  13.9s\n",
      "[CV] SVC__C=1, SVC__gamma=0.01, feature_selection__k=8 ...............\n",
      "[CV]  SVC__C=1, SVC__gamma=0.01, feature_selection__k=8, score=0.427438 -  13.8s\n",
      "[CV] SVC__C=1, SVC__gamma=0.01, feature_selection__k=12 ..............\n",
      "[CV]  SVC__C=1, SVC__gamma=0.01, feature_selection__k=12, score=0.444004 -  14.6s\n",
      "[CV] SVC__C=1, SVC__gamma=0.01, feature_selection__k=12 ..............\n",
      "[CV]  SVC__C=1, SVC__gamma=0.01, feature_selection__k=12, score=0.448489 -  14.8s\n",
      "[CV] SVC__C=1, SVC__gamma=0.01, feature_selection__k=12 ..............\n",
      "[CV]  SVC__C=1, SVC__gamma=0.01, feature_selection__k=12, score=0.446524 -  14.5s\n",
      "[CV] SVC__C=1, SVC__gamma=0.01, feature_selection__k=15 ..............\n",
      "[CV]  SVC__C=1, SVC__gamma=0.01, feature_selection__k=15, score=0.446603 -  15.8s\n",
      "[CV] SVC__C=1, SVC__gamma=0.01, feature_selection__k=15 ..............\n",
      "[CV]  SVC__C=1, SVC__gamma=0.01, feature_selection__k=15, score=0.456290 -  16.5s\n",
      "[CV] SVC__C=1, SVC__gamma=0.01, feature_selection__k=15 ..............\n",
      "[CV]  SVC__C=1, SVC__gamma=0.01, feature_selection__k=15, score=0.448754 -  19.0s\n",
      "[CV] SVC__C=10, SVC__gamma=1, feature_selection__k=8 .................\n",
      "[CV]  SVC__C=10, SVC__gamma=1, feature_selection__k=8, score=0.397599 -  26.9s\n",
      "[CV] SVC__C=10, SVC__gamma=1, feature_selection__k=8 .................\n",
      "[CV]  SVC__C=10, SVC__gamma=1, feature_selection__k=8, score=0.397350 -  26.5s\n",
      "[CV] SVC__C=10, SVC__gamma=1, feature_selection__k=8 .................\n"
     ]
    },
    {
     "name": "stdout",
     "output_type": "stream",
     "text": [
      "[CV]  SVC__C=10, SVC__gamma=1, feature_selection__k=8, score=0.408105 -  29.3s\n",
      "[CV] SVC__C=10, SVC__gamma=1, feature_selection__k=12 ................\n",
      "[CV]  SVC__C=10, SVC__gamma=1, feature_selection__k=12, score=0.390917 -  39.0s\n",
      "[CV] SVC__C=10, SVC__gamma=1, feature_selection__k=12 ................\n",
      "[CV]  SVC__C=10, SVC__gamma=1, feature_selection__k=12, score=0.407132 -  40.0s\n",
      "[CV] SVC__C=10, SVC__gamma=1, feature_selection__k=12 ................\n",
      "[CV]  SVC__C=10, SVC__gamma=1, feature_selection__k=12, score=0.401785 -  40.5s\n",
      "[CV] SVC__C=10, SVC__gamma=1, feature_selection__k=15 ................\n",
      "[CV]  SVC__C=10, SVC__gamma=1, feature_selection__k=15, score=0.356144 -  43.4s\n",
      "[CV] SVC__C=10, SVC__gamma=1, feature_selection__k=15 ................\n",
      "[CV]  SVC__C=10, SVC__gamma=1, feature_selection__k=15, score=0.363422 -  43.5s\n",
      "[CV] SVC__C=10, SVC__gamma=1, feature_selection__k=15 ................\n",
      "[CV]  SVC__C=10, SVC__gamma=1, feature_selection__k=15, score=0.364729 -  44.7s\n",
      "[CV] SVC__C=10, SVC__gamma=0.1, feature_selection__k=8 ...............\n",
      "[CV]  SVC__C=10, SVC__gamma=0.1, feature_selection__k=8, score=0.460215 -  17.8s\n",
      "[CV] SVC__C=10, SVC__gamma=0.1, feature_selection__k=8 ...............\n",
      "[CV]  SVC__C=10, SVC__gamma=0.1, feature_selection__k=8, score=0.465453 -  17.5s\n",
      "[CV] SVC__C=10, SVC__gamma=0.1, feature_selection__k=8 ...............\n",
      "[CV]  SVC__C=10, SVC__gamma=0.1, feature_selection__k=8, score=0.471186 -  17.5s\n",
      "[CV] SVC__C=10, SVC__gamma=0.1, feature_selection__k=12 ..............\n",
      "[CV]  SVC__C=10, SVC__gamma=0.1, feature_selection__k=12, score=0.469373 -  19.6s\n",
      "[CV] SVC__C=10, SVC__gamma=0.1, feature_selection__k=12 ..............\n",
      "[CV]  SVC__C=10, SVC__gamma=0.1, feature_selection__k=12, score=0.484027 -  19.9s\n",
      "[CV] SVC__C=10, SVC__gamma=0.1, feature_selection__k=12 ..............\n",
      "[CV]  SVC__C=10, SVC__gamma=0.1, feature_selection__k=12, score=0.482216 -  20.0s\n",
      "[CV] SVC__C=10, SVC__gamma=0.1, feature_selection__k=15 ..............\n",
      "[CV]  SVC__C=10, SVC__gamma=0.1, feature_selection__k=15, score=0.461329 -  24.6s\n",
      "[CV] SVC__C=10, SVC__gamma=0.1, feature_selection__k=15 ..............\n",
      "[CV]  SVC__C=10, SVC__gamma=0.1, feature_selection__k=15, score=0.476845 -  25.1s\n",
      "[CV] SVC__C=10, SVC__gamma=0.1, feature_selection__k=15 ..............\n",
      "[CV]  SVC__C=10, SVC__gamma=0.1, feature_selection__k=15, score=0.471806 -  22.9s\n",
      "[CV] SVC__C=10, SVC__gamma=0.01, feature_selection__k=8 ..............\n",
      "[CV]  SVC__C=10, SVC__gamma=0.01, feature_selection__k=8, score=0.429031 -  14.8s\n",
      "[CV] SVC__C=10, SVC__gamma=0.01, feature_selection__k=8 ..............\n",
      "[CV]  SVC__C=10, SVC__gamma=0.01, feature_selection__k=8, score=0.436974 -  15.7s\n",
      "[CV] SVC__C=10, SVC__gamma=0.01, feature_selection__k=8 ..............\n",
      "[CV]  SVC__C=10, SVC__gamma=0.01, feature_selection__k=8, score=0.434626 -  14.6s\n",
      "[CV] SVC__C=10, SVC__gamma=0.01, feature_selection__k=12 .............\n",
      "[CV]  SVC__C=10, SVC__gamma=0.01, feature_selection__k=12, score=0.466279 -  14.9s\n",
      "[CV] SVC__C=10, SVC__gamma=0.01, feature_selection__k=12 .............\n",
      "[CV]  SVC__C=10, SVC__gamma=0.01, feature_selection__k=12, score=0.464586 -  15.3s\n",
      "[CV] SVC__C=10, SVC__gamma=0.01, feature_selection__k=12 .............\n",
      "[CV]  SVC__C=10, SVC__gamma=0.01, feature_selection__k=12, score=0.464989 -  15.0s\n",
      "[CV] SVC__C=10, SVC__gamma=0.01, feature_selection__k=15 .............\n",
      "[CV]  SVC__C=10, SVC__gamma=0.01, feature_selection__k=15, score=0.472714 -  16.4s\n",
      "[CV] SVC__C=10, SVC__gamma=0.01, feature_selection__k=15 .............\n",
      "[CV]  SVC__C=10, SVC__gamma=0.01, feature_selection__k=15, score=0.482293 -  17.2s\n",
      "[CV] SVC__C=10, SVC__gamma=0.01, feature_selection__k=15 .............\n",
      "[CV]  SVC__C=10, SVC__gamma=0.01, feature_selection__k=15, score=0.482340 -  16.6s\n"
     ]
    },
    {
     "name": "stderr",
     "output_type": "stream",
     "text": [
      "[Parallel(n_jobs=1)]: Done  81 out of  81 | elapsed: 30.6min finished\n"
     ]
    },
    {
     "data": {
      "text/plain": [
       "GridSearchCV(cv=None, error_score='raise',\n",
       "       estimator=Pipeline(memory=None,\n",
       "     steps=[('feature_selection', SelectKBest(k=10, score_func=<function f_classif at 0x10baf9bf8>)), ('SVC', SVC(C=1.0, cache_size=200, class_weight=None, coef0=0.0,\n",
       "  decision_function_shape='ovr', degree=3, gamma='auto', kernel='rbf',\n",
       "  max_iter=-1, probability=False, random_state=None, shrinking=True,\n",
       "  tol=0.001, verbose=False))]),\n",
       "       fit_params={}, iid=True, n_jobs=1,\n",
       "       param_grid={'feature_selection__k': [8, 12, 15], 'SVC__C': [0.1, 1, 10], 'SVC__gamma': [1, 0.1, 0.01]},\n",
       "       pre_dispatch='2*n_jobs', refit=True, scoring=None, verbose=3)"
      ]
     },
     "execution_count": 149,
     "metadata": {},
     "output_type": "execute_result"
    }
   ],
   "source": [
    "grid_svc2 = GridSearchCV(pipeline_svc2, param_grid=parameters_svc2, verbose=3)\n",
    "grid_svc2.fit(X_train, y_train)"
   ]
  },
  {
   "cell_type": "code",
   "execution_count": 150,
   "metadata": {},
   "outputs": [
    {
     "name": "stdout",
     "output_type": "stream",
     "text": [
      "Pipeline(memory=None,\n",
      "     steps=[('feature_selection', SelectKBest(k=15, score_func=<function f_classif at 0x10baf9bf8>)), ('SVC', SVC(C=1, cache_size=200, class_weight=None, coef0=0.0,\n",
      "  decision_function_shape='ovr', degree=3, gamma=0.1, kernel='rbf',\n",
      "  max_iter=-1, probability=False, random_state=None, shrinking=True,\n",
      "  tol=0.001, verbose=False))])\n",
      "                     precision    recall  f1-score   support\n",
      "\n",
      " blues & blues rock       0.53      0.36      0.43        91\n",
      "          classical       0.73      0.86      0.79        97\n",
      "            country       0.40      0.21      0.27       119\n",
      "              dance       0.47      0.60      0.52       198\n",
      "        electronica       0.55      0.37      0.44       125\n",
      "               funk       0.47      0.34      0.40        50\n",
      "              indie       0.20      0.03      0.05       161\n",
      "international/world       0.81      0.29      0.43        99\n",
      "               jazz       0.46      0.65      0.54       194\n",
      "              latin       0.48      0.26      0.34       124\n",
      "             oldies       0.86      0.18      0.30        67\n",
      "                pop       0.80      0.25      0.38        80\n",
      "                r&b       0.33      0.36      0.34       226\n",
      "                rap       0.61      0.71      0.66       237\n",
      "       reggae & ska       0.62      0.37      0.46        79\n",
      "               rock       0.51      0.78      0.62       638\n",
      "  singer-songwriter       0.28      0.23      0.25       107\n",
      "\n",
      "        avg / total       0.50      0.50      0.47      2692\n",
      "\n"
     ]
    }
   ],
   "source": [
    "print(grid_svc2.best_estimator_)\n",
    "predictions_svc2 = grid_svc2.predict(X_test)\n",
    "print(classification_report(y_test, predictions_svc2))"
   ]
  },
  {
   "cell_type": "code",
   "execution_count": 217,
   "metadata": {},
   "outputs": [],
   "source": [
    "pickle.dump(grid_svc2, open('genres_svc_ovr.pickle', 'wb'))"
   ]
  },
  {
   "cell_type": "markdown",
   "metadata": {},
   "source": [
    "Same score for both, is there an issue?"
   ]
  },
  {
   "cell_type": "markdown",
   "metadata": {},
   "source": [
    "Let's try with our rock under-sampled the OVO/OVR method"
   ]
  },
  {
   "cell_type": "markdown",
   "metadata": {},
   "source": [
    "### SVC3 on X_rock and y_rock - OVR"
   ]
  },
  {
   "cell_type": "code",
   "execution_count": 179,
   "metadata": {},
   "outputs": [],
   "source": [
    "X_train, X_test, y_train, y_test = train_test_split(X_rock, y_rock, test_size=0.1, random_state=101)\n",
    "svc3 = SVC(decision_function_shape='ovr')\n",
    "selector_svc3 = SelectKBest()\n",
    "steps_svc3 = [('feature_selection', selector_svc3), ('SVC', svc3)]\n",
    "parameters_svc3 = dict(feature_selection__k=[8,12,15], \n",
    "                      SVC__C=[0.1,1, 10],\n",
    "                      SVC__gamma=[1,0.1,0.01])\n",
    "\n",
    "pipeline_svc3 = Pipeline(steps_svc3)"
   ]
  },
  {
   "cell_type": "code",
   "execution_count": 180,
   "metadata": {},
   "outputs": [
    {
     "name": "stdout",
     "output_type": "stream",
     "text": [
      "Fitting 3 folds for each of 27 candidates, totalling 81 fits\n",
      "[CV] SVC__C=0.1, SVC__gamma=1, feature_selection__k=8 ................\n",
      "[CV]  SVC__C=0.1, SVC__gamma=1, feature_selection__k=8, score=0.390875 -  16.5s\n",
      "[CV] SVC__C=0.1, SVC__gamma=1, feature_selection__k=8 ................\n"
     ]
    },
    {
     "name": "stderr",
     "output_type": "stream",
     "text": [
      "[Parallel(n_jobs=1)]: Done   1 out of   1 | elapsed:   16.5s remaining:    0.0s\n"
     ]
    },
    {
     "name": "stdout",
     "output_type": "stream",
     "text": [
      "[CV]  SVC__C=0.1, SVC__gamma=1, feature_selection__k=8, score=0.383910 -  15.9s\n",
      "[CV] SVC__C=0.1, SVC__gamma=1, feature_selection__k=8 ................\n"
     ]
    },
    {
     "name": "stderr",
     "output_type": "stream",
     "text": [
      "[Parallel(n_jobs=1)]: Done   2 out of   2 | elapsed:   32.4s remaining:    0.0s\n"
     ]
    },
    {
     "name": "stdout",
     "output_type": "stream",
     "text": [
      "[CV]  SVC__C=0.1, SVC__gamma=1, feature_selection__k=8, score=0.385590 -  13.9s\n",
      "[CV] SVC__C=0.1, SVC__gamma=1, feature_selection__k=12 ...............\n",
      "[CV]  SVC__C=0.1, SVC__gamma=1, feature_selection__k=12, score=0.239611 -  19.9s\n",
      "[CV] SVC__C=0.1, SVC__gamma=1, feature_selection__k=12 ...............\n",
      "[CV]  SVC__C=0.1, SVC__gamma=1, feature_selection__k=12, score=0.237998 -  19.9s\n",
      "[CV] SVC__C=0.1, SVC__gamma=1, feature_selection__k=12 ...............\n",
      "[CV]  SVC__C=0.1, SVC__gamma=1, feature_selection__k=12, score=0.247744 -  20.2s\n",
      "[CV] SVC__C=0.1, SVC__gamma=1, feature_selection__k=15 ...............\n",
      "[CV]  SVC__C=0.1, SVC__gamma=1, feature_selection__k=15, score=0.178146 -  23.3s\n",
      "[CV] SVC__C=0.1, SVC__gamma=1, feature_selection__k=15 ...............\n",
      "[CV]  SVC__C=0.1, SVC__gamma=1, feature_selection__k=15, score=0.174571 -  23.2s\n",
      "[CV] SVC__C=0.1, SVC__gamma=1, feature_selection__k=15 ...............\n",
      "[CV]  SVC__C=0.1, SVC__gamma=1, feature_selection__k=15, score=0.179913 -  22.9s\n",
      "[CV] SVC__C=0.1, SVC__gamma=0.1, feature_selection__k=8 ..............\n",
      "[CV]  SVC__C=0.1, SVC__gamma=0.1, feature_selection__k=8, score=0.384627 -   9.9s\n",
      "[CV] SVC__C=0.1, SVC__gamma=0.1, feature_selection__k=8 ..............\n",
      "[CV]  SVC__C=0.1, SVC__gamma=0.1, feature_selection__k=8, score=0.384492 -   9.9s\n",
      "[CV] SVC__C=0.1, SVC__gamma=0.1, feature_selection__k=8 ..............\n",
      "[CV]  SVC__C=0.1, SVC__gamma=0.1, feature_selection__k=8, score=0.374236 -   9.9s\n",
      "[CV] SVC__C=0.1, SVC__gamma=0.1, feature_selection__k=12 .............\n",
      "[CV]  SVC__C=0.1, SVC__gamma=0.1, feature_selection__k=12, score=0.418192 -  11.4s\n",
      "[CV] SVC__C=0.1, SVC__gamma=0.1, feature_selection__k=12 .............\n",
      "[CV]  SVC__C=0.1, SVC__gamma=0.1, feature_selection__k=12, score=0.418970 -  12.4s\n",
      "[CV] SVC__C=0.1, SVC__gamma=0.1, feature_selection__k=12 .............\n",
      "[CV]  SVC__C=0.1, SVC__gamma=0.1, feature_selection__k=12, score=0.419796 -  11.6s\n",
      "[CV] SVC__C=0.1, SVC__gamma=0.1, feature_selection__k=15 .............\n",
      "[CV]  SVC__C=0.1, SVC__gamma=0.1, feature_selection__k=15, score=0.428219 -  13.1s\n",
      "[CV] SVC__C=0.1, SVC__gamma=0.1, feature_selection__k=15 .............\n",
      "[CV]  SVC__C=0.1, SVC__gamma=0.1, feature_selection__k=15, score=0.419261 -  13.2s\n",
      "[CV] SVC__C=0.1, SVC__gamma=0.1, feature_selection__k=15 .............\n",
      "[CV]  SVC__C=0.1, SVC__gamma=0.1, feature_selection__k=15, score=0.423872 -  13.2s\n",
      "[CV] SVC__C=0.1, SVC__gamma=0.01, feature_selection__k=8 .............\n",
      "[CV]  SVC__C=0.1, SVC__gamma=0.01, feature_selection__k=8, score=0.346992 -  13.0s\n",
      "[CV] SVC__C=0.1, SVC__gamma=0.01, feature_selection__k=8 .............\n",
      "[CV]  SVC__C=0.1, SVC__gamma=0.01, feature_selection__k=8, score=0.351615 -  14.3s\n",
      "[CV] SVC__C=0.1, SVC__gamma=0.01, feature_selection__k=8 .............\n",
      "[CV]  SVC__C=0.1, SVC__gamma=0.01, feature_selection__k=8, score=0.338865 -  12.3s\n",
      "[CV] SVC__C=0.1, SVC__gamma=0.01, feature_selection__k=12 ............\n",
      "[CV]  SVC__C=0.1, SVC__gamma=0.01, feature_selection__k=12, score=0.372711 -  13.6s\n",
      "[CV] SVC__C=0.1, SVC__gamma=0.01, feature_selection__k=12 ............\n",
      "[CV]  SVC__C=0.1, SVC__gamma=0.01, feature_selection__k=12, score=0.375764 -  12.5s\n",
      "[CV] SVC__C=0.1, SVC__gamma=0.01, feature_selection__k=12 ............\n",
      "[CV]  SVC__C=0.1, SVC__gamma=0.01, feature_selection__k=12, score=0.371907 -  12.6s\n",
      "[CV] SVC__C=0.1, SVC__gamma=0.01, feature_selection__k=15 ............\n",
      "[CV]  SVC__C=0.1, SVC__gamma=0.01, feature_selection__k=15, score=0.376199 -  13.6s\n",
      "[CV] SVC__C=0.1, SVC__gamma=0.01, feature_selection__k=15 ............\n",
      "[CV]  SVC__C=0.1, SVC__gamma=0.01, feature_selection__k=15, score=0.380273 -  13.7s\n",
      "[CV] SVC__C=0.1, SVC__gamma=0.01, feature_selection__k=15 ............\n",
      "[CV]  SVC__C=0.1, SVC__gamma=0.01, feature_selection__k=15, score=0.375400 -  13.6s\n",
      "[CV] SVC__C=1, SVC__gamma=1, feature_selection__k=8 ..................\n",
      "[CV]  SVC__C=1, SVC__gamma=1, feature_selection__k=8, score=0.424876 -  14.9s\n",
      "[CV] SVC__C=1, SVC__gamma=1, feature_selection__k=8 ..................\n",
      "[CV]  SVC__C=1, SVC__gamma=1, feature_selection__k=8, score=0.413442 -  14.8s\n",
      "[CV] SVC__C=1, SVC__gamma=1, feature_selection__k=8 ..................\n",
      "[CV]  SVC__C=1, SVC__gamma=1, feature_selection__k=8, score=0.420670 -  14.4s\n",
      "[CV] SVC__C=1, SVC__gamma=1, feature_selection__k=12 .................\n",
      "[CV]  SVC__C=1, SVC__gamma=1, feature_selection__k=12, score=0.404969 -  22.8s\n",
      "[CV] SVC__C=1, SVC__gamma=1, feature_selection__k=12 .................\n",
      "[CV]  SVC__C=1, SVC__gamma=1, feature_selection__k=12, score=0.400640 -  22.9s\n",
      "[CV] SVC__C=1, SVC__gamma=1, feature_selection__k=12 .................\n",
      "[CV]  SVC__C=1, SVC__gamma=1, feature_selection__k=12, score=0.411499 -  23.0s\n",
      "[CV] SVC__C=1, SVC__gamma=1, feature_selection__k=15 .................\n",
      "[CV]  SVC__C=1, SVC__gamma=1, feature_selection__k=15, score=0.337983 -  27.1s\n",
      "[CV] SVC__C=1, SVC__gamma=1, feature_selection__k=15 .................\n",
      "[CV]  SVC__C=1, SVC__gamma=1, feature_selection__k=15, score=0.334449 -  30.5s\n",
      "[CV] SVC__C=1, SVC__gamma=1, feature_selection__k=15 .................\n",
      "[CV]  SVC__C=1, SVC__gamma=1, feature_selection__k=15, score=0.347162 -  30.5s\n",
      "[CV] SVC__C=1, SVC__gamma=0.1, feature_selection__k=8 ................\n",
      "[CV]  SVC__C=1, SVC__gamma=0.1, feature_selection__k=8, score=0.428509 -  11.6s\n",
      "[CV] SVC__C=1, SVC__gamma=0.1, feature_selection__k=8 ................\n",
      "[CV]  SVC__C=1, SVC__gamma=0.1, feature_selection__k=8, score=0.424207 -   9.9s\n",
      "[CV] SVC__C=1, SVC__gamma=0.1, feature_selection__k=8 ................\n",
      "[CV]  SVC__C=1, SVC__gamma=0.1, feature_selection__k=8, score=0.412227 -   9.6s\n",
      "[CV] SVC__C=1, SVC__gamma=0.1, feature_selection__k=12 ...............\n",
      "[CV]  SVC__C=1, SVC__gamma=0.1, feature_selection__k=12, score=0.450305 -  10.6s\n",
      "[CV] SVC__C=1, SVC__gamma=0.1, feature_selection__k=12 ...............\n",
      "[CV]  SVC__C=1, SVC__gamma=0.1, feature_selection__k=12, score=0.457667 -  10.7s\n",
      "[CV] SVC__C=1, SVC__gamma=0.1, feature_selection__k=12 ...............\n",
      "[CV]  SVC__C=1, SVC__gamma=0.1, feature_selection__k=12, score=0.455313 -  10.6s\n",
      "[CV] SVC__C=1, SVC__gamma=0.1, feature_selection__k=15 ...............\n",
      "[CV]  SVC__C=1, SVC__gamma=0.1, feature_selection__k=15, score=0.462220 -  12.3s\n",
      "[CV] SVC__C=1, SVC__gamma=0.1, feature_selection__k=15 ...............\n",
      "[CV]  SVC__C=1, SVC__gamma=0.1, feature_selection__k=15, score=0.459558 -  12.4s\n",
      "[CV] SVC__C=1, SVC__gamma=0.1, feature_selection__k=15 ...............\n",
      "[CV]  SVC__C=1, SVC__gamma=0.1, feature_selection__k=15, score=0.463901 -  12.3s\n",
      "[CV] SVC__C=1, SVC__gamma=0.01, feature_selection__k=8 ...............\n",
      "[CV]  SVC__C=1, SVC__gamma=0.01, feature_selection__k=8, score=0.380994 -   9.8s\n",
      "[CV] SVC__C=1, SVC__gamma=0.01, feature_selection__k=8 ...............\n",
      "[CV]  SVC__C=1, SVC__gamma=0.01, feature_selection__k=8, score=0.386529 -   9.8s\n",
      "[CV] SVC__C=1, SVC__gamma=0.01, feature_selection__k=8 ...............\n",
      "[CV]  SVC__C=1, SVC__gamma=0.01, feature_selection__k=8, score=0.370888 -   9.9s\n",
      "[CV] SVC__C=1, SVC__gamma=0.01, feature_selection__k=12 ..............\n",
      "[CV]  SVC__C=1, SVC__gamma=0.01, feature_selection__k=12, score=0.410782 -  10.3s\n",
      "[CV] SVC__C=1, SVC__gamma=0.01, feature_selection__k=12 ..............\n",
      "[CV]  SVC__C=1, SVC__gamma=0.01, feature_selection__k=12, score=0.413587 -  10.4s\n",
      "[CV] SVC__C=1, SVC__gamma=0.01, feature_selection__k=12 ..............\n",
      "[CV]  SVC__C=1, SVC__gamma=0.01, feature_selection__k=12, score=0.409461 -  10.4s\n",
      "[CV] SVC__C=1, SVC__gamma=0.01, feature_selection__k=15 ..............\n",
      "[CV]  SVC__C=1, SVC__gamma=0.01, feature_selection__k=15, score=0.413833 -  13.3s\n",
      "[CV] SVC__C=1, SVC__gamma=0.01, feature_selection__k=15 ..............\n",
      "[CV]  SVC__C=1, SVC__gamma=0.01, feature_selection__k=15, score=0.416206 -  12.4s\n",
      "[CV] SVC__C=1, SVC__gamma=0.01, feature_selection__k=15 ..............\n",
      "[CV]  SVC__C=1, SVC__gamma=0.01, feature_selection__k=15, score=0.426346 -541.8min\n",
      "[CV] SVC__C=10, SVC__gamma=1, feature_selection__k=8 .................\n",
      "[CV]  SVC__C=10, SVC__gamma=1, feature_selection__k=8, score=0.365010 -  19.4s\n",
      "[CV] SVC__C=10, SVC__gamma=1, feature_selection__k=8 .................\n",
      "[CV]  SVC__C=10, SVC__gamma=1, feature_selection__k=8, score=0.352342 -  19.1s\n",
      "[CV] SVC__C=10, SVC__gamma=1, feature_selection__k=8 .................\n"
     ]
    },
    {
     "name": "stdout",
     "output_type": "stream",
     "text": [
      "[CV]  SVC__C=10, SVC__gamma=1, feature_selection__k=8, score=0.369578 -  18.2s\n",
      "[CV] SVC__C=10, SVC__gamma=1, feature_selection__k=12 ................\n",
      "[CV]  SVC__C=10, SVC__gamma=1, feature_selection__k=12, score=0.371694 -  23.7s\n",
      "[CV] SVC__C=10, SVC__gamma=1, feature_selection__k=12 ................\n",
      "[CV]  SVC__C=10, SVC__gamma=1, feature_selection__k=12, score=0.378382 -  24.3s\n",
      "[CV] SVC__C=10, SVC__gamma=1, feature_selection__k=12 ................\n",
      "[CV]  SVC__C=10, SVC__gamma=1, feature_selection__k=12, score=0.384862 -  26.0s\n",
      "[CV] SVC__C=10, SVC__gamma=1, feature_selection__k=15 ................\n",
      "[CV]  SVC__C=10, SVC__gamma=1, feature_selection__k=15, score=0.342924 -  26.4s\n",
      "[CV] SVC__C=10, SVC__gamma=1, feature_selection__k=15 ................\n",
      "[CV]  SVC__C=10, SVC__gamma=1, feature_selection__k=15, score=0.339395 -  26.4s\n",
      "[CV] SVC__C=10, SVC__gamma=1, feature_selection__k=15 ................\n",
      "[CV]  SVC__C=10, SVC__gamma=1, feature_selection__k=15, score=0.352111 -  29.3s\n",
      "[CV] SVC__C=10, SVC__gamma=0.1, feature_selection__k=8 ...............\n",
      "[CV]  SVC__C=10, SVC__gamma=0.1, feature_selection__k=8, score=0.434612 -  13.4s\n",
      "[CV] SVC__C=10, SVC__gamma=0.1, feature_selection__k=8 ...............\n",
      "[CV]  SVC__C=10, SVC__gamma=0.1, feature_selection__k=8, score=0.432208 -  12.3s\n",
      "[CV] SVC__C=10, SVC__gamma=0.1, feature_selection__k=8 ...............\n",
      "[CV]  SVC__C=10, SVC__gamma=0.1, feature_selection__k=8, score=0.425328 -  11.9s\n",
      "[CV] SVC__C=10, SVC__gamma=0.1, feature_selection__k=12 ..............\n",
      "[CV]  SVC__C=10, SVC__gamma=0.1, feature_selection__k=12, score=0.443040 -  14.1s\n",
      "[CV] SVC__C=10, SVC__gamma=0.1, feature_selection__k=12 ..............\n",
      "[CV]  SVC__C=10, SVC__gamma=0.1, feature_selection__k=12, score=0.444719 -  14.3s\n",
      "[CV] SVC__C=10, SVC__gamma=0.1, feature_selection__k=12 ..............\n",
      "[CV]  SVC__C=10, SVC__gamma=0.1, feature_selection__k=12, score=0.444978 -  14.3s\n",
      "[CV] SVC__C=10, SVC__gamma=0.1, feature_selection__k=15 ..............\n",
      "[CV]  SVC__C=10, SVC__gamma=0.1, feature_selection__k=15, score=0.442749 -  16.8s\n",
      "[CV] SVC__C=10, SVC__gamma=0.1, feature_selection__k=15 ..............\n",
      "[CV]  SVC__C=10, SVC__gamma=0.1, feature_selection__k=15, score=0.437882 -  16.8s\n",
      "[CV] SVC__C=10, SVC__gamma=0.1, feature_selection__k=15 ..............\n",
      "[CV]  SVC__C=10, SVC__gamma=0.1, feature_selection__k=15, score=0.431150 -  16.8s\n",
      "[CV] SVC__C=10, SVC__gamma=0.01, feature_selection__k=8 ..............\n",
      "[CV]  SVC__C=10, SVC__gamma=0.01, feature_selection__k=8, score=0.390148 -  10.2s\n",
      "[CV] SVC__C=10, SVC__gamma=0.01, feature_selection__k=8 ..............\n",
      "[CV]  SVC__C=10, SVC__gamma=0.01, feature_selection__k=8, score=0.393366 -  10.0s\n",
      "[CV] SVC__C=10, SVC__gamma=0.01, feature_selection__k=8 ..............\n",
      "[CV]  SVC__C=10, SVC__gamma=0.01, feature_selection__k=8, score=0.386026 -  10.3s\n",
      "[CV] SVC__C=10, SVC__gamma=0.01, feature_selection__k=12 .............\n",
      "[CV]  SVC__C=10, SVC__gamma=0.01, feature_selection__k=12, score=0.431706 -  11.0s\n",
      "[CV] SVC__C=10, SVC__gamma=0.01, feature_selection__k=12 .............\n",
      "[CV]  SVC__C=10, SVC__gamma=0.01, feature_selection__k=12, score=0.441955 -  11.1s\n",
      "[CV] SVC__C=10, SVC__gamma=0.01, feature_selection__k=12 .............\n",
      "[CV]  SVC__C=10, SVC__gamma=0.01, feature_selection__k=12, score=0.438719 -  10.9s\n",
      "[CV] SVC__C=10, SVC__gamma=0.01, feature_selection__k=15 .............\n",
      "[CV]  SVC__C=10, SVC__gamma=0.01, feature_selection__k=15, score=0.456553 -  12.2s\n",
      "[CV] SVC__C=10, SVC__gamma=0.01, feature_selection__k=15 .............\n",
      "[CV]  SVC__C=10, SVC__gamma=0.01, feature_selection__k=15, score=0.451702 -  12.2s\n",
      "[CV] SVC__C=10, SVC__gamma=0.01, feature_selection__k=15 .............\n",
      "[CV]  SVC__C=10, SVC__gamma=0.01, feature_selection__k=15, score=0.455604 -  12.1s\n"
     ]
    },
    {
     "name": "stderr",
     "output_type": "stream",
     "text": [
      "[Parallel(n_jobs=1)]: Done  81 out of  81 | elapsed: 562.3min finished\n"
     ]
    },
    {
     "data": {
      "text/plain": [
       "GridSearchCV(cv=None, error_score='raise',\n",
       "       estimator=Pipeline(memory=None,\n",
       "     steps=[('feature_selection', SelectKBest(k=10, score_func=<function f_classif at 0x10baf9bf8>)), ('SVC', SVC(C=1.0, cache_size=200, class_weight=None, coef0=0.0,\n",
       "  decision_function_shape='ovr', degree=3, gamma='auto', kernel='rbf',\n",
       "  max_iter=-1, probability=False, random_state=None, shrinking=True,\n",
       "  tol=0.001, verbose=False))]),\n",
       "       fit_params={}, iid=True, n_jobs=1,\n",
       "       param_grid={'feature_selection__k': [8, 12, 15], 'SVC__C': [0.1, 1, 10], 'SVC__gamma': [1, 0.1, 0.01]},\n",
       "       pre_dispatch='2*n_jobs', refit=True, scoring=None, verbose=3)"
      ]
     },
     "execution_count": 180,
     "metadata": {},
     "output_type": "execute_result"
    }
   ],
   "source": [
    "grid_svc3 = GridSearchCV(pipeline_svc3, param_grid=parameters_svc3, verbose=3)\n",
    "grid_svc3.fit(X_train, y_train)"
   ]
  },
  {
   "cell_type": "code",
   "execution_count": 181,
   "metadata": {},
   "outputs": [
    {
     "name": "stdout",
     "output_type": "stream",
     "text": [
      "Pipeline(memory=None,\n",
      "     steps=[('feature_selection', SelectKBest(k=15, score_func=<function f_classif at 0x10baf9bf8>)), ('SVC', SVC(C=1, cache_size=200, class_weight=None, coef0=0.0,\n",
      "  decision_function_shape='ovr', degree=3, gamma=0.1, kernel='rbf',\n",
      "  max_iter=-1, probability=False, random_state=None, shrinking=True,\n",
      "  tol=0.001, verbose=False))])\n",
      "                     precision    recall  f1-score   support\n",
      "\n",
      " blues & blues rock       0.63      0.45      0.52        87\n",
      "          classical       0.81      0.82      0.82        90\n",
      "            country       0.32      0.31      0.32       105\n",
      "              dance       0.51      0.66      0.58       202\n",
      "        electronica       0.49      0.33      0.39       122\n",
      "               funk       0.52      0.25      0.34        55\n",
      "              indie       0.29      0.24      0.26       174\n",
      "international/world       0.77      0.27      0.40        90\n",
      "               jazz       0.46      0.65      0.54       202\n",
      "              latin       0.45      0.29      0.35       104\n",
      "             oldies       0.40      0.20      0.27        50\n",
      "                pop       0.83      0.27      0.40       109\n",
      "                r&b       0.30      0.40      0.34       250\n",
      "                rap       0.56      0.75      0.64       233\n",
      "       reggae & ska       0.66      0.32      0.43        73\n",
      "               rock       0.44      0.52      0.48       246\n",
      "  singer-songwriter       0.28      0.31      0.29       100\n",
      "\n",
      "        avg / total       0.49      0.46      0.45      2292\n",
      "\n"
     ]
    }
   ],
   "source": [
    "print(grid_svc3.best_estimator_)\n",
    "predictions_svc3 = grid_svc3.predict(X_test)\n",
    "print(classification_report(y_test, predictions_svc3))"
   ]
  },
  {
   "cell_type": "markdown",
   "metadata": {},
   "source": [
    "Results are not as good as previously"
   ]
  },
  {
   "cell_type": "markdown",
   "metadata": {},
   "source": [
    "### RFC with X_sampled and y"
   ]
  },
  {
   "cell_type": "code",
   "execution_count": 188,
   "metadata": {},
   "outputs": [
    {
     "data": {
      "text/plain": [
       "GridSearchCV(cv=None, error_score='raise',\n",
       "       estimator=RandomForestClassifier(bootstrap=True, class_weight=None, criterion='gini',\n",
       "            max_depth=None, max_features='auto', max_leaf_nodes=None,\n",
       "            min_impurity_decrease=0.0, min_impurity_split=None,\n",
       "            min_samples_leaf=1, min_samples_split=2,\n",
       "            min_weight_fraction_leaf=0.0, n_estimators=10, n_jobs=1,\n",
       "            oob_score=False, random_state=None, verbose=0,\n",
       "            warm_start=False),\n",
       "       fit_params={}, iid=True, n_jobs=1,\n",
       "       param_grid={'n_estimators': [5, 10, 100], 'min_samples_split': [2, 5, 10], 'max_features': ['sqrt', 'log2', 'auto']},\n",
       "       pre_dispatch='2*n_jobs', refit=True, scoring=None, verbose=0)"
      ]
     },
     "execution_count": 188,
     "metadata": {},
     "output_type": "execute_result"
    }
   ],
   "source": [
    "from sklearn.ensemble import RandomForestClassifier\n",
    "\n",
    "X_train, X_test, y_train, y_test = train_test_split(X_scale, y, test_size=0.1, random_state=101)\n",
    "\n",
    "rfc1 = RandomForestClassifier()\n",
    "parameters_rfc1 = {'n_estimators':[5, 10, 100], 'min_samples_split':[2, 5, 10], 'max_features':['sqrt', 'log2', 'auto']}\n",
    "grid_rfc1 = GridSearchCV(rfc1, parameters_rfc1)\n",
    "grid_rfc1.fit(X_train, y_train)"
   ]
  },
  {
   "cell_type": "code",
   "execution_count": 189,
   "metadata": {},
   "outputs": [
    {
     "name": "stdout",
     "output_type": "stream",
     "text": [
      "RandomForestClassifier(bootstrap=True, class_weight=None, criterion='gini',\n",
      "            max_depth=None, max_features='auto', max_leaf_nodes=None,\n",
      "            min_impurity_decrease=0.0, min_impurity_split=None,\n",
      "            min_samples_leaf=1, min_samples_split=5,\n",
      "            min_weight_fraction_leaf=0.0, n_estimators=100, n_jobs=1,\n",
      "            oob_score=False, random_state=None, verbose=0,\n",
      "            warm_start=False)\n",
      "                     precision    recall  f1-score   support\n",
      "\n",
      " blues & blues rock       0.57      0.38      0.46        91\n",
      "          classical       0.80      0.86      0.83        97\n",
      "            country       0.45      0.25      0.32       119\n",
      "              dance       0.48      0.59      0.53       198\n",
      "        electronica       0.53      0.32      0.40       125\n",
      "               funk       0.54      0.30      0.38        50\n",
      "              indie       0.25      0.07      0.11       161\n",
      "international/world       0.97      0.28      0.44        99\n",
      "               jazz       0.46      0.63      0.53       194\n",
      "              latin       0.41      0.23      0.30       124\n",
      "             oldies       0.67      0.18      0.28        67\n",
      "                pop       0.65      0.28      0.39        80\n",
      "                r&b       0.35      0.37      0.36       226\n",
      "                rap       0.61      0.76      0.68       237\n",
      "       reggae & ska       0.74      0.39      0.51        79\n",
      "               rock       0.51      0.79      0.62       638\n",
      "  singer-songwriter       0.23      0.19      0.21       107\n",
      "\n",
      "        avg / total       0.51      0.51      0.48      2692\n",
      "\n"
     ]
    }
   ],
   "source": [
    "print(grid_rfc1.best_estimator_)\n",
    "predictions_rfc1 = grid_rfc1.predict(X_test)\n",
    "print(classification_report(y_test, predictions_rfc1))"
   ]
  },
  {
   "cell_type": "markdown",
   "metadata": {},
   "source": [
    "Score a little bit above than previous classifiers"
   ]
  },
  {
   "cell_type": "code",
   "execution_count": 218,
   "metadata": {},
   "outputs": [],
   "source": [
    "pickle.dump(grid_rfc1, open('genres_rfc1.pickle', 'wb'))"
   ]
  },
  {
   "cell_type": "markdown",
   "metadata": {},
   "source": [
    "# Voting classifier"
   ]
  },
  {
   "cell_type": "code",
   "execution_count": 192,
   "metadata": {},
   "outputs": [],
   "source": [
    "from sklearn.ensemble import VotingClassifier"
   ]
  },
  {
   "cell_type": "code",
   "execution_count": 193,
   "metadata": {},
   "outputs": [
    {
     "name": "stdout",
     "output_type": "stream",
     "text": [
      "Fitting 3 folds for each of 9 candidates, totalling 27 fits\n",
      "[CV] feature_selection__k=8, kneighbors__n_neighbors=3 ...............\n",
      "[CV]  feature_selection__k=8, kneighbors__n_neighbors=3, score=0.367529 -   0.5s\n",
      "[CV] feature_selection__k=8, kneighbors__n_neighbors=3 ...............\n"
     ]
    },
    {
     "name": "stderr",
     "output_type": "stream",
     "text": [
      "[Parallel(n_jobs=1)]: Done   1 out of   1 | elapsed:    0.5s remaining:    0.0s\n"
     ]
    },
    {
     "name": "stdout",
     "output_type": "stream",
     "text": [
      "[CV]  feature_selection__k=8, kneighbors__n_neighbors=3, score=0.364908 -   0.5s\n",
      "[CV] feature_selection__k=8, kneighbors__n_neighbors=3 ...............\n"
     ]
    },
    {
     "name": "stderr",
     "output_type": "stream",
     "text": [
      "[Parallel(n_jobs=1)]: Done   2 out of   2 | elapsed:    1.0s remaining:    0.0s\n"
     ]
    },
    {
     "name": "stdout",
     "output_type": "stream",
     "text": [
      "[CV]  feature_selection__k=8, kneighbors__n_neighbors=3, score=0.366092 -   0.5s\n",
      "[CV] feature_selection__k=8, kneighbors__n_neighbors=6 ...............\n",
      "[CV]  feature_selection__k=8, kneighbors__n_neighbors=6, score=0.407870 -   0.7s\n",
      "[CV] feature_selection__k=8, kneighbors__n_neighbors=6 ...............\n",
      "[CV]  feature_selection__k=8, kneighbors__n_neighbors=6, score=0.407380 -   0.6s\n",
      "[CV] feature_selection__k=8, kneighbors__n_neighbors=6 ...............\n",
      "[CV]  feature_selection__k=8, kneighbors__n_neighbors=6, score=0.413434 -   0.6s\n",
      "[CV] feature_selection__k=8, kneighbors__n_neighbors=10 ..............\n",
      "[CV]  feature_selection__k=8, kneighbors__n_neighbors=10, score=0.426185 -   0.6s\n",
      "[CV] feature_selection__k=8, kneighbors__n_neighbors=10 ..............\n",
      "[CV]  feature_selection__k=8, kneighbors__n_neighbors=10, score=0.427811 -   0.6s\n",
      "[CV] feature_selection__k=8, kneighbors__n_neighbors=10 ..............\n",
      "[CV]  feature_selection__k=8, kneighbors__n_neighbors=10, score=0.436733 -   0.6s\n",
      "[CV] feature_selection__k=12, kneighbors__n_neighbors=3 ..............\n",
      "[CV]  feature_selection__k=12, kneighbors__n_neighbors=3, score=0.375077 -   1.6s\n",
      "[CV] feature_selection__k=12, kneighbors__n_neighbors=3 ..............\n",
      "[CV]  feature_selection__k=12, kneighbors__n_neighbors=3, score=0.388063 -   1.7s\n",
      "[CV] feature_selection__k=12, kneighbors__n_neighbors=3 ..............\n",
      "[CV]  feature_selection__k=12, kneighbors__n_neighbors=3, score=0.370802 -   1.9s\n",
      "[CV] feature_selection__k=12, kneighbors__n_neighbors=6 ..............\n",
      "[CV]  feature_selection__k=12, kneighbors__n_neighbors=6, score=0.415419 -   2.2s\n",
      "[CV] feature_selection__k=12, kneighbors__n_neighbors=6 ..............\n",
      "[CV]  feature_selection__k=12, kneighbors__n_neighbors=6, score=0.431402 -   2.4s\n",
      "[CV] feature_selection__k=12, kneighbors__n_neighbors=6 ..............\n",
      "[CV]  feature_selection__k=12, kneighbors__n_neighbors=6, score=0.425951 -   2.1s\n",
      "[CV] feature_selection__k=12, kneighbors__n_neighbors=10 .............\n",
      "[CV]  feature_selection__k=12, kneighbors__n_neighbors=10, score=0.439797 -   2.2s\n",
      "[CV] feature_selection__k=12, kneighbors__n_neighbors=10 .............\n",
      "[CV]  feature_selection__k=12, kneighbors__n_neighbors=10, score=0.449975 -   2.4s\n",
      "[CV] feature_selection__k=12, kneighbors__n_neighbors=10 .............\n",
      "[CV]  feature_selection__k=12, kneighbors__n_neighbors=10, score=0.451977 -   2.1s\n",
      "[CV] feature_selection__k=15, kneighbors__n_neighbors=3 ..............\n",
      "[CV]  feature_selection__k=15, kneighbors__n_neighbors=3, score=0.363321 -   3.0s\n",
      "[CV] feature_selection__k=15, kneighbors__n_neighbors=3 ..............\n",
      "[CV]  feature_selection__k=15, kneighbors__n_neighbors=3, score=0.379396 -   2.9s\n",
      "[CV] feature_selection__k=15, kneighbors__n_neighbors=3 ..............\n",
      "[CV]  feature_selection__k=15, kneighbors__n_neighbors=3, score=0.374520 -   3.1s\n",
      "[CV] feature_selection__k=15, kneighbors__n_neighbors=6 ..............\n",
      "[CV]  feature_selection__k=15, kneighbors__n_neighbors=6, score=0.416533 -   3.2s\n",
      "[CV] feature_selection__k=15, kneighbors__n_neighbors=6 ..............\n",
      "[CV]  feature_selection__k=15, kneighbors__n_neighbors=6, score=0.420258 -   3.4s\n",
      "[CV] feature_selection__k=15, kneighbors__n_neighbors=6 ..............\n",
      "[CV]  feature_selection__k=15, kneighbors__n_neighbors=6, score=0.418515 -   3.3s\n",
      "[CV] feature_selection__k=15, kneighbors__n_neighbors=10 .............\n",
      "[CV]  feature_selection__k=15, kneighbors__n_neighbors=10, score=0.440168 -   3.7s\n",
      "[CV] feature_selection__k=15, kneighbors__n_neighbors=10 .............\n",
      "[CV]  feature_selection__k=15, kneighbors__n_neighbors=10, score=0.443784 -   3.6s\n",
      "[CV] feature_selection__k=15, kneighbors__n_neighbors=10 .............\n",
      "[CV]  feature_selection__k=15, kneighbors__n_neighbors=10, score=0.444169 -   3.9s\n",
      "Fitting 3 folds for each of 24 candidates, totalling 72 fits\n",
      "[CV] LogReg__multi_class=ovr, LogReg__solver=newton-cg, feature_selection__k=8 \n"
     ]
    },
    {
     "name": "stderr",
     "output_type": "stream",
     "text": [
      "[Parallel(n_jobs=1)]: Done  27 out of  27 | elapsed:   54.2s finished\n"
     ]
    },
    {
     "name": "stdout",
     "output_type": "stream",
     "text": [
      "[CV]  LogReg__multi_class=ovr, LogReg__solver=newton-cg, feature_selection__k=8, score=0.385472 -   1.1s\n",
      "[CV] LogReg__multi_class=ovr, LogReg__solver=newton-cg, feature_selection__k=8 \n"
     ]
    },
    {
     "name": "stderr",
     "output_type": "stream",
     "text": [
      "[Parallel(n_jobs=1)]: Done   1 out of   1 | elapsed:    1.1s remaining:    0.0s\n"
     ]
    },
    {
     "name": "stdout",
     "output_type": "stream",
     "text": [
      "[CV]  LogReg__multi_class=ovr, LogReg__solver=newton-cg, feature_selection__k=8, score=0.376795 -   1.1s\n",
      "[CV] LogReg__multi_class=ovr, LogReg__solver=newton-cg, feature_selection__k=8 \n"
     ]
    },
    {
     "name": "stderr",
     "output_type": "stream",
     "text": [
      "[Parallel(n_jobs=1)]: Done   2 out of   2 | elapsed:    2.3s remaining:    0.0s\n"
     ]
    },
    {
     "name": "stdout",
     "output_type": "stream",
     "text": [
      "[CV]  LogReg__multi_class=ovr, LogReg__solver=newton-cg, feature_selection__k=8, score=0.394597 -   1.2s\n",
      "[CV] LogReg__multi_class=ovr, LogReg__solver=newton-cg, feature_selection__k=12 \n",
      "[CV]  LogReg__multi_class=ovr, LogReg__solver=newton-cg, feature_selection__k=12, score=0.402425 -   1.3s\n",
      "[CV] LogReg__multi_class=ovr, LogReg__solver=newton-cg, feature_selection__k=12 \n",
      "[CV]  LogReg__multi_class=ovr, LogReg__solver=newton-cg, feature_selection__k=12, score=0.402551 -   1.4s\n",
      "[CV] LogReg__multi_class=ovr, LogReg__solver=newton-cg, feature_selection__k=12 \n",
      "[CV]  LogReg__multi_class=ovr, LogReg__solver=newton-cg, feature_selection__k=12, score=0.415541 -   1.3s\n",
      "[CV] LogReg__multi_class=ovr, LogReg__solver=newton-cg, feature_selection__k=15 \n",
      "[CV]  LogReg__multi_class=ovr, LogReg__solver=newton-cg, feature_selection__k=15, score=0.402549 -   1.5s\n",
      "[CV] LogReg__multi_class=ovr, LogReg__solver=newton-cg, feature_selection__k=15 \n",
      "[CV]  LogReg__multi_class=ovr, LogReg__solver=newton-cg, feature_selection__k=15, score=0.409485 -   1.6s\n",
      "[CV] LogReg__multi_class=ovr, LogReg__solver=newton-cg, feature_selection__k=15 \n",
      "[CV]  LogReg__multi_class=ovr, LogReg__solver=newton-cg, feature_selection__k=15, score=0.413310 -   1.6s\n",
      "[CV] LogReg__multi_class=ovr, LogReg__solver=sag, feature_selection__k=8 \n",
      "[CV]  LogReg__multi_class=ovr, LogReg__solver=sag, feature_selection__k=8, score=0.385472 -  23.9s\n",
      "[CV] LogReg__multi_class=ovr, LogReg__solver=sag, feature_selection__k=8 \n",
      "[CV]  LogReg__multi_class=ovr, LogReg__solver=sag, feature_selection__k=8, score=0.376795 -   3.5s\n",
      "[CV] LogReg__multi_class=ovr, LogReg__solver=sag, feature_selection__k=8 \n",
      "[CV]  LogReg__multi_class=ovr, LogReg__solver=sag, feature_selection__k=8, score=0.394721 -   8.0s\n",
      "[CV] LogReg__multi_class=ovr, LogReg__solver=sag, feature_selection__k=12 \n",
      "[CV]  LogReg__multi_class=ovr, LogReg__solver=sag, feature_selection__k=12, score=0.402425 -   2.4s\n",
      "[CV] LogReg__multi_class=ovr, LogReg__solver=sag, feature_selection__k=12 \n",
      "[CV]  LogReg__multi_class=ovr, LogReg__solver=sag, feature_selection__k=12, score=0.402551 -   3.5s\n",
      "[CV] LogReg__multi_class=ovr, LogReg__solver=sag, feature_selection__k=12 \n",
      "[CV]  LogReg__multi_class=ovr, LogReg__solver=sag, feature_selection__k=12, score=0.415541 -   2.4s\n",
      "[CV] LogReg__multi_class=ovr, LogReg__solver=sag, feature_selection__k=15 \n",
      "[CV]  LogReg__multi_class=ovr, LogReg__solver=sag, feature_selection__k=15, score=0.402549 -   2.8s\n",
      "[CV] LogReg__multi_class=ovr, LogReg__solver=sag, feature_selection__k=15 \n",
      "[CV]  LogReg__multi_class=ovr, LogReg__solver=sag, feature_selection__k=15, score=0.409485 -   4.9s\n",
      "[CV] LogReg__multi_class=ovr, LogReg__solver=sag, feature_selection__k=15 \n",
      "[CV]  LogReg__multi_class=ovr, LogReg__solver=sag, feature_selection__k=15, score=0.413310 -   2.9s\n",
      "[CV] LogReg__multi_class=ovr, LogReg__solver=saga, feature_selection__k=8 \n",
      "[CV]  LogReg__multi_class=ovr, LogReg__solver=saga, feature_selection__k=8, score=0.385472 -   1.9s\n",
      "[CV] LogReg__multi_class=ovr, LogReg__solver=saga, feature_selection__k=8 \n",
      "[CV]  LogReg__multi_class=ovr, LogReg__solver=saga, feature_selection__k=8, score=0.376795 -   1.7s\n",
      "[CV] LogReg__multi_class=ovr, LogReg__solver=saga, feature_selection__k=8 \n",
      "[CV]  LogReg__multi_class=ovr, LogReg__solver=saga, feature_selection__k=8, score=0.394597 -   1.8s\n",
      "[CV] LogReg__multi_class=ovr, LogReg__solver=saga, feature_selection__k=12 \n",
      "[CV]  LogReg__multi_class=ovr, LogReg__solver=saga, feature_selection__k=12, score=0.402302 -   1.8s\n",
      "[CV] LogReg__multi_class=ovr, LogReg__solver=saga, feature_selection__k=12 \n",
      "[CV]  LogReg__multi_class=ovr, LogReg__solver=saga, feature_selection__k=12, score=0.402551 -   1.9s\n",
      "[CV] LogReg__multi_class=ovr, LogReg__solver=saga, feature_selection__k=12 \n",
      "[CV]  LogReg__multi_class=ovr, LogReg__solver=saga, feature_selection__k=12, score=0.415541 -   1.8s\n",
      "[CV] LogReg__multi_class=ovr, LogReg__solver=saga, feature_selection__k=15 \n",
      "[CV]  LogReg__multi_class=ovr, LogReg__solver=saga, feature_selection__k=15, score=0.402549 -   2.0s\n",
      "[CV] LogReg__multi_class=ovr, LogReg__solver=saga, feature_selection__k=15 \n",
      "[CV]  LogReg__multi_class=ovr, LogReg__solver=saga, feature_selection__k=15, score=0.409485 -   2.4s\n",
      "[CV] LogReg__multi_class=ovr, LogReg__solver=saga, feature_selection__k=15 \n",
      "[CV]  LogReg__multi_class=ovr, LogReg__solver=saga, feature_selection__k=15, score=0.413434 -   2.1s\n",
      "[CV] LogReg__multi_class=ovr, LogReg__solver=lbfgs, feature_selection__k=8 \n",
      "[CV]  LogReg__multi_class=ovr, LogReg__solver=lbfgs, feature_selection__k=8, score=0.385472 -   0.5s\n",
      "[CV] LogReg__multi_class=ovr, LogReg__solver=lbfgs, feature_selection__k=8 \n",
      "[CV]  LogReg__multi_class=ovr, LogReg__solver=lbfgs, feature_selection__k=8, score=0.376795 -   0.5s\n",
      "[CV] LogReg__multi_class=ovr, LogReg__solver=lbfgs, feature_selection__k=8 \n",
      "[CV]  LogReg__multi_class=ovr, LogReg__solver=lbfgs, feature_selection__k=8, score=0.394597 -   0.5s\n",
      "[CV] LogReg__multi_class=ovr, LogReg__solver=lbfgs, feature_selection__k=12 \n",
      "[CV]  LogReg__multi_class=ovr, LogReg__solver=lbfgs, feature_selection__k=12, score=0.402425 -   0.5s\n",
      "[CV] LogReg__multi_class=ovr, LogReg__solver=lbfgs, feature_selection__k=12 \n",
      "[CV]  LogReg__multi_class=ovr, LogReg__solver=lbfgs, feature_selection__k=12, score=0.402427 -   0.5s\n",
      "[CV] LogReg__multi_class=ovr, LogReg__solver=lbfgs, feature_selection__k=12 \n",
      "[CV]  LogReg__multi_class=ovr, LogReg__solver=lbfgs, feature_selection__k=12, score=0.415541 -   0.5s\n",
      "[CV] LogReg__multi_class=ovr, LogReg__solver=lbfgs, feature_selection__k=15 \n",
      "[CV]  LogReg__multi_class=ovr, LogReg__solver=lbfgs, feature_selection__k=15, score=0.402549 -   0.6s\n",
      "[CV] LogReg__multi_class=ovr, LogReg__solver=lbfgs, feature_selection__k=15 \n",
      "[CV]  LogReg__multi_class=ovr, LogReg__solver=lbfgs, feature_selection__k=15, score=0.409485 -   0.6s\n",
      "[CV] LogReg__multi_class=ovr, LogReg__solver=lbfgs, feature_selection__k=15 \n",
      "[CV]  LogReg__multi_class=ovr, LogReg__solver=lbfgs, feature_selection__k=15, score=0.413310 -   0.6s\n",
      "[CV] LogReg__multi_class=multinomial, LogReg__solver=newton-cg, feature_selection__k=8 \n",
      "[CV]  LogReg__multi_class=multinomial, LogReg__solver=newton-cg, feature_selection__k=8, score=0.365549 -   2.1s\n",
      "[CV] LogReg__multi_class=multinomial, LogReg__solver=newton-cg, feature_selection__k=8 \n",
      "[CV]  LogReg__multi_class=multinomial, LogReg__solver=newton-cg, feature_selection__k=8, score=0.366766 -   2.2s\n",
      "[CV] LogReg__multi_class=multinomial, LogReg__solver=newton-cg, feature_selection__k=8 \n",
      "[CV]  LogReg__multi_class=multinomial, LogReg__solver=newton-cg, feature_selection__k=8, score=0.372537 -   2.2s\n",
      "[CV] LogReg__multi_class=multinomial, LogReg__solver=newton-cg, feature_selection__k=12 \n",
      "[CV]  LogReg__multi_class=multinomial, LogReg__solver=newton-cg, feature_selection__k=12, score=0.392402 -   2.2s\n",
      "[CV] LogReg__multi_class=multinomial, LogReg__solver=newton-cg, feature_selection__k=12 \n",
      "[CV]  LogReg__multi_class=multinomial, LogReg__solver=newton-cg, feature_selection__k=12, score=0.393016 -   2.2s\n",
      "[CV] LogReg__multi_class=multinomial, LogReg__solver=newton-cg, feature_selection__k=12 \n",
      "[CV]  LogReg__multi_class=multinomial, LogReg__solver=newton-cg, feature_selection__k=12, score=0.402652 -   2.4s\n",
      "[CV] LogReg__multi_class=multinomial, LogReg__solver=newton-cg, feature_selection__k=15 \n",
      "[CV]  LogReg__multi_class=multinomial, LogReg__solver=newton-cg, feature_selection__k=15, score=0.393887 -   2.2s\n",
      "[CV] LogReg__multi_class=multinomial, LogReg__solver=newton-cg, feature_selection__k=15 \n",
      "[CV]  LogReg__multi_class=multinomial, LogReg__solver=newton-cg, feature_selection__k=15, score=0.399703 -   2.3s\n",
      "[CV] LogReg__multi_class=multinomial, LogReg__solver=newton-cg, feature_selection__k=15 \n",
      "[CV]  LogReg__multi_class=multinomial, LogReg__solver=newton-cg, feature_selection__k=15, score=0.406618 -   2.5s\n",
      "[CV] LogReg__multi_class=multinomial, LogReg__solver=sag, feature_selection__k=8 \n",
      "[CV]  LogReg__multi_class=multinomial, LogReg__solver=sag, feature_selection__k=8, score=0.365549 -   0.5s\n",
      "[CV] LogReg__multi_class=multinomial, LogReg__solver=sag, feature_selection__k=8 \n",
      "[CV]  LogReg__multi_class=multinomial, LogReg__solver=sag, feature_selection__k=8, score=0.366766 -   0.6s\n",
      "[CV] LogReg__multi_class=multinomial, LogReg__solver=sag, feature_selection__k=8 \n"
     ]
    },
    {
     "name": "stdout",
     "output_type": "stream",
     "text": [
      "[CV]  LogReg__multi_class=multinomial, LogReg__solver=sag, feature_selection__k=8, score=0.372537 -   0.6s\n",
      "[CV] LogReg__multi_class=multinomial, LogReg__solver=sag, feature_selection__k=12 \n",
      "[CV]  LogReg__multi_class=multinomial, LogReg__solver=sag, feature_selection__k=12, score=0.392402 -   1.3s\n",
      "[CV] LogReg__multi_class=multinomial, LogReg__solver=sag, feature_selection__k=12 \n",
      "[CV]  LogReg__multi_class=multinomial, LogReg__solver=sag, feature_selection__k=12, score=0.393016 -   0.6s\n",
      "[CV] LogReg__multi_class=multinomial, LogReg__solver=sag, feature_selection__k=12 \n",
      "[CV]  LogReg__multi_class=multinomial, LogReg__solver=sag, feature_selection__k=12, score=0.402528 -   1.6s\n",
      "[CV] LogReg__multi_class=multinomial, LogReg__solver=sag, feature_selection__k=15 \n",
      "[CV]  LogReg__multi_class=multinomial, LogReg__solver=sag, feature_selection__k=15, score=0.393887 -   1.6s\n",
      "[CV] LogReg__multi_class=multinomial, LogReg__solver=sag, feature_selection__k=15 \n",
      "[CV]  LogReg__multi_class=multinomial, LogReg__solver=sag, feature_selection__k=15, score=0.399703 -   0.8s\n",
      "[CV] LogReg__multi_class=multinomial, LogReg__solver=sag, feature_selection__k=15 \n",
      "[CV]  LogReg__multi_class=multinomial, LogReg__solver=sag, feature_selection__k=15, score=0.406494 -   1.8s\n",
      "[CV] LogReg__multi_class=multinomial, LogReg__solver=saga, feature_selection__k=8 \n",
      "[CV]  LogReg__multi_class=multinomial, LogReg__solver=saga, feature_selection__k=8, score=0.365549 -   0.7s\n",
      "[CV] LogReg__multi_class=multinomial, LogReg__solver=saga, feature_selection__k=8 \n",
      "[CV]  LogReg__multi_class=multinomial, LogReg__solver=saga, feature_selection__k=8, score=0.366766 -   0.8s\n",
      "[CV] LogReg__multi_class=multinomial, LogReg__solver=saga, feature_selection__k=8 \n",
      "[CV]  LogReg__multi_class=multinomial, LogReg__solver=saga, feature_selection__k=8, score=0.372537 -   0.8s\n",
      "[CV] LogReg__multi_class=multinomial, LogReg__solver=saga, feature_selection__k=12 \n",
      "[CV]  LogReg__multi_class=multinomial, LogReg__solver=saga, feature_selection__k=12, score=0.392278 -   3.5s\n",
      "[CV] LogReg__multi_class=multinomial, LogReg__solver=saga, feature_selection__k=12 \n",
      "[CV]  LogReg__multi_class=multinomial, LogReg__solver=saga, feature_selection__k=12, score=0.393016 -   1.6s\n",
      "[CV] LogReg__multi_class=multinomial, LogReg__solver=saga, feature_selection__k=12 \n",
      "[CV]  LogReg__multi_class=multinomial, LogReg__solver=saga, feature_selection__k=12, score=0.402528 -   4.0s\n",
      "[CV] LogReg__multi_class=multinomial, LogReg__solver=saga, feature_selection__k=15 \n",
      "[CV]  LogReg__multi_class=multinomial, LogReg__solver=saga, feature_selection__k=15, score=0.393887 -   4.0s\n",
      "[CV] LogReg__multi_class=multinomial, LogReg__solver=saga, feature_selection__k=15 \n",
      "[CV]  LogReg__multi_class=multinomial, LogReg__solver=saga, feature_selection__k=15, score=0.399703 -   1.9s\n",
      "[CV] LogReg__multi_class=multinomial, LogReg__solver=saga, feature_selection__k=15 \n",
      "[CV]  LogReg__multi_class=multinomial, LogReg__solver=saga, feature_selection__k=15, score=0.406494 -   4.8s\n",
      "[CV] LogReg__multi_class=multinomial, LogReg__solver=lbfgs, feature_selection__k=8 \n",
      "[CV]  LogReg__multi_class=multinomial, LogReg__solver=lbfgs, feature_selection__k=8, score=0.365549 -   1.2s\n",
      "[CV] LogReg__multi_class=multinomial, LogReg__solver=lbfgs, feature_selection__k=8 \n",
      "[CV]  LogReg__multi_class=multinomial, LogReg__solver=lbfgs, feature_selection__k=8, score=0.366766 -   1.2s\n",
      "[CV] LogReg__multi_class=multinomial, LogReg__solver=lbfgs, feature_selection__k=8 \n",
      "[CV]  LogReg__multi_class=multinomial, LogReg__solver=lbfgs, feature_selection__k=8, score=0.372413 -   1.1s\n",
      "[CV] LogReg__multi_class=multinomial, LogReg__solver=lbfgs, feature_selection__k=12 \n",
      "[CV]  LogReg__multi_class=multinomial, LogReg__solver=lbfgs, feature_selection__k=12, score=0.392402 -   1.3s\n",
      "[CV] LogReg__multi_class=multinomial, LogReg__solver=lbfgs, feature_selection__k=12 \n",
      "[CV]  LogReg__multi_class=multinomial, LogReg__solver=lbfgs, feature_selection__k=12, score=0.393016 -   1.4s\n",
      "[CV] LogReg__multi_class=multinomial, LogReg__solver=lbfgs, feature_selection__k=12 \n",
      "[CV]  LogReg__multi_class=multinomial, LogReg__solver=lbfgs, feature_selection__k=12, score=0.402652 -   1.4s\n",
      "[CV] LogReg__multi_class=multinomial, LogReg__solver=lbfgs, feature_selection__k=15 \n",
      "[CV]  LogReg__multi_class=multinomial, LogReg__solver=lbfgs, feature_selection__k=15, score=0.393887 -   1.3s\n",
      "[CV] LogReg__multi_class=multinomial, LogReg__solver=lbfgs, feature_selection__k=15 \n",
      "[CV]  LogReg__multi_class=multinomial, LogReg__solver=lbfgs, feature_selection__k=15, score=0.399703 -   1.5s\n",
      "[CV] LogReg__multi_class=multinomial, LogReg__solver=lbfgs, feature_selection__k=15 \n",
      "[CV]  LogReg__multi_class=multinomial, LogReg__solver=lbfgs, feature_selection__k=15, score=0.406618 -   1.3s\n"
     ]
    },
    {
     "name": "stderr",
     "output_type": "stream",
     "text": [
      "[Parallel(n_jobs=1)]: Done  72 out of  72 | elapsed:  2.5min finished\n"
     ]
    },
    {
     "name": "stdout",
     "output_type": "stream",
     "text": [
      "Fitting 3 folds for each of 27 candidates, totalling 81 fits\n",
      "[CV] SVC__C=0.1, SVC__gamma=1, feature_selection__k=8 ................\n",
      "[CV]  SVC__C=0.1, SVC__gamma=1, feature_selection__k=8, score=0.409974 -  21.2s\n",
      "[CV] SVC__C=0.1, SVC__gamma=1, feature_selection__k=8 ................\n"
     ]
    },
    {
     "name": "stderr",
     "output_type": "stream",
     "text": [
      "[Parallel(n_jobs=1)]: Done   1 out of   1 | elapsed:   21.2s remaining:    0.0s\n"
     ]
    },
    {
     "name": "stdout",
     "output_type": "stream",
     "text": [
      "[CV]  SVC__C=0.1, SVC__gamma=1, feature_selection__k=8, score=0.410104 -  22.1s\n",
      "[CV] SVC__C=0.1, SVC__gamma=1, feature_selection__k=8 ................\n"
     ]
    },
    {
     "name": "stderr",
     "output_type": "stream",
     "text": [
      "[Parallel(n_jobs=1)]: Done   2 out of   2 | elapsed:   43.3s remaining:    0.0s\n"
     ]
    },
    {
     "name": "stdout",
     "output_type": "stream",
     "text": [
      "[CV]  SVC__C=0.1, SVC__gamma=1, feature_selection__k=8, score=0.417152 -  21.5s\n",
      "[CV] SVC__C=0.1, SVC__gamma=1, feature_selection__k=12 ...............\n",
      "[CV]  SVC__C=0.1, SVC__gamma=1, feature_selection__k=12, score=0.304418 -  32.6s\n",
      "[CV] SVC__C=0.1, SVC__gamma=1, feature_selection__k=12 ...............\n",
      "[CV]  SVC__C=0.1, SVC__gamma=1, feature_selection__k=12, score=0.306587 -  33.0s\n",
      "[CV] SVC__C=0.1, SVC__gamma=1, feature_selection__k=12 ...............\n",
      "[CV]  SVC__C=0.1, SVC__gamma=1, feature_selection__k=12, score=0.311315 -  33.2s\n",
      "[CV] SVC__C=0.1, SVC__gamma=1, feature_selection__k=15 ...............\n",
      "[CV]  SVC__C=0.1, SVC__gamma=1, feature_selection__k=15, score=0.296622 -  38.1s\n",
      "[CV] SVC__C=0.1, SVC__gamma=1, feature_selection__k=15 ...............\n",
      "[CV]  SVC__C=0.1, SVC__gamma=1, feature_selection__k=15, score=0.295443 -  38.1s\n",
      "[CV] SVC__C=0.1, SVC__gamma=1, feature_selection__k=15 ...............\n",
      "[CV]  SVC__C=0.1, SVC__gamma=1, feature_selection__k=15, score=0.302516 -  37.9s\n",
      "[CV] SVC__C=0.1, SVC__gamma=0.1, feature_selection__k=8 ..............\n",
      "[CV]  SVC__C=0.1, SVC__gamma=0.1, feature_selection__k=8, score=0.423091 -  15.9s\n",
      "[CV] SVC__C=0.1, SVC__gamma=0.1, feature_selection__k=8 ..............\n",
      "[CV]  SVC__C=0.1, SVC__gamma=0.1, feature_selection__k=8, score=0.431402 -  14.1s\n",
      "[CV] SVC__C=0.1, SVC__gamma=0.1, feature_selection__k=8 ..............\n",
      "[CV]  SVC__C=0.1, SVC__gamma=0.1, feature_selection__k=8, score=0.426571 -  14.3s\n",
      "[CV] SVC__C=0.1, SVC__gamma=0.1, feature_selection__k=12 .............\n",
      "[CV]  SVC__C=0.1, SVC__gamma=0.1, feature_selection__k=12, score=0.444747 -  15.7s\n",
      "[CV] SVC__C=0.1, SVC__gamma=0.1, feature_selection__k=12 .............\n",
      "[CV]  SVC__C=0.1, SVC__gamma=0.1, feature_selection__k=12, score=0.443041 -  16.0s\n",
      "[CV] SVC__C=0.1, SVC__gamma=0.1, feature_selection__k=12 .............\n",
      "[CV]  SVC__C=0.1, SVC__gamma=0.1, feature_selection__k=12, score=0.440823 -  15.6s\n",
      "[CV] SVC__C=0.1, SVC__gamma=0.1, feature_selection__k=15 .............\n",
      "[CV]  SVC__C=0.1, SVC__gamma=0.1, feature_selection__k=15, score=0.440045 -  18.0s\n",
      "[CV] SVC__C=0.1, SVC__gamma=0.1, feature_selection__k=15 .............\n",
      "[CV]  SVC__C=0.1, SVC__gamma=0.1, feature_selection__k=15, score=0.455176 -  18.1s\n",
      "[CV] SVC__C=0.1, SVC__gamma=0.1, feature_selection__k=15 .............\n",
      "[CV]  SVC__C=0.1, SVC__gamma=0.1, feature_selection__k=15, score=0.448383 -  18.2s\n",
      "[CV] SVC__C=0.1, SVC__gamma=0.01, feature_selection__k=8 .............\n",
      "[CV]  SVC__C=0.1, SVC__gamma=0.01, feature_selection__k=8, score=0.392154 -  15.0s\n",
      "[CV] SVC__C=0.1, SVC__gamma=0.01, feature_selection__k=8 .............\n",
      "[CV]  SVC__C=0.1, SVC__gamma=0.01, feature_selection__k=8, score=0.389178 -  15.1s\n",
      "[CV] SVC__C=0.1, SVC__gamma=0.01, feature_selection__k=8 .............\n",
      "[CV]  SVC__C=0.1, SVC__gamma=0.01, feature_selection__k=8, score=0.391870 -  15.1s\n",
      "[CV] SVC__C=0.1, SVC__gamma=0.01, feature_selection__k=12 ............\n",
      "[CV]  SVC__C=0.1, SVC__gamma=0.01, feature_selection__k=12, score=0.408365 -  16.8s\n",
      "[CV] SVC__C=0.1, SVC__gamma=0.01, feature_selection__k=12 ............\n",
      "[CV]  SVC__C=0.1, SVC__gamma=0.01, feature_selection__k=12, score=0.405275 -  16.8s\n",
      "[CV] SVC__C=0.1, SVC__gamma=0.01, feature_selection__k=12 ............\n",
      "[CV]  SVC__C=0.1, SVC__gamma=0.01, feature_selection__k=12, score=0.404139 -  16.8s\n",
      "[CV] SVC__C=0.1, SVC__gamma=0.01, feature_selection__k=15 ............\n",
      "[CV]  SVC__C=0.1, SVC__gamma=0.01, feature_selection__k=15, score=0.409727 -  18.5s\n",
      "[CV] SVC__C=0.1, SVC__gamma=0.01, feature_selection__k=15 ............\n",
      "[CV]  SVC__C=0.1, SVC__gamma=0.01, feature_selection__k=15, score=0.407256 -  18.5s\n",
      "[CV] SVC__C=0.1, SVC__gamma=0.01, feature_selection__k=15 ............\n",
      "[CV]  SVC__C=0.1, SVC__gamma=0.01, feature_selection__k=15, score=0.408725 -  18.8s\n",
      "[CV] SVC__C=1, SVC__gamma=1, feature_selection__k=8 ..................\n",
      "[CV]  SVC__C=1, SVC__gamma=1, feature_selection__k=8, score=0.452296 -  21.9s\n",
      "[CV] SVC__C=1, SVC__gamma=1, feature_selection__k=8 ..................\n",
      "[CV]  SVC__C=1, SVC__gamma=1, feature_selection__k=8, score=0.452576 -  22.8s\n",
      "[CV] SVC__C=1, SVC__gamma=1, feature_selection__k=8 ..................\n",
      "[CV]  SVC__C=1, SVC__gamma=1, feature_selection__k=8, score=0.461767 -  22.6s\n",
      "[CV] SVC__C=1, SVC__gamma=1, feature_selection__k=12 .................\n",
      "[CV]  SVC__C=1, SVC__gamma=1, feature_selection__k=12, score=0.410222 -  38.3s\n",
      "[CV] SVC__C=1, SVC__gamma=1, feature_selection__k=12 .................\n",
      "[CV]  SVC__C=1, SVC__gamma=1, feature_selection__k=12, score=0.418772 -  38.6s\n",
      "[CV] SVC__C=1, SVC__gamma=1, feature_selection__k=12 .................\n",
      "[CV]  SVC__C=1, SVC__gamma=1, feature_selection__k=12, score=0.421490 -  38.5s\n",
      "[CV] SVC__C=1, SVC__gamma=1, feature_selection__k=15 .................\n",
      "[CV]  SVC__C=1, SVC__gamma=1, feature_selection__k=15, score=0.346739 -  43.8s\n",
      "[CV] SVC__C=1, SVC__gamma=1, feature_selection__k=15 .................\n",
      "[CV]  SVC__C=1, SVC__gamma=1, feature_selection__k=15, score=0.356117 -  44.1s\n",
      "[CV] SVC__C=1, SVC__gamma=1, feature_selection__k=15 .................\n",
      "[CV]  SVC__C=1, SVC__gamma=1, feature_selection__k=15, score=0.355434 -  44.7s\n",
      "[CV] SVC__C=1, SVC__gamma=0.1, feature_selection__k=8 ................\n",
      "[CV]  SVC__C=1, SVC__gamma=0.1, feature_selection__k=8, score=0.454275 -  14.3s\n",
      "[CV] SVC__C=1, SVC__gamma=0.1, feature_selection__k=8 ................\n",
      "[CV]  SVC__C=1, SVC__gamma=0.1, feature_selection__k=8, score=0.458024 -  14.6s\n",
      "[CV] SVC__C=1, SVC__gamma=0.1, feature_selection__k=8 ................\n",
      "[CV]  SVC__C=1, SVC__gamma=0.1, feature_selection__k=8, score=0.463998 -  14.2s\n",
      "[CV] SVC__C=1, SVC__gamma=0.1, feature_selection__k=12 ...............\n",
      "[CV]  SVC__C=1, SVC__gamma=0.1, feature_selection__k=12, score=0.485460 -  15.8s\n",
      "[CV] SVC__C=1, SVC__gamma=0.1, feature_selection__k=12 ...............\n",
      "[CV]  SVC__C=1, SVC__gamma=0.1, feature_selection__k=12, score=0.492075 -  16.0s\n",
      "[CV] SVC__C=1, SVC__gamma=0.1, feature_selection__k=12 ...............\n",
      "[CV]  SVC__C=1, SVC__gamma=0.1, feature_selection__k=12, score=0.491883 -  15.6s\n",
      "[CV] SVC__C=1, SVC__gamma=0.1, feature_selection__k=15 ...............\n",
      "[CV]  SVC__C=1, SVC__gamma=0.1, feature_selection__k=15, score=0.490162 -  18.1s\n",
      "[CV] SVC__C=1, SVC__gamma=0.1, feature_selection__k=15 ...............\n",
      "[CV]  SVC__C=1, SVC__gamma=0.1, feature_selection__k=15, score=0.497028 -  18.3s\n",
      "[CV] SVC__C=1, SVC__gamma=0.1, feature_selection__k=15 ...............\n",
      "[CV]  SVC__C=1, SVC__gamma=0.1, feature_selection__k=15, score=0.498451 -  18.2s\n",
      "[CV] SVC__C=1, SVC__gamma=0.01, feature_selection__k=8 ...............\n",
      "[CV]  SVC__C=1, SVC__gamma=0.01, feature_selection__k=8, score=0.421359 -  14.4s\n",
      "[CV] SVC__C=1, SVC__gamma=0.01, feature_selection__k=8 ...............\n",
      "[CV]  SVC__C=1, SVC__gamma=0.01, feature_selection__k=8, score=0.429297 -  14.2s\n",
      "[CV] SVC__C=1, SVC__gamma=0.01, feature_selection__k=8 ...............\n",
      "[CV]  SVC__C=1, SVC__gamma=0.01, feature_selection__k=8, score=0.427438 -  14.4s\n",
      "[CV] SVC__C=1, SVC__gamma=0.01, feature_selection__k=12 ..............\n",
      "[CV]  SVC__C=1, SVC__gamma=0.01, feature_selection__k=12, score=0.444004 -  15.0s\n",
      "[CV] SVC__C=1, SVC__gamma=0.01, feature_selection__k=12 ..............\n",
      "[CV]  SVC__C=1, SVC__gamma=0.01, feature_selection__k=12, score=0.448489 -  15.6s\n",
      "[CV] SVC__C=1, SVC__gamma=0.01, feature_selection__k=12 ..............\n",
      "[CV]  SVC__C=1, SVC__gamma=0.01, feature_selection__k=12, score=0.446524 -  15.4s\n",
      "[CV] SVC__C=1, SVC__gamma=0.01, feature_selection__k=15 ..............\n",
      "[CV]  SVC__C=1, SVC__gamma=0.01, feature_selection__k=15, score=0.446603 -  16.5s\n",
      "[CV] SVC__C=1, SVC__gamma=0.01, feature_selection__k=15 ..............\n",
      "[CV]  SVC__C=1, SVC__gamma=0.01, feature_selection__k=15, score=0.456290 -  16.8s\n",
      "[CV] SVC__C=1, SVC__gamma=0.01, feature_selection__k=15 ..............\n",
      "[CV]  SVC__C=1, SVC__gamma=0.01, feature_selection__k=15, score=0.448754 -  16.7s\n",
      "[CV] SVC__C=10, SVC__gamma=1, feature_selection__k=8 .................\n",
      "[CV]  SVC__C=10, SVC__gamma=1, feature_selection__k=8, score=0.397599 -  27.1s\n",
      "[CV] SVC__C=10, SVC__gamma=1, feature_selection__k=8 .................\n",
      "[CV]  SVC__C=10, SVC__gamma=1, feature_selection__k=8, score=0.397350 -  27.7s\n",
      "[CV] SVC__C=10, SVC__gamma=1, feature_selection__k=8 .................\n"
     ]
    },
    {
     "name": "stdout",
     "output_type": "stream",
     "text": [
      "[CV]  SVC__C=10, SVC__gamma=1, feature_selection__k=8, score=0.408105 -  27.4s\n",
      "[CV] SVC__C=10, SVC__gamma=1, feature_selection__k=12 ................\n",
      "[CV]  SVC__C=10, SVC__gamma=1, feature_selection__k=12, score=0.390917 -  40.7s\n",
      "[CV] SVC__C=10, SVC__gamma=1, feature_selection__k=12 ................\n",
      "[CV]  SVC__C=10, SVC__gamma=1, feature_selection__k=12, score=0.407132 -  40.7s\n",
      "[CV] SVC__C=10, SVC__gamma=1, feature_selection__k=12 ................\n",
      "[CV]  SVC__C=10, SVC__gamma=1, feature_selection__k=12, score=0.401785 -  40.7s\n",
      "[CV] SVC__C=10, SVC__gamma=1, feature_selection__k=15 ................\n",
      "[CV]  SVC__C=10, SVC__gamma=1, feature_selection__k=15, score=0.356144 -  45.3s\n",
      "[CV] SVC__C=10, SVC__gamma=1, feature_selection__k=15 ................\n",
      "[CV]  SVC__C=10, SVC__gamma=1, feature_selection__k=15, score=0.363422 -  45.0s\n",
      "[CV] SVC__C=10, SVC__gamma=1, feature_selection__k=15 ................\n",
      "[CV]  SVC__C=10, SVC__gamma=1, feature_selection__k=15, score=0.364729 -  48.3s\n",
      "[CV] SVC__C=10, SVC__gamma=0.1, feature_selection__k=8 ...............\n",
      "[CV]  SVC__C=10, SVC__gamma=0.1, feature_selection__k=8, score=0.460215 -  20.1s\n",
      "[CV] SVC__C=10, SVC__gamma=0.1, feature_selection__k=8 ...............\n",
      "[CV]  SVC__C=10, SVC__gamma=0.1, feature_selection__k=8, score=0.465453 -  20.5s\n",
      "[CV] SVC__C=10, SVC__gamma=0.1, feature_selection__k=8 ...............\n",
      "[CV]  SVC__C=10, SVC__gamma=0.1, feature_selection__k=8, score=0.471186 -  20.0s\n",
      "[CV] SVC__C=10, SVC__gamma=0.1, feature_selection__k=12 ..............\n",
      "[CV]  SVC__C=10, SVC__gamma=0.1, feature_selection__k=12, score=0.469373 -  23.1s\n",
      "[CV] SVC__C=10, SVC__gamma=0.1, feature_selection__k=12 ..............\n",
      "[CV]  SVC__C=10, SVC__gamma=0.1, feature_selection__k=12, score=0.484027 -  23.2s\n",
      "[CV] SVC__C=10, SVC__gamma=0.1, feature_selection__k=12 ..............\n",
      "[CV]  SVC__C=10, SVC__gamma=0.1, feature_selection__k=12, score=0.482216 -  23.3s\n",
      "[CV] SVC__C=10, SVC__gamma=0.1, feature_selection__k=15 ..............\n",
      "[CV]  SVC__C=10, SVC__gamma=0.1, feature_selection__k=15, score=0.461329 -  27.0s\n",
      "[CV] SVC__C=10, SVC__gamma=0.1, feature_selection__k=15 ..............\n",
      "[CV]  SVC__C=10, SVC__gamma=0.1, feature_selection__k=15, score=0.476845 -  26.7s\n",
      "[CV] SVC__C=10, SVC__gamma=0.1, feature_selection__k=15 ..............\n",
      "[CV]  SVC__C=10, SVC__gamma=0.1, feature_selection__k=15, score=0.471806 -  24.7s\n",
      "[CV] SVC__C=10, SVC__gamma=0.01, feature_selection__k=8 ..............\n",
      "[CV]  SVC__C=10, SVC__gamma=0.01, feature_selection__k=8, score=0.429031 -  15.4s\n",
      "[CV] SVC__C=10, SVC__gamma=0.01, feature_selection__k=8 ..............\n",
      "[CV]  SVC__C=10, SVC__gamma=0.01, feature_selection__k=8, score=0.436974 -  16.0s\n",
      "[CV] SVC__C=10, SVC__gamma=0.01, feature_selection__k=8 ..............\n",
      "[CV]  SVC__C=10, SVC__gamma=0.01, feature_selection__k=8, score=0.434626 -  15.1s\n",
      "[CV] SVC__C=10, SVC__gamma=0.01, feature_selection__k=12 .............\n",
      "[CV]  SVC__C=10, SVC__gamma=0.01, feature_selection__k=12, score=0.466279 -  15.4s\n",
      "[CV] SVC__C=10, SVC__gamma=0.01, feature_selection__k=12 .............\n",
      "[CV]  SVC__C=10, SVC__gamma=0.01, feature_selection__k=12, score=0.464586 -  15.8s\n",
      "[CV] SVC__C=10, SVC__gamma=0.01, feature_selection__k=12 .............\n",
      "[CV]  SVC__C=10, SVC__gamma=0.01, feature_selection__k=12, score=0.464989 -  15.7s\n",
      "[CV] SVC__C=10, SVC__gamma=0.01, feature_selection__k=15 .............\n",
      "[CV]  SVC__C=10, SVC__gamma=0.01, feature_selection__k=15, score=0.472714 -  17.2s\n",
      "[CV] SVC__C=10, SVC__gamma=0.01, feature_selection__k=15 .............\n",
      "[CV]  SVC__C=10, SVC__gamma=0.01, feature_selection__k=15, score=0.482293 -  17.4s\n",
      "[CV] SVC__C=10, SVC__gamma=0.01, feature_selection__k=15 .............\n",
      "[CV]  SVC__C=10, SVC__gamma=0.01, feature_selection__k=15, score=0.482340 -  17.2s\n"
     ]
    },
    {
     "name": "stderr",
     "output_type": "stream",
     "text": [
      "[Parallel(n_jobs=1)]: Done  81 out of  81 | elapsed: 31.2min finished\n"
     ]
    },
    {
     "data": {
      "text/plain": [
       "VotingClassifier(estimators=[('knn', GridSearchCV(cv=None, error_score='raise',\n",
       "       estimator=Pipeline(memory=None,\n",
       "     steps=[('feature_selection', SelectKBest(k=10, score_func=<function f_classif at 0x10baf9bf8>)), ('kneighbors', KNeighborsClassifier(algorithm='auto', leaf_size=30, metric='minkowski',\n",
       "        ...': ['sqrt', 'log2', 'auto']},\n",
       "       pre_dispatch='2*n_jobs', refit=True, scoring=None, verbose=0))],\n",
       "         flatten_transform=None, n_jobs=1, voting='hard', weights=None)"
      ]
     },
     "execution_count": 193,
     "metadata": {},
     "output_type": "execute_result"
    }
   ],
   "source": [
    "X_train, X_test, y_train, y_test = train_test_split(X_scale, y, test_size=0.1, random_state=101)\n",
    "voting_classifier = VotingClassifier([('knn', grid_knn4), ('logreg', grid_lr2), ('svc', grid_svc2),('rfc',grid_rfc1)])\n",
    "voting_classifier.fit(X_train, y_train)"
   ]
  },
  {
   "cell_type": "code",
   "execution_count": 194,
   "metadata": {},
   "outputs": [
    {
     "name": "stdout",
     "output_type": "stream",
     "text": [
      "                     precision    recall  f1-score   support\n",
      "\n",
      " blues & blues rock       0.41      0.38      0.40        91\n",
      "          classical       0.70      0.88      0.78        97\n",
      "            country       0.32      0.29      0.30       119\n",
      "              dance       0.45      0.62      0.52       198\n",
      "        electronica       0.47      0.36      0.41       125\n",
      "               funk       0.36      0.32      0.34        50\n",
      "              indie       0.24      0.07      0.11       161\n",
      "international/world       0.77      0.30      0.43        99\n",
      "               jazz       0.47      0.61      0.53       194\n",
      "              latin       0.38      0.28      0.32       124\n",
      "             oldies       0.50      0.16      0.25        67\n",
      "                pop       0.59      0.28      0.38        80\n",
      "                r&b       0.34      0.31      0.32       226\n",
      "                rap       0.62      0.73      0.67       237\n",
      "       reggae & ska       0.67      0.39      0.50        79\n",
      "               rock       0.55      0.73      0.63       638\n",
      "  singer-songwriter       0.29      0.28      0.28       107\n",
      "\n",
      "        avg / total       0.48      0.50      0.47      2692\n",
      "\n"
     ]
    },
    {
     "name": "stderr",
     "output_type": "stream",
     "text": [
      "/anaconda3/lib/python3.6/site-packages/sklearn/preprocessing/label.py:151: DeprecationWarning: The truth value of an empty array is ambiguous. Returning False, but in future this will result in an error. Use `array.size > 0` to check that an array is not empty.\n",
      "  if diff:\n"
     ]
    }
   ],
   "source": [
    "predictions_vc = voting_classifier.predict(X_test)\n",
    "print(classification_report(y_test, predictions_vc))"
   ]
  },
  {
   "cell_type": "code",
   "execution_count": 196,
   "metadata": {},
   "outputs": [],
   "source": [
    "import pickle\n",
    "pickle.dump(voting_classifier, open('genres_voting_classifier.pickle', 'wb'))"
   ]
  },
  {
   "cell_type": "markdown",
   "metadata": {},
   "source": [
    "Voting classifier 2"
   ]
  },
  {
   "cell_type": "code",
   "execution_count": 210,
   "metadata": {},
   "outputs": [
    {
     "name": "stdout",
     "output_type": "stream",
     "text": [
      "Fitting 3 folds for each of 9 candidates, totalling 27 fits\n",
      "[CV] feature_selection__k=8, kneighbors__n_neighbors=3 ...............\n",
      "[CV]  feature_selection__k=8, kneighbors__n_neighbors=3, score=0.367529 -   0.8s\n",
      "[CV] feature_selection__k=8, kneighbors__n_neighbors=3 ...............\n"
     ]
    },
    {
     "name": "stderr",
     "output_type": "stream",
     "text": [
      "[Parallel(n_jobs=1)]: Done   1 out of   1 | elapsed:    0.9s remaining:    0.0s\n"
     ]
    },
    {
     "name": "stdout",
     "output_type": "stream",
     "text": [
      "[CV]  feature_selection__k=8, kneighbors__n_neighbors=3, score=0.364908 -   0.5s\n",
      "[CV] feature_selection__k=8, kneighbors__n_neighbors=3 ...............\n"
     ]
    },
    {
     "name": "stderr",
     "output_type": "stream",
     "text": [
      "[Parallel(n_jobs=1)]: Done   2 out of   2 | elapsed:    1.4s remaining:    0.0s\n"
     ]
    },
    {
     "name": "stdout",
     "output_type": "stream",
     "text": [
      "[CV]  feature_selection__k=8, kneighbors__n_neighbors=3, score=0.366092 -   0.5s\n",
      "[CV] feature_selection__k=8, kneighbors__n_neighbors=6 ...............\n",
      "[CV]  feature_selection__k=8, kneighbors__n_neighbors=6, score=0.407870 -   0.5s\n",
      "[CV] feature_selection__k=8, kneighbors__n_neighbors=6 ...............\n",
      "[CV]  feature_selection__k=8, kneighbors__n_neighbors=6, score=0.407380 -   0.6s\n",
      "[CV] feature_selection__k=8, kneighbors__n_neighbors=6 ...............\n",
      "[CV]  feature_selection__k=8, kneighbors__n_neighbors=6, score=0.413434 -   0.5s\n",
      "[CV] feature_selection__k=8, kneighbors__n_neighbors=10 ..............\n",
      "[CV]  feature_selection__k=8, kneighbors__n_neighbors=10, score=0.426185 -   0.6s\n",
      "[CV] feature_selection__k=8, kneighbors__n_neighbors=10 ..............\n",
      "[CV]  feature_selection__k=8, kneighbors__n_neighbors=10, score=0.427811 -   0.6s\n",
      "[CV] feature_selection__k=8, kneighbors__n_neighbors=10 ..............\n",
      "[CV]  feature_selection__k=8, kneighbors__n_neighbors=10, score=0.436733 -   0.7s\n",
      "[CV] feature_selection__k=12, kneighbors__n_neighbors=3 ..............\n",
      "[CV]  feature_selection__k=12, kneighbors__n_neighbors=3, score=0.375077 -   1.6s\n",
      "[CV] feature_selection__k=12, kneighbors__n_neighbors=3 ..............\n",
      "[CV]  feature_selection__k=12, kneighbors__n_neighbors=3, score=0.388063 -   1.7s\n",
      "[CV] feature_selection__k=12, kneighbors__n_neighbors=3 ..............\n",
      "[CV]  feature_selection__k=12, kneighbors__n_neighbors=3, score=0.370802 -   1.8s\n",
      "[CV] feature_selection__k=12, kneighbors__n_neighbors=6 ..............\n",
      "[CV]  feature_selection__k=12, kneighbors__n_neighbors=6, score=0.415419 -   2.4s\n",
      "[CV] feature_selection__k=12, kneighbors__n_neighbors=6 ..............\n",
      "[CV]  feature_selection__k=12, kneighbors__n_neighbors=6, score=0.431402 -   2.5s\n",
      "[CV] feature_selection__k=12, kneighbors__n_neighbors=6 ..............\n",
      "[CV]  feature_selection__k=12, kneighbors__n_neighbors=6, score=0.425951 -   1.8s\n",
      "[CV] feature_selection__k=12, kneighbors__n_neighbors=10 .............\n",
      "[CV]  feature_selection__k=12, kneighbors__n_neighbors=10, score=0.439797 -   2.3s\n",
      "[CV] feature_selection__k=12, kneighbors__n_neighbors=10 .............\n",
      "[CV]  feature_selection__k=12, kneighbors__n_neighbors=10, score=0.449975 -   2.5s\n",
      "[CV] feature_selection__k=12, kneighbors__n_neighbors=10 .............\n",
      "[CV]  feature_selection__k=12, kneighbors__n_neighbors=10, score=0.451977 -   2.3s\n",
      "[CV] feature_selection__k=15, kneighbors__n_neighbors=3 ..............\n",
      "[CV]  feature_selection__k=15, kneighbors__n_neighbors=3, score=0.363321 -   5.3s\n",
      "[CV] feature_selection__k=15, kneighbors__n_neighbors=3 ..............\n",
      "[CV]  feature_selection__k=15, kneighbors__n_neighbors=3, score=0.379396 -   3.4s\n",
      "[CV] feature_selection__k=15, kneighbors__n_neighbors=3 ..............\n",
      "[CV]  feature_selection__k=15, kneighbors__n_neighbors=3, score=0.374520 -   4.1s\n",
      "[CV] feature_selection__k=15, kneighbors__n_neighbors=6 ..............\n",
      "[CV]  feature_selection__k=15, kneighbors__n_neighbors=6, score=0.416533 -   4.5s\n",
      "[CV] feature_selection__k=15, kneighbors__n_neighbors=6 ..............\n",
      "[CV]  feature_selection__k=15, kneighbors__n_neighbors=6, score=0.420258 -   4.7s\n",
      "[CV] feature_selection__k=15, kneighbors__n_neighbors=6 ..............\n",
      "[CV]  feature_selection__k=15, kneighbors__n_neighbors=6, score=0.418515 -   5.2s\n",
      "[CV] feature_selection__k=15, kneighbors__n_neighbors=10 .............\n",
      "[CV]  feature_selection__k=15, kneighbors__n_neighbors=10, score=0.440168 -   5.1s\n",
      "[CV] feature_selection__k=15, kneighbors__n_neighbors=10 .............\n",
      "[CV]  feature_selection__k=15, kneighbors__n_neighbors=10, score=0.443784 -   5.4s\n",
      "[CV] feature_selection__k=15, kneighbors__n_neighbors=10 .............\n",
      "[CV]  feature_selection__k=15, kneighbors__n_neighbors=10, score=0.444169 -   5.3s\n",
      "Fitting 3 folds for each of 27 candidates, totalling 81 fits\n",
      "[CV] SVC__C=0.1, SVC__gamma=1, feature_selection__k=8 ................\n"
     ]
    },
    {
     "name": "stderr",
     "output_type": "stream",
     "text": [
      "[Parallel(n_jobs=1)]: Done  27 out of  27 | elapsed:  1.1min finished\n"
     ]
    },
    {
     "name": "stdout",
     "output_type": "stream",
     "text": [
      "[CV]  SVC__C=0.1, SVC__gamma=1, feature_selection__k=8, score=0.409974 -  28.6s\n",
      "[CV] SVC__C=0.1, SVC__gamma=1, feature_selection__k=8 ................\n"
     ]
    },
    {
     "name": "stderr",
     "output_type": "stream",
     "text": [
      "[Parallel(n_jobs=1)]: Done   1 out of   1 | elapsed:   28.6s remaining:    0.0s\n"
     ]
    },
    {
     "name": "stdout",
     "output_type": "stream",
     "text": [
      "[CV]  SVC__C=0.1, SVC__gamma=1, feature_selection__k=8, score=0.410104 -  23.3s\n",
      "[CV] SVC__C=0.1, SVC__gamma=1, feature_selection__k=8 ................\n"
     ]
    },
    {
     "name": "stderr",
     "output_type": "stream",
     "text": [
      "[Parallel(n_jobs=1)]: Done   2 out of   2 | elapsed:   51.9s remaining:    0.0s\n"
     ]
    },
    {
     "name": "stdout",
     "output_type": "stream",
     "text": [
      "[CV]  SVC__C=0.1, SVC__gamma=1, feature_selection__k=8, score=0.417152 -  24.3s\n",
      "[CV] SVC__C=0.1, SVC__gamma=1, feature_selection__k=12 ...............\n",
      "[CV]  SVC__C=0.1, SVC__gamma=1, feature_selection__k=12, score=0.304418 -  37.6s\n",
      "[CV] SVC__C=0.1, SVC__gamma=1, feature_selection__k=12 ...............\n",
      "[CV]  SVC__C=0.1, SVC__gamma=1, feature_selection__k=12, score=0.306587 -  38.4s\n",
      "[CV] SVC__C=0.1, SVC__gamma=1, feature_selection__k=12 ...............\n",
      "[CV]  SVC__C=0.1, SVC__gamma=1, feature_selection__k=12, score=0.311315 -  34.6s\n",
      "[CV] SVC__C=0.1, SVC__gamma=1, feature_selection__k=15 ...............\n",
      "[CV]  SVC__C=0.1, SVC__gamma=1, feature_selection__k=15, score=0.296622 -  42.8s\n",
      "[CV] SVC__C=0.1, SVC__gamma=1, feature_selection__k=15 ...............\n",
      "[CV]  SVC__C=0.1, SVC__gamma=1, feature_selection__k=15, score=0.295443 -  40.2s\n",
      "[CV] SVC__C=0.1, SVC__gamma=1, feature_selection__k=15 ...............\n",
      "[CV]  SVC__C=0.1, SVC__gamma=1, feature_selection__k=15, score=0.302516 -  43.6s\n",
      "[CV] SVC__C=0.1, SVC__gamma=0.1, feature_selection__k=8 ..............\n",
      "[CV]  SVC__C=0.1, SVC__gamma=0.1, feature_selection__k=8, score=0.423091 -  15.7s\n",
      "[CV] SVC__C=0.1, SVC__gamma=0.1, feature_selection__k=8 ..............\n",
      "[CV]  SVC__C=0.1, SVC__gamma=0.1, feature_selection__k=8, score=0.431402 -  15.9s\n",
      "[CV] SVC__C=0.1, SVC__gamma=0.1, feature_selection__k=8 ..............\n",
      "[CV]  SVC__C=0.1, SVC__gamma=0.1, feature_selection__k=8, score=0.426571 -  16.2s\n",
      "[CV] SVC__C=0.1, SVC__gamma=0.1, feature_selection__k=12 .............\n",
      "[CV]  SVC__C=0.1, SVC__gamma=0.1, feature_selection__k=12, score=0.444747 -  16.8s\n",
      "[CV] SVC__C=0.1, SVC__gamma=0.1, feature_selection__k=12 .............\n",
      "[CV]  SVC__C=0.1, SVC__gamma=0.1, feature_selection__k=12, score=0.443041 -  16.0s\n",
      "[CV] SVC__C=0.1, SVC__gamma=0.1, feature_selection__k=12 .............\n",
      "[CV]  SVC__C=0.1, SVC__gamma=0.1, feature_selection__k=12, score=0.440823 -  15.8s\n",
      "[CV] SVC__C=0.1, SVC__gamma=0.1, feature_selection__k=15 .............\n",
      "[CV]  SVC__C=0.1, SVC__gamma=0.1, feature_selection__k=15, score=0.440045 -  19.6s\n",
      "[CV] SVC__C=0.1, SVC__gamma=0.1, feature_selection__k=15 .............\n",
      "[CV]  SVC__C=0.1, SVC__gamma=0.1, feature_selection__k=15, score=0.455176 -  19.5s\n",
      "[CV] SVC__C=0.1, SVC__gamma=0.1, feature_selection__k=15 .............\n",
      "[CV]  SVC__C=0.1, SVC__gamma=0.1, feature_selection__k=15, score=0.448383 -  20.3s\n",
      "[CV] SVC__C=0.1, SVC__gamma=0.01, feature_selection__k=8 .............\n",
      "[CV]  SVC__C=0.1, SVC__gamma=0.01, feature_selection__k=8, score=0.392154 -  16.7s\n",
      "[CV] SVC__C=0.1, SVC__gamma=0.01, feature_selection__k=8 .............\n",
      "[CV]  SVC__C=0.1, SVC__gamma=0.01, feature_selection__k=8, score=0.389178 -  16.9s\n",
      "[CV] SVC__C=0.1, SVC__gamma=0.01, feature_selection__k=8 .............\n",
      "[CV]  SVC__C=0.1, SVC__gamma=0.01, feature_selection__k=8, score=0.391870 -  16.2s\n",
      "[CV] SVC__C=0.1, SVC__gamma=0.01, feature_selection__k=12 ............\n",
      "[CV]  SVC__C=0.1, SVC__gamma=0.01, feature_selection__k=12, score=0.408365 -  17.4s\n",
      "[CV] SVC__C=0.1, SVC__gamma=0.01, feature_selection__k=12 ............\n",
      "[CV]  SVC__C=0.1, SVC__gamma=0.01, feature_selection__k=12, score=0.405275 -  18.2s\n",
      "[CV] SVC__C=0.1, SVC__gamma=0.01, feature_selection__k=12 ............\n",
      "[CV]  SVC__C=0.1, SVC__gamma=0.01, feature_selection__k=12, score=0.404139 -  19.0s\n",
      "[CV] SVC__C=0.1, SVC__gamma=0.01, feature_selection__k=15 ............\n",
      "[CV]  SVC__C=0.1, SVC__gamma=0.01, feature_selection__k=15, score=0.409727 -  20.9s\n",
      "[CV] SVC__C=0.1, SVC__gamma=0.01, feature_selection__k=15 ............\n",
      "[CV]  SVC__C=0.1, SVC__gamma=0.01, feature_selection__k=15, score=0.407256 -  21.6s\n",
      "[CV] SVC__C=0.1, SVC__gamma=0.01, feature_selection__k=15 ............\n",
      "[CV]  SVC__C=0.1, SVC__gamma=0.01, feature_selection__k=15, score=0.408725 -  21.6s\n",
      "[CV] SVC__C=1, SVC__gamma=1, feature_selection__k=8 ..................\n",
      "[CV]  SVC__C=1, SVC__gamma=1, feature_selection__k=8, score=0.452296 -  24.5s\n",
      "[CV] SVC__C=1, SVC__gamma=1, feature_selection__k=8 ..................\n",
      "[CV]  SVC__C=1, SVC__gamma=1, feature_selection__k=8, score=0.452576 -  22.1s\n",
      "[CV] SVC__C=1, SVC__gamma=1, feature_selection__k=8 ..................\n",
      "[CV]  SVC__C=1, SVC__gamma=1, feature_selection__k=8, score=0.461767 -  23.0s\n",
      "[CV] SVC__C=1, SVC__gamma=1, feature_selection__k=12 .................\n",
      "[CV]  SVC__C=1, SVC__gamma=1, feature_selection__k=12, score=0.410222 -  39.0s\n",
      "[CV] SVC__C=1, SVC__gamma=1, feature_selection__k=12 .................\n",
      "[CV]  SVC__C=1, SVC__gamma=1, feature_selection__k=12, score=0.418772 -  38.7s\n",
      "[CV] SVC__C=1, SVC__gamma=1, feature_selection__k=12 .................\n",
      "[CV]  SVC__C=1, SVC__gamma=1, feature_selection__k=12, score=0.421490 -  38.0s\n",
      "[CV] SVC__C=1, SVC__gamma=1, feature_selection__k=15 .................\n",
      "[CV]  SVC__C=1, SVC__gamma=1, feature_selection__k=15, score=0.346739 -  47.9s\n",
      "[CV] SVC__C=1, SVC__gamma=1, feature_selection__k=15 .................\n",
      "[CV]  SVC__C=1, SVC__gamma=1, feature_selection__k=15, score=0.356117 -  51.0s\n",
      "[CV] SVC__C=1, SVC__gamma=1, feature_selection__k=15 .................\n",
      "[CV]  SVC__C=1, SVC__gamma=1, feature_selection__k=15, score=0.355434 -  51.5s\n",
      "[CV] SVC__C=1, SVC__gamma=0.1, feature_selection__k=8 ................\n",
      "[CV]  SVC__C=1, SVC__gamma=0.1, feature_selection__k=8, score=0.454275 -  16.1s\n",
      "[CV] SVC__C=1, SVC__gamma=0.1, feature_selection__k=8 ................\n",
      "[CV]  SVC__C=1, SVC__gamma=0.1, feature_selection__k=8, score=0.458024 -  16.1s\n",
      "[CV] SVC__C=1, SVC__gamma=0.1, feature_selection__k=8 ................\n",
      "[CV]  SVC__C=1, SVC__gamma=0.1, feature_selection__k=8, score=0.463998 -  15.9s\n",
      "[CV] SVC__C=1, SVC__gamma=0.1, feature_selection__k=12 ...............\n",
      "[CV]  SVC__C=1, SVC__gamma=0.1, feature_selection__k=12, score=0.485460 -  17.4s\n",
      "[CV] SVC__C=1, SVC__gamma=0.1, feature_selection__k=12 ...............\n",
      "[CV]  SVC__C=1, SVC__gamma=0.1, feature_selection__k=12, score=0.492075 -  18.5s\n",
      "[CV] SVC__C=1, SVC__gamma=0.1, feature_selection__k=12 ...............\n",
      "[CV]  SVC__C=1, SVC__gamma=0.1, feature_selection__k=12, score=0.491883 -  17.7s\n",
      "[CV] SVC__C=1, SVC__gamma=0.1, feature_selection__k=15 ...............\n",
      "[CV]  SVC__C=1, SVC__gamma=0.1, feature_selection__k=15, score=0.490162 -  21.5s\n",
      "[CV] SVC__C=1, SVC__gamma=0.1, feature_selection__k=15 ...............\n",
      "[CV]  SVC__C=1, SVC__gamma=0.1, feature_selection__k=15, score=0.497028 -  18.6s\n",
      "[CV] SVC__C=1, SVC__gamma=0.1, feature_selection__k=15 ...............\n",
      "[CV]  SVC__C=1, SVC__gamma=0.1, feature_selection__k=15, score=0.498451 -  19.2s\n",
      "[CV] SVC__C=1, SVC__gamma=0.01, feature_selection__k=8 ...............\n",
      "[CV]  SVC__C=1, SVC__gamma=0.01, feature_selection__k=8, score=0.421359 -  14.8s\n",
      "[CV] SVC__C=1, SVC__gamma=0.01, feature_selection__k=8 ...............\n",
      "[CV]  SVC__C=1, SVC__gamma=0.01, feature_selection__k=8, score=0.429297 -  15.3s\n",
      "[CV] SVC__C=1, SVC__gamma=0.01, feature_selection__k=8 ...............\n",
      "[CV]  SVC__C=1, SVC__gamma=0.01, feature_selection__k=8, score=0.427438 -  14.9s\n",
      "[CV] SVC__C=1, SVC__gamma=0.01, feature_selection__k=12 ..............\n",
      "[CV]  SVC__C=1, SVC__gamma=0.01, feature_selection__k=12, score=0.444004 -  15.6s\n",
      "[CV] SVC__C=1, SVC__gamma=0.01, feature_selection__k=12 ..............\n",
      "[CV]  SVC__C=1, SVC__gamma=0.01, feature_selection__k=12, score=0.448489 -  16.2s\n",
      "[CV] SVC__C=1, SVC__gamma=0.01, feature_selection__k=12 ..............\n",
      "[CV]  SVC__C=1, SVC__gamma=0.01, feature_selection__k=12, score=0.446524 -  15.9s\n",
      "[CV] SVC__C=1, SVC__gamma=0.01, feature_selection__k=15 ..............\n",
      "[CV]  SVC__C=1, SVC__gamma=0.01, feature_selection__k=15, score=0.446603 -  17.1s\n",
      "[CV] SVC__C=1, SVC__gamma=0.01, feature_selection__k=15 ..............\n",
      "[CV]  SVC__C=1, SVC__gamma=0.01, feature_selection__k=15, score=0.456290 -  17.7s\n",
      "[CV] SVC__C=1, SVC__gamma=0.01, feature_selection__k=15 ..............\n",
      "[CV]  SVC__C=1, SVC__gamma=0.01, feature_selection__k=15, score=0.448754 -  17.6s\n",
      "[CV] SVC__C=10, SVC__gamma=1, feature_selection__k=8 .................\n",
      "[CV]  SVC__C=10, SVC__gamma=1, feature_selection__k=8, score=0.397599 -  28.8s\n",
      "[CV] SVC__C=10, SVC__gamma=1, feature_selection__k=8 .................\n",
      "[CV]  SVC__C=10, SVC__gamma=1, feature_selection__k=8, score=0.397350 -  29.3s\n",
      "[CV] SVC__C=10, SVC__gamma=1, feature_selection__k=8 .................\n"
     ]
    },
    {
     "name": "stdout",
     "output_type": "stream",
     "text": [
      "[CV]  SVC__C=10, SVC__gamma=1, feature_selection__k=8, score=0.408105 -  29.1s\n",
      "[CV] SVC__C=10, SVC__gamma=1, feature_selection__k=12 ................\n",
      "[CV]  SVC__C=10, SVC__gamma=1, feature_selection__k=12, score=0.390917 -  42.6s\n",
      "[CV] SVC__C=10, SVC__gamma=1, feature_selection__k=12 ................\n",
      "[CV]  SVC__C=10, SVC__gamma=1, feature_selection__k=12, score=0.407132 -  42.9s\n",
      "[CV] SVC__C=10, SVC__gamma=1, feature_selection__k=12 ................\n",
      "[CV]  SVC__C=10, SVC__gamma=1, feature_selection__k=12, score=0.401785 -  42.8s\n",
      "[CV] SVC__C=10, SVC__gamma=1, feature_selection__k=15 ................\n",
      "[CV]  SVC__C=10, SVC__gamma=1, feature_selection__k=15, score=0.356144 -  44.8s\n",
      "[CV] SVC__C=10, SVC__gamma=1, feature_selection__k=15 ................\n",
      "[CV]  SVC__C=10, SVC__gamma=1, feature_selection__k=15, score=0.363422 -  45.3s\n",
      "[CV] SVC__C=10, SVC__gamma=1, feature_selection__k=15 ................\n",
      "[CV]  SVC__C=10, SVC__gamma=1, feature_selection__k=15, score=0.364729 -  46.3s\n",
      "[CV] SVC__C=10, SVC__gamma=0.1, feature_selection__k=8 ...............\n",
      "[CV]  SVC__C=10, SVC__gamma=0.1, feature_selection__k=8, score=0.460215 -  19.1s\n",
      "[CV] SVC__C=10, SVC__gamma=0.1, feature_selection__k=8 ...............\n",
      "[CV]  SVC__C=10, SVC__gamma=0.1, feature_selection__k=8, score=0.465453 -  19.0s\n",
      "[CV] SVC__C=10, SVC__gamma=0.1, feature_selection__k=8 ...............\n",
      "[CV]  SVC__C=10, SVC__gamma=0.1, feature_selection__k=8, score=0.471186 -  19.1s\n",
      "[CV] SVC__C=10, SVC__gamma=0.1, feature_selection__k=12 ..............\n",
      "[CV]  SVC__C=10, SVC__gamma=0.1, feature_selection__k=12, score=0.469373 -  22.3s\n",
      "[CV] SVC__C=10, SVC__gamma=0.1, feature_selection__k=12 ..............\n",
      "[CV]  SVC__C=10, SVC__gamma=0.1, feature_selection__k=12, score=0.484027 -  24.8s\n",
      "[CV] SVC__C=10, SVC__gamma=0.1, feature_selection__k=12 ..............\n",
      "[CV]  SVC__C=10, SVC__gamma=0.1, feature_selection__k=12, score=0.482216 -  21.6s\n",
      "[CV] SVC__C=10, SVC__gamma=0.1, feature_selection__k=15 ..............\n",
      "[CV]  SVC__C=10, SVC__gamma=0.1, feature_selection__k=15, score=0.461329 -  26.2s\n",
      "[CV] SVC__C=10, SVC__gamma=0.1, feature_selection__k=15 ..............\n",
      "[CV]  SVC__C=10, SVC__gamma=0.1, feature_selection__k=15, score=0.476845 -  25.2s\n",
      "[CV] SVC__C=10, SVC__gamma=0.1, feature_selection__k=15 ..............\n",
      "[CV]  SVC__C=10, SVC__gamma=0.1, feature_selection__k=15, score=0.471806 -  27.5s\n",
      "[CV] SVC__C=10, SVC__gamma=0.01, feature_selection__k=8 ..............\n",
      "[CV]  SVC__C=10, SVC__gamma=0.01, feature_selection__k=8, score=0.429031 -  16.4s\n",
      "[CV] SVC__C=10, SVC__gamma=0.01, feature_selection__k=8 ..............\n",
      "[CV]  SVC__C=10, SVC__gamma=0.01, feature_selection__k=8, score=0.436974 -  16.3s\n",
      "[CV] SVC__C=10, SVC__gamma=0.01, feature_selection__k=8 ..............\n",
      "[CV]  SVC__C=10, SVC__gamma=0.01, feature_selection__k=8, score=0.434626 -  15.6s\n",
      "[CV] SVC__C=10, SVC__gamma=0.01, feature_selection__k=12 .............\n",
      "[CV]  SVC__C=10, SVC__gamma=0.01, feature_selection__k=12, score=0.466279 -  17.4s\n",
      "[CV] SVC__C=10, SVC__gamma=0.01, feature_selection__k=12 .............\n",
      "[CV]  SVC__C=10, SVC__gamma=0.01, feature_selection__k=12, score=0.464586 -  17.8s\n",
      "[CV] SVC__C=10, SVC__gamma=0.01, feature_selection__k=12 .............\n",
      "[CV]  SVC__C=10, SVC__gamma=0.01, feature_selection__k=12, score=0.464989 -  19.6s\n",
      "[CV] SVC__C=10, SVC__gamma=0.01, feature_selection__k=15 .............\n",
      "[CV]  SVC__C=10, SVC__gamma=0.01, feature_selection__k=15, score=0.472714 -  19.6s\n",
      "[CV] SVC__C=10, SVC__gamma=0.01, feature_selection__k=15 .............\n",
      "[CV]  SVC__C=10, SVC__gamma=0.01, feature_selection__k=15, score=0.482293 -  20.2s\n",
      "[CV] SVC__C=10, SVC__gamma=0.01, feature_selection__k=15 .............\n",
      "[CV]  SVC__C=10, SVC__gamma=0.01, feature_selection__k=15, score=0.482340 -  20.1s\n"
     ]
    },
    {
     "name": "stderr",
     "output_type": "stream",
     "text": [
      "[Parallel(n_jobs=1)]: Done  81 out of  81 | elapsed: 33.3min finished\n"
     ]
    },
    {
     "data": {
      "text/plain": [
       "VotingClassifier(estimators=[('knn', GridSearchCV(cv=None, error_score='raise',\n",
       "       estimator=Pipeline(memory=None,\n",
       "     steps=[('feature_selection', SelectKBest(k=10, score_func=<function f_classif at 0x10baf9bf8>)), ('kneighbors', KNeighborsClassifier(algorithm='auto', leaf_size=30, metric='minkowski',\n",
       "        ...': ['sqrt', 'log2', 'auto']},\n",
       "       pre_dispatch='2*n_jobs', refit=True, scoring=None, verbose=0))],\n",
       "         flatten_transform=None, n_jobs=1, voting='hard', weights=None)"
      ]
     },
     "execution_count": 210,
     "metadata": {},
     "output_type": "execute_result"
    }
   ],
   "source": [
    "X_train, X_test, y_train, y_test = train_test_split(X_scale, y, test_size=0.1, random_state=101)\n",
    "voting_classifier = VotingClassifier([('knn', grid_knn4), ('svc', grid_svc2),('rfc',grid_rfc1)])\n",
    "voting_classifier.fit(X_train, y_train)"
   ]
  },
  {
   "cell_type": "code",
   "execution_count": 211,
   "metadata": {},
   "outputs": [
    {
     "name": "stdout",
     "output_type": "stream",
     "text": [
      "                     precision    recall  f1-score   support\n",
      "\n",
      " blues & blues rock       0.47      0.40      0.43        91\n",
      "          classical       0.74      0.89      0.80        97\n",
      "            country       0.34      0.30      0.32       119\n",
      "              dance       0.44      0.62      0.52       198\n",
      "        electronica       0.52      0.34      0.41       125\n",
      "               funk       0.47      0.32      0.38        50\n",
      "              indie       0.16      0.04      0.07       161\n",
      "international/world       0.82      0.28      0.42        99\n",
      "               jazz       0.46      0.64      0.53       194\n",
      "              latin       0.42      0.26      0.32       124\n",
      "             oldies       1.00      0.16      0.28        67\n",
      "                pop       0.74      0.25      0.37        80\n",
      "                r&b       0.33      0.32      0.32       226\n",
      "                rap       0.61      0.73      0.66       237\n",
      "       reggae & ska       0.68      0.33      0.44        79\n",
      "               rock       0.53      0.76      0.63       638\n",
      "  singer-songwriter       0.28      0.20      0.23       107\n",
      "\n",
      "        avg / total       0.50      0.50      0.47      2692\n",
      "\n"
     ]
    },
    {
     "name": "stderr",
     "output_type": "stream",
     "text": [
      "/anaconda3/lib/python3.6/site-packages/sklearn/preprocessing/label.py:151: DeprecationWarning: The truth value of an empty array is ambiguous. Returning False, but in future this will result in an error. Use `array.size > 0` to check that an array is not empty.\n",
      "  if diff:\n"
     ]
    }
   ],
   "source": [
    "predictions_vc = voting_classifier.predict(X_test)\n",
    "print(classification_report(y_test, predictions_vc))"
   ]
  },
  {
   "cell_type": "code",
   "execution_count": 212,
   "metadata": {},
   "outputs": [],
   "source": [
    "pickle.dump(voting_classifier, open('genres_voting_classifier2.pickle', 'wb'))"
   ]
  },
  {
   "cell_type": "markdown",
   "metadata": {},
   "source": [
    "Voting classifier 3"
   ]
  },
  {
   "cell_type": "code",
   "execution_count": 213,
   "metadata": {},
   "outputs": [
    {
     "name": "stdout",
     "output_type": "stream",
     "text": [
      "Fitting 3 folds for each of 9 candidates, totalling 27 fits\n",
      "[CV] feature_selection__k=8, kneighbors__n_neighbors=3 ...............\n",
      "[CV]  feature_selection__k=8, kneighbors__n_neighbors=3, score=0.503677 -   0.8s\n",
      "[CV] feature_selection__k=8, kneighbors__n_neighbors=3 ...............\n"
     ]
    },
    {
     "name": "stderr",
     "output_type": "stream",
     "text": [
      "[Parallel(n_jobs=1)]: Done   1 out of   1 | elapsed:    0.8s remaining:    0.0s\n"
     ]
    },
    {
     "name": "stdout",
     "output_type": "stream",
     "text": [
      "[CV]  feature_selection__k=8, kneighbors__n_neighbors=3, score=0.506837 -   0.9s\n",
      "[CV] feature_selection__k=8, kneighbors__n_neighbors=3 ...............\n"
     ]
    },
    {
     "name": "stderr",
     "output_type": "stream",
     "text": [
      "[Parallel(n_jobs=1)]: Done   2 out of   2 | elapsed:    1.7s remaining:    0.0s\n"
     ]
    },
    {
     "name": "stdout",
     "output_type": "stream",
     "text": [
      "[CV]  feature_selection__k=8, kneighbors__n_neighbors=3, score=0.499440 -   1.1s\n",
      "[CV] feature_selection__k=8, kneighbors__n_neighbors=6 ...............\n",
      "[CV]  feature_selection__k=8, kneighbors__n_neighbors=6, score=0.485691 -   1.2s\n",
      "[CV] feature_selection__k=8, kneighbors__n_neighbors=6 ...............\n",
      "[CV]  feature_selection__k=8, kneighbors__n_neighbors=6, score=0.486685 -   1.1s\n",
      "[CV] feature_selection__k=8, kneighbors__n_neighbors=6 ...............\n",
      "[CV]  feature_selection__k=8, kneighbors__n_neighbors=6, score=0.485840 -   1.1s\n",
      "[CV] feature_selection__k=8, kneighbors__n_neighbors=10 ..............\n",
      "[CV]  feature_selection__k=8, kneighbors__n_neighbors=10, score=0.473621 -   1.6s\n",
      "[CV] feature_selection__k=8, kneighbors__n_neighbors=10 ..............\n",
      "[CV]  feature_selection__k=8, kneighbors__n_neighbors=10, score=0.475330 -   1.2s\n",
      "[CV] feature_selection__k=8, kneighbors__n_neighbors=10 ..............\n",
      "[CV]  feature_selection__k=8, kneighbors__n_neighbors=10, score=0.478240 -   1.4s\n",
      "[CV] feature_selection__k=12, kneighbors__n_neighbors=3 ..............\n",
      "[CV]  feature_selection__k=12, kneighbors__n_neighbors=3, score=0.586091 -   3.5s\n",
      "[CV] feature_selection__k=12, kneighbors__n_neighbors=3 ..............\n",
      "[CV]  feature_selection__k=12, kneighbors__n_neighbors=3, score=0.587525 -   3.3s\n",
      "[CV] feature_selection__k=12, kneighbors__n_neighbors=3 ..............\n",
      "[CV]  feature_selection__k=12, kneighbors__n_neighbors=3, score=0.593760 -   3.1s\n",
      "[CV] feature_selection__k=12, kneighbors__n_neighbors=6 ..............\n",
      "[CV]  feature_selection__k=12, kneighbors__n_neighbors=6, score=0.551159 -   3.8s\n",
      "[CV] feature_selection__k=12, kneighbors__n_neighbors=6 ..............\n",
      "[CV]  feature_selection__k=12, kneighbors__n_neighbors=6, score=0.551060 -   3.7s\n",
      "[CV] feature_selection__k=12, kneighbors__n_neighbors=6 ..............\n",
      "[CV]  feature_selection__k=12, kneighbors__n_neighbors=6, score=0.552320 -   3.8s\n",
      "[CV] feature_selection__k=12, kneighbors__n_neighbors=10 .............\n",
      "[CV]  feature_selection__k=12, kneighbors__n_neighbors=10, score=0.529177 -   4.3s\n",
      "[CV] feature_selection__k=12, kneighbors__n_neighbors=10 .............\n",
      "[CV]  feature_selection__k=12, kneighbors__n_neighbors=10, score=0.530908 -   4.3s\n",
      "[CV] feature_selection__k=12, kneighbors__n_neighbors=10 .............\n",
      "[CV]  feature_selection__k=12, kneighbors__n_neighbors=10, score=0.527120 -   4.8s\n",
      "[CV] feature_selection__k=15, kneighbors__n_neighbors=3 ..............\n",
      "[CV]  feature_selection__k=15, kneighbors__n_neighbors=3, score=0.618225 -   8.5s\n",
      "[CV] feature_selection__k=15, kneighbors__n_neighbors=3 ..............\n",
      "[CV]  feature_selection__k=15, kneighbors__n_neighbors=3, score=0.619992 -   6.5s\n",
      "[CV] feature_selection__k=15, kneighbors__n_neighbors=3 ..............\n",
      "[CV]  feature_selection__k=15, kneighbors__n_neighbors=3, score=0.620160 -   7.1s\n",
      "[CV] feature_selection__k=15, kneighbors__n_neighbors=6 ..............\n",
      "[CV]  feature_selection__k=15, kneighbors__n_neighbors=6, score=0.570983 -   7.8s\n",
      "[CV] feature_selection__k=15, kneighbors__n_neighbors=6 ..............\n",
      "[CV]  feature_selection__k=15, kneighbors__n_neighbors=6, score=0.571611 -   7.8s\n",
      "[CV] feature_selection__k=15, kneighbors__n_neighbors=6 ..............\n",
      "[CV]  feature_selection__k=15, kneighbors__n_neighbors=6, score=0.571040 -  11.1s\n",
      "[CV] feature_selection__k=15, kneighbors__n_neighbors=10 .............\n",
      "[CV]  feature_selection__k=15, kneighbors__n_neighbors=10, score=0.539169 -   9.3s\n",
      "[CV] feature_selection__k=15, kneighbors__n_neighbors=10 .............\n",
      "[CV]  feature_selection__k=15, kneighbors__n_neighbors=10, score=0.544582 -   9.5s\n",
      "[CV] feature_selection__k=15, kneighbors__n_neighbors=10 .............\n",
      "[CV]  feature_selection__k=15, kneighbors__n_neighbors=10, score=0.544480 -  11.2s\n",
      "Fitting 3 folds for each of 27 candidates, totalling 81 fits\n",
      "[CV] SVC__C=0.1, SVC__gamma=1, feature_selection__k=8 ................\n"
     ]
    },
    {
     "name": "stderr",
     "output_type": "stream",
     "text": [
      "[Parallel(n_jobs=1)]: Done  27 out of  27 | elapsed:  2.1min finished\n"
     ]
    },
    {
     "name": "stdout",
     "output_type": "stream",
     "text": [
      "[CV]  SVC__C=0.1, SVC__gamma=1, feature_selection__k=8, score=0.428297 -  43.6s\n",
      "[CV] SVC__C=0.1, SVC__gamma=1, feature_selection__k=8 ................\n"
     ]
    },
    {
     "name": "stderr",
     "output_type": "stream",
     "text": [
      "[Parallel(n_jobs=1)]: Done   1 out of   1 | elapsed:   43.6s remaining:    0.0s\n"
     ]
    },
    {
     "name": "stdout",
     "output_type": "stream",
     "text": [
      "[CV]  SVC__C=0.1, SVC__gamma=1, feature_selection__k=8, score=0.435986 -  45.0s\n",
      "[CV] SVC__C=0.1, SVC__gamma=1, feature_selection__k=8 ................\n"
     ]
    },
    {
     "name": "stderr",
     "output_type": "stream",
     "text": [
      "[Parallel(n_jobs=1)]: Done   2 out of   2 | elapsed:  1.5min remaining:    0.0s\n"
     ]
    },
    {
     "name": "stdout",
     "output_type": "stream",
     "text": [
      "[CV]  SVC__C=0.1, SVC__gamma=1, feature_selection__k=8, score=0.428000 -  43.9s\n",
      "[CV] SVC__C=0.1, SVC__gamma=1, feature_selection__k=12 ...............\n",
      "[CV]  SVC__C=0.1, SVC__gamma=1, feature_selection__k=12, score=0.331974 - 1.0min\n",
      "[CV] SVC__C=0.1, SVC__gamma=1, feature_selection__k=12 ...............\n",
      "[CV]  SVC__C=0.1, SVC__gamma=1, feature_selection__k=12, score=0.331467 - 1.0min\n",
      "[CV] SVC__C=0.1, SVC__gamma=1, feature_selection__k=12 ...............\n",
      "[CV]  SVC__C=0.1, SVC__gamma=1, feature_selection__k=12, score=0.337120 - 1.1min\n",
      "[CV] SVC__C=0.1, SVC__gamma=1, feature_selection__k=15 ...............\n",
      "[CV]  SVC__C=0.1, SVC__gamma=1, feature_selection__k=15, score=0.194245 - 1.2min\n",
      "[CV] SVC__C=0.1, SVC__gamma=1, feature_selection__k=15 ...............\n",
      "[CV]  SVC__C=0.1, SVC__gamma=1, feature_selection__k=15, score=0.195842 - 1.2min\n",
      "[CV] SVC__C=0.1, SVC__gamma=1, feature_selection__k=15 ...............\n",
      "[CV]  SVC__C=0.1, SVC__gamma=1, feature_selection__k=15, score=0.209600 - 1.2min\n",
      "[CV] SVC__C=0.1, SVC__gamma=0.1, feature_selection__k=8 ..............\n",
      "[CV]  SVC__C=0.1, SVC__gamma=0.1, feature_selection__k=8, score=0.424940 -  35.4s\n",
      "[CV] SVC__C=0.1, SVC__gamma=0.1, feature_selection__k=8 ..............\n",
      "[CV]  SVC__C=0.1, SVC__gamma=0.1, feature_selection__k=8, score=0.423351 -  33.9s\n",
      "[CV] SVC__C=0.1, SVC__gamma=0.1, feature_selection__k=8 ..............\n",
      "[CV]  SVC__C=0.1, SVC__gamma=0.1, feature_selection__k=8, score=0.431680 -  34.6s\n",
      "[CV] SVC__C=0.1, SVC__gamma=0.1, feature_selection__k=12 .............\n",
      "[CV]  SVC__C=0.1, SVC__gamma=0.1, feature_selection__k=12, score=0.469944 -  38.4s\n",
      "[CV] SVC__C=0.1, SVC__gamma=0.1, feature_selection__k=12 .............\n",
      "[CV]  SVC__C=0.1, SVC__gamma=0.1, feature_selection__k=12, score=0.470612 -  37.9s\n",
      "[CV] SVC__C=0.1, SVC__gamma=0.1, feature_selection__k=12 .............\n",
      "[CV]  SVC__C=0.1, SVC__gamma=0.1, feature_selection__k=12, score=0.477360 -  38.5s\n",
      "[CV] SVC__C=0.1, SVC__gamma=0.1, feature_selection__k=15 .............\n",
      "[CV]  SVC__C=0.1, SVC__gamma=0.1, feature_selection__k=15, score=0.479536 -  43.8s\n",
      "[CV] SVC__C=0.1, SVC__gamma=0.1, feature_selection__k=15 .............\n",
      "[CV]  SVC__C=0.1, SVC__gamma=0.1, feature_selection__k=15, score=0.476849 -  43.0s\n",
      "[CV] SVC__C=0.1, SVC__gamma=0.1, feature_selection__k=15 .............\n",
      "[CV]  SVC__C=0.1, SVC__gamma=0.1, feature_selection__k=15, score=0.483040 -  42.5s\n",
      "[CV] SVC__C=0.1, SVC__gamma=0.01, feature_selection__k=8 .............\n",
      "[CV]  SVC__C=0.1, SVC__gamma=0.01, feature_selection__k=8, score=0.372822 -  42.7s\n",
      "[CV] SVC__C=0.1, SVC__gamma=0.01, feature_selection__k=8 .............\n",
      "[CV]  SVC__C=0.1, SVC__gamma=0.01, feature_selection__k=8, score=0.368972 -  42.1s\n",
      "[CV] SVC__C=0.1, SVC__gamma=0.01, feature_selection__k=8 .............\n",
      "[CV]  SVC__C=0.1, SVC__gamma=0.01, feature_selection__k=8, score=0.378080 -  41.2s\n",
      "[CV] SVC__C=0.1, SVC__gamma=0.01, feature_selection__k=12 ............\n",
      "[CV]  SVC__C=0.1, SVC__gamma=0.01, feature_selection__k=12, score=0.440847 -  45.0s\n",
      "[CV] SVC__C=0.1, SVC__gamma=0.01, feature_selection__k=12 ............\n",
      "[CV]  SVC__C=0.1, SVC__gamma=0.01, feature_selection__k=12, score=0.432627 -  45.0s\n",
      "[CV] SVC__C=0.1, SVC__gamma=0.01, feature_selection__k=12 ............\n",
      "[CV]  SVC__C=0.1, SVC__gamma=0.01, feature_selection__k=12, score=0.439920 -  45.4s\n",
      "[CV] SVC__C=0.1, SVC__gamma=0.01, feature_selection__k=15 ............\n",
      "[CV]  SVC__C=0.1, SVC__gamma=0.01, feature_selection__k=15, score=0.442446 -  49.4s\n",
      "[CV] SVC__C=0.1, SVC__gamma=0.01, feature_selection__k=15 ............\n",
      "[CV]  SVC__C=0.1, SVC__gamma=0.01, feature_selection__k=15, score=0.437425 -  48.3s\n",
      "[CV] SVC__C=0.1, SVC__gamma=0.01, feature_selection__k=15 ............\n",
      "[CV]  SVC__C=0.1, SVC__gamma=0.01, feature_selection__k=15, score=0.445600 -  49.4s\n",
      "[CV] SVC__C=1, SVC__gamma=1, feature_selection__k=8 ..................\n",
      "[CV]  SVC__C=1, SVC__gamma=1, feature_selection__k=8, score=0.501759 -  41.1s\n",
      "[CV] SVC__C=1, SVC__gamma=1, feature_selection__k=8 ..................\n",
      "[CV]  SVC__C=1, SVC__gamma=1, feature_selection__k=8, score=0.508836 -  40.3s\n",
      "[CV] SVC__C=1, SVC__gamma=1, feature_selection__k=8 ..................\n",
      "[CV]  SVC__C=1, SVC__gamma=1, feature_selection__k=8, score=0.506960 -  40.9s\n",
      "[CV] SVC__C=1, SVC__gamma=1, feature_selection__k=12 .................\n",
      "[CV]  SVC__C=1, SVC__gamma=1, feature_selection__k=12, score=0.640847 - 1.1min\n",
      "[CV] SVC__C=1, SVC__gamma=1, feature_selection__k=12 .................\n",
      "[CV]  SVC__C=1, SVC__gamma=1, feature_selection__k=12, score=0.639664 - 1.2min\n",
      "[CV] SVC__C=1, SVC__gamma=1, feature_selection__k=12 .................\n",
      "[CV]  SVC__C=1, SVC__gamma=1, feature_selection__k=12, score=0.645360 - 1.2min\n",
      "[CV] SVC__C=1, SVC__gamma=1, feature_selection__k=15 .................\n",
      "[CV]  SVC__C=1, SVC__gamma=1, feature_selection__k=15, score=0.678177 - 1.5min\n",
      "[CV] SVC__C=1, SVC__gamma=1, feature_selection__k=15 .................\n",
      "[CV]  SVC__C=1, SVC__gamma=1, feature_selection__k=15, score=0.673011 - 1.4min\n",
      "[CV] SVC__C=1, SVC__gamma=1, feature_selection__k=15 .................\n",
      "[CV]  SVC__C=1, SVC__gamma=1, feature_selection__k=15, score=0.675840 - 1.4min\n",
      "[CV] SVC__C=1, SVC__gamma=0.1, feature_selection__k=8 ................\n",
      "[CV]  SVC__C=1, SVC__gamma=0.1, feature_selection__k=8, score=0.446203 -  29.4s\n",
      "[CV] SVC__C=1, SVC__gamma=0.1, feature_selection__k=8 ................\n",
      "[CV]  SVC__C=1, SVC__gamma=0.1, feature_selection__k=8, score=0.447901 -  31.4s\n",
      "[CV] SVC__C=1, SVC__gamma=0.1, feature_selection__k=8 ................\n",
      "[CV]  SVC__C=1, SVC__gamma=0.1, feature_selection__k=8, score=0.452000 -  31.9s\n",
      "[CV] SVC__C=1, SVC__gamma=0.1, feature_selection__k=12 ...............\n",
      "[CV]  SVC__C=1, SVC__gamma=0.1, feature_selection__k=12, score=0.517826 -  33.4s\n",
      "[CV] SVC__C=1, SVC__gamma=0.1, feature_selection__k=12 ...............\n",
      "[CV]  SVC__C=1, SVC__gamma=0.1, feature_selection__k=12, score=0.513235 -  31.4s\n",
      "[CV] SVC__C=1, SVC__gamma=0.1, feature_selection__k=12 ...............\n",
      "[CV]  SVC__C=1, SVC__gamma=0.1, feature_selection__k=12, score=0.518880 -  32.0s\n",
      "[CV] SVC__C=1, SVC__gamma=0.1, feature_selection__k=15 ...............\n",
      "[CV]  SVC__C=1, SVC__gamma=0.1, feature_selection__k=15, score=0.554357 -  36.7s\n",
      "[CV] SVC__C=1, SVC__gamma=0.1, feature_selection__k=15 ...............\n",
      "[CV]  SVC__C=1, SVC__gamma=0.1, feature_selection__k=15, score=0.551619 -  36.8s\n",
      "[CV] SVC__C=1, SVC__gamma=0.1, feature_selection__k=15 ...............\n",
      "[CV]  SVC__C=1, SVC__gamma=0.1, feature_selection__k=15, score=0.549840 -  36.8s\n",
      "[CV] SVC__C=1, SVC__gamma=0.01, feature_selection__k=8 ...............\n",
      "[CV]  SVC__C=1, SVC__gamma=0.01, feature_selection__k=8, score=0.395284 -  34.6s\n",
      "[CV] SVC__C=1, SVC__gamma=0.01, feature_selection__k=8 ...............\n",
      "[CV]  SVC__C=1, SVC__gamma=0.01, feature_selection__k=8, score=0.412555 -  33.4s\n",
      "[CV] SVC__C=1, SVC__gamma=0.01, feature_selection__k=8 ...............\n",
      "[CV]  SVC__C=1, SVC__gamma=0.01, feature_selection__k=8, score=0.406160 -  34.6s\n",
      "[CV] SVC__C=1, SVC__gamma=0.01, feature_selection__k=12 ..............\n",
      "[CV]  SVC__C=1, SVC__gamma=0.01, feature_selection__k=12, score=0.469305 -  34.2s\n",
      "[CV] SVC__C=1, SVC__gamma=0.01, feature_selection__k=12 ..............\n",
      "[CV]  SVC__C=1, SVC__gamma=0.01, feature_selection__k=12, score=0.465894 -  34.4s\n",
      "[CV] SVC__C=1, SVC__gamma=0.01, feature_selection__k=12 ..............\n",
      "[CV]  SVC__C=1, SVC__gamma=0.01, feature_selection__k=12, score=0.471200 -  33.7s\n",
      "[CV] SVC__C=1, SVC__gamma=0.01, feature_selection__k=15 ..............\n",
      "[CV]  SVC__C=1, SVC__gamma=0.01, feature_selection__k=15, score=0.479137 -  36.4s\n",
      "[CV] SVC__C=1, SVC__gamma=0.01, feature_selection__k=15 ..............\n",
      "[CV]  SVC__C=1, SVC__gamma=0.01, feature_selection__k=15, score=0.475570 -  37.0s\n",
      "[CV] SVC__C=1, SVC__gamma=0.01, feature_selection__k=15 ..............\n",
      "[CV]  SVC__C=1, SVC__gamma=0.01, feature_selection__k=15, score=0.484160 -  37.5s\n",
      "[CV] SVC__C=10, SVC__gamma=1, feature_selection__k=8 .................\n",
      "[CV]  SVC__C=10, SVC__gamma=1, feature_selection__k=8, score=0.549640 -  48.9s\n",
      "[CV] SVC__C=10, SVC__gamma=1, feature_selection__k=8 .................\n",
      "[CV]  SVC__C=10, SVC__gamma=1, feature_selection__k=8, score=0.564254 -  49.0s\n",
      "[CV] SVC__C=10, SVC__gamma=1, feature_selection__k=8 .................\n"
     ]
    },
    {
     "name": "stdout",
     "output_type": "stream",
     "text": [
      "[CV]  SVC__C=10, SVC__gamma=1, feature_selection__k=8, score=0.555360 -  47.5s\n",
      "[CV] SVC__C=10, SVC__gamma=1, feature_selection__k=12 ................\n",
      "[CV]  SVC__C=10, SVC__gamma=1, feature_selection__k=12, score=0.685132 - 1.2min\n",
      "[CV] SVC__C=10, SVC__gamma=1, feature_selection__k=12 ................\n",
      "[CV]  SVC__C=10, SVC__gamma=1, feature_selection__k=12, score=0.677729 - 1.3min\n",
      "[CV] SVC__C=10, SVC__gamma=1, feature_selection__k=12 ................\n",
      "[CV]  SVC__C=10, SVC__gamma=1, feature_selection__k=12, score=0.679920 - 1.2min\n",
      "[CV] SVC__C=10, SVC__gamma=1, feature_selection__k=15 ................\n",
      "[CV]  SVC__C=10, SVC__gamma=1, feature_selection__k=15, score=0.703437 - 1.5min\n",
      "[CV] SVC__C=10, SVC__gamma=1, feature_selection__k=15 ................\n",
      "[CV]  SVC__C=10, SVC__gamma=1, feature_selection__k=15, score=0.694922 - 1.4min\n",
      "[CV] SVC__C=10, SVC__gamma=1, feature_selection__k=15 ................\n",
      "[CV]  SVC__C=10, SVC__gamma=1, feature_selection__k=15, score=0.698240 - 1.4min\n",
      "[CV] SVC__C=10, SVC__gamma=0.1, feature_selection__k=8 ...............\n",
      "[CV]  SVC__C=10, SVC__gamma=0.1, feature_selection__k=8, score=0.463549 -  34.0s\n",
      "[CV] SVC__C=10, SVC__gamma=0.1, feature_selection__k=8 ...............\n",
      "[CV]  SVC__C=10, SVC__gamma=0.1, feature_selection__k=8, score=0.467493 -  34.8s\n",
      "[CV] SVC__C=10, SVC__gamma=0.1, feature_selection__k=8 ...............\n",
      "[CV]  SVC__C=10, SVC__gamma=0.1, feature_selection__k=8, score=0.470560 -  35.3s\n",
      "[CV] SVC__C=10, SVC__gamma=0.1, feature_selection__k=12 ..............\n",
      "[CV]  SVC__C=10, SVC__gamma=0.1, feature_selection__k=12, score=0.566347 -  38.1s\n",
      "[CV] SVC__C=10, SVC__gamma=0.1, feature_selection__k=12 ..............\n",
      "[CV]  SVC__C=10, SVC__gamma=0.1, feature_selection__k=12, score=0.566413 -  37.7s\n",
      "[CV] SVC__C=10, SVC__gamma=0.1, feature_selection__k=12 ..............\n",
      "[CV]  SVC__C=10, SVC__gamma=0.1, feature_selection__k=12, score=0.566960 -  38.4s\n",
      "[CV] SVC__C=10, SVC__gamma=0.1, feature_selection__k=15 ..............\n",
      "[CV]  SVC__C=10, SVC__gamma=0.1, feature_selection__k=15, score=0.640767 -  43.2s\n",
      "[CV] SVC__C=10, SVC__gamma=0.1, feature_selection__k=15 ..............\n",
      "[CV]  SVC__C=10, SVC__gamma=0.1, feature_selection__k=15, score=0.638225 -  43.6s\n",
      "[CV] SVC__C=10, SVC__gamma=0.1, feature_selection__k=15 ..............\n",
      "[CV]  SVC__C=10, SVC__gamma=0.1, feature_selection__k=15, score=0.631440 -  41.8s\n",
      "[CV] SVC__C=10, SVC__gamma=0.01, feature_selection__k=8 ..............\n",
      "[CV]  SVC__C=10, SVC__gamma=0.01, feature_selection__k=8, score=0.431655 -  32.4s\n",
      "[CV] SVC__C=10, SVC__gamma=0.01, feature_selection__k=8 ..............\n",
      "[CV]  SVC__C=10, SVC__gamma=0.01, feature_selection__k=8, score=0.430068 -  31.8s\n",
      "[CV] SVC__C=10, SVC__gamma=0.01, feature_selection__k=8 ..............\n",
      "[CV]  SVC__C=10, SVC__gamma=0.01, feature_selection__k=8, score=0.440880 -  32.7s\n",
      "[CV] SVC__C=10, SVC__gamma=0.01, feature_selection__k=12 .............\n",
      "[CV]  SVC__C=10, SVC__gamma=0.01, feature_selection__k=12, score=0.488010 -  33.9s\n",
      "[CV] SVC__C=10, SVC__gamma=0.01, feature_selection__k=12 .............\n",
      "[CV]  SVC__C=10, SVC__gamma=0.01, feature_selection__k=12, score=0.486126 -  33.6s\n",
      "[CV] SVC__C=10, SVC__gamma=0.01, feature_selection__k=12 .............\n",
      "[CV]  SVC__C=10, SVC__gamma=0.01, feature_selection__k=12, score=0.489920 -  34.9s\n",
      "[CV] SVC__C=10, SVC__gamma=0.01, feature_selection__k=15 .............\n",
      "[CV]  SVC__C=10, SVC__gamma=0.01, feature_selection__k=15, score=0.506635 -  37.4s\n",
      "[CV] SVC__C=10, SVC__gamma=0.01, feature_selection__k=15 .............\n",
      "[CV]  SVC__C=10, SVC__gamma=0.01, feature_selection__k=15, score=0.504838 -  36.9s\n",
      "[CV] SVC__C=10, SVC__gamma=0.01, feature_selection__k=15 .............\n",
      "[CV]  SVC__C=10, SVC__gamma=0.01, feature_selection__k=15, score=0.507760 -  39.9s\n"
     ]
    },
    {
     "name": "stderr",
     "output_type": "stream",
     "text": [
      "[Parallel(n_jobs=1)]: Done  81 out of  81 | elapsed: 63.2min finished\n"
     ]
    },
    {
     "data": {
      "text/plain": [
       "VotingClassifier(estimators=[('knn', GridSearchCV(cv=None, error_score='raise',\n",
       "       estimator=Pipeline(memory=None,\n",
       "     steps=[('feature_selection', SelectKBest(k=10, score_func=<function f_classif at 0x10baf9bf8>)), ('kneighbors', KNeighborsClassifier(algorithm='auto', leaf_size=30, metric='minkowski',\n",
       "        ...': ['sqrt', 'log2', 'auto']},\n",
       "       pre_dispatch='2*n_jobs', refit=True, scoring=None, verbose=0))],\n",
       "         flatten_transform=None, n_jobs=1, voting='hard', weights=None)"
      ]
     },
     "execution_count": 213,
     "metadata": {},
     "output_type": "execute_result"
    }
   ],
   "source": [
    "X_train, X_test, y_train, y_test = train_test_split(X_smote, y_smote, test_size=0.1, random_state=101)\n",
    "voting_classifier3 = VotingClassifier([('knn', grid_knn4), ('svc', grid_svc2),('rfc',grid_rfc1)])\n",
    "voting_classifier3.fit(X_train, y_train)"
   ]
  },
  {
   "cell_type": "code",
   "execution_count": 214,
   "metadata": {},
   "outputs": [
    {
     "name": "stdout",
     "output_type": "stream",
     "text": [
      "                     precision    recall  f1-score   support\n",
      "\n",
      " blues & blues rock       0.76      0.94      0.84       244\n",
      "          classical       0.90      0.94      0.92       269\n",
      "            country       0.66      0.86      0.74       251\n",
      "              dance       0.61      0.71      0.65       234\n",
      "        electronica       0.69      0.81      0.74       223\n",
      "               funk       0.82      0.98      0.90       228\n",
      "              indie       0.61      0.49      0.54       243\n",
      "international/world       0.86      0.89      0.87       247\n",
      "               jazz       0.69      0.71      0.70       221\n",
      "              latin       0.83      0.80      0.82       259\n",
      "             oldies       0.87      0.95      0.91       265\n",
      "                pop       0.85      0.85      0.85       238\n",
      "                r&b       0.61      0.29      0.40       265\n",
      "                rap       0.73      0.66      0.69       252\n",
      "       reggae & ska       0.97      0.93      0.95       242\n",
      "               rock       0.59      0.42      0.49       245\n",
      "  singer-songwriter       0.80      0.78      0.79       243\n",
      "\n",
      "        avg / total       0.76      0.76      0.75      4169\n",
      "\n"
     ]
    },
    {
     "name": "stderr",
     "output_type": "stream",
     "text": [
      "/anaconda3/lib/python3.6/site-packages/sklearn/preprocessing/label.py:151: DeprecationWarning: The truth value of an empty array is ambiguous. Returning False, but in future this will result in an error. Use `array.size > 0` to check that an array is not empty.\n",
      "  if diff:\n"
     ]
    }
   ],
   "source": [
    "predictions_vc3 = voting_classifier3.predict(X_test)\n",
    "print(classification_report(y_test, predictions_vc3))"
   ]
  },
  {
   "cell_type": "code",
   "execution_count": 215,
   "metadata": {},
   "outputs": [],
   "source": [
    "pickle.dump(voting_classifier3, open('genres_voting_classifier3.pickle', 'wb'))"
   ]
  },
  {
   "cell_type": "markdown",
   "metadata": {},
   "source": [
    "Voting classifier 4"
   ]
  },
  {
   "cell_type": "code",
   "execution_count": 220,
   "metadata": {},
   "outputs": [
    {
     "name": "stdout",
     "output_type": "stream",
     "text": [
      "Fitting 3 folds for each of 27 candidates, totalling 81 fits\n",
      "[CV] SVC__C=0.1, SVC__gamma=1, feature_selection__k=8 ................\n",
      "[CV]  SVC__C=0.1, SVC__gamma=1, feature_selection__k=8, score=0.409974 -  22.2s\n",
      "[CV] SVC__C=0.1, SVC__gamma=1, feature_selection__k=8 ................\n"
     ]
    },
    {
     "name": "stderr",
     "output_type": "stream",
     "text": [
      "[Parallel(n_jobs=1)]: Done   1 out of   1 | elapsed:   22.2s remaining:    0.0s\n"
     ]
    },
    {
     "name": "stdout",
     "output_type": "stream",
     "text": [
      "[CV]  SVC__C=0.1, SVC__gamma=1, feature_selection__k=8, score=0.410104 -  21.7s\n",
      "[CV] SVC__C=0.1, SVC__gamma=1, feature_selection__k=8 ................\n"
     ]
    },
    {
     "name": "stderr",
     "output_type": "stream",
     "text": [
      "[Parallel(n_jobs=1)]: Done   2 out of   2 | elapsed:   43.9s remaining:    0.0s\n"
     ]
    },
    {
     "name": "stdout",
     "output_type": "stream",
     "text": [
      "[CV]  SVC__C=0.1, SVC__gamma=1, feature_selection__k=8, score=0.417152 -  21.3s\n",
      "[CV] SVC__C=0.1, SVC__gamma=1, feature_selection__k=12 ...............\n",
      "[CV]  SVC__C=0.1, SVC__gamma=1, feature_selection__k=12, score=0.304418 -  35.5s\n",
      "[CV] SVC__C=0.1, SVC__gamma=1, feature_selection__k=12 ...............\n",
      "[CV]  SVC__C=0.1, SVC__gamma=1, feature_selection__k=12, score=0.306587 -  36.1s\n",
      "[CV] SVC__C=0.1, SVC__gamma=1, feature_selection__k=12 ...............\n",
      "[CV]  SVC__C=0.1, SVC__gamma=1, feature_selection__k=12, score=0.311315 -  37.0s\n",
      "[CV] SVC__C=0.1, SVC__gamma=1, feature_selection__k=15 ...............\n",
      "[CV]  SVC__C=0.1, SVC__gamma=1, feature_selection__k=15, score=0.296622 -  42.2s\n",
      "[CV] SVC__C=0.1, SVC__gamma=1, feature_selection__k=15 ...............\n",
      "[CV]  SVC__C=0.1, SVC__gamma=1, feature_selection__k=15, score=0.295443 -  40.6s\n",
      "[CV] SVC__C=0.1, SVC__gamma=1, feature_selection__k=15 ...............\n",
      "[CV]  SVC__C=0.1, SVC__gamma=1, feature_selection__k=15, score=0.302516 -  43.4s\n",
      "[CV] SVC__C=0.1, SVC__gamma=0.1, feature_selection__k=8 ..............\n",
      "[CV]  SVC__C=0.1, SVC__gamma=0.1, feature_selection__k=8, score=0.423091 -  15.3s\n",
      "[CV] SVC__C=0.1, SVC__gamma=0.1, feature_selection__k=8 ..............\n",
      "[CV]  SVC__C=0.1, SVC__gamma=0.1, feature_selection__k=8, score=0.431402 -  15.3s\n",
      "[CV] SVC__C=0.1, SVC__gamma=0.1, feature_selection__k=8 ..............\n",
      "[CV]  SVC__C=0.1, SVC__gamma=0.1, feature_selection__k=8, score=0.426571 -  15.4s\n",
      "[CV] SVC__C=0.1, SVC__gamma=0.1, feature_selection__k=12 .............\n",
      "[CV]  SVC__C=0.1, SVC__gamma=0.1, feature_selection__k=12, score=0.444747 -  18.9s\n",
      "[CV] SVC__C=0.1, SVC__gamma=0.1, feature_selection__k=12 .............\n",
      "[CV]  SVC__C=0.1, SVC__gamma=0.1, feature_selection__k=12, score=0.443041 -  16.6s\n",
      "[CV] SVC__C=0.1, SVC__gamma=0.1, feature_selection__k=12 .............\n",
      "[CV]  SVC__C=0.1, SVC__gamma=0.1, feature_selection__k=12, score=0.440823 -  17.3s\n",
      "[CV] SVC__C=0.1, SVC__gamma=0.1, feature_selection__k=15 .............\n",
      "[CV]  SVC__C=0.1, SVC__gamma=0.1, feature_selection__k=15, score=0.440045 -  21.0s\n",
      "[CV] SVC__C=0.1, SVC__gamma=0.1, feature_selection__k=15 .............\n",
      "[CV]  SVC__C=0.1, SVC__gamma=0.1, feature_selection__k=15, score=0.455176 -  21.6s\n",
      "[CV] SVC__C=0.1, SVC__gamma=0.1, feature_selection__k=15 .............\n",
      "[CV]  SVC__C=0.1, SVC__gamma=0.1, feature_selection__k=15, score=0.448383 -  20.5s\n",
      "[CV] SVC__C=0.1, SVC__gamma=0.01, feature_selection__k=8 .............\n",
      "[CV]  SVC__C=0.1, SVC__gamma=0.01, feature_selection__k=8, score=0.392154 -  17.4s\n",
      "[CV] SVC__C=0.1, SVC__gamma=0.01, feature_selection__k=8 .............\n",
      "[CV]  SVC__C=0.1, SVC__gamma=0.01, feature_selection__k=8, score=0.389178 -  16.9s\n",
      "[CV] SVC__C=0.1, SVC__gamma=0.01, feature_selection__k=8 .............\n",
      "[CV]  SVC__C=0.1, SVC__gamma=0.01, feature_selection__k=8, score=0.391870 -  16.7s\n",
      "[CV] SVC__C=0.1, SVC__gamma=0.01, feature_selection__k=12 ............\n",
      "[CV]  SVC__C=0.1, SVC__gamma=0.01, feature_selection__k=12, score=0.408365 -  18.7s\n",
      "[CV] SVC__C=0.1, SVC__gamma=0.01, feature_selection__k=12 ............\n",
      "[CV]  SVC__C=0.1, SVC__gamma=0.01, feature_selection__k=12, score=0.405275 -  20.1s\n",
      "[CV] SVC__C=0.1, SVC__gamma=0.01, feature_selection__k=12 ............\n",
      "[CV]  SVC__C=0.1, SVC__gamma=0.01, feature_selection__k=12, score=0.404139 -  21.6s\n",
      "[CV] SVC__C=0.1, SVC__gamma=0.01, feature_selection__k=15 ............\n",
      "[CV]  SVC__C=0.1, SVC__gamma=0.01, feature_selection__k=15, score=0.409727 -  20.5s\n",
      "[CV] SVC__C=0.1, SVC__gamma=0.01, feature_selection__k=15 ............\n",
      "[CV]  SVC__C=0.1, SVC__gamma=0.01, feature_selection__k=15, score=0.407256 -  19.9s\n",
      "[CV] SVC__C=0.1, SVC__gamma=0.01, feature_selection__k=15 ............\n",
      "[CV]  SVC__C=0.1, SVC__gamma=0.01, feature_selection__k=15, score=0.408725 -  21.5s\n",
      "[CV] SVC__C=1, SVC__gamma=1, feature_selection__k=8 ..................\n",
      "[CV]  SVC__C=1, SVC__gamma=1, feature_selection__k=8, score=0.452296 -  24.7s\n",
      "[CV] SVC__C=1, SVC__gamma=1, feature_selection__k=8 ..................\n",
      "[CV]  SVC__C=1, SVC__gamma=1, feature_selection__k=8, score=0.452576 -  24.8s\n",
      "[CV] SVC__C=1, SVC__gamma=1, feature_selection__k=8 ..................\n",
      "[CV]  SVC__C=1, SVC__gamma=1, feature_selection__k=8, score=0.461767 -  24.8s\n",
      "[CV] SVC__C=1, SVC__gamma=1, feature_selection__k=12 .................\n",
      "[CV]  SVC__C=1, SVC__gamma=1, feature_selection__k=12, score=0.410222 -  41.6s\n",
      "[CV] SVC__C=1, SVC__gamma=1, feature_selection__k=12 .................\n",
      "[CV]  SVC__C=1, SVC__gamma=1, feature_selection__k=12, score=0.418772 -  43.0s\n",
      "[CV] SVC__C=1, SVC__gamma=1, feature_selection__k=12 .................\n",
      "[CV]  SVC__C=1, SVC__gamma=1, feature_selection__k=12, score=0.421490 -  41.5s\n",
      "[CV] SVC__C=1, SVC__gamma=1, feature_selection__k=15 .................\n",
      "[CV]  SVC__C=1, SVC__gamma=1, feature_selection__k=15, score=0.346739 -  46.9s\n",
      "[CV] SVC__C=1, SVC__gamma=1, feature_selection__k=15 .................\n",
      "[CV]  SVC__C=1, SVC__gamma=1, feature_selection__k=15, score=0.356117 -  43.0s\n",
      "[CV] SVC__C=1, SVC__gamma=1, feature_selection__k=15 .................\n",
      "[CV]  SVC__C=1, SVC__gamma=1, feature_selection__k=15, score=0.355434 -  50.2s\n",
      "[CV] SVC__C=1, SVC__gamma=0.1, feature_selection__k=8 ................\n",
      "[CV]  SVC__C=1, SVC__gamma=0.1, feature_selection__k=8, score=0.454275 -  14.9s\n",
      "[CV] SVC__C=1, SVC__gamma=0.1, feature_selection__k=8 ................\n",
      "[CV]  SVC__C=1, SVC__gamma=0.1, feature_selection__k=8, score=0.458024 -  15.3s\n",
      "[CV] SVC__C=1, SVC__gamma=0.1, feature_selection__k=8 ................\n",
      "[CV]  SVC__C=1, SVC__gamma=0.1, feature_selection__k=8, score=0.463998 -  14.1s\n",
      "[CV] SVC__C=1, SVC__gamma=0.1, feature_selection__k=12 ...............\n",
      "[CV]  SVC__C=1, SVC__gamma=0.1, feature_selection__k=12, score=0.485460 -  15.3s\n",
      "[CV] SVC__C=1, SVC__gamma=0.1, feature_selection__k=12 ...............\n",
      "[CV]  SVC__C=1, SVC__gamma=0.1, feature_selection__k=12, score=0.492075 -  15.5s\n",
      "[CV] SVC__C=1, SVC__gamma=0.1, feature_selection__k=12 ...............\n",
      "[CV]  SVC__C=1, SVC__gamma=0.1, feature_selection__k=12, score=0.491883 -  15.3s\n",
      "[CV] SVC__C=1, SVC__gamma=0.1, feature_selection__k=15 ...............\n",
      "[CV]  SVC__C=1, SVC__gamma=0.1, feature_selection__k=15, score=0.490162 -  17.4s\n",
      "[CV] SVC__C=1, SVC__gamma=0.1, feature_selection__k=15 ...............\n",
      "[CV]  SVC__C=1, SVC__gamma=0.1, feature_selection__k=15, score=0.497028 -  17.6s\n",
      "[CV] SVC__C=1, SVC__gamma=0.1, feature_selection__k=15 ...............\n",
      "[CV]  SVC__C=1, SVC__gamma=0.1, feature_selection__k=15, score=0.498451 -  17.5s\n",
      "[CV] SVC__C=1, SVC__gamma=0.01, feature_selection__k=8 ...............\n",
      "[CV]  SVC__C=1, SVC__gamma=0.01, feature_selection__k=8, score=0.421359 -  13.8s\n",
      "[CV] SVC__C=1, SVC__gamma=0.01, feature_selection__k=8 ...............\n",
      "[CV]  SVC__C=1, SVC__gamma=0.01, feature_selection__k=8, score=0.429297 -  13.8s\n",
      "[CV] SVC__C=1, SVC__gamma=0.01, feature_selection__k=8 ...............\n",
      "[CV]  SVC__C=1, SVC__gamma=0.01, feature_selection__k=8, score=0.427438 -  13.8s\n",
      "[CV] SVC__C=1, SVC__gamma=0.01, feature_selection__k=12 ..............\n",
      "[CV]  SVC__C=1, SVC__gamma=0.01, feature_selection__k=12, score=0.444004 -  14.8s\n",
      "[CV] SVC__C=1, SVC__gamma=0.01, feature_selection__k=12 ..............\n",
      "[CV]  SVC__C=1, SVC__gamma=0.01, feature_selection__k=12, score=0.448489 -  14.8s\n",
      "[CV] SVC__C=1, SVC__gamma=0.01, feature_selection__k=12 ..............\n",
      "[CV]  SVC__C=1, SVC__gamma=0.01, feature_selection__k=12, score=0.446524 -  14.9s\n",
      "[CV] SVC__C=1, SVC__gamma=0.01, feature_selection__k=15 ..............\n",
      "[CV]  SVC__C=1, SVC__gamma=0.01, feature_selection__k=15, score=0.446603 -  18.0s\n",
      "[CV] SVC__C=1, SVC__gamma=0.01, feature_selection__k=15 ..............\n",
      "[CV]  SVC__C=1, SVC__gamma=0.01, feature_selection__k=15, score=0.456290 -  18.6s\n",
      "[CV] SVC__C=1, SVC__gamma=0.01, feature_selection__k=15 ..............\n",
      "[CV]  SVC__C=1, SVC__gamma=0.01, feature_selection__k=15, score=0.448754 -  17.6s\n",
      "[CV] SVC__C=10, SVC__gamma=1, feature_selection__k=8 .................\n",
      "[CV]  SVC__C=10, SVC__gamma=1, feature_selection__k=8, score=0.397599 -  28.0s\n",
      "[CV] SVC__C=10, SVC__gamma=1, feature_selection__k=8 .................\n",
      "[CV]  SVC__C=10, SVC__gamma=1, feature_selection__k=8, score=0.397350 -  27.5s\n",
      "[CV] SVC__C=10, SVC__gamma=1, feature_selection__k=8 .................\n"
     ]
    },
    {
     "name": "stdout",
     "output_type": "stream",
     "text": [
      "[CV]  SVC__C=10, SVC__gamma=1, feature_selection__k=8, score=0.408105 -  26.6s\n",
      "[CV] SVC__C=10, SVC__gamma=1, feature_selection__k=12 ................\n",
      "[CV]  SVC__C=10, SVC__gamma=1, feature_selection__k=12, score=0.390917 -  39.0s\n",
      "[CV] SVC__C=10, SVC__gamma=1, feature_selection__k=12 ................\n",
      "[CV]  SVC__C=10, SVC__gamma=1, feature_selection__k=12, score=0.407132 -  39.1s\n",
      "[CV] SVC__C=10, SVC__gamma=1, feature_selection__k=12 ................\n",
      "[CV]  SVC__C=10, SVC__gamma=1, feature_selection__k=12, score=0.401785 -  38.9s\n",
      "[CV] SVC__C=10, SVC__gamma=1, feature_selection__k=15 ................\n",
      "[CV]  SVC__C=10, SVC__gamma=1, feature_selection__k=15, score=0.356144 -  43.4s\n",
      "[CV] SVC__C=10, SVC__gamma=1, feature_selection__k=15 ................\n",
      "[CV]  SVC__C=10, SVC__gamma=1, feature_selection__k=15, score=0.363422 -  43.2s\n",
      "[CV] SVC__C=10, SVC__gamma=1, feature_selection__k=15 ................\n",
      "[CV]  SVC__C=10, SVC__gamma=1, feature_selection__k=15, score=0.364729 -  43.8s\n",
      "[CV] SVC__C=10, SVC__gamma=0.1, feature_selection__k=8 ...............\n",
      "[CV]  SVC__C=10, SVC__gamma=0.1, feature_selection__k=8, score=0.460215 -  18.6s\n",
      "[CV] SVC__C=10, SVC__gamma=0.1, feature_selection__k=8 ...............\n",
      "[CV]  SVC__C=10, SVC__gamma=0.1, feature_selection__k=8, score=0.465453 -  18.6s\n",
      "[CV] SVC__C=10, SVC__gamma=0.1, feature_selection__k=8 ...............\n",
      "[CV]  SVC__C=10, SVC__gamma=0.1, feature_selection__k=8, score=0.471186 -  18.1s\n",
      "[CV] SVC__C=10, SVC__gamma=0.1, feature_selection__k=12 ..............\n",
      "[CV]  SVC__C=10, SVC__gamma=0.1, feature_selection__k=12, score=0.469373 -  20.7s\n",
      "[CV] SVC__C=10, SVC__gamma=0.1, feature_selection__k=12 ..............\n",
      "[CV]  SVC__C=10, SVC__gamma=0.1, feature_selection__k=12, score=0.484027 -  20.9s\n",
      "[CV] SVC__C=10, SVC__gamma=0.1, feature_selection__k=12 ..............\n",
      "[CV]  SVC__C=10, SVC__gamma=0.1, feature_selection__k=12, score=0.482216 -  21.2s\n",
      "[CV] SVC__C=10, SVC__gamma=0.1, feature_selection__k=15 ..............\n",
      "[CV]  SVC__C=10, SVC__gamma=0.1, feature_selection__k=15, score=0.461329 -  24.8s\n",
      "[CV] SVC__C=10, SVC__gamma=0.1, feature_selection__k=15 ..............\n",
      "[CV]  SVC__C=10, SVC__gamma=0.1, feature_selection__k=15, score=0.476845 -  24.3s\n",
      "[CV] SVC__C=10, SVC__gamma=0.1, feature_selection__k=15 ..............\n",
      "[CV]  SVC__C=10, SVC__gamma=0.1, feature_selection__k=15, score=0.471806 -  24.5s\n",
      "[CV] SVC__C=10, SVC__gamma=0.01, feature_selection__k=8 ..............\n",
      "[CV]  SVC__C=10, SVC__gamma=0.01, feature_selection__k=8, score=0.429031 -  15.9s\n",
      "[CV] SVC__C=10, SVC__gamma=0.01, feature_selection__k=8 ..............\n",
      "[CV]  SVC__C=10, SVC__gamma=0.01, feature_selection__k=8, score=0.436974 -  16.2s\n",
      "[CV] SVC__C=10, SVC__gamma=0.01, feature_selection__k=8 ..............\n",
      "[CV]  SVC__C=10, SVC__gamma=0.01, feature_selection__k=8, score=0.434626 -  15.6s\n",
      "[CV] SVC__C=10, SVC__gamma=0.01, feature_selection__k=12 .............\n",
      "[CV]  SVC__C=10, SVC__gamma=0.01, feature_selection__k=12, score=0.466279 -  15.6s\n",
      "[CV] SVC__C=10, SVC__gamma=0.01, feature_selection__k=12 .............\n",
      "[CV]  SVC__C=10, SVC__gamma=0.01, feature_selection__k=12, score=0.464586 -  16.1s\n",
      "[CV] SVC__C=10, SVC__gamma=0.01, feature_selection__k=12 .............\n",
      "[CV]  SVC__C=10, SVC__gamma=0.01, feature_selection__k=12, score=0.464989 -  15.7s\n",
      "[CV] SVC__C=10, SVC__gamma=0.01, feature_selection__k=15 .............\n",
      "[CV]  SVC__C=10, SVC__gamma=0.01, feature_selection__k=15, score=0.472714 -  17.6s\n",
      "[CV] SVC__C=10, SVC__gamma=0.01, feature_selection__k=15 .............\n",
      "[CV]  SVC__C=10, SVC__gamma=0.01, feature_selection__k=15, score=0.482293 -  18.2s\n",
      "[CV] SVC__C=10, SVC__gamma=0.01, feature_selection__k=15 .............\n",
      "[CV]  SVC__C=10, SVC__gamma=0.01, feature_selection__k=15, score=0.482340 -  17.5s\n"
     ]
    },
    {
     "name": "stderr",
     "output_type": "stream",
     "text": [
      "[Parallel(n_jobs=1)]: Done  81 out of  81 | elapsed: 32.1min finished\n"
     ]
    },
    {
     "data": {
      "text/plain": [
       "VotingClassifier(estimators=[('svc', GridSearchCV(cv=None, error_score='raise',\n",
       "       estimator=Pipeline(memory=None,\n",
       "     steps=[('feature_selection', SelectKBest(k=10, score_func=<function f_classif at 0x10baf9bf8>)), ('SVC', SVC(C=1.0, cache_size=200, class_weight=None, coef0=0.0,\n",
       "  decision_function_shape='ovr'...': ['sqrt', 'log2', 'auto']},\n",
       "       pre_dispatch='2*n_jobs', refit=True, scoring=None, verbose=0))],\n",
       "         flatten_transform=None, n_jobs=1, voting='hard', weights=None)"
      ]
     },
     "execution_count": 220,
     "metadata": {},
     "output_type": "execute_result"
    }
   ],
   "source": [
    "X_train, X_test, y_train, y_test = train_test_split(X_scale, y, test_size=0.1, random_state=101)\n",
    "voting_classifier4 = VotingClassifier([('svc', grid_svc2),('rfc',grid_rfc1)])\n",
    "voting_classifier4.fit(X_train, y_train)"
   ]
  },
  {
   "cell_type": "code",
   "execution_count": 221,
   "metadata": {},
   "outputs": [
    {
     "name": "stdout",
     "output_type": "stream",
     "text": [
      "                     precision    recall  f1-score   support\n",
      "\n",
      " blues & blues rock       0.48      0.41      0.44        91\n",
      "          classical       0.72      0.89      0.80        97\n",
      "            country       0.35      0.29      0.31       119\n",
      "              dance       0.44      0.66      0.53       198\n",
      "        electronica       0.49      0.36      0.41       125\n",
      "               funk       0.46      0.34      0.39        50\n",
      "              indie       0.19      0.07      0.11       161\n",
      "international/world       0.79      0.30      0.44        99\n",
      "               jazz       0.45      0.65      0.53       194\n",
      "              latin       0.43      0.28      0.34       124\n",
      "             oldies       0.72      0.19      0.31        67\n",
      "                pop       0.78      0.26      0.39        80\n",
      "                r&b       0.34      0.38      0.36       226\n",
      "                rap       0.62      0.70      0.66       237\n",
      "       reggae & ska       0.76      0.33      0.46        79\n",
      "               rock       0.55      0.74      0.63       638\n",
      "  singer-songwriter       0.25      0.13      0.17       107\n",
      "\n",
      "        avg / total       0.50      0.50      0.48      2692\n",
      "\n"
     ]
    },
    {
     "name": "stderr",
     "output_type": "stream",
     "text": [
      "/anaconda3/lib/python3.6/site-packages/sklearn/preprocessing/label.py:151: DeprecationWarning: The truth value of an empty array is ambiguous. Returning False, but in future this will result in an error. Use `array.size > 0` to check that an array is not empty.\n",
      "  if diff:\n"
     ]
    }
   ],
   "source": [
    "predictions_vc4 = voting_classifier4.predict(X_test)\n",
    "print(classification_report(y_test, predictions_vc4))"
   ]
  },
  {
   "cell_type": "code",
   "execution_count": 222,
   "metadata": {},
   "outputs": [],
   "source": [
    "pickle.dump(voting_classifier4, open('genres_voting_classifier4.pickle', 'wb'))"
   ]
  },
  {
   "cell_type": "code",
   "execution_count": null,
   "metadata": {},
   "outputs": [],
   "source": []
  },
  {
   "cell_type": "code",
   "execution_count": 151,
   "metadata": {},
   "outputs": [],
   "source": [
    "def format_audio(audio_features):\n",
    "    features = np.asarray(audio_features)\n",
    "    features = features.reshape(1,-1)\n",
    "    from sklearn.preprocessing import StandardScaler\n",
    "    test_song_scaled = scaler.transform(features)\n",
    "    return test_song_scaled"
   ]
  },
  {
   "cell_type": "code",
   "execution_count": 165,
   "metadata": {},
   "outputs": [],
   "source": [
    "def predict_genre(scaled_song):\n",
    "    genre = grid_svc2.predict(scaled_song)\n",
    "    return genre"
   ]
  },
  {
   "cell_type": "code",
   "execution_count": 178,
   "metadata": {},
   "outputs": [
    {
     "name": "stdout",
     "output_type": "stream",
     "text": [
      "[0, 0.759112, 0.10051399999999999, 101.317, 0.080382, 0.037134, 0.022848, 1, 4, 172.55909, -7.774, 0.590452, 0.719954, 0.668, 0.522, 0.56, 1.0]\n",
      "funk\n",
      "Charles Bradley\n",
      "No Time For Dreaming\n",
      "['r&b']\n"
     ]
    }
   ],
   "source": [
    "i = 8752\n",
    "audio_test = full_df2['audio_features'][i]\n",
    "genre_test = full_df2['genres'][i]\n",
    "artist_test = full_df2['artist'][i]\n",
    "album_test = full_df2['album'][i]\n",
    "print(audio_test)\n",
    "print(genre_test)\n",
    "print(artist_test)\n",
    "print(album_test)\n",
    "results = format_audio(audio_test)\n",
    "final_genre = predict_genre(results)\n",
    "print(final_genre)"
   ]
  },
  {
   "cell_type": "code",
   "execution_count": null,
   "metadata": {},
   "outputs": [],
   "source": []
  },
  {
   "cell_type": "code",
   "execution_count": 205,
   "metadata": {},
   "outputs": [],
   "source": [
    "def genres_model(audio_features):\n",
    "    features = np.asarray(audio_features)\n",
    "    features = features.reshape(1,-1)\n",
    "    from sklearn.preprocessing import StandardScaler\n",
    "    test_song_scaled = scaler.transform(features)\n",
    "    genre = genres_cl.predict(test_song_scaled)\n",
    "    return genre"
   ]
  },
  {
   "cell_type": "code",
   "execution_count": 206,
   "metadata": {},
   "outputs": [],
   "source": [
    "pickle.dump(genres_model, open('genres_model_function.pickle', 'wb'))"
   ]
  },
  {
   "cell_type": "code",
   "execution_count": null,
   "metadata": {},
   "outputs": [],
   "source": []
  }
 ],
 "metadata": {
  "kernelspec": {
   "display_name": "Python 3",
   "language": "python",
   "name": "python3"
  },
  "language_info": {
   "codemirror_mode": {
    "name": "ipython",
    "version": 3
   },
   "file_extension": ".py",
   "mimetype": "text/x-python",
   "name": "python",
   "nbconvert_exporter": "python",
   "pygments_lexer": "ipython3",
   "version": "3.6.4"
  }
 },
 "nbformat": 4,
 "nbformat_minor": 2
}
