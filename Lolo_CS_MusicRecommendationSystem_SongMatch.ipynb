{
 "cells": [
  {
   "cell_type": "markdown",
   "metadata": {},
   "source": [
    "# CoderSchool Final Project Moods Function\n",
    "## Music Recommendation System"
   ]
  },
  {
   "cell_type": "code",
   "execution_count": 28,
   "metadata": {},
   "outputs": [],
   "source": [
    "import pandas as pd\n",
    "import numpy as np"
   ]
  },
  {
   "cell_type": "code",
   "execution_count": 29,
   "metadata": {},
   "outputs": [
    {
     "data": {
      "text/html": [
       "<div>\n",
       "<style scoped>\n",
       "    .dataframe tbody tr th:only-of-type {\n",
       "        vertical-align: middle;\n",
       "    }\n",
       "\n",
       "    .dataframe tbody tr th {\n",
       "        vertical-align: top;\n",
       "    }\n",
       "\n",
       "    .dataframe thead th {\n",
       "        text-align: right;\n",
       "    }\n",
       "</style>\n",
       "<table border=\"1\" class=\"dataframe\">\n",
       "  <thead>\n",
       "    <tr style=\"text-align: right;\">\n",
       "      <th></th>\n",
       "      <th>_id</th>\n",
       "      <th>album</th>\n",
       "      <th>artist</th>\n",
       "      <th>audio_features</th>\n",
       "      <th>context</th>\n",
       "      <th>decades</th>\n",
       "      <th>genres</th>\n",
       "      <th>lyrics_features</th>\n",
       "      <th>moods</th>\n",
       "      <th>name</th>\n",
       "      <th>new_context</th>\n",
       "      <th>picture</th>\n",
       "      <th>recording_id</th>\n",
       "      <th>sub_context</th>\n",
       "      <th>yt_id</th>\n",
       "      <th>yt_views</th>\n",
       "    </tr>\n",
       "  </thead>\n",
       "  <tbody>\n",
       "    <tr>\n",
       "      <th>0</th>\n",
       "      <td>{'$oid': '52fdfb440b9398049f3d7a8c'}</td>\n",
       "      <td>Gangnam Style (강남스타일)</td>\n",
       "      <td>PSY</td>\n",
       "      <td>[11, 0.912744, 0.083704, 132.069, 0.293137, 0....</td>\n",
       "      <td>[work out]</td>\n",
       "      <td>[]</td>\n",
       "      <td>[pop]</td>\n",
       "      <td>[oppa, gangnam, style, gangnam, style, najeneu...</td>\n",
       "      <td>[energetic, motivational]</td>\n",
       "      <td>Gangnam Style (강남스타일)</td>\n",
       "      <td>work out</td>\n",
       "      <td>http://images.musicnet.com/albums/073/463/405/...</td>\n",
       "      <td>50232.0</td>\n",
       "      <td>[working out: cardio]</td>\n",
       "      <td>9bZkp7q19f0</td>\n",
       "      <td>2450112089</td>\n",
       "    </tr>\n",
       "  </tbody>\n",
       "</table>\n",
       "</div>"
      ],
      "text/plain": [
       "                                    _id                  album artist  \\\n",
       "0  {'$oid': '52fdfb440b9398049f3d7a8c'}  Gangnam Style (강남스타일)    PSY   \n",
       "\n",
       "                                      audio_features     context decades  \\\n",
       "0  [11, 0.912744, 0.083704, 132.069, 0.293137, 0....  [work out]      []   \n",
       "\n",
       "  genres                                    lyrics_features  \\\n",
       "0  [pop]  [oppa, gangnam, style, gangnam, style, najeneu...   \n",
       "\n",
       "                       moods                   name new_context  \\\n",
       "0  [energetic, motivational]  Gangnam Style (강남스타일)    work out   \n",
       "\n",
       "                                             picture  recording_id  \\\n",
       "0  http://images.musicnet.com/albums/073/463/405/...       50232.0   \n",
       "\n",
       "             sub_context        yt_id    yt_views  \n",
       "0  [working out: cardio]  9bZkp7q19f0  2450112089  "
      ]
     },
     "execution_count": 29,
     "metadata": {},
     "output_type": "execute_result"
    }
   ],
   "source": [
    "data = pd.read_json('MasterSongList.json')\n",
    "data.head(1)"
   ]
  },
  {
   "cell_type": "code",
   "execution_count": 31,
   "metadata": {},
   "outputs": [],
   "source": [
    "match_data = data.copy()\n",
    "match_data['genres'] = match_data['genres'].apply(' '.join)\n",
    "match_data['moods'] = match_data['moods'].apply(', '.join)"
   ]
  },
  {
   "cell_type": "code",
   "execution_count": 32,
   "metadata": {},
   "outputs": [],
   "source": [
    "match_data.loc[(match_data['genres'].str.contains(\"hawa\")), 'genres'] = 'international/world'\n",
    "match_data.loc[(match_data['genres'].str.contains(\"int'l\")), 'genres'] = 'international/world'\n",
    "match_data.loc[(match_data['genres'].str.contains('showtunes')), 'genres'] = 'film/show'\n",
    "match_data.loc[(match_data['genres'].str.contains('film scores')), 'genres'] = 'film/show'"
   ]
  },
  {
   "cell_type": "code",
   "execution_count": 63,
   "metadata": {},
   "outputs": [],
   "source": [
    "def match_song(genre, moods):\n",
    "    from collections import namedtuple\n",
    "    import pprint\n",
    "    pp = pprint.PrettyPrinter(indent=4)\n",
    "    \n",
    "    genre_data = match_data[match_data['genres'].str.contains(genre)]\n",
    "    mood_data_1 = genre_data[genre_data['moods'].str.contains(moods)]\n",
    "#     mood_data_2 = mood_data_1[mood_data_1['moods'].str.contains(moods[1])]\n",
    "#     mood_data_3 = mood_data_2[mood_data_2['moods'].str.contains(moods[2])]\n",
    "    playlist_df = mood_data_1.sample(n=10, random_state=101)\n",
    "    print(playlist_df.iloc[0,2])\n",
    "    \n",
    "    Song = namedtuple(\"Song\", [\"artist\", \"title\"])\n",
    "    song_1 = Song(artist=playlist_df.iloc[0,2], title=playlist_df.iloc[0,1])\n",
    "    song_2 = Song(artist=playlist_df.iloc[1,2], title=playlist_df.iloc[1,1])\n",
    "    song_3 = Song(artist=playlist_df.iloc[2,2], title=playlist_df.iloc[2,1])\n",
    "    song_4 = Song(artist=playlist_df.iloc[3,2], title=playlist_df.iloc[3,1])\n",
    "    song_5 = Song(artist=playlist_df.iloc[4,2], title=playlist_df.iloc[4,1])\n",
    "    song_6 = Song(artist=playlist_df.iloc[5,2], title=playlist_df.iloc[5,1])\n",
    "    song_7 = Song(artist=playlist_df.iloc[6,2], title=playlist_df.iloc[6,1])\n",
    "    song_8 = Song(artist=playlist_df.iloc[7,2], title=playlist_df.iloc[7,1])\n",
    "    song_9 = Song(artist=playlist_df.iloc[8,2], title=playlist_df.iloc[8,1])\n",
    "    song_10 = Song(artist=playlist_df.iloc[9,2], title=playlist_df.iloc[9,1])\n",
    "    \n",
    "    final_result_dictionary = dict(playlist=[song_1,song_2,song_3,song_4,song_5,song_6,song_7,song_8,song_9,song_10])\n",
    "    \n",
    "    return final_result_dictionary"
   ]
  },
  {
   "cell_type": "code",
   "execution_count": null,
   "metadata": {},
   "outputs": [],
   "source": []
  },
  {
   "cell_type": "code",
   "execution_count": null,
   "metadata": {},
   "outputs": [],
   "source": []
  }
 ],
 "metadata": {
  "kernelspec": {
   "display_name": "Python 3",
   "language": "python",
   "name": "python3"
  },
  "language_info": {
   "codemirror_mode": {
    "name": "ipython",
    "version": 3
   },
   "file_extension": ".py",
   "mimetype": "text/x-python",
   "name": "python",
   "nbconvert_exporter": "python",
   "pygments_lexer": "ipython3",
   "version": "3.6.4"
  }
 },
 "nbformat": 4,
 "nbformat_minor": 2
}
